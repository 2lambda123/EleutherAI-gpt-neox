{
 "cells": [
  {
   "cell_type": "code",
   "execution_count": 1,
   "id": "de77d477",
   "metadata": {},
   "outputs": [],
   "source": [
    "import pandas as pd"
   ]
  },
  {
   "cell_type": "markdown",
   "id": "688e652e",
   "metadata": {},
   "source": [
    "# Loading Memorization Evals\n",
    "> Memorization evals are dataframes (1 per model checkpoint)\n",
    "\n",
    "> Each dataframe has two columnns: index of data and memorization score of data (accuracy between true continuation and model generation)"
   ]
  },
  {
   "cell_type": "code",
   "execution_count": 2,
   "id": "16ef9e4c",
   "metadata": {},
   "outputs": [],
   "source": [
    "import os\n",
    "import pandas as pd\n",
    "from tqdm.auto import tqdm\n",
    "\n",
    "tqdm.pandas()"
   ]
  },
  {
   "cell_type": "markdown",
   "id": "20107d37",
   "metadata": {},
   "source": [
    "# Loading Megatron Dataset"
   ]
  },
  {
   "cell_type": "code",
   "execution_count": 3,
   "id": "a4c7775e",
   "metadata": {},
   "outputs": [],
   "source": [
    "from megatron.data.data_utils import build_the_dataset"
   ]
  },
  {
   "cell_type": "code",
   "execution_count": 4,
   "id": "b22192bd",
   "metadata": {},
   "outputs": [],
   "source": [
    "config = {\n",
    "    'deduped': {\n",
    "        'data_prefix': '/fsx/pile_deduped/pile_0.87_deduped_text_document',\n",
    "        'idxmap_path': '/fsx/pile_deduped/pile_0.87_deduped_text_document_train_0_indexmap_147164160ns'\n",
    "    },\n",
    "    'duped': {\n",
    "        'data_prefix': '/fsx/pile/pile_20B_tokenizer_text_document',\n",
    "        'idxmap_path': '/fsx/pile/pile_20B_tokenizer_text_document_test_0_indexmap_10292ns'\n",
    "    }\n",
    "}"
   ]
  },
  {
   "cell_type": "code",
   "execution_count": 5,
   "id": "1a0ee010",
   "metadata": {},
   "outputs": [],
   "source": [
    "selected_config = config['duped']"
   ]
  },
  {
   "cell_type": "code",
   "execution_count": 6,
   "id": "4b0cbdc7",
   "metadata": {},
   "outputs": [],
   "source": [
    "import numpy as np\n",
    "import pandas as pd\n",
    "from tqdm.auto import tqdm"
   ]
  },
  {
   "cell_type": "markdown",
   "id": "39b9eda8",
   "metadata": {},
   "source": [
    "Memorization evals are in Pandas DataFrames. We can use Pandarallel, if required to speed up .apply operations"
   ]
  },
  {
   "cell_type": "markdown",
   "id": "8f0bf941",
   "metadata": {},
   "source": [
    "# Loading memorized indicies"
   ]
  },
  {
   "cell_type": "code",
   "execution_count": 7,
   "id": "a5134920",
   "metadata": {},
   "outputs": [],
   "source": [
    "models = ['19m', '125m', '350m', '800m', '1.3b', '2.7b', '6.7b', '13b']"
   ]
  },
  {
   "cell_type": "code",
   "execution_count": 8,
   "id": "1c5d1b65",
   "metadata": {},
   "outputs": [],
   "source": [
    "duped_memorized_indicies = set()\n",
    "deduped_memorized_indicies = set()"
   ]
  },
  {
   "cell_type": "code",
   "execution_count": 9,
   "id": "bd8d758d",
   "metadata": {},
   "outputs": [
    {
     "data": {
      "application/vnd.jupyter.widget-view+json": {
       "model_id": "a4dbcb31312c4c7d86e0417894374371",
       "version_major": 2,
       "version_minor": 0
      },
      "text/plain": [
       "  0%|          | 0/8 [00:00<?, ?it/s]"
      ]
     },
     "metadata": {},
     "output_type": "display_data"
    }
   ],
   "source": [
    "MEMORIZED_DATA_PATH = '/fsx/orz/memorization-evals/memorized_evals/'\n",
    "for model in tqdm(models):\n",
    "    duped_path = MEMORIZED_DATA_PATH + model + '.hdf'\n",
    "    deduped_path = MEMORIZED_DATA_PATH + model + '-deduped.hdf'\n",
    "    \n",
    "    duped_indicies = pd.read_hdf(duped_path, key = 'memorization')['index'].to_numpy().tolist()\n",
    "    duped_memorized_indicies.update(duped_indicies)\n",
    "    \n",
    "    deduped_indicies = pd.read_hdf(deduped_path, key = 'memorization')['index'].to_numpy().tolist()\n",
    "    deduped_memorized_indicies.update(deduped_indicies)"
   ]
  },
  {
   "cell_type": "markdown",
   "id": "6378b4e1",
   "metadata": {},
   "source": [
    "# Creating random sample"
   ]
  },
  {
   "cell_type": "code",
   "execution_count": 10,
   "id": "a2207d16",
   "metadata": {
    "scrolled": true
   },
   "outputs": [
    {
     "name": "stdout",
     "output_type": "stream",
     "text": [
      "INFO: Pandarallel will run on 48 workers.\n",
      "INFO: Pandarallel will use Memory file system to transfer data between the main process and workers.\n"
     ]
    }
   ],
   "source": [
    "from pandarallel import pandarallel\n",
    "pandarallel.initialize(progress_bar=True)"
   ]
  },
  {
   "cell_type": "code",
   "execution_count": 11,
   "id": "4c0f58e9",
   "metadata": {},
   "outputs": [],
   "source": [
    "from numpy.random import default_rng\n",
    "\n",
    "rng = default_rng()"
   ]
  },
  {
   "cell_type": "code",
   "execution_count": 12,
   "id": "6008740e",
   "metadata": {},
   "outputs": [],
   "source": [
    "random_sampled_indicies = pd.DataFrame()\n",
    "choices = rng.choice(1024*143000, size=int(5e6), replace=False)\n",
    "choices.sort()\n",
    "random_sampled_indicies['index'] = choices"
   ]
  },
  {
   "cell_type": "markdown",
   "id": "3d8be0cd",
   "metadata": {},
   "source": [
    "# Initializing Megatron Dataset"
   ]
  },
  {
   "cell_type": "code",
   "execution_count": 13,
   "id": "4bf2528f",
   "metadata": {},
   "outputs": [],
   "source": [
    "from functools import lru_cache\n",
    "\n",
    "def initialize_dataset():\n",
    "    dataset = build_the_dataset(\n",
    "        data_prefix = selected_config['data_prefix'], # Replace with the path of pile document\n",
    "        name = 'train_0',\n",
    "        data_impl='mmap',\n",
    "        num_samples=131727360,\n",
    "        seq_length=2048,\n",
    "        seed=1234,\n",
    "        skip_warmup=True,\n",
    "        build_index_mappings=False\n",
    "    )\n",
    "    idx_path = selected_config['idxmap_path']\n",
    "    dataset.doc_idx = np.load(f\"{idx_path}_2048sl_1234s_doc_idx.npy\")\n",
    "    dataset.sample_idx = np.load(f\"{idx_path}_2048sl_1234s_sample_idx.npy\")\n",
    "    dataset.shuffle_idx = np.load(f\"{idx_path}_2048sl_1234s_shuffle_idx.npy\")\n",
    "    \n",
    "    dataset.shuffle_idx_len = dataset.shuffle_idx.shape[0] - 1\n",
    "    dataset.sample_idx_len = dataset.sample_idx.shape[0] - 1\n",
    "    \n",
    "    return dataset"
   ]
  },
  {
   "cell_type": "code",
   "execution_count": 14,
   "id": "4cd631b9",
   "metadata": {
    "scrolled": false
   },
   "outputs": [
    {
     "name": "stdout",
     "output_type": "stream",
     "text": [
      "    reading sizes...\n",
      "    reading pointers...\n",
      "    reading document index...\n",
      "    creating numpy buffer of mmap...\n",
      "    creating memory view of numpy buffer...\n",
      "    train_0:\n",
      "     no. of documents:210604984\n"
     ]
    }
   ],
   "source": [
    "ds = initialize_dataset()"
   ]
  },
  {
   "cell_type": "code",
   "execution_count": 15,
   "id": "7c8e905c",
   "metadata": {},
   "outputs": [],
   "source": [
    "required_docs = {}"
   ]
  },
  {
   "cell_type": "code",
   "execution_count": 16,
   "id": "9eb87f7f",
   "metadata": {},
   "outputs": [],
   "source": [
    "def set_doc_idx(idx):\n",
    "    start_doc_idx, start_offset = ds.sample_idx[ds.shuffle_idx[idx]]\n",
    "    end_doc_idx, end_offset = ds.sample_idx[ds.shuffle_idx[idx] + 1]\n",
    "    if start_doc_idx == end_doc_idx:\n",
    "        required_docs[(ds.doc_idx[start_doc_idx].item(), start_offset.item(), end_offset.item())] = []\n",
    "    \n",
    "    else:\n",
    "        doc_idxes = ds.doc_idx[start_doc_idx:end_doc_idx + 1]\n",
    "        for i in range(len(doc_idxes)):\n",
    "            if i == 0:\n",
    "                required_docs[(doc_idxes[i].item(), start_offset.item(), None)] = []\n",
    "            \n",
    "            elif i == (len(doc_idxes) - 1):\n",
    "                required_docs[(doc_idxes[i].item(), None, end_offset.item())] = []\n",
    "            \n",
    "            else:\n",
    "                required_docs[(doc_idxes[i].item(), None, None)] = []"
   ]
  },
  {
   "cell_type": "code",
   "execution_count": 17,
   "id": "cd0210c9",
   "metadata": {},
   "outputs": [
    {
     "data": {
      "application/vnd.jupyter.widget-view+json": {
       "model_id": "7be34d66b86d4a1c9faf9e58dc433705",
       "version_major": 2,
       "version_minor": 0
      },
      "text/plain": [
       "  0%|          | 0/5000000 [00:00<?, ?it/s]"
      ]
     },
     "metadata": {},
     "output_type": "display_data"
    },
    {
     "data": {
      "text/plain": [
       "0          None\n",
       "1          None\n",
       "2          None\n",
       "3          None\n",
       "4          None\n",
       "           ... \n",
       "4999995    None\n",
       "4999996    None\n",
       "4999997    None\n",
       "4999998    None\n",
       "4999999    None\n",
       "Name: index, Length: 5000000, dtype: object"
      ]
     },
     "execution_count": 17,
     "metadata": {},
     "output_type": "execute_result"
    }
   ],
   "source": [
    "random_sampled_indicies['index'].progress_apply(set_doc_idx)"
   ]
  },
  {
   "cell_type": "code",
   "execution_count": 18,
   "id": "b82d3019",
   "metadata": {},
   "outputs": [],
   "source": [
    "required_doc_indicies = list(required_docs.keys())"
   ]
  },
  {
   "cell_type": "code",
   "execution_count": 19,
   "id": "48f6f950",
   "metadata": {},
   "outputs": [],
   "source": [
    "required_doc_indicies.sort(key = lambda x: x[0])"
   ]
  },
  {
   "cell_type": "code",
   "execution_count": 20,
   "id": "4e85a535",
   "metadata": {},
   "outputs": [
    {
     "data": {
      "text/html": [
       "<div>\n",
       "<style scoped>\n",
       "    .dataframe tbody tr th:only-of-type {\n",
       "        vertical-align: middle;\n",
       "    }\n",
       "\n",
       "    .dataframe tbody tr th {\n",
       "        vertical-align: top;\n",
       "    }\n",
       "\n",
       "    .dataframe thead th {\n",
       "        text-align: right;\n",
       "    }\n",
       "</style>\n",
       "<table border=\"1\" class=\"dataframe\">\n",
       "  <thead>\n",
       "    <tr style=\"text-align: right;\">\n",
       "      <th></th>\n",
       "      <th>index</th>\n",
       "    </tr>\n",
       "  </thead>\n",
       "  <tbody>\n",
       "    <tr>\n",
       "      <th>0</th>\n",
       "      <td>12</td>\n",
       "    </tr>\n",
       "    <tr>\n",
       "      <th>1</th>\n",
       "      <td>30</td>\n",
       "    </tr>\n",
       "    <tr>\n",
       "      <th>2</th>\n",
       "      <td>75</td>\n",
       "    </tr>\n",
       "    <tr>\n",
       "      <th>3</th>\n",
       "      <td>81</td>\n",
       "    </tr>\n",
       "    <tr>\n",
       "      <th>4</th>\n",
       "      <td>85</td>\n",
       "    </tr>\n",
       "  </tbody>\n",
       "</table>\n",
       "</div>"
      ],
      "text/plain": [
       "   index\n",
       "0     12\n",
       "1     30\n",
       "2     75\n",
       "3     81\n",
       "4     85"
      ]
     },
     "execution_count": 20,
     "metadata": {},
     "output_type": "execute_result"
    }
   ],
   "source": [
    "random_sampled_indicies.head()"
   ]
  },
  {
   "cell_type": "code",
   "execution_count": 21,
   "id": "08ba5166",
   "metadata": {},
   "outputs": [
    {
     "data": {
      "application/vnd.jupyter.widget-view+json": {
       "model_id": "d4578ed39f82415aa1aee372b811367c",
       "version_major": 2,
       "version_minor": 0
      },
      "text/plain": [
       "  0%|          | 0/176 [00:00<?, ?it/s]"
      ]
     },
     "metadata": {},
     "output_type": "display_data"
    }
   ],
   "source": [
    "for i in tqdm(range(0, len(required_doc_indicies), 65536)):\n",
    "    samples = required_doc_indicies[i:i + 65536]\n",
    "    \n",
    "    docs = ds.indexed_dataset[samples[0][0]: samples[-1][0] + 10]\n",
    "    for sample in samples:\n",
    "        tokens = docs[sample[0] - samples[0][0]][sample[1]:sample[2]]\n",
    "        required_docs[sample] = tokens"
   ]
  },
  {
   "cell_type": "code",
   "execution_count": 22,
   "id": "452f75d3",
   "metadata": {
    "scrolled": false
   },
   "outputs": [],
   "source": [
    "def get_tokens(idx):\n",
    "    start_doc_idx, start_offset = ds.sample_idx[ds.shuffle_idx[idx]]\n",
    "    end_doc_idx, end_offset = ds.sample_idx[ds.shuffle_idx[idx] + 1]\n",
    "    if start_doc_idx == end_doc_idx:\n",
    "        return required_docs[(ds.doc_idx[start_doc_idx].item(), start_offset.item(), end_offset.item())]\n",
    "    \n",
    "    else:\n",
    "        doc_idxes = ds.doc_idx[start_doc_idx:end_doc_idx + 1]\n",
    "        \n",
    "        all_tokens = []\n",
    "        for i in range(len(doc_idxes)):\n",
    "            if i == 0:\n",
    "                all_tokens.append(required_docs[(doc_idxes[i].item(), start_offset.item(), None)])\n",
    "            \n",
    "            elif i == (len(doc_idxes) - 1):\n",
    "                all_tokens.append(required_docs[(doc_idxes[i].item(), None, end_offset.item())])\n",
    "            \n",
    "            else:\n",
    "                all_tokens.append(required_docs[(doc_idxes[i].item(), None, None)])\n",
    "        \n",
    "        return np.concatenate(all_tokens)"
   ]
  },
  {
   "cell_type": "code",
   "execution_count": 23,
   "id": "eba2ad5d",
   "metadata": {
    "scrolled": false
   },
   "outputs": [
    {
     "data": {
      "application/vnd.jupyter.widget-view+json": {
       "model_id": "e24bad641cf046839367eabfd7df75d8",
       "version_major": 2,
       "version_minor": 0
      },
      "text/plain": [
       "VBox(children=(HBox(children=(IntProgress(value=0, description='0.00%', max=104167), Label(value='0 / 104167')…"
      ]
     },
     "metadata": {},
     "output_type": "display_data"
    }
   ],
   "source": [
    "random_sampled_indicies['tokens'] = random_sampled_indicies['index'].parallel_apply(get_tokens)"
   ]
  },
  {
   "cell_type": "code",
   "execution_count": 24,
   "id": "f1d5903c",
   "metadata": {},
   "outputs": [],
   "source": [
    "random_sampled_indicies.set_index('index', inplace = True)"
   ]
  },
  {
   "cell_type": "code",
   "execution_count": 25,
   "id": "6705adb0",
   "metadata": {
    "scrolled": true
   },
   "outputs": [
    {
     "data": {
      "text/html": [
       "<div>\n",
       "<style scoped>\n",
       "    .dataframe tbody tr th:only-of-type {\n",
       "        vertical-align: middle;\n",
       "    }\n",
       "\n",
       "    .dataframe tbody tr th {\n",
       "        vertical-align: top;\n",
       "    }\n",
       "\n",
       "    .dataframe thead th {\n",
       "        text-align: right;\n",
       "    }\n",
       "</style>\n",
       "<table border=\"1\" class=\"dataframe\">\n",
       "  <thead>\n",
       "    <tr style=\"text-align: right;\">\n",
       "      <th></th>\n",
       "      <th>tokens</th>\n",
       "    </tr>\n",
       "    <tr>\n",
       "      <th>index</th>\n",
       "      <th></th>\n",
       "    </tr>\n",
       "  </thead>\n",
       "  <tbody>\n",
       "    <tr>\n",
       "      <th>12</th>\n",
       "      <td>[7742, 13, 253, 2317, 3798, 310, 6898, 387, 18...</td>\n",
       "    </tr>\n",
       "    <tr>\n",
       "      <th>30</th>\n",
       "      <td>[5962, 1318, 275, 465, 13, 337, 13, 259, 32, 1...</td>\n",
       "    </tr>\n",
       "    <tr>\n",
       "      <th>75</th>\n",
       "      <td>[4122, 14900, 2074, 8898, 9532, 15, 2053, 2590...</td>\n",
       "    </tr>\n",
       "    <tr>\n",
       "      <th>81</th>\n",
       "      <td>[13, 390, 310, 1512, 1711, 281, 320, 7607, 285...</td>\n",
       "    </tr>\n",
       "    <tr>\n",
       "      <th>85</th>\n",
       "      <td>[2014, 577, 89, 21, 313, 1237, 14, 6443, 10, 1...</td>\n",
       "    </tr>\n",
       "  </tbody>\n",
       "</table>\n",
       "</div>"
      ],
      "text/plain": [
       "                                                  tokens\n",
       "index                                                   \n",
       "12     [7742, 13, 253, 2317, 3798, 310, 6898, 387, 18...\n",
       "30     [5962, 1318, 275, 465, 13, 337, 13, 259, 32, 1...\n",
       "75     [4122, 14900, 2074, 8898, 9532, 15, 2053, 2590...\n",
       "81     [13, 390, 310, 1512, 1711, 281, 320, 7607, 285...\n",
       "85     [2014, 577, 89, 21, 313, 1237, 14, 6443, 10, 1..."
      ]
     },
     "execution_count": 25,
     "metadata": {},
     "output_type": "execute_result"
    }
   ],
   "source": [
    "random_sampled_indicies.head()"
   ]
  },
  {
   "cell_type": "code",
   "execution_count": 26,
   "id": "4057c336",
   "metadata": {},
   "outputs": [],
   "source": [
    "random_sampled_indicies['is_memorized'] = random_sampled_indicies.index.map(lambda x: x in duped_memorized_indicies)"
   ]
  },
  {
   "cell_type": "code",
   "execution_count": 27,
   "id": "7508585a",
   "metadata": {},
   "outputs": [
    {
     "data": {
      "text/html": [
       "<div>\n",
       "<style scoped>\n",
       "    .dataframe tbody tr th:only-of-type {\n",
       "        vertical-align: middle;\n",
       "    }\n",
       "\n",
       "    .dataframe tbody tr th {\n",
       "        vertical-align: top;\n",
       "    }\n",
       "\n",
       "    .dataframe thead th {\n",
       "        text-align: right;\n",
       "    }\n",
       "</style>\n",
       "<table border=\"1\" class=\"dataframe\">\n",
       "  <thead>\n",
       "    <tr style=\"text-align: right;\">\n",
       "      <th></th>\n",
       "      <th>tokens</th>\n",
       "      <th>is_memorized</th>\n",
       "    </tr>\n",
       "    <tr>\n",
       "      <th>index</th>\n",
       "      <th></th>\n",
       "      <th></th>\n",
       "    </tr>\n",
       "  </thead>\n",
       "  <tbody>\n",
       "    <tr>\n",
       "      <th>464</th>\n",
       "      <td>[540, 15945, 13, 2657, 50272, 2855, 13361, 89,...</td>\n",
       "      <td>True</td>\n",
       "    </tr>\n",
       "    <tr>\n",
       "      <th>1412</th>\n",
       "      <td>[89, 4196, 69, 22, 317, 20, 1952, 13, 470, 89,...</td>\n",
       "      <td>True</td>\n",
       "    </tr>\n",
       "    <tr>\n",
       "      <th>6111</th>\n",
       "      <td>[17736, 3287, 187, 5658, 778, 417, 897, 436, 1...</td>\n",
       "      <td>True</td>\n",
       "    </tr>\n",
       "    <tr>\n",
       "      <th>9310</th>\n",
       "      <td>[17101, 5, 12780, 7955, 3140, 3, 187, 50276, 8...</td>\n",
       "      <td>True</td>\n",
       "    </tr>\n",
       "    <tr>\n",
       "      <th>9715</th>\n",
       "      <td>[89, 24614, 1671, 1252, 187, 186, 12775, 64, 4...</td>\n",
       "      <td>True</td>\n",
       "    </tr>\n",
       "    <tr>\n",
       "      <th>...</th>\n",
       "      <td>...</td>\n",
       "      <td>...</td>\n",
       "    </tr>\n",
       "    <tr>\n",
       "      <th>146426042</th>\n",
       "      <td>[1540, 15, 25206, 393, 187, 50274, 10494, 2085...</td>\n",
       "      <td>True</td>\n",
       "    </tr>\n",
       "    <tr>\n",
       "      <th>146426866</th>\n",
       "      <td>[395, 247, 4869, 43923, 3885, 273, 964, 2091, ...</td>\n",
       "      <td>True</td>\n",
       "    </tr>\n",
       "    <tr>\n",
       "      <th>146426995</th>\n",
       "      <td>[7, 4315, 50, 13, 50276, 10975, 11897, 54, 558...</td>\n",
       "      <td>True</td>\n",
       "    </tr>\n",
       "    <tr>\n",
       "      <th>146429525</th>\n",
       "      <td>[15, 11732, 9, 70, 9679, 10131, 9, 18939, 15, ...</td>\n",
       "      <td>True</td>\n",
       "    </tr>\n",
       "    <tr>\n",
       "      <th>146430289</th>\n",
       "      <td>[3570, 35703, 10684, 512, 884, 337, 1227, 740,...</td>\n",
       "      <td>True</td>\n",
       "    </tr>\n",
       "  </tbody>\n",
       "</table>\n",
       "<p>94919 rows × 2 columns</p>\n",
       "</div>"
      ],
      "text/plain": [
       "                                                      tokens  is_memorized\n",
       "index                                                                     \n",
       "464        [540, 15945, 13, 2657, 50272, 2855, 13361, 89,...          True\n",
       "1412       [89, 4196, 69, 22, 317, 20, 1952, 13, 470, 89,...          True\n",
       "6111       [17736, 3287, 187, 5658, 778, 417, 897, 436, 1...          True\n",
       "9310       [17101, 5, 12780, 7955, 3140, 3, 187, 50276, 8...          True\n",
       "9715       [89, 24614, 1671, 1252, 187, 186, 12775, 64, 4...          True\n",
       "...                                                      ...           ...\n",
       "146426042  [1540, 15, 25206, 393, 187, 50274, 10494, 2085...          True\n",
       "146426866  [395, 247, 4869, 43923, 3885, 273, 964, 2091, ...          True\n",
       "146426995  [7, 4315, 50, 13, 50276, 10975, 11897, 54, 558...          True\n",
       "146429525  [15, 11732, 9, 70, 9679, 10131, 9, 18939, 15, ...          True\n",
       "146430289  [3570, 35703, 10684, 512, 884, 337, 1227, 740,...          True\n",
       "\n",
       "[94919 rows x 2 columns]"
      ]
     },
     "execution_count": 27,
     "metadata": {},
     "output_type": "execute_result"
    }
   ],
   "source": [
    "random_sampled_indicies[random_sampled_indicies['is_memorized'] == True]"
   ]
  },
  {
   "cell_type": "code",
   "execution_count": 28,
   "id": "fc93b3cb",
   "metadata": {},
   "outputs": [],
   "source": [
    "from datasets import Dataset"
   ]
  },
  {
   "cell_type": "code",
   "execution_count": 29,
   "id": "91eae162",
   "metadata": {},
   "outputs": [],
   "source": [
    "ds = Dataset.from_pandas(random_sampled_indicies)"
   ]
  },
  {
   "cell_type": "code",
   "execution_count": 30,
   "id": "fc776757",
   "metadata": {},
   "outputs": [
    {
     "data": {
      "text/plain": [
       "Dataset({\n",
       "    features: ['tokens', 'is_memorized', 'index'],\n",
       "    num_rows: 5000000\n",
       "})"
      ]
     },
     "execution_count": 30,
     "metadata": {},
     "output_type": "execute_result"
    }
   ],
   "source": [
    "ds"
   ]
  },
  {
   "cell_type": "code",
   "execution_count": 31,
   "id": "ff24214d",
   "metadata": {},
   "outputs": [
    {
     "data": {
      "application/vnd.jupyter.widget-view+json": {
       "model_id": "770d55f8d99f4d5589f39f7daa120876",
       "version_major": 2,
       "version_minor": 0
      },
      "text/plain": [
       "Pushing dataset shards to the dataset hub:   0%|          | 0/3 [00:00<?, ?it/s]"
      ]
     },
     "metadata": {},
     "output_type": "display_data"
    },
    {
     "data": {
      "application/vnd.jupyter.widget-view+json": {
       "model_id": "f33b8325e7fe47e8a7dfe7e02bc479fd",
       "version_major": 2,
       "version_minor": 0
      },
      "text/plain": [
       "Deleting unused files from dataset repository:   0%|          | 0/4 [00:00<?, ?it/s]"
      ]
     },
     "metadata": {},
     "output_type": "display_data"
    },
    {
     "data": {
      "application/vnd.jupyter.widget-view+json": {
       "model_id": "4edcf6d9b3c942a18f0dedda615e2bea",
       "version_major": 2,
       "version_minor": 0
      },
      "text/plain": [
       "Downloading metadata:   0%|          | 0.00/421 [00:00<?, ?B/s]"
      ]
     },
     "metadata": {},
     "output_type": "display_data"
    },
    {
     "name": "stderr",
     "output_type": "stream",
     "text": [
      "Updating downloaded metadata with the new split.\n"
     ]
    }
   ],
   "source": [
    "ds.push_to_hub(\"EleutherAI/pile-duped-pythia-random-sampled\", max_shard_size = \"10GB\")"
   ]
  },
  {
   "cell_type": "code",
   "execution_count": 7,
   "id": "3e5697d4",
   "metadata": {
    "scrolled": true
   },
   "outputs": [
    {
     "data": {
      "application/vnd.jupyter.widget-view+json": {
       "model_id": "ff5b3798ec584b938bf6f6d3aba27d91",
       "version_major": 2,
       "version_minor": 0
      },
      "text/plain": [
       "Downloading:   0%|          | 0.00/394 [00:00<?, ?B/s]"
      ]
     },
     "metadata": {},
     "output_type": "display_data"
    },
    {
     "data": {
      "application/vnd.jupyter.widget-view+json": {
       "model_id": "a81bd88f8bf04bcea98bb3ff99e05a0f",
       "version_major": 2,
       "version_minor": 0
      },
      "text/plain": [
       "Downloading:   0%|          | 0.00/2.11M [00:00<?, ?B/s]"
      ]
     },
     "metadata": {},
     "output_type": "display_data"
    },
    {
     "data": {
      "application/vnd.jupyter.widget-view+json": {
       "model_id": "38a77e2ce318405ab695766418bb0056",
       "version_major": 2,
       "version_minor": 0
      },
      "text/plain": [
       "Downloading:   0%|          | 0.00/99.0 [00:00<?, ?B/s]"
      ]
     },
     "metadata": {},
     "output_type": "display_data"
    }
   ],
   "source": [
    "tokenizer = AutoTokenizer.from_pretrained(\"ELeutherAI/pythia-70m\")"
   ]
  },
  {
   "cell_type": "code",
   "execution_count": 9,
   "id": "10eb8c34",
   "metadata": {},
   "outputs": [
    {
     "data": {
      "text/plain": [
       "' a video taken in Textra was restricted to 1 second only.\\n\\nFixed issue on Samsung S9 phones where in the + panel, the bottom toolbar would (on occasions) not appear.\\n\\nFixed issue on Samsung S9 phones where in the + panel, the full screen camera icons would (on occasions) not appear.\\n\\nFixed issue on Samsung S9 phones where in the + panel, long pressing the camera icon to launch the camera app, would then not return the image taken (it returned a blank square).\\n\\nFixed issue on some phones where conversation bubbles and message text would sometimes \\'run off\\' the screen, mostly this impacted HTC U11 phones.\\n\\nGDPR privacy compliance works.\\n\\nBug fixes and stability improvements.\\n\\nVersion 3.44 NEW FEATURE: Complete flexibility in configuring Notification Buttons as well as Notification Gestures (Tap and Clear). See Settings > Customize Notifications > Define Notification Actions. These are also configurable per conversation as well (long press a conversation, dotdotdot, Customize), so for example, you may configure a DELETE button for certain conversations, like incoming bank messages.\\n\\nas well as (Tap and Clear). See Settings > Customize Notifications > Define Notification Actions. These are also configurable per conversation as well (long press a conversation, dotdotdot, Customize), so for example, you may configure a DELETE button for certain conversations, like incoming bank messages. Bug fixes.\\n\\nVersion 3.43 Improved Notifications: See Settings > Customize Notifications > Mark as Read\\n\\nImproved Notifications: Added Rich Notification Buttons.\\n\\nUsers can now manage their personal preference for the ad position (if not a Pro user) in Settings > Manage Ads.\\n\\nBug fixes.\\n\\nVersion 3.42 WORLD FIRST: Added support for 2700+ (all) of the very latest (Unicode 10) Android, iOS, Emoji One and Twitter emojis.\\n\\nImproved GIF resizing, so that very large GIFs (including Samsung Live Message GIFs) can be sent via MMS (no other Google Play SMS/MMS app, including Android Messages can resize GIFs this effectively).\\n\\nBug fixes.\\n\\nVersion 3.41 Added a new preference, see Settings > Web Previews (Off, Sent, Received, All). So configure whatever suits!\\n\\nYou can now configure your preferred (default) emoji skin tone. See Settings > Customize Look > Emoji Skin Tone.\\n\\nWhen scrolling and a new message comes in for that conversation, we now show a small counter near the top of the screen, so you don\\'t forget you received a message.\\n\\nImproved Android Oreo support.\\n\\nPreviously, when an advert animated in from the top of the screen it moved the rows below it down, this was often annoying (you\\'d go to tap a conversation and it moved), very frustrating! So we have *moved* ads to the bottom of the screen instead. UPDATE: users hated this and complained, so undid it.\\n\\nBug fixes.\\n\\nVersion 3.40 For weblink pre-rendered\\'snippets\\' we no longer display those for sent messages (you know what you sent).\\n\\nFor weblink pre-rendered\\'snippets\\' we only display them for http and https prefixed URLs.\\n\\nAdded support for icon badging on the latest SONY phones.\\n\\nImproved Android O support.\\n\\nBug fixes.\\n\\nVersion 3.39 We improved the Send Delay feature. So it\\'s now possible to \\'confirm\\' the send without waiting for the\\'send delay\\' period to pass.\\n\\nIn the search screen, you can now long press rows in the search results to do collective actions, like Delete, Lock, Unlock and Share as Email.\\n\\nBug fixes.\\n\\nVersion 3.38 The Android 7.0 MMS service can \\'hang\\' for up to 20 minutes, especially during busy group chat sessions. There is no point raising the \\'Cannot get MMS: timeout\\' error during this time, as it\\'s annoying. We now keep retrying for a period to minimize the impact upon users. See article for a detailed explanation.\\n\\nVersion 3.37 Search, we now offer a\\'scope\\' feature, so you can easily locate LOCKED or SCHEDULED messages.\\n\\nAdded new Emoji Style option, Android Oreo.\\n\\n. For weblink pre-rendered\\'snippets\\' we no longer display those for unknown contacts (not in your address book).\\n\\nFor weblink pre-rendered\\'snippets\\' we now resize the images correctly.\\n\\nBug fixes.\\n\\nVersion 3.36 For weblinks (URLs), we now provide a pre-rendered\\'snippet\\' inside the message bubble. For example (copy and share this link to see it in action) https://www.youtube.com/watch?v=J6a2kheSpT8\\n\\nImprovements to MMS robustness - Verizon users we hear you!\\n\\nBug fixes.\\n\\nVersion 3.35 Added 70 NEW material design colors!\\n\\nPLAYFUL & FUN. You can now auto-color your contact theme colors for a bit more vibrancy. See Settings > Customize Look > Auto-theme Contacts.\\n\\nAdded a \\'Pin to Top\\' feature (keeps the conversation at the top of the list). Accessible from either the conversation list (long press) or from the per conversation settings.\\n\\nAdded support for Android Heads-up Notifications (if preferred over the Textra Floating Notifications). See Settings > Customize Notifications > (Heads-up) Style.\\n\\nAdded support for larger aspect ratio phones, such as the new Samsung Galaxy S8 and S8+.\\n\\nBug fixes.\\n\\nVersion 3.34 Added PURE BLACK theme option (+ bubble color option).\\n\\nAdded Textra Settings > Customize Notifications > During Phone Call options.\\n\\noptions. Added ability to send an \\'empty\\' message (some countries require this to top-up for example bus passes). Press space bar then press the send icon.\\n\\nTextra now works with most in-car bluetooth message systems, so for example if your car reads your messages, Textra will now mark them as read and clear the notifications.\\n\\nBug fixes.\\n\\nVersion 3.33 Any third party app that \\'counts unread messages\\' from the Android SMS / MMS database will NOW work with Textra. For example Samsung watches, Blackberry HUB, Fitbits, Tasker, Car systems etc.\\n\\nFixed up missing emojis. Apologies!\\n\\nBug fixes. Important: In relation to the first point above, you may NOW need to TURN OFF Notifications from other installed SMS apps, via their settings. Otherwise you\\'ll get multiple notifications.\\n\\nVersion 3.32 Added a new bubble style, rounded corners with no tails. See Settings > Customize Look > Bubble Style.\\n\\nAdded support for App Icon Shortcuts (Android 7.1 only).\\n\\nImproved the look of the White Theme (status bar and accent color usage).\\n\\nImproved emoji panel scrolling speed (especially for LG V20 phones).\\n\\nReduced APK size.\\n\\nBug fixes.\\n\\nVersion 3.31 You can now select a color theme per conversation. Simply tap the \\'expand\\' icon (top right) in a conversation to access the new per contact color picker.\\n\\nYou can now select a color theme for each contact in a group conversation (avatar and bubble color).\\n\\nAdded support for the Drivemode application (\"Drivemode drastically simplifies the way you use your phone while driving\").\\n\\nAdded support for GIFs selected from the Google Keyboard (Gboard).\\n\\nBug fixes.\\n\\nVersion 3.30 WORLD FIRST: Textra now provides all published (2000+ Unicode 9) emojis for iOS, EmojiOne, Twitter and Android emoji styles.\\n\\npublished (2000+ Unicode 9) emojis for iOS, EmojiOne, Twitter and Android emoji styles. Long pressing on an emoji in the + panel now magnifies it, so easier to see!\\n\\nFor multi-media messages we now show additional details (e.g. size) when pressing the \"i\" icon in either the mini-menu or the media previewer.\\n\\nBug fixes. Merry Christmas!\\n\\nVersion 3.29 Added WHITE as an option in Theme Colors. Nice!\\n\\nAdded capability to periodically delete older messages (to save space). See Textra Settings > Messages to Keep (this is also on a per conversation basis as well).\\n\\nbasis as well). In the per conversation settings screen, Media thumbnail gallery, you can now long press (multi-select) and delete via the newly added trash icon.\\n\\nthumbnail gallery, you can now long press (multi-select) and delete via the newly added trash icon. You can now delete pictures or videos in the Textra media viewer (full screen) via the newly added trash icon.\\n\\nAdded round app icon support for the new Google Pixel Launcher.\\n\\nBug fixes.\\n\\nVersion 3.28 NEW: In a conversation tap the expand icon (NICE animation!) to access:\\n\\nicon (NICE animation!) to access: Per conversation customizations.\\n\\n\\n\\nNaming of a multi-recipient conversation (tap the pencil icon). Once named you can refer to the \\'conversation name\\' when composing a new message or searching.\\n\\n\\n\\nFor a multi-recipient'"
      ]
     },
     "execution_count": 9,
     "metadata": {},
     "output_type": "execute_result"
    }
   ],
   "source": [
    "tokenizer.decode(dataset[1]['text'])"
   ]
  },
  {
   "cell_type": "markdown",
   "id": "4d2f07ff",
   "metadata": {},
   "source": [
    "# Validation"
   ]
  },
  {
   "cell_type": "code",
   "execution_count": 37,
   "id": "9510e6d1",
   "metadata": {},
   "outputs": [],
   "source": [
    "from transformers import AutoModelForCausalLM"
   ]
  },
  {
   "cell_type": "code",
   "execution_count": 38,
   "id": "aa8bf37e",
   "metadata": {},
   "outputs": [],
   "source": [
    "model = AutoModelForCausalLM.from_pretrained(\"EleutherAI/pythia-19m\")"
   ]
  },
  {
   "cell_type": "code",
   "execution_count": 23,
   "id": "48728cad",
   "metadata": {},
   "outputs": [],
   "source": [
    "nmd = memorization_results['19m-143000']"
   ]
  },
  {
   "cell_type": "code",
   "execution_count": 25,
   "id": "06da6d1b",
   "metadata": {},
   "outputs": [
    {
     "data": {
      "text/html": [
       "<div>\n",
       "<style scoped>\n",
       "    .dataframe tbody tr th:only-of-type {\n",
       "        vertical-align: middle;\n",
       "    }\n",
       "\n",
       "    .dataframe tbody tr th {\n",
       "        vertical-align: top;\n",
       "    }\n",
       "\n",
       "    .dataframe thead th {\n",
       "        text-align: right;\n",
       "    }\n",
       "</style>\n",
       "<table border=\"1\" class=\"dataframe\">\n",
       "  <thead>\n",
       "    <tr style=\"text-align: right;\">\n",
       "      <th></th>\n",
       "      <th>index</th>\n",
       "      <th>accuracy</th>\n",
       "    </tr>\n",
       "  </thead>\n",
       "  <tbody>\n",
       "    <tr>\n",
       "      <th>232</th>\n",
       "      <td>232</td>\n",
       "      <td>1.0</td>\n",
       "    </tr>\n",
       "    <tr>\n",
       "      <th>764</th>\n",
       "      <td>764</td>\n",
       "      <td>1.0</td>\n",
       "    </tr>\n",
       "    <tr>\n",
       "      <th>806</th>\n",
       "      <td>806</td>\n",
       "      <td>1.0</td>\n",
       "    </tr>\n",
       "    <tr>\n",
       "      <th>891</th>\n",
       "      <td>891</td>\n",
       "      <td>1.0</td>\n",
       "    </tr>\n",
       "    <tr>\n",
       "      <th>1060</th>\n",
       "      <td>1060</td>\n",
       "      <td>1.0</td>\n",
       "    </tr>\n",
       "    <tr>\n",
       "      <th>...</th>\n",
       "      <td>...</td>\n",
       "      <td>...</td>\n",
       "    </tr>\n",
       "    <tr>\n",
       "      <th>2287433</th>\n",
       "      <td>146431433</td>\n",
       "      <td>1.0</td>\n",
       "    </tr>\n",
       "    <tr>\n",
       "      <th>2287569</th>\n",
       "      <td>146431569</td>\n",
       "      <td>1.0</td>\n",
       "    </tr>\n",
       "    <tr>\n",
       "      <th>2287580</th>\n",
       "      <td>146431580</td>\n",
       "      <td>1.0</td>\n",
       "    </tr>\n",
       "    <tr>\n",
       "      <th>2287652</th>\n",
       "      <td>146431652</td>\n",
       "      <td>1.0</td>\n",
       "    </tr>\n",
       "    <tr>\n",
       "      <th>2287669</th>\n",
       "      <td>146431669</td>\n",
       "      <td>1.0</td>\n",
       "    </tr>\n",
       "  </tbody>\n",
       "</table>\n",
       "<p>463953 rows × 2 columns</p>\n",
       "</div>"
      ],
      "text/plain": [
       "             index  accuracy\n",
       "232            232       1.0\n",
       "764            764       1.0\n",
       "806            806       1.0\n",
       "891            891       1.0\n",
       "1060          1060       1.0\n",
       "...            ...       ...\n",
       "2287433  146431433       1.0\n",
       "2287569  146431569       1.0\n",
       "2287580  146431580       1.0\n",
       "2287652  146431652       1.0\n",
       "2287669  146431669       1.0\n",
       "\n",
       "[463953 rows x 2 columns]"
      ]
     },
     "execution_count": 25,
     "metadata": {},
     "output_type": "execute_result"
    }
   ],
   "source": [
    "nmd[nmd['accuracy'] == 1]"
   ]
  },
  {
   "cell_type": "code",
   "execution_count": 28,
   "id": "8060a324",
   "metadata": {},
   "outputs": [],
   "source": [
    "input_tokens = dataset[232]['text'][:64]"
   ]
  },
  {
   "cell_type": "code",
   "execution_count": 30,
   "id": "f26d0f16",
   "metadata": {},
   "outputs": [],
   "source": [
    "import torch"
   ]
  },
  {
   "cell_type": "code",
   "execution_count": 42,
   "id": "1f827c8c",
   "metadata": {},
   "outputs": [
    {
     "name": "stderr",
     "output_type": "stream",
     "text": [
      "The attention mask and the pad token id were not set. As a consequence, you may observe unexpected behavior. Please pass your input's `attention_mask` to obtain reliable results.\n",
      "Setting `pad_token_id` to `eos_token_id`:0 for open-end generation.\n"
     ]
    },
    {
     "data": {
      "text/plain": [
       "tensor([[  996,   186,    29,  1088,  7392,   568, 29860,  5264, 21694, 13544,\n",
       "            79,   870, 21694,  2730,  8992,  2730,  2203,    31,    18,    10,\n",
       "         23934, 17775,    61,    79,   870,  2203,  3073,  8992,  3073,  1088,\n",
       "            31,   996,   186,    29,  1088,  7392,   568, 29860,  5264, 21694,\n",
       "         13544,    79,   870, 21694,  2730,  8992,  2730,  2203,    31,    19,\n",
       "            10,  6707, 17775,    61,    79,   870,  2203,  3073,  8992,  3073,\n",
       "          1088,    31,   996,   186]])"
      ]
     },
     "execution_count": 42,
     "metadata": {},
     "output_type": "execute_result"
    }
   ],
   "source": [
    "model.generate(\n",
    "    input_ids = torch.tensor(input_tokens[:32].reshape(1, -1)),\n",
    "    temperature = 0.0,\n",
    "    top_k = 0,\n",
    "    top_p = 0,\n",
    "    min_length = 64,\n",
    "    max_length = 64\n",
    ")"
   ]
  },
  {
   "cell_type": "code",
   "execution_count": 44,
   "id": "d525f911",
   "metadata": {},
   "outputs": [
    {
     "data": {
      "text/plain": [
       "array([  996,   186,    29,  1088,  7392,   568, 29860,  5264, 21694,\n",
       "       13544,    79,   870, 21694,  2730,  8992,  2730,  2203,    31,\n",
       "          18,    10, 23934, 17775,    61,    79,   870,  2203,  3073,\n",
       "        8992,  3073,  1088,    31,   996,   186,    29,  1088,  7392,\n",
       "         568, 29860,  5264, 21694, 13544,    79,   870, 21694,  2730,\n",
       "        8992,  2730,  2203,    31,    19,    10,  6707, 17775,    61,\n",
       "          79,   870,  2203,  3073,  8992,  3073,  1088,    31,   996,\n",
       "         186])"
      ]
     },
     "execution_count": 44,
     "metadata": {},
     "output_type": "execute_result"
    }
   ],
   "source": [
    "input_tokens"
   ]
  },
  {
   "cell_type": "code",
   "execution_count": 3,
   "id": "eef4a1bb",
   "metadata": {},
   "outputs": [
    {
     "name": "stdout",
     "output_type": "stream",
     "text": [
      "\r\n",
      "An error occurred (AccessDenied) when calling the ListObjectsV2 operation: Access Denied\r\n"
     ]
    }
   ],
   "source": [
    "!aws s3 ls s3://s-eai-neox/pythia/"
   ]
  },
  {
   "cell_type": "code",
   "execution_count": null,
   "id": "36f02825",
   "metadata": {},
   "outputs": [],
   "source": []
  }
 ],
 "metadata": {
  "kernelspec": {
   "display_name": "Python 3 (ipykernel)",
   "language": "python",
   "name": "python3"
  },
  "language_info": {
   "codemirror_mode": {
    "name": "ipython",
    "version": 3
   },
   "file_extension": ".py",
   "mimetype": "text/x-python",
   "name": "python",
   "nbconvert_exporter": "python",
   "pygments_lexer": "ipython3",
   "version": "3.8.10"
  }
 },
 "nbformat": 4,
 "nbformat_minor": 5
}
