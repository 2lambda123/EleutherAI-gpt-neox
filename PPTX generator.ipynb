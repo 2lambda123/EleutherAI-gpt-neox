{
 "cells": [
  {
   "cell_type": "markdown",
   "id": "51e01b48",
   "metadata": {},
   "source": [
    "# Generate ppt from the evaluated data"
   ]
  },
  {
   "cell_type": "markdown",
   "id": "3cb8b4fc",
   "metadata": {},
   "source": [
    "# Functions for dark mode"
   ]
  },
  {
   "cell_type": "code",
   "execution_count": 18,
   "id": "06e94259",
   "metadata": {},
   "outputs": [
    {
     "data": {
      "text/html": [
       "\n",
       "        <style>\n",
       "            .jupyter-widgets {color: #d5d5d5 !important;}\n",
       "            .widget-label {color: #d5d5d5 !important;}\n",
       "        </style>\n",
       "    "
      ],
      "text/plain": [
       "<IPython.core.display.HTML object>"
      ]
     },
     "metadata": {},
     "output_type": "display_data"
    }
   ],
   "source": [
    "# Set the tqdm text color to white.\n",
    "\n",
    "from IPython.display import HTML, display\n",
    "\n",
    "def set_css_in_cell_output():\n",
    "    display(HTML('''\n",
    "        <style>\n",
    "            .jupyter-widgets {color: #d5d5d5 !important;}\n",
    "            .widget-label {color: #d5d5d5 !important;}\n",
    "        </style>\n",
    "    '''))\n",
    "\n",
    "get_ipython().events.register('pre_run_cell', set_css_in_cell_output)\n",
    "\n",
    "import warnings\n",
    "warnings.filterwarnings('ignore')"
   ]
  },
  {
   "cell_type": "code",
   "execution_count": 19,
   "id": "cc0ac75f",
   "metadata": {},
   "outputs": [
    {
     "data": {
      "text/html": [
       "\n",
       "        <style>\n",
       "            .jupyter-widgets {color: #d5d5d5 !important;}\n",
       "            .widget-label {color: #d5d5d5 !important;}\n",
       "        </style>\n",
       "    "
      ],
      "text/plain": [
       "<IPython.core.display.HTML object>"
      ]
     },
     "metadata": {},
     "output_type": "display_data"
    },
    {
     "data": {
      "text/html": [
       "\n",
       "        <style>\n",
       "            .jupyter-widgets {color: #d5d5d5 !important;}\n",
       "            .widget-label {color: #d5d5d5 !important;}\n",
       "        </style>\n",
       "    "
      ],
      "text/plain": [
       "<IPython.core.display.HTML object>"
      ]
     },
     "metadata": {},
     "output_type": "display_data"
    }
   ],
   "source": [
    "checkpoints = {\n",
    "    '13B': [23000, 43000, 63000, 83000, 103000, 123000, 143000],\n",
    "    '13B_deduped': [23000, 43000, 63000, 83000, 103000, 123000, 143000],\n",
    "    '6.7B': [23000, 43000, 63000, 83000, 103000, 123000, 143000],\n",
    "    '6.7B_deduped': [23000, 43000, 63000, 83000, 103000, 123000, 143000],\n",
    "    '2.7B': [23000, 43000, 63000, 83000, 103000, 123000, 143000],\n",
    "    '1.3B': [11500, 21500, 31500, 41500, 51500, 61500, 71500],\n",
    "    '1.3B_deduped': [11500, 21500, 31500, 41500, 51500, 61500, 71500],\n",
    "    '800M': [23000, 43000, 63000, 83000, 103000, 123000, 143000],\n",
    "    '800M_deduped': [23000, 43000, 63000, 83000, 103000, 123000, 143000],\n",
    "    '350M': [11500, 21500, 31500, 41500, 51500, 61500, 71500],\n",
    "    '350M_deduped': [11500, 21500, 31500, 41500, 51500, 61500, 71500],\n",
    "    '125M': [11500, 21500, 31500, 41500, 51500, 61500, 71500],\n",
    "    '125M_deduped': [11500, 21500, 31500, 41500, 51500, 61500, 71500]\n",
    "}"
   ]
  },
  {
   "cell_type": "markdown",
   "id": "267a876f",
   "metadata": {},
   "source": [
    "# Title Slide"
   ]
  },
  {
   "cell_type": "code",
   "execution_count": 20,
   "id": "4ebbc946",
   "metadata": {},
   "outputs": [
    {
     "data": {
      "text/html": [
       "\n",
       "        <style>\n",
       "            .jupyter-widgets {color: #d5d5d5 !important;}\n",
       "            .widget-label {color: #d5d5d5 !important;}\n",
       "        </style>\n",
       "    "
      ],
      "text/plain": [
       "<IPython.core.display.HTML object>"
      ]
     },
     "metadata": {},
     "output_type": "display_data"
    },
    {
     "data": {
      "text/html": [
       "\n",
       "        <style>\n",
       "            .jupyter-widgets {color: #d5d5d5 !important;}\n",
       "            .widget-label {color: #d5d5d5 !important;}\n",
       "        </style>\n",
       "    "
      ],
      "text/plain": [
       "<IPython.core.display.HTML object>"
      ]
     },
     "metadata": {},
     "output_type": "display_data"
    }
   ],
   "source": [
    "from pptx import Presentation\n",
    "\n",
    "prs = Presentation()\n",
    "title_layout = prs.slide_layouts[5]\n",
    "slide = prs.slides.add_slide(title_layout)\n",
    "title = slide.shapes.title\n",
    "\n",
    "title.text = \"Training Order does not Influence Memorization!\""
   ]
  },
  {
   "cell_type": "markdown",
   "id": "45e62321",
   "metadata": {},
   "source": [
    "# Motivating Idea"
   ]
  },
  {
   "cell_type": "code",
   "execution_count": 21,
   "id": "3354d389",
   "metadata": {},
   "outputs": [
    {
     "data": {
      "text/html": [
       "\n",
       "        <style>\n",
       "            .jupyter-widgets {color: #d5d5d5 !important;}\n",
       "            .widget-label {color: #d5d5d5 !important;}\n",
       "        </style>\n",
       "    "
      ],
      "text/plain": [
       "<IPython.core.display.HTML object>"
      ]
     },
     "metadata": {},
     "output_type": "display_data"
    },
    {
     "data": {
      "text/html": [
       "\n",
       "        <style>\n",
       "            .jupyter-widgets {color: #d5d5d5 !important;}\n",
       "            .widget-label {color: #d5d5d5 !important;}\n",
       "        </style>\n",
       "    "
      ],
      "text/plain": [
       "<IPython.core.display.HTML object>"
      ]
     },
     "metadata": {},
     "output_type": "display_data"
    }
   ],
   "source": [
    "from pptx.util import Inches, Pt\n",
    "\n",
    "title_content_layout = prs.slide_layouts[1]\n",
    "slide = prs.slides.add_slide(title_content_layout)\n",
    "slide.shapes.title.text = \"Motivating Idea\"\n",
    "frame = slide.shapes.placeholders[1].text_frame\n",
    "p = frame.paragraphs[0]\n",
    "p.font.size = Pt(25)\n",
    "p.text = (\"Someone in EleutherAI mentioned that their mental model was that \" \n",
    "\"as new data was encountered by a transformer it would glom that data onto an internal \"\n",
    "\"representation and then processes the whole to build a more efficient \"\n",
    "\"representation. Datapoints that are memorized are ones that don’t fit nicely into \"\n",
    "\"the final learned representation.\")\n",
    "\n",
    "p = frame.add_paragraph()\n",
    "p.font.size = Pt(25)\n",
    "p.text = (\"It occurred to Stella that this mental model predicts that memorized datapoints are \"\n",
    "\"more likely to be encountered later in training, as they’ve had less time to be \"\n",
    "\"integrated into the representation.\")\n"
   ]
  },
  {
   "cell_type": "markdown",
   "id": "c4d93183",
   "metadata": {},
   "source": [
    "# Methodology"
   ]
  },
  {
   "cell_type": "code",
   "execution_count": 22,
   "id": "dad1f9e1",
   "metadata": {},
   "outputs": [
    {
     "data": {
      "text/html": [
       "\n",
       "        <style>\n",
       "            .jupyter-widgets {color: #d5d5d5 !important;}\n",
       "            .widget-label {color: #d5d5d5 !important;}\n",
       "        </style>\n",
       "    "
      ],
      "text/plain": [
       "<IPython.core.display.HTML object>"
      ]
     },
     "metadata": {},
     "output_type": "display_data"
    },
    {
     "data": {
      "text/html": [
       "\n",
       "        <style>\n",
       "            .jupyter-widgets {color: #d5d5d5 !important;}\n",
       "            .widget-label {color: #d5d5d5 !important;}\n",
       "        </style>\n",
       "    "
      ],
      "text/plain": [
       "<IPython.core.display.HTML object>"
      ]
     },
     "metadata": {},
     "output_type": "display_data"
    }
   ],
   "source": [
    "slide = prs.slides.add_slide(title_content_layout)\n",
    "slide.shapes.title.text = \"Methodology\"\n",
    "frame = slide.shapes.placeholders[1].text_frame\n",
    "p = frame.paragraphs[0]\n",
    "p.font.size = Pt(25)\n",
    "p.text = (\"Let us define a Sequence as a continuous list of 2048 tokens. \" \n",
    "\"The training data can then be described as a set of sequences.\")\n",
    "\n",
    "p = frame.add_paragraph()\n",
    "p.font.size = Pt(25)\n",
    "p.text = (\"We take first 64 tokens from every sequence. Let's define first 32 of them as Context tokens \"\n",
    "\"and the following 32 as true continuation. \"\n",
    "\"We prompt the model with context tokens and greedily generate another 32 tokens. \"\n",
    "\"Let's call them as predicted tokens.\")\n",
    "\n",
    "p = frame.add_paragraph()\n",
    "p.font.size = Pt(25)\n",
    "p.text = (\"Memorization Accuracy is defined as the accuracy between predicted tokens \"\n",
    "\"and it's true continuation. \")"
   ]
  },
  {
   "cell_type": "markdown",
   "id": "0c339b68",
   "metadata": {},
   "source": [
    "# Linear Regression"
   ]
  },
  {
   "cell_type": "code",
   "execution_count": 23,
   "id": "ca162779",
   "metadata": {},
   "outputs": [
    {
     "data": {
      "text/html": [
       "\n",
       "        <style>\n",
       "            .jupyter-widgets {color: #d5d5d5 !important;}\n",
       "            .widget-label {color: #d5d5d5 !important;}\n",
       "        </style>\n",
       "    "
      ],
      "text/plain": [
       "<IPython.core.display.HTML object>"
      ]
     },
     "metadata": {},
     "output_type": "display_data"
    },
    {
     "data": {
      "text/html": [
       "\n",
       "        <style>\n",
       "            .jupyter-widgets {color: #d5d5d5 !important;}\n",
       "            .widget-label {color: #d5d5d5 !important;}\n",
       "        </style>\n",
       "    "
      ],
      "text/plain": [
       "<IPython.core.display.HTML object>"
      ]
     },
     "metadata": {},
     "output_type": "display_data"
    }
   ],
   "source": [
    "def add_title_slide(title):\n",
    "    slide = prs.slides.add_slide(title_layout)\n",
    "    slide.shapes.title.text = title\n",
    "\n",
    "add_title_slide(\"Linear Regression Plots\")"
   ]
  },
  {
   "cell_type": "code",
   "execution_count": 24,
   "id": "e18d9f96",
   "metadata": {},
   "outputs": [
    {
     "data": {
      "text/html": [
       "\n",
       "        <style>\n",
       "            .jupyter-widgets {color: #d5d5d5 !important;}\n",
       "            .widget-label {color: #d5d5d5 !important;}\n",
       "        </style>\n",
       "    "
      ],
      "text/plain": [
       "<IPython.core.display.HTML object>"
      ]
     },
     "metadata": {},
     "output_type": "display_data"
    },
    {
     "data": {
      "text/html": [
       "\n",
       "        <style>\n",
       "            .jupyter-widgets {color: #d5d5d5 !important;}\n",
       "            .widget-label {color: #d5d5d5 !important;}\n",
       "        </style>\n",
       "    "
      ],
      "text/plain": [
       "<IPython.core.display.HTML object>"
      ]
     },
     "metadata": {},
     "output_type": "display_data"
    }
   ],
   "source": [
    "def add_reg_to_slide(model, percentile):\n",
    "    slide = prs.slides.add_slide(title_layout)\n",
    "    title = f\"{model} Line of best fit\"\n",
    "    if percentile != 0:\n",
    "        title += f\" @ top {percentile} most memorized data\"\n",
    "    slide.shapes.title.text = title\n",
    "    \n",
    "    plot_path = f'./plots/{model}-{percentile}_linear_regression.png'\n",
    "    slide.shapes.add_picture(plot_path, Inches(0), Inches(1.7), Inches(10), Inches(5.5))\n",
    "\n"
   ]
  },
  {
   "cell_type": "code",
   "execution_count": 25,
   "id": "3aead342",
   "metadata": {},
   "outputs": [
    {
     "data": {
      "text/html": [
       "\n",
       "        <style>\n",
       "            .jupyter-widgets {color: #d5d5d5 !important;}\n",
       "            .widget-label {color: #d5d5d5 !important;}\n",
       "        </style>\n",
       "    "
      ],
      "text/plain": [
       "<IPython.core.display.HTML object>"
      ]
     },
     "metadata": {},
     "output_type": "display_data"
    },
    {
     "data": {
      "text/html": [
       "\n",
       "        <style>\n",
       "            .jupyter-widgets {color: #d5d5d5 !important;}\n",
       "            .widget-label {color: #d5d5d5 !important;}\n",
       "        </style>\n",
       "    "
      ],
      "text/plain": [
       "<IPython.core.display.HTML object>"
      ]
     },
     "metadata": {},
     "output_type": "display_data"
    }
   ],
   "source": [
    "import pandas as pd\n",
    "def add_reg_stats_to_slide(model, percentile):\n",
    "    \n",
    "    # Get the data\n",
    "    all_model_stats = pd.read_csv('./results/linear_regression.csv')\n",
    "    curr_model_stats = all_model_stats[\n",
    "        (all_model_stats['model'] == model) & \n",
    "        (all_model_stats['most memorized percentile'] == percentile)]\n",
    "    curr_model_stats['model-name'] = curr_model_stats['model'] + '-'\n",
    "    curr_model_stats['model-name'] += curr_model_stats['checkpoint'].astype('str')\n",
    "    curr_model_stats = curr_model_stats[[\n",
    "        'model-name',  \n",
    "        'slope', \n",
    "        'variation',\n",
    "        '% change'\n",
    "    ]]\n",
    "    \n",
    "    # Create a table slide\n",
    "    slide = prs.slides.add_slide(title_layout)\n",
    "    title = f\"{model} Line of best fit\"\n",
    "    if percentile != 0:\n",
    "        title += f\" @ top {percentile} most memorized data\"\n",
    "    slide.shapes.title.text = title\n",
    "    table = slide.shapes.add_table(8,4,Inches(0.5), Inches(1.7), Inches(9), Inches(5.5)).table\n",
    "    \n",
    "    # Headers\n",
    "    table.cell(0, 0).text = 'Model'\n",
    "    table.cell(0, 1).text = 'Slope'\n",
    "    table.cell(0, 2).text = 'Variation'\n",
    "    table.cell(0, 3).text = '% Change'\n",
    "    \n",
    "    # Adding data\n",
    "    for i in range(7):\n",
    "        data = curr_model_stats.iloc[i]\n",
    "        table.cell(i+1, 0).text = data['model-name']\n",
    "        table.cell(i+1, 1).text = f'{data[\"slope\"]:.2e}'\n",
    "        table.cell(i+1, 2).text = f'{data[\"variation\"]:.2e}'\n",
    "        table.cell(i+1, 3).text = f'{data[\"% change\"]:.2e}'"
   ]
  },
  {
   "cell_type": "code",
   "execution_count": 26,
   "id": "5a4e9fc5",
   "metadata": {},
   "outputs": [
    {
     "data": {
      "text/html": [
       "\n",
       "        <style>\n",
       "            .jupyter-widgets {color: #d5d5d5 !important;}\n",
       "            .widget-label {color: #d5d5d5 !important;}\n",
       "        </style>\n",
       "    "
      ],
      "text/plain": [
       "<IPython.core.display.HTML object>"
      ]
     },
     "metadata": {},
     "output_type": "display_data"
    },
    {
     "data": {
      "text/html": [
       "\n",
       "        <style>\n",
       "            .jupyter-widgets {color: #d5d5d5 !important;}\n",
       "            .widget-label {color: #d5d5d5 !important;}\n",
       "        </style>\n",
       "    "
      ],
      "text/plain": [
       "<IPython.core.display.HTML object>"
      ]
     },
     "metadata": {},
     "output_type": "display_data"
    }
   ],
   "source": [
    "for model in checkpoints.keys():\n",
    "    for percentile in [0, 90, 99]:\n",
    "        add_reg_to_slide(model, percentile)\n",
    "        add_reg_stats_to_slide(model, percentile)"
   ]
  },
  {
   "cell_type": "code",
   "execution_count": 27,
   "id": "5233c68f",
   "metadata": {},
   "outputs": [
    {
     "data": {
      "text/html": [
       "\n",
       "        <style>\n",
       "            .jupyter-widgets {color: #d5d5d5 !important;}\n",
       "            .widget-label {color: #d5d5d5 !important;}\n",
       "        </style>\n",
       "    "
      ],
      "text/plain": [
       "<IPython.core.display.HTML object>"
      ]
     },
     "metadata": {},
     "output_type": "display_data"
    },
    {
     "data": {
      "text/html": [
       "\n",
       "        <style>\n",
       "            .jupyter-widgets {color: #d5d5d5 !important;}\n",
       "            .widget-label {color: #d5d5d5 !important;}\n",
       "        </style>\n",
       "    "
      ],
      "text/plain": [
       "<IPython.core.display.HTML object>"
      ]
     },
     "metadata": {},
     "output_type": "display_data"
    }
   ],
   "source": [
    "add_title_slide(\"Bucketed Memorization Plots\")"
   ]
  },
  {
   "cell_type": "code",
   "execution_count": 28,
   "id": "ccb5c925",
   "metadata": {},
   "outputs": [
    {
     "data": {
      "text/html": [
       "\n",
       "        <style>\n",
       "            .jupyter-widgets {color: #d5d5d5 !important;}\n",
       "            .widget-label {color: #d5d5d5 !important;}\n",
       "        </style>\n",
       "    "
      ],
      "text/plain": [
       "<IPython.core.display.HTML object>"
      ]
     },
     "metadata": {},
     "output_type": "display_data"
    },
    {
     "data": {
      "text/html": [
       "\n",
       "        <style>\n",
       "            .jupyter-widgets {color: #d5d5d5 !important;}\n",
       "            .widget-label {color: #d5d5d5 !important;}\n",
       "        </style>\n",
       "    "
      ],
      "text/plain": [
       "<IPython.core.display.HTML object>"
      ]
     },
     "metadata": {},
     "output_type": "display_data"
    }
   ],
   "source": [
    "def add_bucketed_memorization_to_slide(model, percentile):\n",
    "    slide = prs.slides.add_slide(title_layout)\n",
    "    title = f\"{model} Bucketed Plot\"\n",
    "    if percentile != 0:\n",
    "        title += f\" @ top {percentile} most memorized data\"\n",
    "    slide.shapes.title.text = title\n",
    "    \n",
    "    plot_path = f'./plots/{model}-{percentile}_bucketed_memorization.png'\n",
    "    slide.shapes.add_picture(plot_path, Inches(0), Inches(1.7), Inches(10), Inches(5.5))"
   ]
  },
  {
   "cell_type": "code",
   "execution_count": 29,
   "id": "990d1f8e",
   "metadata": {},
   "outputs": [
    {
     "data": {
      "text/html": [
       "\n",
       "        <style>\n",
       "            .jupyter-widgets {color: #d5d5d5 !important;}\n",
       "            .widget-label {color: #d5d5d5 !important;}\n",
       "        </style>\n",
       "    "
      ],
      "text/plain": [
       "<IPython.core.display.HTML object>"
      ]
     },
     "metadata": {},
     "output_type": "display_data"
    },
    {
     "data": {
      "text/html": [
       "\n",
       "        <style>\n",
       "            .jupyter-widgets {color: #d5d5d5 !important;}\n",
       "            .widget-label {color: #d5d5d5 !important;}\n",
       "        </style>\n",
       "    "
      ],
      "text/plain": [
       "<IPython.core.display.HTML object>"
      ]
     },
     "metadata": {},
     "output_type": "display_data"
    }
   ],
   "source": [
    "for model in checkpoints.keys():\n",
    "    for percentile in [0, 90, 99]:\n",
    "        add_bucketed_memorization_to_slide(model, percentile)"
   ]
  },
  {
   "cell_type": "markdown",
   "id": "2fd23e2e",
   "metadata": {},
   "source": [
    "# Scatter KDE plots"
   ]
  },
  {
   "cell_type": "code",
   "execution_count": 30,
   "id": "480b859f",
   "metadata": {},
   "outputs": [
    {
     "data": {
      "text/html": [
       "\n",
       "        <style>\n",
       "            .jupyter-widgets {color: #d5d5d5 !important;}\n",
       "            .widget-label {color: #d5d5d5 !important;}\n",
       "        </style>\n",
       "    "
      ],
      "text/plain": [
       "<IPython.core.display.HTML object>"
      ]
     },
     "metadata": {},
     "output_type": "display_data"
    },
    {
     "data": {
      "text/html": [
       "\n",
       "        <style>\n",
       "            .jupyter-widgets {color: #d5d5d5 !important;}\n",
       "            .widget-label {color: #d5d5d5 !important;}\n",
       "        </style>\n",
       "    "
      ],
      "text/plain": [
       "<IPython.core.display.HTML object>"
      ]
     },
     "metadata": {},
     "output_type": "display_data"
    }
   ],
   "source": [
    "def add_kde_plots(model):\n",
    "    for checkpoint in checkpoints[model]:\n",
    "        model_name = f'{model}-{checkpoint}'\n",
    "        slide = prs.slides.add_slide(title_layout)\n",
    "        title = f\"{model_name} Scatter-KDE Plot\"\n",
    "        slide.shapes.title.text = title\n",
    "    \n",
    "        plot_path = f'./plots/{model_name}_kde_plot.png'\n",
    "        slide.shapes.add_picture(plot_path, Inches(0), Inches(1.7), Inches(10), Inches(5.5))\n",
    "        "
   ]
  },
  {
   "cell_type": "code",
   "execution_count": 31,
   "id": "4f64706c",
   "metadata": {
    "scrolled": true
   },
   "outputs": [
    {
     "data": {
      "text/html": [
       "\n",
       "        <style>\n",
       "            .jupyter-widgets {color: #d5d5d5 !important;}\n",
       "            .widget-label {color: #d5d5d5 !important;}\n",
       "        </style>\n",
       "    "
      ],
      "text/plain": [
       "<IPython.core.display.HTML object>"
      ]
     },
     "metadata": {},
     "output_type": "display_data"
    },
    {
     "data": {
      "text/html": [
       "\n",
       "        <style>\n",
       "            .jupyter-widgets {color: #d5d5d5 !important;}\n",
       "            .widget-label {color: #d5d5d5 !important;}\n",
       "        </style>\n",
       "    "
      ],
      "text/plain": [
       "<IPython.core.display.HTML object>"
      ]
     },
     "metadata": {},
     "output_type": "display_data"
    }
   ],
   "source": [
    "for model in checkpoints.keys():\n",
    "    add_kde_plots(model)"
   ]
  },
  {
   "cell_type": "code",
   "execution_count": 32,
   "id": "c567d149",
   "metadata": {},
   "outputs": [
    {
     "data": {
      "text/html": [
       "\n",
       "        <style>\n",
       "            .jupyter-widgets {color: #d5d5d5 !important;}\n",
       "            .widget-label {color: #d5d5d5 !important;}\n",
       "        </style>\n",
       "    "
      ],
      "text/plain": [
       "<IPython.core.display.HTML object>"
      ]
     },
     "metadata": {},
     "output_type": "display_data"
    },
    {
     "data": {
      "text/html": [
       "\n",
       "        <style>\n",
       "            .jupyter-widgets {color: #d5d5d5 !important;}\n",
       "            .widget-label {color: #d5d5d5 !important;}\n",
       "        </style>\n",
       "    "
      ],
      "text/plain": [
       "<IPython.core.display.HTML object>"
      ]
     },
     "metadata": {},
     "output_type": "display_data"
    }
   ],
   "source": [
    "def add_corr_plots(model):\n",
    "    for checkpoint in checkpoints[model][:-1]:\n",
    "        model_name = f'{model}-{checkpoint}'\n",
    "        slide = prs.slides.add_slide(title_layout)\n",
    "        title = f\"{model_name} Normalized Correlation Plot\"\n",
    "        slide.shapes.title.text = title\n",
    "    \n",
    "        plot_path = f'./plots/{model_name}_normalized_correlation.png'\n",
    "        slide.shapes.add_picture(plot_path, Inches(0), Inches(1.7), Inches(10), Inches(5.5))"
   ]
  },
  {
   "cell_type": "code",
   "execution_count": 33,
   "id": "2e7912e7",
   "metadata": {},
   "outputs": [
    {
     "data": {
      "text/html": [
       "\n",
       "        <style>\n",
       "            .jupyter-widgets {color: #d5d5d5 !important;}\n",
       "            .widget-label {color: #d5d5d5 !important;}\n",
       "        </style>\n",
       "    "
      ],
      "text/plain": [
       "<IPython.core.display.HTML object>"
      ]
     },
     "metadata": {},
     "output_type": "display_data"
    },
    {
     "data": {
      "text/html": [
       "\n",
       "        <style>\n",
       "            .jupyter-widgets {color: #d5d5d5 !important;}\n",
       "            .widget-label {color: #d5d5d5 !important;}\n",
       "        </style>\n",
       "    "
      ],
      "text/plain": [
       "<IPython.core.display.HTML object>"
      ]
     },
     "metadata": {},
     "output_type": "display_data"
    }
   ],
   "source": [
    "for model in checkpoints.keys():\n",
    "    add_corr_plots(model)"
   ]
  },
  {
   "cell_type": "code",
   "execution_count": 35,
   "id": "fd31a2cd",
   "metadata": {},
   "outputs": [
    {
     "data": {
      "text/html": [
       "\n",
       "        <style>\n",
       "            .jupyter-widgets {color: #d5d5d5 !important;}\n",
       "            .widget-label {color: #d5d5d5 !important;}\n",
       "        </style>\n",
       "    "
      ],
      "text/plain": [
       "<IPython.core.display.HTML object>"
      ]
     },
     "metadata": {},
     "output_type": "display_data"
    },
    {
     "data": {
      "text/html": [
       "\n",
       "        <style>\n",
       "            .jupyter-widgets {color: #d5d5d5 !important;}\n",
       "            .widget-label {color: #d5d5d5 !important;}\n",
       "        </style>\n",
       "    "
      ],
      "text/plain": [
       "<IPython.core.display.HTML object>"
      ]
     },
     "metadata": {},
     "output_type": "display_data"
    }
   ],
   "source": [
    "prs.save('Training_order_does_not_influence_memorization.pptx')"
   ]
  },
  {
   "cell_type": "code",
   "execution_count": null,
   "id": "a46762f8",
   "metadata": {},
   "outputs": [],
   "source": []
  }
 ],
 "metadata": {
  "kernelspec": {
   "display_name": "Python 3 (ipykernel)",
   "language": "python",
   "name": "python3"
  },
  "language_info": {
   "codemirror_mode": {
    "name": "ipython",
    "version": 3
   },
   "file_extension": ".py",
   "mimetype": "text/x-python",
   "name": "python",
   "nbconvert_exporter": "python",
   "pygments_lexer": "ipython3",
   "version": "3.8.13"
  }
 },
 "nbformat": 4,
 "nbformat_minor": 5
}
