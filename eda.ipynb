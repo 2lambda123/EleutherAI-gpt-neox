{
 "cells": [
  {
   "cell_type": "markdown",
   "id": "1a98dba1",
   "metadata": {},
   "source": [
    "# Miscellaneous functions for dark mode"
   ]
  },
  {
   "cell_type": "code",
   "execution_count": 1,
   "id": "548ed8ae",
   "metadata": {},
   "outputs": [],
   "source": [
    "# Set the tqdm text color to white.\n",
    "\n",
    "from IPython.display import HTML, display\n",
    "\n",
    "def set_css_in_cell_output():\n",
    "    display(HTML('''\n",
    "        <style>\n",
    "            .jupyter-widgets {color: #d5d5d5 !important;}\n",
    "            .widget-label {color: #d5d5d5 !important;}\n",
    "        </style>\n",
    "    '''))\n",
    "\n",
    "get_ipython().events.register('pre_run_cell', set_css_in_cell_output)"
   ]
  },
  {
   "cell_type": "markdown",
   "id": "e155473c",
   "metadata": {},
   "source": [
    "# Loading data"
   ]
  },
  {
   "cell_type": "code",
   "execution_count": 2,
   "id": "fdb10d51",
   "metadata": {},
   "outputs": [
    {
     "data": {
      "text/html": [
       "\n",
       "        <style>\n",
       "            .jupyter-widgets {color: #d5d5d5 !important;}\n",
       "            .widget-label {color: #d5d5d5 !important;}\n",
       "        </style>\n",
       "    "
      ],
      "text/plain": [
       "<IPython.core.display.HTML object>"
      ]
     },
     "metadata": {},
     "output_type": "display_data"
    }
   ],
   "source": [
    "models = {\n",
    "    '13B': [23000, 43000, 63000, 83000, 103000, 123000, 143000],\n",
    "    '13B_deduped': [23000, 43000, 63000, 83000, 103000, 123000, 143000],\n",
    "    '6.7B': [23000, 43000, 63000, 83000, 103000, 123000, 143000],\n",
    "    '6.7B_deduped': [23000, 43000, 63000, 83000, 103000, 123000, 143000],\n",
    "    '2.7B': [23000, 43000, 63000, 83000, 103000, 123000, 143000],\n",
    "    '1.3B': [11500, 21500, 31500, 41500, 51500, 61500, 71500],\n",
    "    '1.3B_deduped': [11500, 21500, 31500, 41500, 51500, 61500, 71500],\n",
    "    '800M': [23000, 43000, 63000, 83000, 103000, 123000, 143000],\n",
    "    '800M_deduped': [23000, 43000, 63000, 83000, 103000, 123000, 143000],\n",
    "    '350M': [11500, 21500, 31500, 41500, 51500, 61500, 71500],\n",
    "    '350M_deduped': [11500, 21500, 31500, 41500, 51500, 61500, 71500],\n",
    "    '125M': [11500, 21500, 31500, 41500, 51500, 61500, 71500],\n",
    "    '125M_deduped': [11500, 21500, 31500, 41500, 51500, 61500, 71500]\n",
    "}\n",
    "filepath = '/fsx/orz/transformer-memorization'"
   ]
  },
  {
   "cell_type": "code",
   "execution_count": 3,
   "id": "e54b2cfa",
   "metadata": {},
   "outputs": [
    {
     "data": {
      "text/html": [
       "\n",
       "        <style>\n",
       "            .jupyter-widgets {color: #d5d5d5 !important;}\n",
       "            .widget-label {color: #d5d5d5 !important;}\n",
       "        </style>\n",
       "    "
      ],
      "text/plain": [
       "<IPython.core.display.HTML object>"
      ]
     },
     "metadata": {},
     "output_type": "display_data"
    }
   ],
   "source": [
    "import os\n",
    "import pandas as pd\n",
    "from tqdm.auto import tqdm\n",
    "\n",
    "tqdm.pandas()"
   ]
  },
  {
   "cell_type": "code",
   "execution_count": 4,
   "id": "4d9bf88e",
   "metadata": {
    "scrolled": false
   },
   "outputs": [
    {
     "data": {
      "text/html": [
       "\n",
       "        <style>\n",
       "            .jupyter-widgets {color: #d5d5d5 !important;}\n",
       "            .widget-label {color: #d5d5d5 !important;}\n",
       "        </style>\n",
       "    "
      ],
      "text/plain": [
       "<IPython.core.display.HTML object>"
      ]
     },
     "metadata": {},
     "output_type": "display_data"
    },
    {
     "data": {
      "application/json": {
       "ascii": false,
       "bar_format": null,
       "colour": null,
       "elapsed": 0.01262664794921875,
       "initial": 0,
       "n": 0,
       "ncols": null,
       "nrows": null,
       "postfix": null,
       "prefix": "13B",
       "rate": null,
       "total": 7,
       "unit": "it",
       "unit_divisor": 1000,
       "unit_scale": false
      },
      "application/vnd.jupyter.widget-view+json": {
       "model_id": "216089b44a804c46a657c459a256b351",
       "version_major": 2,
       "version_minor": 0
      },
      "text/plain": [
       "13B:   0%|          | 0/7 [00:00<?, ?it/s]"
      ]
     },
     "metadata": {},
     "output_type": "display_data"
    },
    {
     "data": {
      "application/json": {
       "ascii": false,
       "bar_format": null,
       "colour": null,
       "elapsed": 0.012295007705688477,
       "initial": 0,
       "n": 0,
       "ncols": null,
       "nrows": null,
       "postfix": null,
       "prefix": "13B_deduped",
       "rate": null,
       "total": 7,
       "unit": "it",
       "unit_divisor": 1000,
       "unit_scale": false
      },
      "application/vnd.jupyter.widget-view+json": {
       "model_id": "0a32b616e4284c45aa36693abe85694b",
       "version_major": 2,
       "version_minor": 0
      },
      "text/plain": [
       "13B_deduped:   0%|          | 0/7 [00:00<?, ?it/s]"
      ]
     },
     "metadata": {},
     "output_type": "display_data"
    },
    {
     "data": {
      "application/json": {
       "ascii": false,
       "bar_format": null,
       "colour": null,
       "elapsed": 0.012210369110107422,
       "initial": 0,
       "n": 0,
       "ncols": null,
       "nrows": null,
       "postfix": null,
       "prefix": "6.7B",
       "rate": null,
       "total": 7,
       "unit": "it",
       "unit_divisor": 1000,
       "unit_scale": false
      },
      "application/vnd.jupyter.widget-view+json": {
       "model_id": "fd2b2dd634be4f89bdac6b5e4ed1c4e2",
       "version_major": 2,
       "version_minor": 0
      },
      "text/plain": [
       "6.7B:   0%|          | 0/7 [00:00<?, ?it/s]"
      ]
     },
     "metadata": {},
     "output_type": "display_data"
    },
    {
     "data": {
      "application/json": {
       "ascii": false,
       "bar_format": null,
       "colour": null,
       "elapsed": 0.012337207794189453,
       "initial": 0,
       "n": 0,
       "ncols": null,
       "nrows": null,
       "postfix": null,
       "prefix": "6.7B_deduped",
       "rate": null,
       "total": 7,
       "unit": "it",
       "unit_divisor": 1000,
       "unit_scale": false
      },
      "application/vnd.jupyter.widget-view+json": {
       "model_id": "16371782b73c4c528856b677b52e9346",
       "version_major": 2,
       "version_minor": 0
      },
      "text/plain": [
       "6.7B_deduped:   0%|          | 0/7 [00:00<?, ?it/s]"
      ]
     },
     "metadata": {},
     "output_type": "display_data"
    },
    {
     "data": {
      "application/json": {
       "ascii": false,
       "bar_format": null,
       "colour": null,
       "elapsed": 0.01221776008605957,
       "initial": 0,
       "n": 0,
       "ncols": null,
       "nrows": null,
       "postfix": null,
       "prefix": "2.7B",
       "rate": null,
       "total": 7,
       "unit": "it",
       "unit_divisor": 1000,
       "unit_scale": false
      },
      "application/vnd.jupyter.widget-view+json": {
       "model_id": "b3d95d1985824a85884b45ed221cbd39",
       "version_major": 2,
       "version_minor": 0
      },
      "text/plain": [
       "2.7B:   0%|          | 0/7 [00:00<?, ?it/s]"
      ]
     },
     "metadata": {},
     "output_type": "display_data"
    },
    {
     "data": {
      "application/json": {
       "ascii": false,
       "bar_format": null,
       "colour": null,
       "elapsed": 0.01223897933959961,
       "initial": 0,
       "n": 0,
       "ncols": null,
       "nrows": null,
       "postfix": null,
       "prefix": "1.3B",
       "rate": null,
       "total": 7,
       "unit": "it",
       "unit_divisor": 1000,
       "unit_scale": false
      },
      "application/vnd.jupyter.widget-view+json": {
       "model_id": "41bda3675a224827a144f0910ee36202",
       "version_major": 2,
       "version_minor": 0
      },
      "text/plain": [
       "1.3B:   0%|          | 0/7 [00:00<?, ?it/s]"
      ]
     },
     "metadata": {},
     "output_type": "display_data"
    },
    {
     "data": {
      "application/json": {
       "ascii": false,
       "bar_format": null,
       "colour": null,
       "elapsed": 0.012435436248779297,
       "initial": 0,
       "n": 0,
       "ncols": null,
       "nrows": null,
       "postfix": null,
       "prefix": "1.3B_deduped",
       "rate": null,
       "total": 7,
       "unit": "it",
       "unit_divisor": 1000,
       "unit_scale": false
      },
      "application/vnd.jupyter.widget-view+json": {
       "model_id": "80648f13ec9f488c8ab0d5410795645f",
       "version_major": 2,
       "version_minor": 0
      },
      "text/plain": [
       "1.3B_deduped:   0%|          | 0/7 [00:00<?, ?it/s]"
      ]
     },
     "metadata": {},
     "output_type": "display_data"
    },
    {
     "data": {
      "application/json": {
       "ascii": false,
       "bar_format": null,
       "colour": null,
       "elapsed": 0.012254714965820312,
       "initial": 0,
       "n": 0,
       "ncols": null,
       "nrows": null,
       "postfix": null,
       "prefix": "800M",
       "rate": null,
       "total": 7,
       "unit": "it",
       "unit_divisor": 1000,
       "unit_scale": false
      },
      "application/vnd.jupyter.widget-view+json": {
       "model_id": "7623346d881f497aaf352153b1fe29c5",
       "version_major": 2,
       "version_minor": 0
      },
      "text/plain": [
       "800M:   0%|          | 0/7 [00:00<?, ?it/s]"
      ]
     },
     "metadata": {},
     "output_type": "display_data"
    },
    {
     "data": {
      "application/json": {
       "ascii": false,
       "bar_format": null,
       "colour": null,
       "elapsed": 0.012334823608398438,
       "initial": 0,
       "n": 0,
       "ncols": null,
       "nrows": null,
       "postfix": null,
       "prefix": "800M_deduped",
       "rate": null,
       "total": 7,
       "unit": "it",
       "unit_divisor": 1000,
       "unit_scale": false
      },
      "application/vnd.jupyter.widget-view+json": {
       "model_id": "44a5eb6dcb614c11804b380cd6a93c13",
       "version_major": 2,
       "version_minor": 0
      },
      "text/plain": [
       "800M_deduped:   0%|          | 0/7 [00:00<?, ?it/s]"
      ]
     },
     "metadata": {},
     "output_type": "display_data"
    },
    {
     "data": {
      "application/json": {
       "ascii": false,
       "bar_format": null,
       "colour": null,
       "elapsed": 0.012339591979980469,
       "initial": 0,
       "n": 0,
       "ncols": null,
       "nrows": null,
       "postfix": null,
       "prefix": "350M",
       "rate": null,
       "total": 7,
       "unit": "it",
       "unit_divisor": 1000,
       "unit_scale": false
      },
      "application/vnd.jupyter.widget-view+json": {
       "model_id": "d2271ddc97384ed092a4ba46b925728e",
       "version_major": 2,
       "version_minor": 0
      },
      "text/plain": [
       "350M:   0%|          | 0/7 [00:00<?, ?it/s]"
      ]
     },
     "metadata": {},
     "output_type": "display_data"
    },
    {
     "data": {
      "application/json": {
       "ascii": false,
       "bar_format": null,
       "colour": null,
       "elapsed": 0.012321233749389648,
       "initial": 0,
       "n": 0,
       "ncols": null,
       "nrows": null,
       "postfix": null,
       "prefix": "350M_deduped",
       "rate": null,
       "total": 7,
       "unit": "it",
       "unit_divisor": 1000,
       "unit_scale": false
      },
      "application/vnd.jupyter.widget-view+json": {
       "model_id": "06d88099d9684bbcb1c0981980c57bc8",
       "version_major": 2,
       "version_minor": 0
      },
      "text/plain": [
       "350M_deduped:   0%|          | 0/7 [00:00<?, ?it/s]"
      ]
     },
     "metadata": {},
     "output_type": "display_data"
    },
    {
     "data": {
      "application/json": {
       "ascii": false,
       "bar_format": null,
       "colour": null,
       "elapsed": 0.012284994125366211,
       "initial": 0,
       "n": 0,
       "ncols": null,
       "nrows": null,
       "postfix": null,
       "prefix": "125M",
       "rate": null,
       "total": 7,
       "unit": "it",
       "unit_divisor": 1000,
       "unit_scale": false
      },
      "application/vnd.jupyter.widget-view+json": {
       "model_id": "829e3ad691f640fbaf7f73323e5d2ba7",
       "version_major": 2,
       "version_minor": 0
      },
      "text/plain": [
       "125M:   0%|          | 0/7 [00:00<?, ?it/s]"
      ]
     },
     "metadata": {},
     "output_type": "display_data"
    },
    {
     "data": {
      "application/json": {
       "ascii": false,
       "bar_format": null,
       "colour": null,
       "elapsed": 0.012352705001831055,
       "initial": 0,
       "n": 0,
       "ncols": null,
       "nrows": null,
       "postfix": null,
       "prefix": "125M_deduped",
       "rate": null,
       "total": 7,
       "unit": "it",
       "unit_divisor": 1000,
       "unit_scale": false
      },
      "application/vnd.jupyter.widget-view+json": {
       "model_id": "a292dd15d01e4d048a0cd777cf43063c",
       "version_major": 2,
       "version_minor": 0
      },
      "text/plain": [
       "125M_deduped:   0%|          | 0/7 [00:00<?, ?it/s]"
      ]
     },
     "metadata": {},
     "output_type": "display_data"
    }
   ],
   "source": [
    "memorization_results = {}\n",
    "for model, checkpoints in models.items():\n",
    "    for checkpoint in tqdm(checkpoints, desc=model):\n",
    "        filename = os.path.join(filepath, f'memorization_results_{model}-{checkpoint}.csv.hdf')\n",
    "        model_name = f'{model}-{checkpoint}'\n",
    "        try:\n",
    "            memorization_results[model_name] = pd.read_hdf(filename, key='memorization')\n",
    "        except Exception as e:\n",
    "            csv = pd.read_csv(os.path.join(filepath, f'memorization_results_{model}-{checkpoint}.csv'))\n",
    "            csv.to_hdf(filename, key='memorization', index=False)\n",
    "            memorization_results[model_name] = csv\n",
    "            "
   ]
  },
  {
   "cell_type": "code",
   "execution_count": 5,
   "id": "c8cd43bb",
   "metadata": {},
   "outputs": [
    {
     "data": {
      "text/html": [
       "\n",
       "        <style>\n",
       "            .jupyter-widgets {color: #d5d5d5 !important;}\n",
       "            .widget-label {color: #d5d5d5 !important;}\n",
       "        </style>\n",
       "    "
      ],
      "text/plain": [
       "<IPython.core.display.HTML object>"
      ]
     },
     "metadata": {},
     "output_type": "display_data"
    }
   ],
   "source": [
    "from matplotlib import pyplot as plt\n",
    "import matplotlib\n",
    "import numpy as np"
   ]
  },
  {
   "cell_type": "markdown",
   "id": "1f238876",
   "metadata": {},
   "source": [
    "# Simple Multiprocess Manager"
   ]
  },
  {
   "cell_type": "code",
   "execution_count": 6,
   "id": "d11d7749",
   "metadata": {},
   "outputs": [
    {
     "data": {
      "text/html": [
       "\n",
       "        <style>\n",
       "            .jupyter-widgets {color: #d5d5d5 !important;}\n",
       "            .widget-label {color: #d5d5d5 !important;}\n",
       "        </style>\n",
       "    "
      ],
      "text/plain": [
       "<IPython.core.display.HTML object>"
      ]
     },
     "metadata": {},
     "output_type": "display_data"
    }
   ],
   "source": [
    "class MPManager:\n",
    "    '''A simple class for starting multiple processes simultaneously\n",
    "    \n",
    "    processes: Array[multiprocess.Process] instances\n",
    "    '''\n",
    "    \n",
    "    def __init__(self):\n",
    "        self.processes = []\n",
    "    \n",
    "    def add(self, process):\n",
    "        process.daemon=False\n",
    "        self.processes.append(process)\n",
    "        self.processes[-1].start()\n",
    "    \n",
    "    def join(self):\n",
    "        for process in self.processes:\n",
    "            process.join()"
   ]
  },
  {
   "cell_type": "markdown",
   "id": "294a129d",
   "metadata": {},
   "source": [
    "# Setting Params, styling"
   ]
  },
  {
   "cell_type": "code",
   "execution_count": 7,
   "id": "6f18df91",
   "metadata": {
    "scrolled": true
   },
   "outputs": [
    {
     "data": {
      "text/html": [
       "\n",
       "        <style>\n",
       "            .jupyter-widgets {color: #d5d5d5 !important;}\n",
       "            .widget-label {color: #d5d5d5 !important;}\n",
       "        </style>\n",
       "    "
      ],
      "text/plain": [
       "<IPython.core.display.HTML object>"
      ]
     },
     "metadata": {},
     "output_type": "display_data"
    }
   ],
   "source": [
    "size = 25\n",
    "def update_params():\n",
    "    params = {\n",
    "        'legend.fontsize': 'large',\n",
    "        'figure.figsize': (15,10),\n",
    "        'axes.labelsize': size,\n",
    "        'axes.titlesize': size,\n",
    "        'xtick.labelsize': size*0.75,\n",
    "        'ytick.labelsize': size*0.75,\n",
    "        'axes.titlepad': 25,\n",
    "        'font.family':'sans-serif',\n",
    "        'font.weight':'bold',\n",
    "    }\n",
    "    plt.rcParams.update(params)"
   ]
  },
  {
   "cell_type": "markdown",
   "id": "c1f6bbd4",
   "metadata": {},
   "source": [
    "# Model Accuracy Linear Regression plot"
   ]
  },
  {
   "cell_type": "code",
   "execution_count": 8,
   "id": "b36c608e",
   "metadata": {},
   "outputs": [
    {
     "data": {
      "text/html": [
       "\n",
       "        <style>\n",
       "            .jupyter-widgets {color: #d5d5d5 !important;}\n",
       "            .widget-label {color: #d5d5d5 !important;}\n",
       "        </style>\n",
       "    "
      ],
      "text/plain": [
       "<IPython.core.display.HTML object>"
      ]
     },
     "metadata": {},
     "output_type": "display_data"
    }
   ],
   "source": [
    "from itertools import cycle\n",
    "import multiprocessing as mp\n",
    "import scipy.stats as stats\n",
    "from sklearn.metrics import r2_score\n",
    "\n",
    "def plot_linear_regression_of_model(model, models, lock, percentile=0):\n",
    "    '''Wrapper Script to plot regression lines between memorization accuracy measured and Sequence Index\n",
    "    \n",
    "    `model`: Name of model\n",
    "    `models`: Dictionary of list of model names along with their corresponding checkpoints.\n",
    "    `percentile`: Sample only Indicies with accuracy more than or equal to k percentile accuracy\n",
    "    \n",
    "    Utilizes global variable `memorization_results` to get the required evals.\n",
    "    \n",
    "    Plots the regression lines with confidence intervals and stores regression metrics in a csv.\n",
    "    \n",
    "    Metrics Stored:\n",
    "        \"model\": Name of the model plotted\n",
    "        \"checkpoint\": Checkpoint of the model plotted\n",
    "        \"most memorized percentile\": `percentile` parameter of the current function\n",
    "        If L(x, p) denotes the line of best fit for model p at Sequence Index x, then we store\n",
    "        \"slope\": Defined as [L(x_max, p) - L(0, p)] / x_max\n",
    "        \"variation\": Total variation, defined as L(x_max, p) - L(0, p)\n",
    "        \"% change\": Percentage change induced by variation, defined as [L(x_max, p) - L(0, p)]/L(0, p)\n",
    "    '''\n",
    "    # Initialization and beautification\n",
    "    cycol = cycle(['violet', 'indigo', 'blue', 'green', 'yellow', 'orange', 'red'])\n",
    "    update_params()\n",
    "    fig = matplotlib.figure.Figure()\n",
    "    ax = fig.subplots()\n",
    "    res = {}\n",
    "    print(\" \", end=\"\", flush=True) # Bug of jupyter notebook. For more info, refer: https://github.com/tqdm/tqdm/issues/485\n",
    "    bar = tqdm(\n",
    "        desc=f'{model}-top {percentile} Linear Regression',\n",
    "        total=len(models[model])\n",
    "    )\n",
    "    \n",
    "    # Iterating through checkpoints\n",
    "    for (model_name, evals) in memorization_results.items():\n",
    "        m, checkpoint = model_name.split('-')\n",
    "        if(m != model): continue\n",
    "        checkpoint = int(checkpoint)\n",
    "        res[checkpoint] = plot_linear_regression_of_checkpoint(model_name, evals, ax, next(cycol), \n",
    "            percentile)\n",
    "        bar.update(1)\n",
    "    \n",
    "    # Titling and labeling plot\n",
    "    fig.suptitle(\"Memorization Accuracy\", fontsize=20)\n",
    "    fig.supxlabel(\"Sequence Index\", fontsize=20)\n",
    "    fig.supylabel(\"Accuracy\", fontsize=20)\n",
    "    ax.legend(loc='lower right')\n",
    "    \n",
    "    # Saving plots and metrics\n",
    "    fig.savefig(f'./plots/{model}-{percentile}_linear_regression.png', facecolor='white')\n",
    "    lock.acquire()\n",
    "    with open(f'./results/linear_regression.csv', 'a') as f:\n",
    "        for checkpoint, scores in res.items():\n",
    "            f.write(f'{model},{checkpoint},{percentile}')\n",
    "            for score in scores:\n",
    "                f.write(f',{score}')\n",
    "            f.write('\\n')\n",
    "    bar.close()\n",
    "    lock.release()\n",
    "    \n",
    "    \n",
    "    \n",
    "\n",
    "def plot_linear_regression_of_checkpoint(model_name, evals, axis, color, precentile = 0):\n",
    "    '''Generates a linear regression plot and returns a tuple of results\n",
    "    \n",
    "    `model_name`: String with model and it's checkpoint\n",
    "    `evals`: Evaluation results of corresponding model on corresponding checkpoint\n",
    "    `axis`, `color`: Plotting params\n",
    "    `percentile`: Sample only Indicies with accuracy more than or equal to k percentile accuracy\n",
    "    \n",
    "    Returns:\n",
    "        tuple(\n",
    "            slope: slope of regression line\n",
    "            variation: Total variation, defined above\n",
    "            % change: percentage change induced by variation, defined above\n",
    "        )\n",
    "    '''\n",
    "    # Top percentile evals\n",
    "    top_percentile_accuracy = np.percentile(evals['accuracy'],precentile)\n",
    "    top_percentile_evals = evals[evals['accuracy'] >= top_percentile_accuracy]\n",
    "    \n",
    "    # Actually performing regression\n",
    "    indicies, accuracy = top_percentile_evals['index'], top_percentile_evals['accuracy']\n",
    "    a,b = np.polyfit(indicies, accuracy,1)\n",
    "    acc_best_fit = a*indicies+b\n",
    "    results = (\n",
    "        a, # Slope\n",
    "        acc_best_fit.iloc[-1] - acc_best_fit.iloc[0], # Variation\n",
    "        (acc_best_fit.iloc[-1] - acc_best_fit.iloc[0])*100/acc_best_fit.iloc[0] # % change\n",
    "    )\n",
    "    \n",
    "    # Confidence Interval plots\n",
    "    y_model = np.polyval([a, b], indicies)\n",
    "    x_mean = indicies.mean()\n",
    "    y_mean = accuracy.mean()\n",
    "    dof = len(indicies) - 2\n",
    "    t = stats.t.ppf(0.99999, dof) \n",
    "    residual = accuracy - y_model\n",
    "    std_error = (np.sum(residual**2) / dof)**.5\n",
    "    x_line = np.linspace(np.min(indicies), np.max(indicies), int(1e6))\n",
    "    y_line = np.polyval([a, b], x_line)\n",
    "    ci = t * std_error * (1/len(indicies) + (x_line - x_mean)**2 / np.sum((indicies - x_mean)**2))**.5\n",
    "    \n",
    "    # Actually plotting data\n",
    "    axis.plot(x_line, y_line,\n",
    "        color=color, label=model_name)\n",
    "    axis.fill_between(x_line, (y_line-ci), (y_line+ci), color=color, alpha=0.2)\n",
    "    return results"
   ]
  },
  {
   "cell_type": "markdown",
   "id": "7d5eda37",
   "metadata": {},
   "source": [
    "# Bucketed Memorization Plots"
   ]
  },
  {
   "cell_type": "code",
   "execution_count": 9,
   "id": "fb0dc37f",
   "metadata": {
    "scrolled": true
   },
   "outputs": [
    {
     "data": {
      "text/html": [
       "\n",
       "        <style>\n",
       "            .jupyter-widgets {color: #d5d5d5 !important;}\n",
       "            .widget-label {color: #d5d5d5 !important;}\n",
       "        </style>\n",
       "    "
      ],
      "text/plain": [
       "<IPython.core.display.HTML object>"
      ]
     },
     "metadata": {},
     "output_type": "display_data"
    }
   ],
   "source": [
    "from itertools import cycle\n",
    "cycol = cycle(['violet', 'indigo', 'blue', 'green', 'yellow', 'orange', 'red'])\n",
    "\n",
    "def plot_bucketed_scores_of_model(model, models, lock, percentile=0, metric='accuracy'):\n",
    "    '''Wrapper Script to plot bucketed mean plots between memorization accuracy measured and Sequence Index\n",
    "    \n",
    "    `model`: Name of model\n",
    "    `models`: Dictionary of list of model names along with their corresponding checkpoints.\n",
    "    `percentile`: Sample only Indicies with accuracy more than or equal to k percentile accuracy\n",
    "    `metric`: Could be one of accuracy or nll_loss. Using Accuracy only for now.\n",
    "    \n",
    "    Utilizes global variable `memorization_results` to get the required evals.\n",
    "    \n",
    "    Plots the bucketed memorization plots.\n",
    "    '''\n",
    "    # Initialization and beautification\n",
    "    cycol = cycle(['violet', 'indigo', 'blue', 'green', 'yellow', 'orange', 'red'])\n",
    "    fig = matplotlib.figure.Figure()\n",
    "    ax = fig.subplots()\n",
    "    print(\" \", end=\"\", flush=True)\n",
    "    bar = tqdm(\n",
    "        desc=f'{model}-top {percentile} Bucketed Memorization',\n",
    "        total=len(models[model])\n",
    "    )\n",
    "    \n",
    "    # Iterating through checkpoints\n",
    "    for (model_name, evals) in memorization_results.items():\n",
    "        m, checkpoint = model_name.split('-')\n",
    "        if(m != model): continue\n",
    "        checkpoint = int(checkpoint)\n",
    "        plot_bucketed_scores_of_checkpoint(\n",
    "            model_name, evals, \n",
    "           ax, next(cycol), \n",
    "           percentile, \n",
    "           metric=metric\n",
    "        )\n",
    "        bar.update(1)\n",
    "    \n",
    "    # Titling and labeling plot\n",
    "    fig.suptitle(\"Bucketed Memorization Accuracy\", fontsize=20)\n",
    "    fig.supxlabel(\"Sequence Index\", fontsize=20)\n",
    "    fig.supylabel(\"Accuracy\", fontsize=20)\n",
    "    ax.legend(loc='lower right')\n",
    "    \n",
    "    # Saving plot\n",
    "    fig.savefig(f'./plots/{model}-{percentile}_bucketed_memorization.png', facecolor='white')\n",
    "    bar.close()\n",
    "\n",
    "def plot_bucketed_scores_of_checkpoint(\n",
    "    model_name, evals, axis, color, \n",
    "    precentile = 0, \n",
    "    bucket_size=235520,\n",
    "    metric='accuracy'\n",
    "):\n",
    "    '''Plots bucketed memorization scores\n",
    "    \n",
    "    `model_name`: String with model and it's checkpoint\n",
    "    `evals`: Evaluation results of corresponding model on corresponding checkpoint\n",
    "    `axis`, `color`: Plotting params\n",
    "    `percentile`: Sample only Indicies with accuracy more than or equal to k percentile accuracy\n",
    "    `bucket_size`: Number of samples to group into one bucket, Score of a bucket is individual scores' mean\n",
    "    `metric`: Is only accuracy for now\n",
    "    '''\n",
    "    # Top percentile evals\n",
    "    top_percentile_metric = np.percentile(evals[metric],precentile)\n",
    "    top_percentile_evals = evals[evals[metric] >= top_percentile_metric]\n",
    "    \n",
    "    # Bucketing data and calculating errors\n",
    "    indicies = []\n",
    "    metric_means = []\n",
    "    metric_errs = []\n",
    "    for i in range(0, (len(evals)),bucket_size):\n",
    "        result = top_percentile_evals[\n",
    "            (i <= top_percentile_evals['index']) & \n",
    "            (top_percentile_evals['index'] < (i+bucket_size))\n",
    "        ]\n",
    "        if(len(result) == 0):\n",
    "            continue\n",
    "        indicies.append(result['index'].iloc[-1])\n",
    "        metric_means.append(result[metric].mean())\n",
    "        metric_errs.append(result[metric].std()/np.sqrt(len(result)))\n",
    "    \n",
    "    # Plotting the results\n",
    "    axis.plot(indicies, metric_means, label=model_name, color=color)"
   ]
  },
  {
   "cell_type": "markdown",
   "id": "c7a2421e",
   "metadata": {},
   "source": [
    "# Parallelizing plot generations"
   ]
  },
  {
   "cell_type": "code",
   "execution_count": 10,
   "id": "75594fd0",
   "metadata": {},
   "outputs": [
    {
     "data": {
      "text/html": [
       "\n",
       "        <style>\n",
       "            .jupyter-widgets {color: #d5d5d5 !important;}\n",
       "            .widget-label {color: #d5d5d5 !important;}\n",
       "        </style>\n",
       "    "
      ],
      "text/plain": [
       "<IPython.core.display.HTML object>"
      ]
     },
     "metadata": {},
     "output_type": "display_data"
    },
    {
     "name": "stdout",
     "output_type": "stream",
     "text": [
      "       "
     ]
    },
    {
     "data": {
      "application/json": {
       "ascii": false,
       "bar_format": null,
       "colour": null,
       "elapsed": 0.8578085899353027,
       "initial": 0,
       "n": 0,
       "ncols": null,
       "nrows": null,
       "postfix": null,
       "prefix": "13B-top 0 Bucketed Memorization",
       "rate": null,
       "total": 7,
       "unit": "it",
       "unit_divisor": 1000,
       "unit_scale": false
      },
      "application/vnd.jupyter.widget-view+json": {
       "model_id": "1804661df7f7470fb3d63eeef6efd21f",
       "version_major": 2,
       "version_minor": 0
      },
      "text/plain": [
       "13B-top 0 Bucketed Memorization:   0%|          | 0/7 [00:00<?, ?it/s]"
      ]
     },
     "metadata": {},
     "output_type": "display_data"
    },
    {
     "data": {
      "application/json": {
       "ascii": false,
       "bar_format": null,
       "colour": null,
       "elapsed": 0.8594226837158203,
       "initial": 0,
       "n": 0,
       "ncols": null,
       "nrows": null,
       "postfix": null,
       "prefix": "13B-top 90 Bucketed Memorization",
       "rate": null,
       "total": 7,
       "unit": "it",
       "unit_divisor": 1000,
       "unit_scale": false
      },
      "application/vnd.jupyter.widget-view+json": {
       "model_id": "83360698f13943dfbdda0b3b43695044",
       "version_major": 2,
       "version_minor": 0
      },
      "text/plain": [
       "13B-top 90 Bucketed Memorization:   0%|          | 0/7 [00:00<?, ?it/s]"
      ]
     },
     "metadata": {},
     "output_type": "display_data"
    },
    {
     "name": "stdout",
     "output_type": "stream",
     "text": [
      "  "
     ]
    },
    {
     "data": {
      "application/json": {
       "ascii": false,
       "bar_format": null,
       "colour": null,
       "elapsed": 0.8447046279907227,
       "initial": 0,
       "n": 0,
       "ncols": null,
       "nrows": null,
       "postfix": null,
       "prefix": "13B-top 99 Bucketed Memorization",
       "rate": null,
       "total": 7,
       "unit": "it",
       "unit_divisor": 1000,
       "unit_scale": false
      },
      "application/vnd.jupyter.widget-view+json": {
       "model_id": "7e031e0776a94879b94fa355347c0e7c",
       "version_major": 2,
       "version_minor": 0
      },
      "text/plain": [
       "13B-top 99 Bucketed Memorization:   0%|          | 0/7 [00:00<?, ?it/s]"
      ]
     },
     "metadata": {},
     "output_type": "display_data"
    },
    {
     "name": "stdout",
     "output_type": "stream",
     "text": [
      " "
     ]
    },
    {
     "data": {
      "application/json": {
       "ascii": false,
       "bar_format": null,
       "colour": null,
       "elapsed": 0.8468666076660156,
       "initial": 0,
       "n": 0,
       "ncols": null,
       "nrows": null,
       "postfix": null,
       "prefix": "13B-top 0 Linear Regression",
       "rate": null,
       "total": 7,
       "unit": "it",
       "unit_divisor": 1000,
       "unit_scale": false
      },
      "application/vnd.jupyter.widget-view+json": {
       "model_id": "c519275b8f4a4907947a8d524e260b99",
       "version_major": 2,
       "version_minor": 0
      },
      "text/plain": [
       "13B-top 0 Linear Regression:   0%|          | 0/7 [00:00<?, ?it/s]"
      ]
     },
     "metadata": {},
     "output_type": "display_data"
    },
    {
     "name": "stdout",
     "output_type": "stream",
     "text": [
      " "
     ]
    },
    {
     "data": {
      "application/json": {
       "ascii": false,
       "bar_format": null,
       "colour": null,
       "elapsed": 0.848137617111206,
       "initial": 0,
       "n": 0,
       "ncols": null,
       "nrows": null,
       "postfix": null,
       "prefix": "13B-top 99 Linear Regression",
       "rate": null,
       "total": 7,
       "unit": "it",
       "unit_divisor": 1000,
       "unit_scale": false
      },
      "application/vnd.jupyter.widget-view+json": {
       "model_id": "c8a619c98a2147fa981e0524f1cd7e50",
       "version_major": 2,
       "version_minor": 0
      },
      "text/plain": [
       "13B-top 99 Linear Regression:   0%|          | 0/7 [00:00<?, ?it/s]"
      ]
     },
     "metadata": {},
     "output_type": "display_data"
    },
    {
     "name": "stdout",
     "output_type": "stream",
     "text": [
      " "
     ]
    },
    {
     "data": {
      "application/json": {
       "ascii": false,
       "bar_format": null,
       "colour": null,
       "elapsed": 0.8693416118621826,
       "initial": 0,
       "n": 0,
       "ncols": null,
       "nrows": null,
       "postfix": null,
       "prefix": "13B-top 90 Linear Regression",
       "rate": null,
       "total": 7,
       "unit": "it",
       "unit_divisor": 1000,
       "unit_scale": false
      },
      "application/vnd.jupyter.widget-view+json": {
       "model_id": "ff69f88758154470b20ffe6fbaac3f14",
       "version_major": 2,
       "version_minor": 0
      },
      "text/plain": [
       "13B-top 90 Linear Regression:   0%|          | 0/7 [00:00<?, ?it/s]"
      ]
     },
     "metadata": {},
     "output_type": "display_data"
    },
    {
     "name": "stdout",
     "output_type": "stream",
     "text": [
      " "
     ]
    },
    {
     "data": {
      "application/json": {
       "ascii": false,
       "bar_format": null,
       "colour": null,
       "elapsed": 0.8851578235626221,
       "initial": 0,
       "n": 0,
       "ncols": null,
       "nrows": null,
       "postfix": null,
       "prefix": "13B_deduped-top 0 Bucketed Memorization",
       "rate": null,
       "total": 7,
       "unit": "it",
       "unit_divisor": 1000,
       "unit_scale": false
      },
      "application/vnd.jupyter.widget-view+json": {
       "model_id": "3df5a959e2324d7e913c083d6700ab5f",
       "version_major": 2,
       "version_minor": 0
      },
      "text/plain": [
       "13B_deduped-top 0 Bucketed Memorization:   0%|          | 0/7 [00:00<?, ?it/s]"
      ]
     },
     "metadata": {},
     "output_type": "display_data"
    },
    {
     "name": "stdout",
     "output_type": "stream",
     "text": [
      " "
     ]
    },
    {
     "data": {
      "application/json": {
       "ascii": false,
       "bar_format": null,
       "colour": null,
       "elapsed": 0.9170467853546143,
       "initial": 0,
       "n": 0,
       "ncols": null,
       "nrows": null,
       "postfix": null,
       "prefix": "13B_deduped-top 90 Bucketed Memorization",
       "rate": null,
       "total": 7,
       "unit": "it",
       "unit_divisor": 1000,
       "unit_scale": false
      },
      "application/vnd.jupyter.widget-view+json": {
       "model_id": "1adb5157f86e45d2a8117a2386beea70",
       "version_major": 2,
       "version_minor": 0
      },
      "text/plain": [
       "13B_deduped-top 90 Bucketed Memorization:   0%|          | 0/7 [00:00<?, ?it/s]"
      ]
     },
     "metadata": {},
     "output_type": "display_data"
    },
    {
     "data": {
      "application/json": {
       "ascii": false,
       "bar_format": null,
       "colour": null,
       "elapsed": 0.7810792922973633,
       "initial": 0,
       "n": 0,
       "ncols": null,
       "nrows": null,
       "postfix": null,
       "prefix": "13B_deduped-top 99 Bucketed Memorization",
       "rate": null,
       "total": 7,
       "unit": "it",
       "unit_divisor": 1000,
       "unit_scale": false
      },
      "application/vnd.jupyter.widget-view+json": {
       "model_id": "a922362d32e24da9ba0036d60efc7cae",
       "version_major": 2,
       "version_minor": 0
      },
      "text/plain": [
       "13B_deduped-top 99 Bucketed Memorization:   0%|          | 0/7 [00:00<?, ?it/s]"
      ]
     },
     "metadata": {},
     "output_type": "display_data"
    },
    {
     "name": "stdout",
     "output_type": "stream",
     "text": [
      " "
     ]
    },
    {
     "data": {
      "application/json": {
       "ascii": false,
       "bar_format": null,
       "colour": null,
       "elapsed": 0.6571979522705078,
       "initial": 0,
       "n": 0,
       "ncols": null,
       "nrows": null,
       "postfix": null,
       "prefix": "13B_deduped-top 0 Linear Regression",
       "rate": null,
       "total": 7,
       "unit": "it",
       "unit_divisor": 1000,
       "unit_scale": false
      },
      "application/vnd.jupyter.widget-view+json": {
       "model_id": "b31d9da311024601859a0b2b0f985733",
       "version_major": 2,
       "version_minor": 0
      },
      "text/plain": [
       "13B_deduped-top 0 Linear Regression:   0%|          | 0/7 [00:00<?, ?it/s]"
      ]
     },
     "metadata": {},
     "output_type": "display_data"
    },
    {
     "name": "stdout",
     "output_type": "stream",
     "text": [
      " "
     ]
    },
    {
     "data": {
      "application/json": {
       "ascii": false,
       "bar_format": null,
       "colour": null,
       "elapsed": 0.6677858829498291,
       "initial": 0,
       "n": 0,
       "ncols": null,
       "nrows": null,
       "postfix": null,
       "prefix": "13B_deduped-top 99 Linear Regression",
       "rate": null,
       "total": 7,
       "unit": "it",
       "unit_divisor": 1000,
       "unit_scale": false
      },
      "application/vnd.jupyter.widget-view+json": {
       "model_id": "6f51ae0917484556b709c5d7be05c78f",
       "version_major": 2,
       "version_minor": 0
      },
      "text/plain": [
       "13B_deduped-top 99 Linear Regression:   0%|          | 0/7 [00:00<?, ?it/s]"
      ]
     },
     "metadata": {},
     "output_type": "display_data"
    },
    {
     "data": {
      "application/json": {
       "ascii": false,
       "bar_format": null,
       "colour": null,
       "elapsed": 0.6586236953735352,
       "initial": 0,
       "n": 0,
       "ncols": null,
       "nrows": null,
       "postfix": null,
       "prefix": "13B_deduped-top 90 Linear Regression",
       "rate": null,
       "total": 7,
       "unit": "it",
       "unit_divisor": 1000,
       "unit_scale": false
      },
      "application/vnd.jupyter.widget-view+json": {
       "model_id": "d34f0ecfa36e44b0aed026820333d114",
       "version_major": 2,
       "version_minor": 0
      },
      "text/plain": [
       "13B_deduped-top 90 Linear Regression:   0%|          | 0/7 [00:00<?, ?it/s]"
      ]
     },
     "metadata": {},
     "output_type": "display_data"
    },
    {
     "name": "stdout",
     "output_type": "stream",
     "text": [
      "  "
     ]
    },
    {
     "data": {
      "application/json": {
       "ascii": false,
       "bar_format": null,
       "colour": null,
       "elapsed": 0.6678173542022705,
       "initial": 0,
       "n": 0,
       "ncols": null,
       "nrows": null,
       "postfix": null,
       "prefix": "6.7B-top 90 Bucketed Memorization",
       "rate": null,
       "total": 7,
       "unit": "it",
       "unit_divisor": 1000,
       "unit_scale": false
      },
      "application/vnd.jupyter.widget-view+json": {
       "model_id": "d31b0ce141fa4a8c927098cf2f536cd2",
       "version_major": 2,
       "version_minor": 0
      },
      "text/plain": [
       "6.7B-top 90 Bucketed Memorization:   0%|          | 0/7 [00:00<?, ?it/s]"
      ]
     },
     "metadata": {},
     "output_type": "display_data"
    },
    {
     "name": "stdout",
     "output_type": "stream",
     "text": [
      "    "
     ]
    },
    {
     "data": {
      "application/json": {
       "ascii": false,
       "bar_format": null,
       "colour": null,
       "elapsed": 1.4697251319885254,
       "initial": 0,
       "n": 0,
       "ncols": null,
       "nrows": null,
       "postfix": null,
       "prefix": "6.7B-top 0 Bucketed Memorization",
       "rate": null,
       "total": 7,
       "unit": "it",
       "unit_divisor": 1000,
       "unit_scale": false
      },
      "application/vnd.jupyter.widget-view+json": {
       "model_id": "93bb148863bd473d9e260ba606ce76f3",
       "version_major": 2,
       "version_minor": 0
      },
      "text/plain": [
       "6.7B-top 0 Bucketed Memorization:   0%|          | 0/7 [00:01<?, ?it/s]"
      ]
     },
     "metadata": {},
     "output_type": "display_data"
    },
    {
     "name": "stdout",
     "output_type": "stream",
     "text": [
      "  "
     ]
    },
    {
     "data": {
      "application/json": {
       "ascii": false,
       "bar_format": null,
       "colour": null,
       "elapsed": 1.1370728015899658,
       "initial": 0,
       "n": 0,
       "ncols": null,
       "nrows": null,
       "postfix": null,
       "prefix": "6.7B-top 99 Linear Regression",
       "rate": null,
       "total": 7,
       "unit": "it",
       "unit_divisor": 1000,
       "unit_scale": false
      },
      "application/vnd.jupyter.widget-view+json": {
       "model_id": "48a76c9b91a54581b66b2d193e6224e3",
       "version_major": 2,
       "version_minor": 0
      },
      "text/plain": [
       "6.7B-top 99 Linear Regression:   0%|          | 0/7 [00:01<?, ?it/s]"
      ]
     },
     "metadata": {},
     "output_type": "display_data"
    },
    {
     "name": "stdout",
     "output_type": "stream",
     "text": [
      "  "
     ]
    },
    {
     "data": {
      "application/json": {
       "ascii": false,
       "bar_format": null,
       "colour": null,
       "elapsed": 0.9983687400817871,
       "initial": 0,
       "n": 0,
       "ncols": null,
       "nrows": null,
       "postfix": null,
       "prefix": "6.7B-top 99 Bucketed Memorization",
       "rate": null,
       "total": 7,
       "unit": "it",
       "unit_divisor": 1000,
       "unit_scale": false
      },
      "application/vnd.jupyter.widget-view+json": {
       "model_id": "9cb400279e66466facd6b5d4b4f7dd79",
       "version_major": 2,
       "version_minor": 0
      },
      "text/plain": [
       "6.7B-top 99 Bucketed Memorization:   0%|          | 0/7 [00:00<?, ?it/s]"
      ]
     },
     "metadata": {},
     "output_type": "display_data"
    },
    {
     "name": "stdout",
     "output_type": "stream",
     "text": [
      "   "
     ]
    },
    {
     "data": {
      "application/json": {
       "ascii": false,
       "bar_format": null,
       "colour": null,
       "elapsed": 0.9952268600463867,
       "initial": 0,
       "n": 0,
       "ncols": null,
       "nrows": null,
       "postfix": null,
       "prefix": "6.7B-top 0 Linear Regression",
       "rate": null,
       "total": 7,
       "unit": "it",
       "unit_divisor": 1000,
       "unit_scale": false
      },
      "application/vnd.jupyter.widget-view+json": {
       "model_id": "27f1261a4e524d8eb449d38bc765ec79",
       "version_major": 2,
       "version_minor": 0
      },
      "text/plain": [
       "6.7B-top 0 Linear Regression:   0%|          | 0/7 [00:00<?, ?it/s]"
      ]
     },
     "metadata": {},
     "output_type": "display_data"
    },
    {
     "name": "stdout",
     "output_type": "stream",
     "text": [
      " "
     ]
    },
    {
     "data": {
      "application/json": {
       "ascii": false,
       "bar_format": null,
       "colour": null,
       "elapsed": 1.1628212928771973,
       "initial": 0,
       "n": 0,
       "ncols": null,
       "nrows": null,
       "postfix": null,
       "prefix": "6.7B-top 90 Linear Regression",
       "rate": null,
       "total": 7,
       "unit": "it",
       "unit_divisor": 1000,
       "unit_scale": false
      },
      "application/vnd.jupyter.widget-view+json": {
       "model_id": "78607872e1114fa5b60cfa22aa6dd6c4",
       "version_major": 2,
       "version_minor": 0
      },
      "text/plain": [
       "6.7B-top 90 Linear Regression:   0%|          | 0/7 [00:01<?, ?it/s]"
      ]
     },
     "metadata": {},
     "output_type": "display_data"
    },
    {
     "name": "stdout",
     "output_type": "stream",
     "text": [
      "   "
     ]
    },
    {
     "data": {
      "application/json": {
       "ascii": false,
       "bar_format": null,
       "colour": null,
       "elapsed": 1.1326498985290527,
       "initial": 0,
       "n": 0,
       "ncols": null,
       "nrows": null,
       "postfix": null,
       "prefix": "6.7B_deduped-top 90 Bucketed Memorization",
       "rate": null,
       "total": 7,
       "unit": "it",
       "unit_divisor": 1000,
       "unit_scale": false
      },
      "application/vnd.jupyter.widget-view+json": {
       "model_id": "2d1cfc84862d4a7aacf1029e1a9e47d1",
       "version_major": 2,
       "version_minor": 0
      },
      "text/plain": [
       "6.7B_deduped-top 90 Bucketed Memorization:   0%|          | 0/7 [00:01<?, ?it/s]"
      ]
     },
     "metadata": {},
     "output_type": "display_data"
    },
    {
     "data": {
      "application/json": {
       "ascii": false,
       "bar_format": null,
       "colour": null,
       "elapsed": 1.13383150100708,
       "initial": 0,
       "n": 0,
       "ncols": null,
       "nrows": null,
       "postfix": null,
       "prefix": "6.7B_deduped-top 90 Linear Regression",
       "rate": null,
       "total": 7,
       "unit": "it",
       "unit_divisor": 1000,
       "unit_scale": false
      },
      "application/vnd.jupyter.widget-view+json": {
       "model_id": "04f99187eff6488a9b40a3a922ef84c2",
       "version_major": 2,
       "version_minor": 0
      },
      "text/plain": [
       "6.7B_deduped-top 90 Linear Regression:   0%|          | 0/7 [00:01<?, ?it/s]"
      ]
     },
     "metadata": {},
     "output_type": "display_data"
    },
    {
     "data": {
      "application/json": {
       "ascii": false,
       "bar_format": null,
       "colour": null,
       "elapsed": 1.1348366737365723,
       "initial": 0,
       "n": 0,
       "ncols": null,
       "nrows": null,
       "postfix": null,
       "prefix": "6.7B_deduped-top 0 Bucketed Memorization",
       "rate": null,
       "total": 7,
       "unit": "it",
       "unit_divisor": 1000,
       "unit_scale": false
      },
      "application/vnd.jupyter.widget-view+json": {
       "model_id": "8488068e05aa436a94d42a6f23ecab0e",
       "version_major": 2,
       "version_minor": 0
      },
      "text/plain": [
       "6.7B_deduped-top 0 Bucketed Memorization:   0%|          | 0/7 [00:01<?, ?it/s]"
      ]
     },
     "metadata": {},
     "output_type": "display_data"
    },
    {
     "data": {
      "application/json": {
       "ascii": false,
       "bar_format": null,
       "colour": null,
       "elapsed": 1.134368658065796,
       "initial": 0,
       "n": 0,
       "ncols": null,
       "nrows": null,
       "postfix": null,
       "prefix": "6.7B_deduped-top 99 Bucketed Memorization",
       "rate": null,
       "total": 7,
       "unit": "it",
       "unit_divisor": 1000,
       "unit_scale": false
      },
      "application/vnd.jupyter.widget-view+json": {
       "model_id": "4a003bcfea5143e99e800736a5ff6f53",
       "version_major": 2,
       "version_minor": 0
      },
      "text/plain": [
       "6.7B_deduped-top 99 Bucketed Memorization:   0%|          | 0/7 [00:01<?, ?it/s]"
      ]
     },
     "metadata": {},
     "output_type": "display_data"
    },
    {
     "name": "stdout",
     "output_type": "stream",
     "text": [
      "  "
     ]
    },
    {
     "data": {
      "application/json": {
       "ascii": false,
       "bar_format": null,
       "colour": null,
       "elapsed": 1.162416934967041,
       "initial": 0,
       "n": 0,
       "ncols": null,
       "nrows": null,
       "postfix": null,
       "prefix": "2.7B-top 90 Bucketed Memorization",
       "rate": null,
       "total": 7,
       "unit": "it",
       "unit_divisor": 1000,
       "unit_scale": false
      },
      "application/vnd.jupyter.widget-view+json": {
       "model_id": "4d6d7080f71a4ac08f04984a3e40a46a",
       "version_major": 2,
       "version_minor": 0
      },
      "text/plain": [
       "2.7B-top 90 Bucketed Memorization:   0%|          | 0/7 [00:01<?, ?it/s]"
      ]
     },
     "metadata": {},
     "output_type": "display_data"
    },
    {
     "data": {
      "application/json": {
       "ascii": false,
       "bar_format": null,
       "colour": null,
       "elapsed": 1.162541151046753,
       "initial": 0,
       "n": 0,
       "ncols": null,
       "nrows": null,
       "postfix": null,
       "prefix": "6.7B_deduped-top 0 Linear Regression",
       "rate": null,
       "total": 7,
       "unit": "it",
       "unit_divisor": 1000,
       "unit_scale": false
      },
      "application/vnd.jupyter.widget-view+json": {
       "model_id": "1ae9725dba42405d8711e5850fb8c93b",
       "version_major": 2,
       "version_minor": 0
      },
      "text/plain": [
       "6.7B_deduped-top 0 Linear Regression:   0%|          | 0/7 [00:01<?, ?it/s]"
      ]
     },
     "metadata": {},
     "output_type": "display_data"
    },
    {
     "name": "stdout",
     "output_type": "stream",
     "text": [
      " "
     ]
    },
    {
     "data": {
      "application/json": {
       "ascii": false,
       "bar_format": null,
       "colour": null,
       "elapsed": 1.1839580535888672,
       "initial": 0,
       "n": 0,
       "ncols": null,
       "nrows": null,
       "postfix": null,
       "prefix": "2.7B-top 99 Bucketed Memorization",
       "rate": null,
       "total": 7,
       "unit": "it",
       "unit_divisor": 1000,
       "unit_scale": false
      },
      "application/vnd.jupyter.widget-view+json": {
       "model_id": "9fe55533c10d44e4b4c8b168148701f2",
       "version_major": 2,
       "version_minor": 0
      },
      "text/plain": [
       "2.7B-top 99 Bucketed Memorization:   0%|          | 0/7 [00:01<?, ?it/s]"
      ]
     },
     "metadata": {},
     "output_type": "display_data"
    },
    {
     "data": {
      "application/json": {
       "ascii": false,
       "bar_format": null,
       "colour": null,
       "elapsed": 1.1830639839172363,
       "initial": 0,
       "n": 0,
       "ncols": null,
       "nrows": null,
       "postfix": null,
       "prefix": "6.7B_deduped-top 99 Linear Regression",
       "rate": null,
       "total": 7,
       "unit": "it",
       "unit_divisor": 1000,
       "unit_scale": false
      },
      "application/vnd.jupyter.widget-view+json": {
       "model_id": "6e767f2b5bbe442ba1f61ff487cdda7b",
       "version_major": 2,
       "version_minor": 0
      },
      "text/plain": [
       "6.7B_deduped-top 99 Linear Regression:   0%|          | 0/7 [00:01<?, ?it/s]"
      ]
     },
     "metadata": {},
     "output_type": "display_data"
    },
    {
     "data": {
      "application/json": {
       "ascii": false,
       "bar_format": null,
       "colour": null,
       "elapsed": 1.2105579376220703,
       "initial": 0,
       "n": 0,
       "ncols": null,
       "nrows": null,
       "postfix": null,
       "prefix": "2.7B-top 0 Bucketed Memorization",
       "rate": null,
       "total": 7,
       "unit": "it",
       "unit_divisor": 1000,
       "unit_scale": false
      },
      "application/vnd.jupyter.widget-view+json": {
       "model_id": "3e646c240bd14b5f9272bbc4da8abcca",
       "version_major": 2,
       "version_minor": 0
      },
      "text/plain": [
       "2.7B-top 0 Bucketed Memorization:   0%|          | 0/7 [00:01<?, ?it/s]"
      ]
     },
     "metadata": {},
     "output_type": "display_data"
    },
    {
     "name": "stdout",
     "output_type": "stream",
     "text": [
      " "
     ]
    },
    {
     "data": {
      "application/json": {
       "ascii": false,
       "bar_format": null,
       "colour": null,
       "elapsed": 1.0054638385772705,
       "initial": 0,
       "n": 0,
       "ncols": null,
       "nrows": null,
       "postfix": null,
       "prefix": "2.7B-top 0 Linear Regression",
       "rate": null,
       "total": 7,
       "unit": "it",
       "unit_divisor": 1000,
       "unit_scale": false
      },
      "application/vnd.jupyter.widget-view+json": {
       "model_id": "1125560dfa8c4273a6ca1facf5b4a233",
       "version_major": 2,
       "version_minor": 0
      },
      "text/plain": [
       "2.7B-top 0 Linear Regression:   0%|          | 0/7 [00:01<?, ?it/s]"
      ]
     },
     "metadata": {},
     "output_type": "display_data"
    },
    {
     "name": "stdout",
     "output_type": "stream",
     "text": [
      "  "
     ]
    },
    {
     "data": {
      "application/json": {
       "ascii": false,
       "bar_format": null,
       "colour": null,
       "elapsed": 1.0254921913146973,
       "initial": 0,
       "n": 0,
       "ncols": null,
       "nrows": null,
       "postfix": null,
       "prefix": "1.3B-top 0 Bucketed Memorization",
       "rate": null,
       "total": 7,
       "unit": "it",
       "unit_divisor": 1000,
       "unit_scale": false
      },
      "application/vnd.jupyter.widget-view+json": {
       "model_id": "d9ab16342e6449dd99c69b720a7f6415",
       "version_major": 2,
       "version_minor": 0
      },
      "text/plain": [
       "1.3B-top 0 Bucketed Memorization:   0%|          | 0/7 [00:01<?, ?it/s]"
      ]
     },
     "metadata": {},
     "output_type": "display_data"
    },
    {
     "data": {
      "application/json": {
       "ascii": false,
       "bar_format": null,
       "colour": null,
       "elapsed": 1.2084193229675293,
       "initial": 0,
       "n": 0,
       "ncols": null,
       "nrows": null,
       "postfix": null,
       "prefix": "2.7B-top 90 Linear Regression",
       "rate": null,
       "total": 7,
       "unit": "it",
       "unit_divisor": 1000,
       "unit_scale": false
      },
      "application/vnd.jupyter.widget-view+json": {
       "model_id": "fa676f08958e4f22a2f8171730a778c7",
       "version_major": 2,
       "version_minor": 0
      },
      "text/plain": [
       "2.7B-top 90 Linear Regression:   0%|          | 0/7 [00:01<?, ?it/s]"
      ]
     },
     "metadata": {},
     "output_type": "display_data"
    },
    {
     "data": {
      "application/json": {
       "ascii": false,
       "bar_format": null,
       "colour": null,
       "elapsed": 1.2082853317260742,
       "initial": 0,
       "n": 0,
       "ncols": null,
       "nrows": null,
       "postfix": null,
       "prefix": "2.7B-top 99 Linear Regression",
       "rate": null,
       "total": 7,
       "unit": "it",
       "unit_divisor": 1000,
       "unit_scale": false
      },
      "application/vnd.jupyter.widget-view+json": {
       "model_id": "218eb3142bcb445e956c155f56e67024",
       "version_major": 2,
       "version_minor": 0
      },
      "text/plain": [
       "2.7B-top 99 Linear Regression:   0%|          | 0/7 [00:01<?, ?it/s]"
      ]
     },
     "metadata": {},
     "output_type": "display_data"
    },
    {
     "name": "stdout",
     "output_type": "stream",
     "text": [
      " "
     ]
    },
    {
     "data": {
      "application/json": {
       "ascii": false,
       "bar_format": null,
       "colour": null,
       "elapsed": 1.0532770156860352,
       "initial": 0,
       "n": 0,
       "ncols": null,
       "nrows": null,
       "postfix": null,
       "prefix": "1.3B-top 99 Bucketed Memorization",
       "rate": null,
       "total": 7,
       "unit": "it",
       "unit_divisor": 1000,
       "unit_scale": false
      },
      "application/vnd.jupyter.widget-view+json": {
       "model_id": "ef3d110fde9b4d62855e966b50ec43fa",
       "version_major": 2,
       "version_minor": 0
      },
      "text/plain": [
       "1.3B-top 99 Bucketed Memorization:   0%|          | 0/7 [00:01<?, ?it/s]"
      ]
     },
     "metadata": {},
     "output_type": "display_data"
    },
    {
     "name": "stdout",
     "output_type": "stream",
     "text": [
      "  "
     ]
    },
    {
     "data": {
      "application/json": {
       "ascii": false,
       "bar_format": null,
       "colour": null,
       "elapsed": 1.5343494415283203,
       "initial": 0,
       "n": 0,
       "ncols": null,
       "nrows": null,
       "postfix": null,
       "prefix": "1.3B-top 90 Bucketed Memorization",
       "rate": null,
       "total": 7,
       "unit": "it",
       "unit_divisor": 1000,
       "unit_scale": false
      },
      "application/vnd.jupyter.widget-view+json": {
       "model_id": "d44a177b709b40518a222e31e03b5b06",
       "version_major": 2,
       "version_minor": 0
      },
      "text/plain": [
       "1.3B-top 90 Bucketed Memorization:   0%|          | 0/7 [00:01<?, ?it/s]"
      ]
     },
     "metadata": {},
     "output_type": "display_data"
    },
    {
     "name": "stdout",
     "output_type": "stream",
     "text": [
      "      "
     ]
    },
    {
     "data": {
      "application/json": {
       "ascii": false,
       "bar_format": null,
       "colour": null,
       "elapsed": 1.5997238159179688,
       "initial": 0,
       "n": 0,
       "ncols": null,
       "nrows": null,
       "postfix": null,
       "prefix": "1.3B-top 0 Linear Regression",
       "rate": null,
       "total": 7,
       "unit": "it",
       "unit_divisor": 1000,
       "unit_scale": false
      },
      "application/vnd.jupyter.widget-view+json": {
       "model_id": "ab76a786c52b47ef8aeac6299460bedd",
       "version_major": 2,
       "version_minor": 0
      },
      "text/plain": [
       "1.3B-top 0 Linear Regression:   0%|          | 0/7 [00:01<?, ?it/s]"
      ]
     },
     "metadata": {},
     "output_type": "display_data"
    },
    {
     "name": "stdout",
     "output_type": "stream",
     "text": [
      " "
     ]
    },
    {
     "data": {
      "application/json": {
       "ascii": false,
       "bar_format": null,
       "colour": null,
       "elapsed": 2.028836250305176,
       "initial": 0,
       "n": 0,
       "ncols": null,
       "nrows": null,
       "postfix": null,
       "prefix": "1.3B-top 99 Linear Regression",
       "rate": null,
       "total": 7,
       "unit": "it",
       "unit_divisor": 1000,
       "unit_scale": false
      },
      "application/vnd.jupyter.widget-view+json": {
       "model_id": "b17bc3cb82ce4afca3a5c09df71ed6c6",
       "version_major": 2,
       "version_minor": 0
      },
      "text/plain": [
       "1.3B-top 99 Linear Regression:   0%|          | 0/7 [00:02<?, ?it/s]"
      ]
     },
     "metadata": {},
     "output_type": "display_data"
    },
    {
     "name": "stdout",
     "output_type": "stream",
     "text": [
      "          "
     ]
    },
    {
     "data": {
      "application/json": {
       "ascii": false,
       "bar_format": null,
       "colour": null,
       "elapsed": 1.593073844909668,
       "initial": 0,
       "n": 0,
       "ncols": null,
       "nrows": null,
       "postfix": null,
       "prefix": "1.3B_deduped-top 0 Linear Regression",
       "rate": null,
       "total": 7,
       "unit": "it",
       "unit_divisor": 1000,
       "unit_scale": false
      },
      "application/vnd.jupyter.widget-view+json": {
       "model_id": "81ee3ce8ca694245892cf229dde907a6",
       "version_major": 2,
       "version_minor": 0
      },
      "text/plain": [
       "1.3B_deduped-top 0 Linear Regression:   0%|          | 0/7 [00:01<?, ?it/s]"
      ]
     },
     "metadata": {},
     "output_type": "display_data"
    },
    {
     "name": "stdout",
     "output_type": "stream",
     "text": [
      "    "
     ]
    },
    {
     "data": {
      "application/json": {
       "ascii": false,
       "bar_format": null,
       "colour": null,
       "elapsed": 1.3326036930084229,
       "initial": 0,
       "n": 0,
       "ncols": null,
       "nrows": null,
       "postfix": null,
       "prefix": "1.3B_deduped-top 99 Linear Regression",
       "rate": null,
       "total": 7,
       "unit": "it",
       "unit_divisor": 1000,
       "unit_scale": false
      },
      "application/vnd.jupyter.widget-view+json": {
       "model_id": "0663111677e4430ebfc0a5dd954416af",
       "version_major": 2,
       "version_minor": 0
      },
      "text/plain": [
       "1.3B_deduped-top 99 Linear Regression:   0%|          | 0/7 [00:01<?, ?it/s]"
      ]
     },
     "metadata": {},
     "output_type": "display_data"
    },
    {
     "data": {
      "application/json": {
       "ascii": false,
       "bar_format": null,
       "colour": null,
       "elapsed": 1.3332653045654297,
       "initial": 0,
       "n": 0,
       "ncols": null,
       "nrows": null,
       "postfix": null,
       "prefix": "1.3B_deduped-top 0 Bucketed Memorization",
       "rate": null,
       "total": 7,
       "unit": "it",
       "unit_divisor": 1000,
       "unit_scale": false
      },
      "application/vnd.jupyter.widget-view+json": {
       "model_id": "fdb9eb645f2946ecb16813f4e50dc88d",
       "version_major": 2,
       "version_minor": 0
      },
      "text/plain": [
       "1.3B_deduped-top 0 Bucketed Memorization:   0%|          | 0/7 [00:01<?, ?it/s]"
      ]
     },
     "metadata": {},
     "output_type": "display_data"
    },
    {
     "name": "stdout",
     "output_type": "stream",
     "text": [
      "      "
     ]
    },
    {
     "data": {
      "application/json": {
       "ascii": false,
       "bar_format": null,
       "colour": null,
       "elapsed": 1.483884572982788,
       "initial": 0,
       "n": 0,
       "ncols": null,
       "nrows": null,
       "postfix": null,
       "prefix": "1.3B_deduped-top 90 Bucketed Memorization",
       "rate": null,
       "total": 7,
       "unit": "it",
       "unit_divisor": 1000,
       "unit_scale": false
      },
      "application/vnd.jupyter.widget-view+json": {
       "model_id": "d27e35d887284b0c8be8005d4045c88b",
       "version_major": 2,
       "version_minor": 0
      },
      "text/plain": [
       "1.3B_deduped-top 90 Bucketed Memorization:   0%|          | 0/7 [00:01<?, ?it/s]"
      ]
     },
     "metadata": {},
     "output_type": "display_data"
    },
    {
     "name": "stdout",
     "output_type": "stream",
     "text": [
      "   "
     ]
    },
    {
     "data": {
      "application/json": {
       "ascii": false,
       "bar_format": null,
       "colour": null,
       "elapsed": 1.3663432598114014,
       "initial": 0,
       "n": 0,
       "ncols": null,
       "nrows": null,
       "postfix": null,
       "prefix": "800M-top 90 Linear Regression",
       "rate": null,
       "total": 7,
       "unit": "it",
       "unit_divisor": 1000,
       "unit_scale": false
      },
      "application/vnd.jupyter.widget-view+json": {
       "model_id": "d837186ffd984b9d9f57d603879999fc",
       "version_major": 2,
       "version_minor": 0
      },
      "text/plain": [
       "800M-top 90 Linear Regression:   0%|          | 0/7 [00:01<?, ?it/s]"
      ]
     },
     "metadata": {},
     "output_type": "display_data"
    },
    {
     "name": "stdout",
     "output_type": "stream",
     "text": [
      "     "
     ]
    },
    {
     "data": {
      "application/json": {
       "ascii": false,
       "bar_format": null,
       "colour": null,
       "elapsed": 1.207254409790039,
       "initial": 0,
       "n": 0,
       "ncols": null,
       "nrows": null,
       "postfix": null,
       "prefix": "800M_deduped-top 99 Bucketed Memorization",
       "rate": null,
       "total": 7,
       "unit": "it",
       "unit_divisor": 1000,
       "unit_scale": false
      },
      "application/vnd.jupyter.widget-view+json": {
       "model_id": "cdfbc5769f4c430b82b1d1f1c398740e",
       "version_major": 2,
       "version_minor": 0
      },
      "text/plain": [
       "800M_deduped-top 99 Bucketed Memorization:   0%|          | 0/7 [00:01<?, ?it/s]"
      ]
     },
     "metadata": {},
     "output_type": "display_data"
    },
    {
     "data": {
      "application/json": {
       "ascii": false,
       "bar_format": null,
       "colour": null,
       "elapsed": 1.2064685821533203,
       "initial": 0,
       "n": 0,
       "ncols": null,
       "nrows": null,
       "postfix": null,
       "prefix": "1.3B-top 90 Linear Regression",
       "rate": null,
       "total": 7,
       "unit": "it",
       "unit_divisor": 1000,
       "unit_scale": false
      },
      "application/vnd.jupyter.widget-view+json": {
       "model_id": "7b26dd135d5543e0b0e10540bb6a2a1c",
       "version_major": 2,
       "version_minor": 0
      },
      "text/plain": [
       "1.3B-top 90 Linear Regression:   0%|          | 0/7 [00:01<?, ?it/s]"
      ]
     },
     "metadata": {},
     "output_type": "display_data"
    },
    {
     "name": "stdout",
     "output_type": "stream",
     "text": [
      " "
     ]
    },
    {
     "data": {
      "application/json": {
       "ascii": false,
       "bar_format": null,
       "colour": null,
       "elapsed": 0.6606426239013672,
       "initial": 0,
       "n": 0,
       "ncols": null,
       "nrows": null,
       "postfix": null,
       "prefix": "800M_deduped-top 90 Linear Regression",
       "rate": null,
       "total": 7,
       "unit": "it",
       "unit_divisor": 1000,
       "unit_scale": false
      },
      "application/vnd.jupyter.widget-view+json": {
       "model_id": "0a870934e85b491a8ecd39f085dff2d5",
       "version_major": 2,
       "version_minor": 0
      },
      "text/plain": [
       "800M_deduped-top 90 Linear Regression:   0%|          | 0/7 [00:00<?, ?it/s]"
      ]
     },
     "metadata": {},
     "output_type": "display_data"
    },
    {
     "data": {
      "application/json": {
       "ascii": false,
       "bar_format": null,
       "colour": null,
       "elapsed": 0.4334292411804199,
       "initial": 0,
       "n": 0,
       "ncols": null,
       "nrows": null,
       "postfix": null,
       "prefix": "1.3B_deduped-top 90 Linear Regression",
       "rate": null,
       "total": 7,
       "unit": "it",
       "unit_divisor": 1000,
       "unit_scale": false
      },
      "application/vnd.jupyter.widget-view+json": {
       "model_id": "be9ebe43b25c46a6b26ed7b22c54d3b6",
       "version_major": 2,
       "version_minor": 0
      },
      "text/plain": [
       "1.3B_deduped-top 90 Linear Regression:   0%|          | 0/7 [00:00<?, ?it/s]"
      ]
     },
     "metadata": {},
     "output_type": "display_data"
    },
    {
     "data": {
      "application/json": {
       "ascii": false,
       "bar_format": null,
       "colour": null,
       "elapsed": 0.09746408462524414,
       "initial": 0,
       "n": 0,
       "ncols": null,
       "nrows": null,
       "postfix": null,
       "prefix": "800M-top 90 Bucketed Memorization",
       "rate": null,
       "total": 7,
       "unit": "it",
       "unit_divisor": 1000,
       "unit_scale": false
      },
      "application/vnd.jupyter.widget-view+json": {
       "model_id": "2a1a8d5622114f9bb7dc7722e83a5377",
       "version_major": 2,
       "version_minor": 0
      },
      "text/plain": [
       "800M-top 90 Bucketed Memorization:   0%|          | 0/7 [00:00<?, ?it/s]"
      ]
     },
     "metadata": {},
     "output_type": "display_data"
    },
    {
     "data": {
      "application/json": {
       "ascii": false,
       "bar_format": null,
       "colour": null,
       "elapsed": 0.12646913528442383,
       "initial": 0,
       "n": 0,
       "ncols": null,
       "nrows": null,
       "postfix": null,
       "prefix": "800M-top 0 Bucketed Memorization",
       "rate": null,
       "total": 7,
       "unit": "it",
       "unit_divisor": 1000,
       "unit_scale": false
      },
      "application/vnd.jupyter.widget-view+json": {
       "model_id": "6503cf9334b34f9aa15e2ad5327aa2f4",
       "version_major": 2,
       "version_minor": 0
      },
      "text/plain": [
       "800M-top 0 Bucketed Memorization:   0%|          | 0/7 [00:00<?, ?it/s]"
      ]
     },
     "metadata": {},
     "output_type": "display_data"
    },
    {
     "data": {
      "application/json": {
       "ascii": false,
       "bar_format": null,
       "colour": null,
       "elapsed": 0.12679028511047363,
       "initial": 0,
       "n": 0,
       "ncols": null,
       "nrows": null,
       "postfix": null,
       "prefix": "800M-top 99 Bucketed Memorization",
       "rate": null,
       "total": 7,
       "unit": "it",
       "unit_divisor": 1000,
       "unit_scale": false
      },
      "application/vnd.jupyter.widget-view+json": {
       "model_id": "a58d90c1408a405d91cf7914bb362e52",
       "version_major": 2,
       "version_minor": 0
      },
      "text/plain": [
       "800M-top 99 Bucketed Memorization:   0%|          | 0/7 [00:00<?, ?it/s]"
      ]
     },
     "metadata": {},
     "output_type": "display_data"
    },
    {
     "data": {
      "application/json": {
       "ascii": false,
       "bar_format": null,
       "colour": null,
       "elapsed": 0.1141812801361084,
       "initial": 0,
       "n": 0,
       "ncols": null,
       "nrows": null,
       "postfix": null,
       "prefix": "350M-top 90 Linear Regression",
       "rate": null,
       "total": 7,
       "unit": "it",
       "unit_divisor": 1000,
       "unit_scale": false
      },
      "application/vnd.jupyter.widget-view+json": {
       "model_id": "b4dee79f297945f888b8530f9fab0e81",
       "version_major": 2,
       "version_minor": 0
      },
      "text/plain": [
       "350M-top 90 Linear Regression:   0%|          | 0/7 [00:00<?, ?it/s]"
      ]
     },
     "metadata": {},
     "output_type": "display_data"
    },
    {
     "data": {
      "application/json": {
       "ascii": false,
       "bar_format": null,
       "colour": null,
       "elapsed": 0.15146517753601074,
       "initial": 0,
       "n": 0,
       "ncols": null,
       "nrows": null,
       "postfix": null,
       "prefix": "350M_deduped-top 99 Linear Regression",
       "rate": null,
       "total": 7,
       "unit": "it",
       "unit_divisor": 1000,
       "unit_scale": false
      },
      "application/vnd.jupyter.widget-view+json": {
       "model_id": "fc45c39c03744a19b410cf777617fa63",
       "version_major": 2,
       "version_minor": 0
      },
      "text/plain": [
       "350M_deduped-top 99 Linear Regression:   0%|          | 0/7 [00:00<?, ?it/s]"
      ]
     },
     "metadata": {},
     "output_type": "display_data"
    },
    {
     "data": {
      "application/json": {
       "ascii": false,
       "bar_format": null,
       "colour": null,
       "elapsed": 0.18738603591918945,
       "initial": 0,
       "n": 0,
       "ncols": null,
       "nrows": null,
       "postfix": null,
       "prefix": "800M-top 99 Linear Regression",
       "rate": null,
       "total": 7,
       "unit": "it",
       "unit_divisor": 1000,
       "unit_scale": false
      },
      "application/vnd.jupyter.widget-view+json": {
       "model_id": "40be3fc47bd4404fa9dfad8cb5fccd48",
       "version_major": 2,
       "version_minor": 0
      },
      "text/plain": [
       "800M-top 99 Linear Regression:   0%|          | 0/7 [00:00<?, ?it/s]"
      ]
     },
     "metadata": {},
     "output_type": "display_data"
    },
    {
     "data": {
      "application/json": {
       "ascii": false,
       "bar_format": null,
       "colour": null,
       "elapsed": 0.2549610137939453,
       "initial": 0,
       "n": 0,
       "ncols": null,
       "nrows": null,
       "postfix": null,
       "prefix": "800M_deduped-top 0 Bucketed Memorization",
       "rate": null,
       "total": 7,
       "unit": "it",
       "unit_divisor": 1000,
       "unit_scale": false
      },
      "application/vnd.jupyter.widget-view+json": {
       "model_id": "3f0c3f659cf24224ad4cc5b63b878ead",
       "version_major": 2,
       "version_minor": 0
      },
      "text/plain": [
       "800M_deduped-top 0 Bucketed Memorization:   0%|          | 0/7 [00:00<?, ?it/s]"
      ]
     },
     "metadata": {},
     "output_type": "display_data"
    },
    {
     "data": {
      "application/json": {
       "ascii": false,
       "bar_format": null,
       "colour": null,
       "elapsed": 0.2934091091156006,
       "initial": 0,
       "n": 0,
       "ncols": null,
       "nrows": null,
       "postfix": null,
       "prefix": "350M_deduped-top 99 Bucketed Memorization",
       "rate": null,
       "total": 7,
       "unit": "it",
       "unit_divisor": 1000,
       "unit_scale": false
      },
      "application/vnd.jupyter.widget-view+json": {
       "model_id": "029b84518c1b438ba2058b3a97b9d1cd",
       "version_major": 2,
       "version_minor": 0
      },
      "text/plain": [
       "350M_deduped-top 99 Bucketed Memorization:   0%|          | 0/7 [00:00<?, ?it/s]"
      ]
     },
     "metadata": {},
     "output_type": "display_data"
    },
    {
     "data": {
      "application/json": {
       "ascii": false,
       "bar_format": null,
       "colour": null,
       "elapsed": 0.2498457431793213,
       "initial": 0,
       "n": 0,
       "ncols": null,
       "nrows": null,
       "postfix": null,
       "prefix": "125M-top 0 Bucketed Memorization",
       "rate": null,
       "total": 7,
       "unit": "it",
       "unit_divisor": 1000,
       "unit_scale": false
      },
      "application/vnd.jupyter.widget-view+json": {
       "model_id": "288c778fbc6249f2a71213aeab20bca9",
       "version_major": 2,
       "version_minor": 0
      },
      "text/plain": [
       "125M-top 0 Bucketed Memorization:   0%|          | 0/7 [00:00<?, ?it/s]"
      ]
     },
     "metadata": {},
     "output_type": "display_data"
    },
    {
     "data": {
      "application/json": {
       "ascii": false,
       "bar_format": null,
       "colour": null,
       "elapsed": 0.31112098693847656,
       "initial": 0,
       "n": 0,
       "ncols": null,
       "nrows": null,
       "postfix": null,
       "prefix": "800M_deduped-top 90 Bucketed Memorization",
       "rate": null,
       "total": 7,
       "unit": "it",
       "unit_divisor": 1000,
       "unit_scale": false
      },
      "application/vnd.jupyter.widget-view+json": {
       "model_id": "515bb14745ec42b09edc40c25418bfa5",
       "version_major": 2,
       "version_minor": 0
      },
      "text/plain": [
       "800M_deduped-top 90 Bucketed Memorization:   0%|          | 0/7 [00:00<?, ?it/s]"
      ]
     },
     "metadata": {},
     "output_type": "display_data"
    },
    {
     "data": {
      "application/json": {
       "ascii": false,
       "bar_format": null,
       "colour": null,
       "elapsed": 0.2623331546783447,
       "initial": 0,
       "n": 0,
       "ncols": null,
       "nrows": null,
       "postfix": null,
       "prefix": "125M-top 0 Linear Regression",
       "rate": null,
       "total": 7,
       "unit": "it",
       "unit_divisor": 1000,
       "unit_scale": false
      },
      "application/vnd.jupyter.widget-view+json": {
       "model_id": "96227d0e90744dc6881774bc2ac4eeee",
       "version_major": 2,
       "version_minor": 0
      },
      "text/plain": [
       "125M-top 0 Linear Regression:   0%|          | 0/7 [00:00<?, ?it/s]"
      ]
     },
     "metadata": {},
     "output_type": "display_data"
    },
    {
     "data": {
      "application/json": {
       "ascii": false,
       "bar_format": null,
       "colour": null,
       "elapsed": 0.17103075981140137,
       "initial": 0,
       "n": 0,
       "ncols": null,
       "nrows": null,
       "postfix": null,
       "prefix": "350M-top 0 Bucketed Memorization",
       "rate": null,
       "total": 7,
       "unit": "it",
       "unit_divisor": 1000,
       "unit_scale": false
      },
      "application/vnd.jupyter.widget-view+json": {
       "model_id": "639247f55eec4417962e75b3fb534b84",
       "version_major": 2,
       "version_minor": 0
      },
      "text/plain": [
       "350M-top 0 Bucketed Memorization:   0%|          | 0/7 [00:00<?, ?it/s]"
      ]
     },
     "metadata": {},
     "output_type": "display_data"
    },
    {
     "data": {
      "application/json": {
       "ascii": false,
       "bar_format": null,
       "colour": null,
       "elapsed": 0.2999577522277832,
       "initial": 0,
       "n": 0,
       "ncols": null,
       "nrows": null,
       "postfix": null,
       "prefix": "125M-top 99 Linear Regression",
       "rate": null,
       "total": 7,
       "unit": "it",
       "unit_divisor": 1000,
       "unit_scale": false
      },
      "application/vnd.jupyter.widget-view+json": {
       "model_id": "218c9a1fad3d46a8ade3e9f8e4937432",
       "version_major": 2,
       "version_minor": 0
      },
      "text/plain": [
       "125M-top 99 Linear Regression:   0%|          | 0/7 [00:00<?, ?it/s]"
      ]
     },
     "metadata": {},
     "output_type": "display_data"
    },
    {
     "data": {
      "application/json": {
       "ascii": false,
       "bar_format": null,
       "colour": null,
       "elapsed": 0.26662778854370117,
       "initial": 0,
       "n": 0,
       "ncols": null,
       "nrows": null,
       "postfix": null,
       "prefix": "125M_deduped-top 90 Bucketed Memorization",
       "rate": null,
       "total": 7,
       "unit": "it",
       "unit_divisor": 1000,
       "unit_scale": false
      },
      "application/vnd.jupyter.widget-view+json": {
       "model_id": "a15db18c097444dba19057cc740ddb96",
       "version_major": 2,
       "version_minor": 0
      },
      "text/plain": [
       "125M_deduped-top 90 Bucketed Memorization:   0%|          | 0/7 [00:00<?, ?it/s]"
      ]
     },
     "metadata": {},
     "output_type": "display_data"
    },
    {
     "data": {
      "application/json": {
       "ascii": false,
       "bar_format": null,
       "colour": null,
       "elapsed": 0.234177827835083,
       "initial": 0,
       "n": 0,
       "ncols": null,
       "nrows": null,
       "postfix": null,
       "prefix": "350M-top 99 Linear Regression",
       "rate": null,
       "total": 7,
       "unit": "it",
       "unit_divisor": 1000,
       "unit_scale": false
      },
      "application/vnd.jupyter.widget-view+json": {
       "model_id": "2f0b2399bcd3488fac79f02b3a896cfe",
       "version_major": 2,
       "version_minor": 0
      },
      "text/plain": [
       "350M-top 99 Linear Regression:   0%|          | 0/7 [00:00<?, ?it/s]"
      ]
     },
     "metadata": {},
     "output_type": "display_data"
    },
    {
     "data": {
      "application/json": {
       "ascii": false,
       "bar_format": null,
       "colour": null,
       "elapsed": 0.28035402297973633,
       "initial": 0,
       "n": 0,
       "ncols": null,
       "nrows": null,
       "postfix": null,
       "prefix": "350M-top 99 Bucketed Memorization",
       "rate": null,
       "total": 7,
       "unit": "it",
       "unit_divisor": 1000,
       "unit_scale": false
      },
      "application/vnd.jupyter.widget-view+json": {
       "model_id": "9ec39dcb384441adb4f7b2f473cd95cd",
       "version_major": 2,
       "version_minor": 0
      },
      "text/plain": [
       "350M-top 99 Bucketed Memorization:   0%|          | 0/7 [00:00<?, ?it/s]"
      ]
     },
     "metadata": {},
     "output_type": "display_data"
    },
    {
     "data": {
      "application/json": {
       "ascii": false,
       "bar_format": null,
       "colour": null,
       "elapsed": 0.22774815559387207,
       "initial": 0,
       "n": 0,
       "ncols": null,
       "nrows": null,
       "postfix": null,
       "prefix": "350M_deduped-top 90 Bucketed Memorization",
       "rate": null,
       "total": 7,
       "unit": "it",
       "unit_divisor": 1000,
       "unit_scale": false
      },
      "application/vnd.jupyter.widget-view+json": {
       "model_id": "6a2e2cbef2c94bd183d489e5001a43aa",
       "version_major": 2,
       "version_minor": 0
      },
      "text/plain": [
       "350M_deduped-top 90 Bucketed Memorization:   0%|          | 0/7 [00:00<?, ?it/s]"
      ]
     },
     "metadata": {},
     "output_type": "display_data"
    },
    {
     "data": {
      "application/json": {
       "ascii": false,
       "bar_format": null,
       "colour": null,
       "elapsed": 0.230238676071167,
       "initial": 0,
       "n": 0,
       "ncols": null,
       "nrows": null,
       "postfix": null,
       "prefix": "350M_deduped-top 0 Linear Regression",
       "rate": null,
       "total": 7,
       "unit": "it",
       "unit_divisor": 1000,
       "unit_scale": false
      },
      "application/vnd.jupyter.widget-view+json": {
       "model_id": "be6aae3e79654419ab89bafc38e693e7",
       "version_major": 2,
       "version_minor": 0
      },
      "text/plain": [
       "350M_deduped-top 0 Linear Regression:   0%|          | 0/7 [00:00<?, ?it/s]"
      ]
     },
     "metadata": {},
     "output_type": "display_data"
    },
    {
     "data": {
      "application/json": {
       "ascii": false,
       "bar_format": null,
       "colour": null,
       "elapsed": 0.3597545623779297,
       "initial": 0,
       "n": 0,
       "ncols": null,
       "nrows": null,
       "postfix": null,
       "prefix": "125M_deduped-top 0 Linear Regression",
       "rate": null,
       "total": 7,
       "unit": "it",
       "unit_divisor": 1000,
       "unit_scale": false
      },
      "application/vnd.jupyter.widget-view+json": {
       "model_id": "1a0397165f144ea9b9737f594a416246",
       "version_major": 2,
       "version_minor": 0
      },
      "text/plain": [
       "125M_deduped-top 0 Linear Regression:   0%|          | 0/7 [00:00<?, ?it/s]"
      ]
     },
     "metadata": {},
     "output_type": "display_data"
    },
    {
     "data": {
      "application/json": {
       "ascii": false,
       "bar_format": null,
       "colour": null,
       "elapsed": 0.21962857246398926,
       "initial": 0,
       "n": 0,
       "ncols": null,
       "nrows": null,
       "postfix": null,
       "prefix": "125M-top 99 Bucketed Memorization",
       "rate": null,
       "total": 7,
       "unit": "it",
       "unit_divisor": 1000,
       "unit_scale": false
      },
      "application/vnd.jupyter.widget-view+json": {
       "model_id": "701f86e3eeaf471fac13adff5bd6b33c",
       "version_major": 2,
       "version_minor": 0
      },
      "text/plain": [
       "125M-top 99 Bucketed Memorization:   0%|          | 0/7 [00:00<?, ?it/s]"
      ]
     },
     "metadata": {},
     "output_type": "display_data"
    },
    {
     "data": {
      "application/json": {
       "ascii": false,
       "bar_format": null,
       "colour": null,
       "elapsed": 0.24366283416748047,
       "initial": 0,
       "n": 0,
       "ncols": null,
       "nrows": null,
       "postfix": null,
       "prefix": "1.3B_deduped-top 99 Bucketed Memorization",
       "rate": null,
       "total": 7,
       "unit": "it",
       "unit_divisor": 1000,
       "unit_scale": false
      },
      "application/vnd.jupyter.widget-view+json": {
       "model_id": "8a874ae2ee6c456895ccd8de3c9db26a",
       "version_major": 2,
       "version_minor": 0
      },
      "text/plain": [
       "1.3B_deduped-top 99 Bucketed Memorization:   0%|          | 0/7 [00:00<?, ?it/s]"
      ]
     },
     "metadata": {},
     "output_type": "display_data"
    },
    {
     "data": {
      "application/json": {
       "ascii": false,
       "bar_format": null,
       "colour": null,
       "elapsed": 0.2699241638183594,
       "initial": 0,
       "n": 0,
       "ncols": null,
       "nrows": null,
       "postfix": null,
       "prefix": "350M_deduped-top 0 Bucketed Memorization",
       "rate": null,
       "total": 7,
       "unit": "it",
       "unit_divisor": 1000,
       "unit_scale": false
      },
      "application/vnd.jupyter.widget-view+json": {
       "model_id": "48222f0269e34353a8e069ccc80d0977",
       "version_major": 2,
       "version_minor": 0
      },
      "text/plain": [
       "350M_deduped-top 0 Bucketed Memorization:   0%|          | 0/7 [00:00<?, ?it/s]"
      ]
     },
     "metadata": {},
     "output_type": "display_data"
    },
    {
     "data": {
      "application/json": {
       "ascii": false,
       "bar_format": null,
       "colour": null,
       "elapsed": 0.2900514602661133,
       "initial": 0,
       "n": 0,
       "ncols": null,
       "nrows": null,
       "postfix": null,
       "prefix": "800M-top 0 Linear Regression",
       "rate": null,
       "total": 7,
       "unit": "it",
       "unit_divisor": 1000,
       "unit_scale": false
      },
      "application/vnd.jupyter.widget-view+json": {
       "model_id": "5c6a7c4c09ee4e3bbf3bd29d364fdabb",
       "version_major": 2,
       "version_minor": 0
      },
      "text/plain": [
       "800M-top 0 Linear Regression:   0%|          | 0/7 [00:00<?, ?it/s]"
      ]
     },
     "metadata": {},
     "output_type": "display_data"
    },
    {
     "data": {
      "application/json": {
       "ascii": false,
       "bar_format": null,
       "colour": null,
       "elapsed": 0.33275318145751953,
       "initial": 0,
       "n": 0,
       "ncols": null,
       "nrows": null,
       "postfix": null,
       "prefix": "350M_deduped-top 90 Linear Regression",
       "rate": null,
       "total": 7,
       "unit": "it",
       "unit_divisor": 1000,
       "unit_scale": false
      },
      "application/vnd.jupyter.widget-view+json": {
       "model_id": "e7858c84e8ce417fb1222f2ac986b938",
       "version_major": 2,
       "version_minor": 0
      },
      "text/plain": [
       "350M_deduped-top 90 Linear Regression:   0%|          | 0/7 [00:00<?, ?it/s]"
      ]
     },
     "metadata": {},
     "output_type": "display_data"
    },
    {
     "data": {
      "application/json": {
       "ascii": false,
       "bar_format": null,
       "colour": null,
       "elapsed": 0.2494959831237793,
       "initial": 0,
       "n": 0,
       "ncols": null,
       "nrows": null,
       "postfix": null,
       "prefix": "125M-top 90 Linear Regression",
       "rate": null,
       "total": 7,
       "unit": "it",
       "unit_divisor": 1000,
       "unit_scale": false
      },
      "application/vnd.jupyter.widget-view+json": {
       "model_id": "d7b4755e489c4d93b1421c277ec7c970",
       "version_major": 2,
       "version_minor": 0
      },
      "text/plain": [
       "125M-top 90 Linear Regression:   0%|          | 0/7 [00:00<?, ?it/s]"
      ]
     },
     "metadata": {},
     "output_type": "display_data"
    },
    {
     "data": {
      "application/json": {
       "ascii": false,
       "bar_format": null,
       "colour": null,
       "elapsed": 0.2145252227783203,
       "initial": 0,
       "n": 0,
       "ncols": null,
       "nrows": null,
       "postfix": null,
       "prefix": "125M_deduped-top 90 Linear Regression",
       "rate": null,
       "total": 7,
       "unit": "it",
       "unit_divisor": 1000,
       "unit_scale": false
      },
      "application/vnd.jupyter.widget-view+json": {
       "model_id": "a28a974e5de04d48a2682fe97748297b",
       "version_major": 2,
       "version_minor": 0
      },
      "text/plain": [
       "125M_deduped-top 90 Linear Regression:   0%|          | 0/7 [00:00<?, ?it/s]"
      ]
     },
     "metadata": {},
     "output_type": "display_data"
    },
    {
     "data": {
      "application/json": {
       "ascii": false,
       "bar_format": null,
       "colour": null,
       "elapsed": 0.22518086433410645,
       "initial": 0,
       "n": 0,
       "ncols": null,
       "nrows": null,
       "postfix": null,
       "prefix": "350M-top 90 Bucketed Memorization",
       "rate": null,
       "total": 7,
       "unit": "it",
       "unit_divisor": 1000,
       "unit_scale": false
      },
      "application/vnd.jupyter.widget-view+json": {
       "model_id": "162e13e5bce444569e33ded0d83f06e1",
       "version_major": 2,
       "version_minor": 0
      },
      "text/plain": [
       "350M-top 90 Bucketed Memorization:   0%|          | 0/7 [00:00<?, ?it/s]"
      ]
     },
     "metadata": {},
     "output_type": "display_data"
    },
    {
     "data": {
      "application/json": {
       "ascii": false,
       "bar_format": null,
       "colour": null,
       "elapsed": 0.32059407234191895,
       "initial": 0,
       "n": 0,
       "ncols": null,
       "nrows": null,
       "postfix": null,
       "prefix": "800M_deduped-top 0 Linear Regression",
       "rate": null,
       "total": 7,
       "unit": "it",
       "unit_divisor": 1000,
       "unit_scale": false
      },
      "application/vnd.jupyter.widget-view+json": {
       "model_id": "56ce05f3a73c456da03471c5c79890ef",
       "version_major": 2,
       "version_minor": 0
      },
      "text/plain": [
       "800M_deduped-top 0 Linear Regression:   0%|          | 0/7 [00:00<?, ?it/s]"
      ]
     },
     "metadata": {},
     "output_type": "display_data"
    },
    {
     "data": {
      "application/json": {
       "ascii": false,
       "bar_format": null,
       "colour": null,
       "elapsed": 0.34003710746765137,
       "initial": 0,
       "n": 0,
       "ncols": null,
       "nrows": null,
       "postfix": null,
       "prefix": "125M_deduped-top 0 Bucketed Memorization",
       "rate": null,
       "total": 7,
       "unit": "it",
       "unit_divisor": 1000,
       "unit_scale": false
      },
      "application/vnd.jupyter.widget-view+json": {
       "model_id": "036e610965654d0caf7a658d16cd4d73",
       "version_major": 2,
       "version_minor": 0
      },
      "text/plain": [
       "125M_deduped-top 0 Bucketed Memorization:   0%|          | 0/7 [00:00<?, ?it/s]"
      ]
     },
     "metadata": {},
     "output_type": "display_data"
    },
    {
     "data": {
      "application/json": {
       "ascii": false,
       "bar_format": null,
       "colour": null,
       "elapsed": 0.27564263343811035,
       "initial": 0,
       "n": 0,
       "ncols": null,
       "nrows": null,
       "postfix": null,
       "prefix": "125M_deduped-top 99 Linear Regression",
       "rate": null,
       "total": 7,
       "unit": "it",
       "unit_divisor": 1000,
       "unit_scale": false
      },
      "application/vnd.jupyter.widget-view+json": {
       "model_id": "859ddfc9431548c5b89ff19a83ae0b51",
       "version_major": 2,
       "version_minor": 0
      },
      "text/plain": [
       "125M_deduped-top 99 Linear Regression:   0%|          | 0/7 [00:00<?, ?it/s]"
      ]
     },
     "metadata": {},
     "output_type": "display_data"
    },
    {
     "data": {
      "application/json": {
       "ascii": false,
       "bar_format": null,
       "colour": null,
       "elapsed": 0.36881232261657715,
       "initial": 0,
       "n": 0,
       "ncols": null,
       "nrows": null,
       "postfix": null,
       "prefix": "800M_deduped-top 99 Linear Regression",
       "rate": null,
       "total": 7,
       "unit": "it",
       "unit_divisor": 1000,
       "unit_scale": false
      },
      "application/vnd.jupyter.widget-view+json": {
       "model_id": "21d927ec656a46bfa48186035a01ebde",
       "version_major": 2,
       "version_minor": 0
      },
      "text/plain": [
       "800M_deduped-top 99 Linear Regression:   0%|          | 0/7 [00:00<?, ?it/s]"
      ]
     },
     "metadata": {},
     "output_type": "display_data"
    },
    {
     "data": {
      "application/json": {
       "ascii": false,
       "bar_format": null,
       "colour": null,
       "elapsed": 0.33043789863586426,
       "initial": 0,
       "n": 0,
       "ncols": null,
       "nrows": null,
       "postfix": null,
       "prefix": "350M-top 0 Linear Regression",
       "rate": null,
       "total": 7,
       "unit": "it",
       "unit_divisor": 1000,
       "unit_scale": false
      },
      "application/vnd.jupyter.widget-view+json": {
       "model_id": "eadba3559a694ec19bac1e9827e40191",
       "version_major": 2,
       "version_minor": 0
      },
      "text/plain": [
       "350M-top 0 Linear Regression:   0%|          | 0/7 [00:00<?, ?it/s]"
      ]
     },
     "metadata": {},
     "output_type": "display_data"
    },
    {
     "data": {
      "application/json": {
       "ascii": false,
       "bar_format": null,
       "colour": null,
       "elapsed": 0.3058943748474121,
       "initial": 0,
       "n": 0,
       "ncols": null,
       "nrows": null,
       "postfix": null,
       "prefix": "125M-top 90 Bucketed Memorization",
       "rate": null,
       "total": 7,
       "unit": "it",
       "unit_divisor": 1000,
       "unit_scale": false
      },
      "application/vnd.jupyter.widget-view+json": {
       "model_id": "bd3c58776dc7423bb6a46e19998f38a6",
       "version_major": 2,
       "version_minor": 0
      },
      "text/plain": [
       "125M-top 90 Bucketed Memorization:   0%|          | 0/7 [00:00<?, ?it/s]"
      ]
     },
     "metadata": {},
     "output_type": "display_data"
    },
    {
     "data": {
      "application/json": {
       "ascii": false,
       "bar_format": null,
       "colour": null,
       "elapsed": 0.3609952926635742,
       "initial": 0,
       "n": 0,
       "ncols": null,
       "nrows": null,
       "postfix": null,
       "prefix": "125M_deduped-top 99 Bucketed Memorization",
       "rate": null,
       "total": 7,
       "unit": "it",
       "unit_divisor": 1000,
       "unit_scale": false
      },
      "application/vnd.jupyter.widget-view+json": {
       "model_id": "52bc05ab4c0a4fecb290a3536ec0a48e",
       "version_major": 2,
       "version_minor": 0
      },
      "text/plain": [
       "125M_deduped-top 99 Bucketed Memorization:   0%|          | 0/7 [00:00<?, ?it/s]"
      ]
     },
     "metadata": {},
     "output_type": "display_data"
    }
   ],
   "source": [
    "update_params()\n",
    "manager = MPManager()\n",
    "lock = mp.Lock()\n",
    "with open('./results/linear_regression.csv', 'w') as f:\n",
    "    f.write('model,checkpoint,most memorized percentile,slope,variation,% change\\n')\n",
    "for model in models.keys():\n",
    "    manager.add(mp.Process(target=plot_bucketed_scores_of_model, args=(model, models, lock, 0)))\n",
    "    manager.add(mp.Process(target=plot_bucketed_scores_of_model, args=(model, models, lock, 90)))\n",
    "    manager.add(mp.Process(target=plot_bucketed_scores_of_model, args=(model, models, lock, 99)))\n",
    "    manager.add(mp.Process(target=plot_linear_regression_of_model, args=(model, models, lock, 0)))\n",
    "    manager.add(mp.Process(target=plot_linear_regression_of_model, args=(model, models, lock, 99)))\n",
    "    manager.add(mp.Process(target=plot_linear_regression_of_model, args=(model, models, lock, 90)))\n",
    "manager.join()"
   ]
  },
  {
   "cell_type": "code",
   "execution_count": 11,
   "id": "9101f06b",
   "metadata": {},
   "outputs": [
    {
     "data": {
      "text/html": [
       "\n",
       "        <style>\n",
       "            .jupyter-widgets {color: #d5d5d5 !important;}\n",
       "            .widget-label {color: #d5d5d5 !important;}\n",
       "        </style>\n",
       "    "
      ],
      "text/plain": [
       "<IPython.core.display.HTML object>"
      ]
     },
     "metadata": {},
     "output_type": "display_data"
    }
   ],
   "source": [
    "import matplotlib\n",
    "import scipy.signal\n",
    "from itertools import cycle\n",
    "from multiprocessing import Process\n",
    "cycol = cycle(['violet', 'indigo', 'blue', 'green', 'yellow', 'orange', 'red'])\n",
    "\n",
    "\n",
    "def plot_normalized_cross_correlation_of_model(model, checkpoint, models):\n",
    "    '''Wrapper Script to plot Normalized Signal Cross Correlation between two checkpoints of a model\n",
    "    \n",
    "    `model`: Model name\n",
    "    `checkpoint`: Checkpoint of the corresponding model to be correlated from\n",
    "    `evals`: Evaluation results of corresponding model on corresponding checkpoint\n",
    "    `axis`, `color`: Plotting params\n",
    "    '''\n",
    "    # Initialization and beautification\n",
    "    cycol = cycle(['violet', 'indigo', 'blue', 'green', 'yellow', 'orange', 'red'])\n",
    "    fig = matplotlib.figure.Figure()\n",
    "    ax = fig.subplots()\n",
    "    print(\" \", end=\"\", flush=True)\n",
    "    bar = tqdm(\n",
    "        desc=f'{model}-{checkpoint} Cross Correlation',\n",
    "        total=len(models[model][models[model].index(int(checkpoint)):]) - 1\n",
    "    )\n",
    "    one_evals = memorization_results[f'{model}-{checkpoint}']\n",
    "    corr_peaks = {}\n",
    "    \n",
    "    # Iterating through checkpoints\n",
    "    for (model_two, evals) in memorization_results.items():\n",
    "        m, c = model_two.split('-')\n",
    "        if(m != model): continue\n",
    "        if(int(c) <= int(checkpoint)): continue\n",
    "        name, peak = plot_normalized_cross_correlation(\n",
    "            f'{model}-{checkpoint}', one_evals, \n",
    "            model_two, evals,\n",
    "            ax, next(cycol)\n",
    "        )\n",
    "        corr_peaks[name] = peak\n",
    "        bar.update(1)\n",
    "    \n",
    "    # Titling and labeling plot\n",
    "    handles, labels = fig.gca().get_legend_handles_labels()\n",
    "    labels, handles = zip(*sorted(zip(labels, handles), key=lambda t: -corr_peaks[t[0]]))\n",
    "    fig.suptitle(\"Memorization Accuracy Cross Correlation\", fontsize=20)\n",
    "    fig.supxlabel(\"Correlation Lags\", fontsize=20)\n",
    "    fig.supylabel(\"Discrete Linear Normalized Correlation\", fontsize=20)\n",
    "    ax.set_xlim(-1e5, 1e5)\n",
    "    ax.legend(handles, labels, loc='lower right')\n",
    "    \n",
    "    # Saving plot\n",
    "    fig.savefig(f'./plots/{model}-{checkpoint}_normalized_correlation.png', facecolor='white')\n",
    "    bar.close()\n",
    "\n",
    "\n",
    "def normalized_corr(x, y):\n",
    "    '''Performs Normalized Signal Correlation, Defined as:\n",
    "    $$ normalized (f * g)(\\tau) = \\frac{1}{N}\\frac{((f-\\mu_f) * (g - \\mu_g))(\\tau)}{\\sigma_f\\sigma_g} $$\n",
    "    where \n",
    "        a*b(\\tau) is full discrete linear cross-correlation of a and b\n",
    "        \n",
    "    returns Correlation and It's correlation lags\n",
    "    '''\n",
    "    x -= x.mean()\n",
    "    y -= y.mean()\n",
    "    corr = scipy.signal.correlate(x, y)\n",
    "    corr /= (np.sqrt(np.sum(x**2) * np.sum(y**2)))\n",
    "    corr_lags = scipy.signal.correlation_lags(len(x), len(y))\n",
    "    return corr, corr_lags\n",
    "\n",
    "def plot_normalized_cross_correlation(name_one, evals_one, name_two, evals_two, axis, color):\n",
    "    '''Plots Normalized Cross Correlation\n",
    "    \n",
    "    `name_one`, `name_two`: Model names with checkpoints\n",
    "    `eval_one`, `eval_two`: Evaluation Results\n",
    "    `color`: Beautifying parameter\n",
    "    '''\n",
    "    # Extract Data\n",
    "    model_one, checkpoint_one = name_one.split('-')\n",
    "    corr_peaks = {}\n",
    "    model_two, checkpoint_two = name_two.split('-')\n",
    "    x = evals_one['accuracy']\n",
    "    y = evals_two['accuracy'][:len(x)]\n",
    "    \n",
    "    # Perform correlation\n",
    "    corr, corr_lags = normalized_corr(x, y)\n",
    "    \n",
    "    # Plotting\n",
    "    plot_color = next(cycol)\n",
    "    plot_label = f'{model_one}: {checkpoint_one} and {checkpoint_two}'\n",
    "    axis.plot(corr_lags, corr, label = plot_label,color=plot_color)\n",
    "    \n",
    "    # Indicate peaks\n",
    "    corr_peaks[plot_label] = np.max(corr)\n",
    "    axis.plot(corr_lags[np.argmax(corr)], np.max(corr), '_', \n",
    "             markersize=32.0, markeredgewidth=2.0, color=plot_color)\n",
    "    return plot_label, np.max(corr)"
   ]
  },
  {
   "cell_type": "code",
   "execution_count": 12,
   "id": "9c938f91",
   "metadata": {
    "scrolled": false
   },
   "outputs": [
    {
     "data": {
      "text/html": [
       "\n",
       "        <style>\n",
       "            .jupyter-widgets {color: #d5d5d5 !important;}\n",
       "            .widget-label {color: #d5d5d5 !important;}\n",
       "        </style>\n",
       "    "
      ],
      "text/plain": [
       "<IPython.core.display.HTML object>"
      ]
     },
     "metadata": {},
     "output_type": "display_data"
    },
    {
     "name": "stdout",
     "output_type": "stream",
     "text": [
      "       "
     ]
    },
    {
     "data": {
      "application/json": {
       "ascii": false,
       "bar_format": null,
       "colour": null,
       "elapsed": 0.8528485298156738,
       "initial": 0,
       "n": 0,
       "ncols": null,
       "nrows": null,
       "postfix": null,
       "prefix": "13B-23000 Cross Correlation",
       "rate": null,
       "total": 6,
       "unit": "it",
       "unit_divisor": 1000,
       "unit_scale": false
      },
      "application/vnd.jupyter.widget-view+json": {
       "model_id": "e9d0e699e24745b0b4abba8964ca3377",
       "version_major": 2,
       "version_minor": 0
      },
      "text/plain": [
       "13B-23000 Cross Correlation:   0%|          | 0/6 [00:00<?, ?it/s]"
      ]
     },
     "metadata": {},
     "output_type": "display_data"
    },
    {
     "name": "stdout",
     "output_type": "stream",
     "text": [
      "  "
     ]
    },
    {
     "data": {
      "application/json": {
       "ascii": false,
       "bar_format": null,
       "colour": null,
       "elapsed": 0.9939801692962646,
       "initial": 0,
       "n": 0,
       "ncols": null,
       "nrows": null,
       "postfix": null,
       "prefix": "13B-43000 Cross Correlation",
       "rate": null,
       "total": 5,
       "unit": "it",
       "unit_divisor": 1000,
       "unit_scale": false
      },
      "application/vnd.jupyter.widget-view+json": {
       "model_id": "88667d9e72e64877928d6b68c23bdfed",
       "version_major": 2,
       "version_minor": 0
      },
      "text/plain": [
       "13B-43000 Cross Correlation:   0%|          | 0/5 [00:00<?, ?it/s]"
      ]
     },
     "metadata": {},
     "output_type": "display_data"
    },
    {
     "data": {
      "application/json": {
       "ascii": false,
       "bar_format": null,
       "colour": null,
       "elapsed": 0.8546366691589355,
       "initial": 0,
       "n": 0,
       "ncols": null,
       "nrows": null,
       "postfix": null,
       "prefix": "13B-63000 Cross Correlation",
       "rate": null,
       "total": 4,
       "unit": "it",
       "unit_divisor": 1000,
       "unit_scale": false
      },
      "application/vnd.jupyter.widget-view+json": {
       "model_id": "c3a4399a51b0417ca057feae0b92afee",
       "version_major": 2,
       "version_minor": 0
      },
      "text/plain": [
       "13B-63000 Cross Correlation:   0%|          | 0/4 [00:00<?, ?it/s]"
      ]
     },
     "metadata": {},
     "output_type": "display_data"
    },
    {
     "name": "stdout",
     "output_type": "stream",
     "text": [
      "  "
     ]
    },
    {
     "data": {
      "application/json": {
       "ascii": false,
       "bar_format": null,
       "colour": null,
       "elapsed": 0.9993510246276855,
       "initial": 0,
       "n": 0,
       "ncols": null,
       "nrows": null,
       "postfix": null,
       "prefix": "13B-83000 Cross Correlation",
       "rate": null,
       "total": 3,
       "unit": "it",
       "unit_divisor": 1000,
       "unit_scale": false
      },
      "application/vnd.jupyter.widget-view+json": {
       "model_id": "24ec6558dceb4beb8cc6f6447a6f1d83",
       "version_major": 2,
       "version_minor": 0
      },
      "text/plain": [
       "13B-83000 Cross Correlation:   0%|          | 0/3 [00:00<?, ?it/s]"
      ]
     },
     "metadata": {},
     "output_type": "display_data"
    },
    {
     "data": {
      "application/json": {
       "ascii": false,
       "bar_format": null,
       "colour": null,
       "elapsed": 0.8586220741271973,
       "initial": 0,
       "n": 0,
       "ncols": null,
       "nrows": null,
       "postfix": null,
       "prefix": "13B-103000 Cross Correlation",
       "rate": null,
       "total": 2,
       "unit": "it",
       "unit_divisor": 1000,
       "unit_scale": false
      },
      "application/vnd.jupyter.widget-view+json": {
       "model_id": "455ee4c530ef483f8539de47ad7ccdbb",
       "version_major": 2,
       "version_minor": 0
      },
      "text/plain": [
       "13B-103000 Cross Correlation:   0%|          | 0/2 [00:00<?, ?it/s]"
      ]
     },
     "metadata": {},
     "output_type": "display_data"
    },
    {
     "name": "stdout",
     "output_type": "stream",
     "text": [
      "  "
     ]
    },
    {
     "data": {
      "application/json": {
       "ascii": false,
       "bar_format": null,
       "colour": null,
       "elapsed": 1.0196473598480225,
       "initial": 0,
       "n": 0,
       "ncols": null,
       "nrows": null,
       "postfix": null,
       "prefix": "13B-123000 Cross Correlation",
       "rate": null,
       "total": 1,
       "unit": "it",
       "unit_divisor": 1000,
       "unit_scale": false
      },
      "application/vnd.jupyter.widget-view+json": {
       "model_id": "acc8232ffc8a44f4a0083e78aaa4a83d",
       "version_major": 2,
       "version_minor": 0
      },
      "text/plain": [
       "13B-123000 Cross Correlation:   0%|          | 0/1 [00:01<?, ?it/s]"
      ]
     },
     "metadata": {},
     "output_type": "display_data"
    },
    {
     "data": {
      "application/json": {
       "ascii": false,
       "bar_format": null,
       "colour": null,
       "elapsed": 0.8772430419921875,
       "initial": 0,
       "n": 0,
       "ncols": null,
       "nrows": null,
       "postfix": null,
       "prefix": "13B_deduped-23000 Cross Correlation",
       "rate": null,
       "total": 6,
       "unit": "it",
       "unit_divisor": 1000,
       "unit_scale": false
      },
      "application/vnd.jupyter.widget-view+json": {
       "model_id": "e2776839d9a44099a6a1e2a1ff53de85",
       "version_major": 2,
       "version_minor": 0
      },
      "text/plain": [
       "13B_deduped-23000 Cross Correlation:   0%|          | 0/6 [00:00<?, ?it/s]"
      ]
     },
     "metadata": {},
     "output_type": "display_data"
    },
    {
     "name": "stdout",
     "output_type": "stream",
     "text": [
      " "
     ]
    },
    {
     "data": {
      "application/json": {
       "ascii": false,
       "bar_format": null,
       "colour": null,
       "elapsed": 0.8870804309844971,
       "initial": 0,
       "n": 0,
       "ncols": null,
       "nrows": null,
       "postfix": null,
       "prefix": "13B_deduped-43000 Cross Correlation",
       "rate": null,
       "total": 5,
       "unit": "it",
       "unit_divisor": 1000,
       "unit_scale": false
      },
      "application/vnd.jupyter.widget-view+json": {
       "model_id": "718f1a5352714be19cdb5b1dd154e8e1",
       "version_major": 2,
       "version_minor": 0
      },
      "text/plain": [
       "13B_deduped-43000 Cross Correlation:   0%|          | 0/5 [00:00<?, ?it/s]"
      ]
     },
     "metadata": {},
     "output_type": "display_data"
    },
    {
     "data": {
      "application/json": {
       "ascii": false,
       "bar_format": null,
       "colour": null,
       "elapsed": 0.750481367111206,
       "initial": 0,
       "n": 0,
       "ncols": null,
       "nrows": null,
       "postfix": null,
       "prefix": "13B_deduped-63000 Cross Correlation",
       "rate": null,
       "total": 4,
       "unit": "it",
       "unit_divisor": 1000,
       "unit_scale": false
      },
      "application/vnd.jupyter.widget-view+json": {
       "model_id": "0901802c5701434bb7d26433d7925c05",
       "version_major": 2,
       "version_minor": 0
      },
      "text/plain": [
       "13B_deduped-63000 Cross Correlation:   0%|          | 0/4 [00:00<?, ?it/s]"
      ]
     },
     "metadata": {},
     "output_type": "display_data"
    },
    {
     "name": "stdout",
     "output_type": "stream",
     "text": [
      " "
     ]
    },
    {
     "data": {
      "application/json": {
       "ascii": false,
       "bar_format": null,
       "colour": null,
       "elapsed": 0.7732644081115723,
       "initial": 0,
       "n": 0,
       "ncols": null,
       "nrows": null,
       "postfix": null,
       "prefix": "13B_deduped-83000 Cross Correlation",
       "rate": null,
       "total": 3,
       "unit": "it",
       "unit_divisor": 1000,
       "unit_scale": false
      },
      "application/vnd.jupyter.widget-view+json": {
       "model_id": "a88e6b1027504d61b0a9a8e76bcbcd21",
       "version_major": 2,
       "version_minor": 0
      },
      "text/plain": [
       "13B_deduped-83000 Cross Correlation:   0%|          | 0/3 [00:00<?, ?it/s]"
      ]
     },
     "metadata": {},
     "output_type": "display_data"
    },
    {
     "name": "stdout",
     "output_type": "stream",
     "text": [
      " "
     ]
    },
    {
     "data": {
      "application/json": {
       "ascii": false,
       "bar_format": null,
       "colour": null,
       "elapsed": 0.7897191047668457,
       "initial": 0,
       "n": 0,
       "ncols": null,
       "nrows": null,
       "postfix": null,
       "prefix": "13B_deduped-103000 Cross Correlation",
       "rate": null,
       "total": 2,
       "unit": "it",
       "unit_divisor": 1000,
       "unit_scale": false
      },
      "application/vnd.jupyter.widget-view+json": {
       "model_id": "8ab4075274ee486dbd5fb20a5b49413d",
       "version_major": 2,
       "version_minor": 0
      },
      "text/plain": [
       "13B_deduped-103000 Cross Correlation:   0%|          | 0/2 [00:00<?, ?it/s]"
      ]
     },
     "metadata": {},
     "output_type": "display_data"
    },
    {
     "name": "stdout",
     "output_type": "stream",
     "text": [
      " "
     ]
    },
    {
     "data": {
      "application/json": {
       "ascii": false,
       "bar_format": null,
       "colour": null,
       "elapsed": 0.8069436550140381,
       "initial": 0,
       "n": 0,
       "ncols": null,
       "nrows": null,
       "postfix": null,
       "prefix": "13B_deduped-123000 Cross Correlation",
       "rate": null,
       "total": 1,
       "unit": "it",
       "unit_divisor": 1000,
       "unit_scale": false
      },
      "application/vnd.jupyter.widget-view+json": {
       "model_id": "fab40866323b49b1bdde6bd734d57f7a",
       "version_major": 2,
       "version_minor": 0
      },
      "text/plain": [
       "13B_deduped-123000 Cross Correlation:   0%|          | 0/1 [00:00<?, ?it/s]"
      ]
     },
     "metadata": {},
     "output_type": "display_data"
    },
    {
     "name": "stdout",
     "output_type": "stream",
     "text": [
      " "
     ]
    },
    {
     "data": {
      "application/json": {
       "ascii": false,
       "bar_format": null,
       "colour": null,
       "elapsed": 0.8315598964691162,
       "initial": 0,
       "n": 0,
       "ncols": null,
       "nrows": null,
       "postfix": null,
       "prefix": "6.7B-23000 Cross Correlation",
       "rate": null,
       "total": 6,
       "unit": "it",
       "unit_divisor": 1000,
       "unit_scale": false
      },
      "application/vnd.jupyter.widget-view+json": {
       "model_id": "a3288a639c98498b802caaaa64aa4ae5",
       "version_major": 2,
       "version_minor": 0
      },
      "text/plain": [
       "6.7B-23000 Cross Correlation:   0%|          | 0/6 [00:00<?, ?it/s]"
      ]
     },
     "metadata": {},
     "output_type": "display_data"
    },
    {
     "name": "stdout",
     "output_type": "stream",
     "text": [
      " "
     ]
    },
    {
     "data": {
      "application/json": {
       "ascii": false,
       "bar_format": null,
       "colour": null,
       "elapsed": 0.8400511741638184,
       "initial": 0,
       "n": 0,
       "ncols": null,
       "nrows": null,
       "postfix": null,
       "prefix": "6.7B-43000 Cross Correlation",
       "rate": null,
       "total": 5,
       "unit": "it",
       "unit_divisor": 1000,
       "unit_scale": false
      },
      "application/vnd.jupyter.widget-view+json": {
       "model_id": "48828b99b3cf4bd6ab503becff5621cf",
       "version_major": 2,
       "version_minor": 0
      },
      "text/plain": [
       "6.7B-43000 Cross Correlation:   0%|          | 0/5 [00:00<?, ?it/s]"
      ]
     },
     "metadata": {},
     "output_type": "display_data"
    },
    {
     "data": {
      "application/json": {
       "ascii": false,
       "bar_format": null,
       "colour": null,
       "elapsed": 0.6727108955383301,
       "initial": 0,
       "n": 0,
       "ncols": null,
       "nrows": null,
       "postfix": null,
       "prefix": "6.7B-63000 Cross Correlation",
       "rate": null,
       "total": 4,
       "unit": "it",
       "unit_divisor": 1000,
       "unit_scale": false
      },
      "application/vnd.jupyter.widget-view+json": {
       "model_id": "21b0f9892a354578a7ee5188eae5b506",
       "version_major": 2,
       "version_minor": 0
      },
      "text/plain": [
       "6.7B-63000 Cross Correlation:   0%|          | 0/4 [00:00<?, ?it/s]"
      ]
     },
     "metadata": {},
     "output_type": "display_data"
    },
    {
     "name": "stdout",
     "output_type": "stream",
     "text": [
      " "
     ]
    },
    {
     "data": {
      "application/json": {
       "ascii": false,
       "bar_format": null,
       "colour": null,
       "elapsed": 0.6840002536773682,
       "initial": 0,
       "n": 0,
       "ncols": null,
       "nrows": null,
       "postfix": null,
       "prefix": "6.7B-83000 Cross Correlation",
       "rate": null,
       "total": 3,
       "unit": "it",
       "unit_divisor": 1000,
       "unit_scale": false
      },
      "application/vnd.jupyter.widget-view+json": {
       "model_id": "4182692d44b345079d72bb6d67267fef",
       "version_major": 2,
       "version_minor": 0
      },
      "text/plain": [
       "6.7B-83000 Cross Correlation:   0%|          | 0/3 [00:00<?, ?it/s]"
      ]
     },
     "metadata": {},
     "output_type": "display_data"
    },
    {
     "name": "stdout",
     "output_type": "stream",
     "text": [
      "  "
     ]
    },
    {
     "data": {
      "application/json": {
       "ascii": false,
       "bar_format": null,
       "colour": null,
       "elapsed": 0.8780858516693115,
       "initial": 0,
       "n": 0,
       "ncols": null,
       "nrows": null,
       "postfix": null,
       "prefix": "6.7B-103000 Cross Correlation",
       "rate": null,
       "total": 2,
       "unit": "it",
       "unit_divisor": 1000,
       "unit_scale": false
      },
      "application/vnd.jupyter.widget-view+json": {
       "model_id": "5e8ca997196e4d3b84dbc00b219e9f2d",
       "version_major": 2,
       "version_minor": 0
      },
      "text/plain": [
       "6.7B-103000 Cross Correlation:   0%|          | 0/2 [00:00<?, ?it/s]"
      ]
     },
     "metadata": {},
     "output_type": "display_data"
    },
    {
     "name": "stdout",
     "output_type": "stream",
     "text": [
      " "
     ]
    },
    {
     "data": {
      "application/json": {
       "ascii": false,
       "bar_format": null,
       "colour": null,
       "elapsed": 0.8928849697113037,
       "initial": 0,
       "n": 0,
       "ncols": null,
       "nrows": null,
       "postfix": null,
       "prefix": "6.7B-123000 Cross Correlation",
       "rate": null,
       "total": 1,
       "unit": "it",
       "unit_divisor": 1000,
       "unit_scale": false
      },
      "application/vnd.jupyter.widget-view+json": {
       "model_id": "855e01df23a144bebaed58ec691ef623",
       "version_major": 2,
       "version_minor": 0
      },
      "text/plain": [
       "6.7B-123000 Cross Correlation:   0%|          | 0/1 [00:00<?, ?it/s]"
      ]
     },
     "metadata": {},
     "output_type": "display_data"
    },
    {
     "name": "stdout",
     "output_type": "stream",
     "text": [
      " "
     ]
    },
    {
     "data": {
      "application/json": {
       "ascii": false,
       "bar_format": null,
       "colour": null,
       "elapsed": 0.9289193153381348,
       "initial": 0,
       "n": 0,
       "ncols": null,
       "nrows": null,
       "postfix": null,
       "prefix": "6.7B_deduped-23000 Cross Correlation",
       "rate": null,
       "total": 6,
       "unit": "it",
       "unit_divisor": 1000,
       "unit_scale": false
      },
      "application/vnd.jupyter.widget-view+json": {
       "model_id": "d00349600593421bb9f66ef0e07cb991",
       "version_major": 2,
       "version_minor": 0
      },
      "text/plain": [
       "6.7B_deduped-23000 Cross Correlation:   0%|          | 0/6 [00:00<?, ?it/s]"
      ]
     },
     "metadata": {},
     "output_type": "display_data"
    },
    {
     "data": {
      "application/json": {
       "ascii": false,
       "bar_format": null,
       "colour": null,
       "elapsed": 0.7572486400604248,
       "initial": 0,
       "n": 0,
       "ncols": null,
       "nrows": null,
       "postfix": null,
       "prefix": "6.7B_deduped-43000 Cross Correlation",
       "rate": null,
       "total": 5,
       "unit": "it",
       "unit_divisor": 1000,
       "unit_scale": false
      },
      "application/vnd.jupyter.widget-view+json": {
       "model_id": "f9516d1f4acf4a3281c4ee6860d32baf",
       "version_major": 2,
       "version_minor": 0
      },
      "text/plain": [
       "6.7B_deduped-43000 Cross Correlation:   0%|          | 0/5 [00:00<?, ?it/s]"
      ]
     },
     "metadata": {},
     "output_type": "display_data"
    },
    {
     "name": "stdout",
     "output_type": "stream",
     "text": [
      " "
     ]
    },
    {
     "data": {
      "application/json": {
       "ascii": false,
       "bar_format": null,
       "colour": null,
       "elapsed": 0.760115385055542,
       "initial": 0,
       "n": 0,
       "ncols": null,
       "nrows": null,
       "postfix": null,
       "prefix": "6.7B_deduped-63000 Cross Correlation",
       "rate": null,
       "total": 4,
       "unit": "it",
       "unit_divisor": 1000,
       "unit_scale": false
      },
      "application/vnd.jupyter.widget-view+json": {
       "model_id": "2a2adc179a454b34ab92c53c386db8ae",
       "version_major": 2,
       "version_minor": 0
      },
      "text/plain": [
       "6.7B_deduped-63000 Cross Correlation:   0%|          | 0/4 [00:00<?, ?it/s]"
      ]
     },
     "metadata": {},
     "output_type": "display_data"
    },
    {
     "name": "stdout",
     "output_type": "stream",
     "text": [
      " "
     ]
    },
    {
     "data": {
      "application/json": {
       "ascii": false,
       "bar_format": null,
       "colour": null,
       "elapsed": 0.7780032157897949,
       "initial": 0,
       "n": 0,
       "ncols": null,
       "nrows": null,
       "postfix": null,
       "prefix": "6.7B_deduped-83000 Cross Correlation",
       "rate": null,
       "total": 3,
       "unit": "it",
       "unit_divisor": 1000,
       "unit_scale": false
      },
      "application/vnd.jupyter.widget-view+json": {
       "model_id": "ef997e0e060847439612f5ec9ab1a836",
       "version_major": 2,
       "version_minor": 0
      },
      "text/plain": [
       "6.7B_deduped-83000 Cross Correlation:   0%|          | 0/3 [00:00<?, ?it/s]"
      ]
     },
     "metadata": {},
     "output_type": "display_data"
    },
    {
     "name": "stdout",
     "output_type": "stream",
     "text": [
      " "
     ]
    },
    {
     "data": {
      "application/json": {
       "ascii": false,
       "bar_format": null,
       "colour": null,
       "elapsed": 0.7763428688049316,
       "initial": 0,
       "n": 0,
       "ncols": null,
       "nrows": null,
       "postfix": null,
       "prefix": "6.7B_deduped-103000 Cross Correlation",
       "rate": null,
       "total": 2,
       "unit": "it",
       "unit_divisor": 1000,
       "unit_scale": false
      },
      "application/vnd.jupyter.widget-view+json": {
       "model_id": "ec041ca495fa40b692a02a86398bfd9b",
       "version_major": 2,
       "version_minor": 0
      },
      "text/plain": [
       "6.7B_deduped-103000 Cross Correlation:   0%|          | 0/2 [00:00<?, ?it/s]"
      ]
     },
     "metadata": {},
     "output_type": "display_data"
    },
    {
     "name": "stdout",
     "output_type": "stream",
     "text": [
      " "
     ]
    },
    {
     "data": {
      "application/json": {
       "ascii": false,
       "bar_format": null,
       "colour": null,
       "elapsed": 0.8054726123809814,
       "initial": 0,
       "n": 0,
       "ncols": null,
       "nrows": null,
       "postfix": null,
       "prefix": "6.7B_deduped-123000 Cross Correlation",
       "rate": null,
       "total": 1,
       "unit": "it",
       "unit_divisor": 1000,
       "unit_scale": false
      },
      "application/vnd.jupyter.widget-view+json": {
       "model_id": "b6c347f9192d4e769799cfa8d74b646f",
       "version_major": 2,
       "version_minor": 0
      },
      "text/plain": [
       "6.7B_deduped-123000 Cross Correlation:   0%|          | 0/1 [00:00<?, ?it/s]"
      ]
     },
     "metadata": {},
     "output_type": "display_data"
    },
    {
     "name": "stdout",
     "output_type": "stream",
     "text": [
      " "
     ]
    },
    {
     "data": {
      "application/json": {
       "ascii": false,
       "bar_format": null,
       "colour": null,
       "elapsed": 0.8364648818969727,
       "initial": 0,
       "n": 0,
       "ncols": null,
       "nrows": null,
       "postfix": null,
       "prefix": "2.7B-23000 Cross Correlation",
       "rate": null,
       "total": 6,
       "unit": "it",
       "unit_divisor": 1000,
       "unit_scale": false
      },
      "application/vnd.jupyter.widget-view+json": {
       "model_id": "b99957580e2d4a80b60843d1dcf69f1e",
       "version_major": 2,
       "version_minor": 0
      },
      "text/plain": [
       "2.7B-23000 Cross Correlation:   0%|          | 0/6 [00:00<?, ?it/s]"
      ]
     },
     "metadata": {},
     "output_type": "display_data"
    },
    {
     "name": "stdout",
     "output_type": "stream",
     "text": [
      " "
     ]
    },
    {
     "data": {
      "application/json": {
       "ascii": false,
       "bar_format": null,
       "colour": null,
       "elapsed": 0.6384468078613281,
       "initial": 0,
       "n": 0,
       "ncols": null,
       "nrows": null,
       "postfix": null,
       "prefix": "2.7B-43000 Cross Correlation",
       "rate": null,
       "total": 5,
       "unit": "it",
       "unit_divisor": 1000,
       "unit_scale": false
      },
      "application/vnd.jupyter.widget-view+json": {
       "model_id": "06caf044e6794b6ba7c041f2bef24908",
       "version_major": 2,
       "version_minor": 0
      },
      "text/plain": [
       "2.7B-43000 Cross Correlation:   0%|          | 0/5 [00:00<?, ?it/s]"
      ]
     },
     "metadata": {},
     "output_type": "display_data"
    },
    {
     "data": {
      "application/json": {
       "ascii": false,
       "bar_format": null,
       "colour": null,
       "elapsed": 0.6772439479827881,
       "initial": 0,
       "n": 0,
       "ncols": null,
       "nrows": null,
       "postfix": null,
       "prefix": "2.7B-63000 Cross Correlation",
       "rate": null,
       "total": 4,
       "unit": "it",
       "unit_divisor": 1000,
       "unit_scale": false
      },
      "application/vnd.jupyter.widget-view+json": {
       "model_id": "c943d24398684fb791d5af0846a34d1c",
       "version_major": 2,
       "version_minor": 0
      },
      "text/plain": [
       "2.7B-63000 Cross Correlation:   0%|          | 0/4 [00:00<?, ?it/s]"
      ]
     },
     "metadata": {},
     "output_type": "display_data"
    },
    {
     "name": "stdout",
     "output_type": "stream",
     "text": [
      " "
     ]
    },
    {
     "data": {
      "application/json": {
       "ascii": false,
       "bar_format": null,
       "colour": null,
       "elapsed": 0.8959956169128418,
       "initial": 0,
       "n": 0,
       "ncols": null,
       "nrows": null,
       "postfix": null,
       "prefix": "2.7B-83000 Cross Correlation",
       "rate": null,
       "total": 3,
       "unit": "it",
       "unit_divisor": 1000,
       "unit_scale": false
      },
      "application/vnd.jupyter.widget-view+json": {
       "model_id": "5ad6da186b8f4390855201f292de2661",
       "version_major": 2,
       "version_minor": 0
      },
      "text/plain": [
       "2.7B-83000 Cross Correlation:   0%|          | 0/3 [00:00<?, ?it/s]"
      ]
     },
     "metadata": {},
     "output_type": "display_data"
    },
    {
     "name": "stdout",
     "output_type": "stream",
     "text": [
      "   "
     ]
    },
    {
     "data": {
      "application/json": {
       "ascii": false,
       "bar_format": null,
       "colour": null,
       "elapsed": 1.1377816200256348,
       "initial": 0,
       "n": 0,
       "ncols": null,
       "nrows": null,
       "postfix": null,
       "prefix": "2.7B-103000 Cross Correlation",
       "rate": null,
       "total": 2,
       "unit": "it",
       "unit_divisor": 1000,
       "unit_scale": false
      },
      "application/vnd.jupyter.widget-view+json": {
       "model_id": "9693d2638c694de69bc59a54a4df1c66",
       "version_major": 2,
       "version_minor": 0
      },
      "text/plain": [
       "2.7B-103000 Cross Correlation:   0%|          | 0/2 [00:01<?, ?it/s]"
      ]
     },
     "metadata": {},
     "output_type": "display_data"
    },
    {
     "name": "stdout",
     "output_type": "stream",
     "text": [
      " "
     ]
    },
    {
     "data": {
      "application/json": {
       "ascii": false,
       "bar_format": null,
       "colour": null,
       "elapsed": 1.1434049606323242,
       "initial": 0,
       "n": 0,
       "ncols": null,
       "nrows": null,
       "postfix": null,
       "prefix": "2.7B-123000 Cross Correlation",
       "rate": null,
       "total": 1,
       "unit": "it",
       "unit_divisor": 1000,
       "unit_scale": false
      },
      "application/vnd.jupyter.widget-view+json": {
       "model_id": "800d6d3ef6c043debe3ba4fc22010717",
       "version_major": 2,
       "version_minor": 0
      },
      "text/plain": [
       "2.7B-123000 Cross Correlation:   0%|          | 0/1 [00:01<?, ?it/s]"
      ]
     },
     "metadata": {},
     "output_type": "display_data"
    },
    {
     "name": "stdout",
     "output_type": "stream",
     "text": [
      " "
     ]
    },
    {
     "data": {
      "application/json": {
       "ascii": false,
       "bar_format": null,
       "colour": null,
       "elapsed": 1.1438329219818115,
       "initial": 0,
       "n": 0,
       "ncols": null,
       "nrows": null,
       "postfix": null,
       "prefix": "1.3B-11500 Cross Correlation",
       "rate": null,
       "total": 6,
       "unit": "it",
       "unit_divisor": 1000,
       "unit_scale": false
      },
      "application/vnd.jupyter.widget-view+json": {
       "model_id": "9f7855f30f23478fab1315836ed73211",
       "version_major": 2,
       "version_minor": 0
      },
      "text/plain": [
       "1.3B-11500 Cross Correlation:   0%|          | 0/6 [00:01<?, ?it/s]"
      ]
     },
     "metadata": {},
     "output_type": "display_data"
    },
    {
     "name": "stdout",
     "output_type": "stream",
     "text": [
      "    "
     ]
    },
    {
     "data": {
      "application/json": {
       "ascii": false,
       "bar_format": null,
       "colour": null,
       "elapsed": 1.5815637111663818,
       "initial": 0,
       "n": 0,
       "ncols": null,
       "nrows": null,
       "postfix": null,
       "prefix": "1.3B-21500 Cross Correlation",
       "rate": null,
       "total": 5,
       "unit": "it",
       "unit_divisor": 1000,
       "unit_scale": false
      },
      "application/vnd.jupyter.widget-view+json": {
       "model_id": "a6db83e00ccf4af7a16cb02059befd99",
       "version_major": 2,
       "version_minor": 0
      },
      "text/plain": [
       "1.3B-21500 Cross Correlation:   0%|          | 0/5 [00:01<?, ?it/s]"
      ]
     },
     "metadata": {},
     "output_type": "display_data"
    },
    {
     "name": "stdout",
     "output_type": "stream",
     "text": [
      " "
     ]
    },
    {
     "data": {
      "application/json": {
       "ascii": false,
       "bar_format": null,
       "colour": null,
       "elapsed": 1.588965892791748,
       "initial": 0,
       "n": 0,
       "ncols": null,
       "nrows": null,
       "postfix": null,
       "prefix": "1.3B-31500 Cross Correlation",
       "rate": null,
       "total": 4,
       "unit": "it",
       "unit_divisor": 1000,
       "unit_scale": false
      },
      "application/vnd.jupyter.widget-view+json": {
       "model_id": "c62da03465754d8f9cc424fe7c837482",
       "version_major": 2,
       "version_minor": 0
      },
      "text/plain": [
       "1.3B-31500 Cross Correlation:   0%|          | 0/4 [00:01<?, ?it/s]"
      ]
     },
     "metadata": {},
     "output_type": "display_data"
    },
    {
     "data": {
      "application/json": {
       "ascii": false,
       "bar_format": null,
       "colour": null,
       "elapsed": 1.3674583435058594,
       "initial": 0,
       "n": 0,
       "ncols": null,
       "nrows": null,
       "postfix": null,
       "prefix": "1.3B-41500 Cross Correlation",
       "rate": null,
       "total": 3,
       "unit": "it",
       "unit_divisor": 1000,
       "unit_scale": false
      },
      "application/vnd.jupyter.widget-view+json": {
       "model_id": "b8084113998a4e489bf3e7768f83e57a",
       "version_major": 2,
       "version_minor": 0
      },
      "text/plain": [
       "1.3B-41500 Cross Correlation:   0%|          | 0/3 [00:01<?, ?it/s]"
      ]
     },
     "metadata": {},
     "output_type": "display_data"
    },
    {
     "data": {
      "application/json": {
       "ascii": false,
       "bar_format": null,
       "colour": null,
       "elapsed": 1.3646061420440674,
       "initial": 0,
       "n": 0,
       "ncols": null,
       "nrows": null,
       "postfix": null,
       "prefix": "1.3B-51500 Cross Correlation",
       "rate": null,
       "total": 2,
       "unit": "it",
       "unit_divisor": 1000,
       "unit_scale": false
      },
      "application/vnd.jupyter.widget-view+json": {
       "model_id": "751f3c5fb109432a844fa9b1365e852f",
       "version_major": 2,
       "version_minor": 0
      },
      "text/plain": [
       "1.3B-51500 Cross Correlation:   0%|          | 0/2 [00:01<?, ?it/s]"
      ]
     },
     "metadata": {},
     "output_type": "display_data"
    },
    {
     "data": {
      "application/json": {
       "ascii": false,
       "bar_format": null,
       "colour": null,
       "elapsed": 1.1515166759490967,
       "initial": 0,
       "n": 0,
       "ncols": null,
       "nrows": null,
       "postfix": null,
       "prefix": "1.3B-61500 Cross Correlation",
       "rate": null,
       "total": 1,
       "unit": "it",
       "unit_divisor": 1000,
       "unit_scale": false
      },
      "application/vnd.jupyter.widget-view+json": {
       "model_id": "7d7c6a5cedd946d78872755b726d0de8",
       "version_major": 2,
       "version_minor": 0
      },
      "text/plain": [
       "1.3B-61500 Cross Correlation:   0%|          | 0/1 [00:01<?, ?it/s]"
      ]
     },
     "metadata": {},
     "output_type": "display_data"
    },
    {
     "name": "stdout",
     "output_type": "stream",
     "text": [
      "   "
     ]
    },
    {
     "data": {
      "application/json": {
       "ascii": false,
       "bar_format": null,
       "colour": null,
       "elapsed": 1.2495830059051514,
       "initial": 0,
       "n": 0,
       "ncols": null,
       "nrows": null,
       "postfix": null,
       "prefix": "1.3B_deduped-21500 Cross Correlation",
       "rate": null,
       "total": 5,
       "unit": "it",
       "unit_divisor": 1000,
       "unit_scale": false
      },
      "application/vnd.jupyter.widget-view+json": {
       "model_id": "3e089426f21945e4a8d871f58985be82",
       "version_major": 2,
       "version_minor": 0
      },
      "text/plain": [
       "1.3B_deduped-21500 Cross Correlation:   0%|          | 0/5 [00:01<?, ?it/s]"
      ]
     },
     "metadata": {},
     "output_type": "display_data"
    },
    {
     "name": "stdout",
     "output_type": "stream",
     "text": [
      " "
     ]
    },
    {
     "data": {
      "application/json": {
       "ascii": false,
       "bar_format": null,
       "colour": null,
       "elapsed": 1.515615463256836,
       "initial": 0,
       "n": 0,
       "ncols": null,
       "nrows": null,
       "postfix": null,
       "prefix": "1.3B_deduped-31500 Cross Correlation",
       "rate": null,
       "total": 4,
       "unit": "it",
       "unit_divisor": 1000,
       "unit_scale": false
      },
      "application/vnd.jupyter.widget-view+json": {
       "model_id": "7c37b8c7b4d3467593362eec6ec33bd8",
       "version_major": 2,
       "version_minor": 0
      },
      "text/plain": [
       "1.3B_deduped-31500 Cross Correlation:   0%|          | 0/4 [00:01<?, ?it/s]"
      ]
     },
     "metadata": {},
     "output_type": "display_data"
    },
    {
     "name": "stdout",
     "output_type": "stream",
     "text": [
      " "
     ]
    },
    {
     "data": {
      "application/json": {
       "ascii": false,
       "bar_format": null,
       "colour": null,
       "elapsed": 1.324721097946167,
       "initial": 0,
       "n": 0,
       "ncols": null,
       "nrows": null,
       "postfix": null,
       "prefix": "1.3B_deduped-51500 Cross Correlation",
       "rate": null,
       "total": 2,
       "unit": "it",
       "unit_divisor": 1000,
       "unit_scale": false
      },
      "application/vnd.jupyter.widget-view+json": {
       "model_id": "9f5e158219ce4457a60a90a0456dbd03",
       "version_major": 2,
       "version_minor": 0
      },
      "text/plain": [
       "1.3B_deduped-51500 Cross Correlation:   0%|          | 0/2 [00:01<?, ?it/s]"
      ]
     },
     "metadata": {},
     "output_type": "display_data"
    },
    {
     "data": {
      "application/json": {
       "ascii": false,
       "bar_format": null,
       "colour": null,
       "elapsed": 2.239218235015869,
       "initial": 0,
       "n": 0,
       "ncols": null,
       "nrows": null,
       "postfix": null,
       "prefix": "1.3B_deduped-11500 Cross Correlation",
       "rate": null,
       "total": 6,
       "unit": "it",
       "unit_divisor": 1000,
       "unit_scale": false
      },
      "application/vnd.jupyter.widget-view+json": {
       "model_id": "735bbc0c2ea147b2a8ad6c3f61bb9109",
       "version_major": 2,
       "version_minor": 0
      },
      "text/plain": [
       "1.3B_deduped-11500 Cross Correlation:   0%|          | 0/6 [00:02<?, ?it/s]"
      ]
     },
     "metadata": {},
     "output_type": "display_data"
    },
    {
     "name": "stdout",
     "output_type": "stream",
     "text": [
      " "
     ]
    },
    {
     "data": {
      "application/json": {
       "ascii": false,
       "bar_format": null,
       "colour": null,
       "elapsed": 1.8228802680969238,
       "initial": 0,
       "n": 0,
       "ncols": null,
       "nrows": null,
       "postfix": null,
       "prefix": "1.3B_deduped-41500 Cross Correlation",
       "rate": null,
       "total": 3,
       "unit": "it",
       "unit_divisor": 1000,
       "unit_scale": false
      },
      "application/vnd.jupyter.widget-view+json": {
       "model_id": "4b0ae4655b50470591ebce8ac6ecc1bb",
       "version_major": 2,
       "version_minor": 0
      },
      "text/plain": [
       "1.3B_deduped-41500 Cross Correlation:   0%|          | 0/3 [00:01<?, ?it/s]"
      ]
     },
     "metadata": {},
     "output_type": "display_data"
    },
    {
     "name": "stdout",
     "output_type": "stream",
     "text": [
      " "
     ]
    },
    {
     "data": {
      "application/json": {
       "ascii": false,
       "bar_format": null,
       "colour": null,
       "elapsed": 1.1626935005187988,
       "initial": 0,
       "n": 0,
       "ncols": null,
       "nrows": null,
       "postfix": null,
       "prefix": "800M-23000 Cross Correlation",
       "rate": null,
       "total": 6,
       "unit": "it",
       "unit_divisor": 1000,
       "unit_scale": false
      },
      "application/vnd.jupyter.widget-view+json": {
       "model_id": "1633bc5e27e6455bb3f859e18ff6aa4c",
       "version_major": 2,
       "version_minor": 0
      },
      "text/plain": [
       "800M-23000 Cross Correlation:   0%|          | 0/6 [00:01<?, ?it/s]"
      ]
     },
     "metadata": {},
     "output_type": "display_data"
    },
    {
     "data": {
      "application/json": {
       "ascii": false,
       "bar_format": null,
       "colour": null,
       "elapsed": 1.4589183330535889,
       "initial": 0,
       "n": 0,
       "ncols": null,
       "nrows": null,
       "postfix": null,
       "prefix": "1.3B_deduped-61500 Cross Correlation",
       "rate": null,
       "total": 1,
       "unit": "it",
       "unit_divisor": 1000,
       "unit_scale": false
      },
      "application/vnd.jupyter.widget-view+json": {
       "model_id": "226e29c116b4452797ddfd4df988486c",
       "version_major": 2,
       "version_minor": 0
      },
      "text/plain": [
       "1.3B_deduped-61500 Cross Correlation:   0%|          | 0/1 [00:01<?, ?it/s]"
      ]
     },
     "metadata": {},
     "output_type": "display_data"
    },
    {
     "data": {
      "application/json": {
       "ascii": false,
       "bar_format": null,
       "colour": null,
       "elapsed": 0.6538586616516113,
       "initial": 0,
       "n": 0,
       "ncols": null,
       "nrows": null,
       "postfix": null,
       "prefix": "800M-63000 Cross Correlation",
       "rate": null,
       "total": 4,
       "unit": "it",
       "unit_divisor": 1000,
       "unit_scale": false
      },
      "application/vnd.jupyter.widget-view+json": {
       "model_id": "c3c85b894ee6440ebda703b0b7bfa3a8",
       "version_major": 2,
       "version_minor": 0
      },
      "text/plain": [
       "800M-63000 Cross Correlation:   0%|          | 0/4 [00:00<?, ?it/s]"
      ]
     },
     "metadata": {},
     "output_type": "display_data"
    },
    {
     "data": {
      "application/json": {
       "ascii": false,
       "bar_format": null,
       "colour": null,
       "elapsed": 0.9330503940582275,
       "initial": 0,
       "n": 0,
       "ncols": null,
       "nrows": null,
       "postfix": null,
       "prefix": "800M-43000 Cross Correlation",
       "rate": null,
       "total": 5,
       "unit": "it",
       "unit_divisor": 1000,
       "unit_scale": false
      },
      "application/vnd.jupyter.widget-view+json": {
       "model_id": "7a181ed539744742b8a11177f3945c62",
       "version_major": 2,
       "version_minor": 0
      },
      "text/plain": [
       "800M-43000 Cross Correlation:   0%|          | 0/5 [00:00<?, ?it/s]"
      ]
     },
     "metadata": {},
     "output_type": "display_data"
    },
    {
     "data": {
      "application/json": {
       "ascii": false,
       "bar_format": null,
       "colour": null,
       "elapsed": 0.1397082805633545,
       "initial": 0,
       "n": 0,
       "ncols": null,
       "nrows": null,
       "postfix": null,
       "prefix": "800M-103000 Cross Correlation",
       "rate": null,
       "total": 2,
       "unit": "it",
       "unit_divisor": 1000,
       "unit_scale": false
      },
      "application/vnd.jupyter.widget-view+json": {
       "model_id": "bae17af7422f48a3a385c2cfec1c7d13",
       "version_major": 2,
       "version_minor": 0
      },
      "text/plain": [
       "800M-103000 Cross Correlation:   0%|          | 0/2 [00:00<?, ?it/s]"
      ]
     },
     "metadata": {},
     "output_type": "display_data"
    },
    {
     "data": {
      "application/json": {
       "ascii": false,
       "bar_format": null,
       "colour": null,
       "elapsed": 0.47179198265075684,
       "initial": 0,
       "n": 0,
       "ncols": null,
       "nrows": null,
       "postfix": null,
       "prefix": "800M-83000 Cross Correlation",
       "rate": null,
       "total": 3,
       "unit": "it",
       "unit_divisor": 1000,
       "unit_scale": false
      },
      "application/vnd.jupyter.widget-view+json": {
       "model_id": "ad278a347c9142c1a6532d9cbfb20c99",
       "version_major": 2,
       "version_minor": 0
      },
      "text/plain": [
       "800M-83000 Cross Correlation:   0%|          | 0/3 [00:00<?, ?it/s]"
      ]
     },
     "metadata": {},
     "output_type": "display_data"
    },
    {
     "data": {
      "application/json": {
       "ascii": false,
       "bar_format": null,
       "colour": null,
       "elapsed": 0.20023822784423828,
       "initial": 0,
       "n": 0,
       "ncols": null,
       "nrows": null,
       "postfix": null,
       "prefix": "800M-123000 Cross Correlation",
       "rate": null,
       "total": 1,
       "unit": "it",
       "unit_divisor": 1000,
       "unit_scale": false
      },
      "application/vnd.jupyter.widget-view+json": {
       "model_id": "b35ebd45c9ad4446bee7b934acf62b41",
       "version_major": 2,
       "version_minor": 0
      },
      "text/plain": [
       "800M-123000 Cross Correlation:   0%|          | 0/1 [00:00<?, ?it/s]"
      ]
     },
     "metadata": {},
     "output_type": "display_data"
    },
    {
     "name": "stdout",
     "output_type": "stream",
     "text": [
      "       "
     ]
    },
    {
     "data": {
      "application/json": {
       "ascii": false,
       "bar_format": null,
       "colour": null,
       "elapsed": 0.8511250019073486,
       "initial": 0,
       "n": 0,
       "ncols": null,
       "nrows": null,
       "postfix": null,
       "prefix": "800M_deduped-23000 Cross Correlation",
       "rate": null,
       "total": 6,
       "unit": "it",
       "unit_divisor": 1000,
       "unit_scale": false
      },
      "application/vnd.jupyter.widget-view+json": {
       "model_id": "fe16be2f4def443ab138ef74a02f7dc8",
       "version_major": 2,
       "version_minor": 0
      },
      "text/plain": [
       "800M_deduped-23000 Cross Correlation:   0%|          | 0/6 [00:00<?, ?it/s]"
      ]
     },
     "metadata": {},
     "output_type": "display_data"
    },
    {
     "name": "stdout",
     "output_type": "stream",
     "text": [
      " "
     ]
    },
    {
     "data": {
      "application/json": {
       "ascii": false,
       "bar_format": null,
       "colour": null,
       "elapsed": 0.849759578704834,
       "initial": 0,
       "n": 0,
       "ncols": null,
       "nrows": null,
       "postfix": null,
       "prefix": "800M_deduped-43000 Cross Correlation",
       "rate": null,
       "total": 5,
       "unit": "it",
       "unit_divisor": 1000,
       "unit_scale": false
      },
      "application/vnd.jupyter.widget-view+json": {
       "model_id": "07d7402e6969416bb79866210b12d7aa",
       "version_major": 2,
       "version_minor": 0
      },
      "text/plain": [
       "800M_deduped-43000 Cross Correlation:   0%|          | 0/5 [00:00<?, ?it/s]"
      ]
     },
     "metadata": {},
     "output_type": "display_data"
    },
    {
     "name": "stdout",
     "output_type": "stream",
     "text": [
      " "
     ]
    },
    {
     "data": {
      "application/json": {
       "ascii": false,
       "bar_format": null,
       "colour": null,
       "elapsed": 0.8494181632995605,
       "initial": 0,
       "n": 0,
       "ncols": null,
       "nrows": null,
       "postfix": null,
       "prefix": "800M_deduped-63000 Cross Correlation",
       "rate": null,
       "total": 4,
       "unit": "it",
       "unit_divisor": 1000,
       "unit_scale": false
      },
      "application/vnd.jupyter.widget-view+json": {
       "model_id": "8e826bc127644e0ca081d972e5bc8476",
       "version_major": 2,
       "version_minor": 0
      },
      "text/plain": [
       "800M_deduped-63000 Cross Correlation:   0%|          | 0/4 [00:00<?, ?it/s]"
      ]
     },
     "metadata": {},
     "output_type": "display_data"
    },
    {
     "name": "stdout",
     "output_type": "stream",
     "text": [
      " "
     ]
    },
    {
     "data": {
      "application/json": {
       "ascii": false,
       "bar_format": null,
       "colour": null,
       "elapsed": 0.8704278469085693,
       "initial": 0,
       "n": 0,
       "ncols": null,
       "nrows": null,
       "postfix": null,
       "prefix": "800M_deduped-83000 Cross Correlation",
       "rate": null,
       "total": 3,
       "unit": "it",
       "unit_divisor": 1000,
       "unit_scale": false
      },
      "application/vnd.jupyter.widget-view+json": {
       "model_id": "f4a5a231fbfe4bd7b69e8f92c9bdb962",
       "version_major": 2,
       "version_minor": 0
      },
      "text/plain": [
       "800M_deduped-83000 Cross Correlation:   0%|          | 0/3 [00:00<?, ?it/s]"
      ]
     },
     "metadata": {},
     "output_type": "display_data"
    },
    {
     "name": "stdout",
     "output_type": "stream",
     "text": [
      " "
     ]
    },
    {
     "data": {
      "application/json": {
       "ascii": false,
       "bar_format": null,
       "colour": null,
       "elapsed": 0.8923842906951904,
       "initial": 0,
       "n": 0,
       "ncols": null,
       "nrows": null,
       "postfix": null,
       "prefix": "800M_deduped-103000 Cross Correlation",
       "rate": null,
       "total": 2,
       "unit": "it",
       "unit_divisor": 1000,
       "unit_scale": false
      },
      "application/vnd.jupyter.widget-view+json": {
       "model_id": "006b9497fae74585afe0031c09fd282a",
       "version_major": 2,
       "version_minor": 0
      },
      "text/plain": [
       "800M_deduped-103000 Cross Correlation:   0%|          | 0/2 [00:00<?, ?it/s]"
      ]
     },
     "metadata": {},
     "output_type": "display_data"
    },
    {
     "data": {
      "application/json": {
       "ascii": false,
       "bar_format": null,
       "colour": null,
       "elapsed": 0.7525286674499512,
       "initial": 0,
       "n": 0,
       "ncols": null,
       "nrows": null,
       "postfix": null,
       "prefix": "800M_deduped-123000 Cross Correlation",
       "rate": null,
       "total": 1,
       "unit": "it",
       "unit_divisor": 1000,
       "unit_scale": false
      },
      "application/vnd.jupyter.widget-view+json": {
       "model_id": "1cf5b3ddbf514587a9792f2ac8c4b1c9",
       "version_major": 2,
       "version_minor": 0
      },
      "text/plain": [
       "800M_deduped-123000 Cross Correlation:   0%|          | 0/1 [00:00<?, ?it/s]"
      ]
     },
     "metadata": {},
     "output_type": "display_data"
    },
    {
     "name": "stdout",
     "output_type": "stream",
     "text": [
      "  "
     ]
    },
    {
     "data": {
      "application/json": {
       "ascii": false,
       "bar_format": null,
       "colour": null,
       "elapsed": 0.8011424541473389,
       "initial": 0,
       "n": 0,
       "ncols": null,
       "nrows": null,
       "postfix": null,
       "prefix": "350M-21500 Cross Correlation",
       "rate": null,
       "total": 5,
       "unit": "it",
       "unit_divisor": 1000,
       "unit_scale": false
      },
      "application/vnd.jupyter.widget-view+json": {
       "model_id": "e392d69f3ff84a658b90ea16f4692d0e",
       "version_major": 2,
       "version_minor": 0
      },
      "text/plain": [
       "350M-21500 Cross Correlation:   0%|          | 0/5 [00:00<?, ?it/s]"
      ]
     },
     "metadata": {},
     "output_type": "display_data"
    },
    {
     "data": {
      "application/json": {
       "ascii": false,
       "bar_format": null,
       "colour": null,
       "elapsed": 0.9421873092651367,
       "initial": 0,
       "n": 0,
       "ncols": null,
       "nrows": null,
       "postfix": null,
       "prefix": "350M-11500 Cross Correlation",
       "rate": null,
       "total": 6,
       "unit": "it",
       "unit_divisor": 1000,
       "unit_scale": false
      },
      "application/vnd.jupyter.widget-view+json": {
       "model_id": "eb87a7ca5bdf4cd3af0ea6a5cbe3ea75",
       "version_major": 2,
       "version_minor": 0
      },
      "text/plain": [
       "350M-11500 Cross Correlation:   0%|          | 0/6 [00:00<?, ?it/s]"
      ]
     },
     "metadata": {},
     "output_type": "display_data"
    },
    {
     "name": "stdout",
     "output_type": "stream",
     "text": [
      " "
     ]
    },
    {
     "data": {
      "application/json": {
       "ascii": false,
       "bar_format": null,
       "colour": null,
       "elapsed": 0.8267614841461182,
       "initial": 0,
       "n": 0,
       "ncols": null,
       "nrows": null,
       "postfix": null,
       "prefix": "350M-31500 Cross Correlation",
       "rate": null,
       "total": 4,
       "unit": "it",
       "unit_divisor": 1000,
       "unit_scale": false
      },
      "application/vnd.jupyter.widget-view+json": {
       "model_id": "a31b1b88dd1b420c9d5a0db65e6b2e91",
       "version_major": 2,
       "version_minor": 0
      },
      "text/plain": [
       "350M-31500 Cross Correlation:   0%|          | 0/4 [00:00<?, ?it/s]"
      ]
     },
     "metadata": {},
     "output_type": "display_data"
    },
    {
     "name": "stdout",
     "output_type": "stream",
     "text": [
      " "
     ]
    },
    {
     "data": {
      "application/json": {
       "ascii": false,
       "bar_format": null,
       "colour": null,
       "elapsed": 0.8406620025634766,
       "initial": 0,
       "n": 0,
       "ncols": null,
       "nrows": null,
       "postfix": null,
       "prefix": "350M-41500 Cross Correlation",
       "rate": null,
       "total": 3,
       "unit": "it",
       "unit_divisor": 1000,
       "unit_scale": false
      },
      "application/vnd.jupyter.widget-view+json": {
       "model_id": "cfc4e1c7a0f84e518dfc9cf5badedf96",
       "version_major": 2,
       "version_minor": 0
      },
      "text/plain": [
       "350M-41500 Cross Correlation:   0%|          | 0/3 [00:00<?, ?it/s]"
      ]
     },
     "metadata": {},
     "output_type": "display_data"
    },
    {
     "name": "stdout",
     "output_type": "stream",
     "text": [
      " "
     ]
    },
    {
     "data": {
      "application/json": {
       "ascii": false,
       "bar_format": null,
       "colour": null,
       "elapsed": 0.6844451427459717,
       "initial": 0,
       "n": 0,
       "ncols": null,
       "nrows": null,
       "postfix": null,
       "prefix": "350M-61500 Cross Correlation",
       "rate": null,
       "total": 1,
       "unit": "it",
       "unit_divisor": 1000,
       "unit_scale": false
      },
      "application/vnd.jupyter.widget-view+json": {
       "model_id": "c014f7e10ea4497b9c6e1dc1426b2d31",
       "version_major": 2,
       "version_minor": 0
      },
      "text/plain": [
       "350M-61500 Cross Correlation:   0%|          | 0/1 [00:00<?, ?it/s]"
      ]
     },
     "metadata": {},
     "output_type": "display_data"
    },
    {
     "data": {
      "application/json": {
       "ascii": false,
       "bar_format": null,
       "colour": null,
       "elapsed": 0.8519651889801025,
       "initial": 0,
       "n": 0,
       "ncols": null,
       "nrows": null,
       "postfix": null,
       "prefix": "350M-51500 Cross Correlation",
       "rate": null,
       "total": 2,
       "unit": "it",
       "unit_divisor": 1000,
       "unit_scale": false
      },
      "application/vnd.jupyter.widget-view+json": {
       "model_id": "e3e5d4a3cda947adbf2a9774e1569289",
       "version_major": 2,
       "version_minor": 0
      },
      "text/plain": [
       "350M-51500 Cross Correlation:   0%|          | 0/2 [00:00<?, ?it/s]"
      ]
     },
     "metadata": {},
     "output_type": "display_data"
    },
    {
     "name": "stdout",
     "output_type": "stream",
     "text": [
      " "
     ]
    },
    {
     "data": {
      "application/json": {
       "ascii": false,
       "bar_format": null,
       "colour": null,
       "elapsed": 0.6950864791870117,
       "initial": 0,
       "n": 0,
       "ncols": null,
       "nrows": null,
       "postfix": null,
       "prefix": "350M_deduped-11500 Cross Correlation",
       "rate": null,
       "total": 6,
       "unit": "it",
       "unit_divisor": 1000,
       "unit_scale": false
      },
      "application/vnd.jupyter.widget-view+json": {
       "model_id": "71d742e21e164b589f156282ab2091f8",
       "version_major": 2,
       "version_minor": 0
      },
      "text/plain": [
       "350M_deduped-11500 Cross Correlation:   0%|          | 0/6 [00:00<?, ?it/s]"
      ]
     },
     "metadata": {},
     "output_type": "display_data"
    },
    {
     "name": "stdout",
     "output_type": "stream",
     "text": [
      " "
     ]
    },
    {
     "data": {
      "application/json": {
       "ascii": false,
       "bar_format": null,
       "colour": null,
       "elapsed": 0.7179186344146729,
       "initial": 0,
       "n": 0,
       "ncols": null,
       "nrows": null,
       "postfix": null,
       "prefix": "350M_deduped-21500 Cross Correlation",
       "rate": null,
       "total": 5,
       "unit": "it",
       "unit_divisor": 1000,
       "unit_scale": false
      },
      "application/vnd.jupyter.widget-view+json": {
       "model_id": "19dc03e39b954506b086ecad02d9a772",
       "version_major": 2,
       "version_minor": 0
      },
      "text/plain": [
       "350M_deduped-21500 Cross Correlation:   0%|          | 0/5 [00:00<?, ?it/s]"
      ]
     },
     "metadata": {},
     "output_type": "display_data"
    },
    {
     "name": "stdout",
     "output_type": "stream",
     "text": [
      " "
     ]
    },
    {
     "data": {
      "application/json": {
       "ascii": false,
       "bar_format": null,
       "colour": null,
       "elapsed": 0.7207863330841064,
       "initial": 0,
       "n": 0,
       "ncols": null,
       "nrows": null,
       "postfix": null,
       "prefix": "350M_deduped-31500 Cross Correlation",
       "rate": null,
       "total": 4,
       "unit": "it",
       "unit_divisor": 1000,
       "unit_scale": false
      },
      "application/vnd.jupyter.widget-view+json": {
       "model_id": "d1b0e49db7a148c5a8e0be8d72502685",
       "version_major": 2,
       "version_minor": 0
      },
      "text/plain": [
       "350M_deduped-31500 Cross Correlation:   0%|          | 0/4 [00:00<?, ?it/s]"
      ]
     },
     "metadata": {},
     "output_type": "display_data"
    },
    {
     "data": {
      "application/json": {
       "ascii": false,
       "bar_format": null,
       "colour": null,
       "elapsed": 0.5490157604217529,
       "initial": 0,
       "n": 0,
       "ncols": null,
       "nrows": null,
       "postfix": null,
       "prefix": "350M_deduped-41500 Cross Correlation",
       "rate": null,
       "total": 3,
       "unit": "it",
       "unit_divisor": 1000,
       "unit_scale": false
      },
      "application/vnd.jupyter.widget-view+json": {
       "model_id": "1095e0427d3c4224acd42768d007e75a",
       "version_major": 2,
       "version_minor": 0
      },
      "text/plain": [
       "350M_deduped-41500 Cross Correlation:   0%|          | 0/3 [00:00<?, ?it/s]"
      ]
     },
     "metadata": {},
     "output_type": "display_data"
    },
    {
     "name": "stdout",
     "output_type": "stream",
     "text": [
      "  "
     ]
    },
    {
     "data": {
      "application/json": {
       "ascii": false,
       "bar_format": null,
       "colour": null,
       "elapsed": 0.7374513149261475,
       "initial": 0,
       "n": 0,
       "ncols": null,
       "nrows": null,
       "postfix": null,
       "prefix": "350M_deduped-51500 Cross Correlation",
       "rate": null,
       "total": 2,
       "unit": "it",
       "unit_divisor": 1000,
       "unit_scale": false
      },
      "application/vnd.jupyter.widget-view+json": {
       "model_id": "f5fddebffc0b4b44bd7edad543a63bbc",
       "version_major": 2,
       "version_minor": 0
      },
      "text/plain": [
       "350M_deduped-51500 Cross Correlation:   0%|          | 0/2 [00:00<?, ?it/s]"
      ]
     },
     "metadata": {},
     "output_type": "display_data"
    },
    {
     "data": {
      "application/json": {
       "ascii": false,
       "bar_format": null,
       "colour": null,
       "elapsed": 0.5545146465301514,
       "initial": 0,
       "n": 0,
       "ncols": null,
       "nrows": null,
       "postfix": null,
       "prefix": "350M_deduped-61500 Cross Correlation",
       "rate": null,
       "total": 1,
       "unit": "it",
       "unit_divisor": 1000,
       "unit_scale": false
      },
      "application/vnd.jupyter.widget-view+json": {
       "model_id": "6e90cec890e14d64a7375ab6016c35ec",
       "version_major": 2,
       "version_minor": 0
      },
      "text/plain": [
       "350M_deduped-61500 Cross Correlation:   0%|          | 0/1 [00:00<?, ?it/s]"
      ]
     },
     "metadata": {},
     "output_type": "display_data"
    },
    {
     "name": "stdout",
     "output_type": "stream",
     "text": [
      "  "
     ]
    },
    {
     "data": {
      "application/json": {
       "ascii": false,
       "bar_format": null,
       "colour": null,
       "elapsed": 0.7528133392333984,
       "initial": 0,
       "n": 0,
       "ncols": null,
       "nrows": null,
       "postfix": null,
       "prefix": "125M-11500 Cross Correlation",
       "rate": null,
       "total": 6,
       "unit": "it",
       "unit_divisor": 1000,
       "unit_scale": false
      },
      "application/vnd.jupyter.widget-view+json": {
       "model_id": "ce176663df624d55b1d653e21b46b1df",
       "version_major": 2,
       "version_minor": 0
      },
      "text/plain": [
       "125M-11500 Cross Correlation:   0%|          | 0/6 [00:00<?, ?it/s]"
      ]
     },
     "metadata": {},
     "output_type": "display_data"
    },
    {
     "name": "stdout",
     "output_type": "stream",
     "text": [
      " "
     ]
    },
    {
     "data": {
      "application/json": {
       "ascii": false,
       "bar_format": null,
       "colour": null,
       "elapsed": 0.7580747604370117,
       "initial": 0,
       "n": 0,
       "ncols": null,
       "nrows": null,
       "postfix": null,
       "prefix": "125M-21500 Cross Correlation",
       "rate": null,
       "total": 5,
       "unit": "it",
       "unit_divisor": 1000,
       "unit_scale": false
      },
      "application/vnd.jupyter.widget-view+json": {
       "model_id": "f0c298ae0e734aac80fdf65eaed3ef14",
       "version_major": 2,
       "version_minor": 0
      },
      "text/plain": [
       "125M-21500 Cross Correlation:   0%|          | 0/5 [00:00<?, ?it/s]"
      ]
     },
     "metadata": {},
     "output_type": "display_data"
    },
    {
     "name": "stdout",
     "output_type": "stream",
     "text": [
      " "
     ]
    },
    {
     "data": {
      "application/json": {
       "ascii": false,
       "bar_format": null,
       "colour": null,
       "elapsed": 0.7669522762298584,
       "initial": 0,
       "n": 0,
       "ncols": null,
       "nrows": null,
       "postfix": null,
       "prefix": "125M-31500 Cross Correlation",
       "rate": null,
       "total": 4,
       "unit": "it",
       "unit_divisor": 1000,
       "unit_scale": false
      },
      "application/vnd.jupyter.widget-view+json": {
       "model_id": "9527334c941d4251b2d13dd6184fef22",
       "version_major": 2,
       "version_minor": 0
      },
      "text/plain": [
       "125M-31500 Cross Correlation:   0%|          | 0/4 [00:00<?, ?it/s]"
      ]
     },
     "metadata": {},
     "output_type": "display_data"
    },
    {
     "name": "stdout",
     "output_type": "stream",
     "text": [
      " "
     ]
    },
    {
     "data": {
      "application/json": {
       "ascii": false,
       "bar_format": null,
       "colour": null,
       "elapsed": 0.7802746295928955,
       "initial": 0,
       "n": 0,
       "ncols": null,
       "nrows": null,
       "postfix": null,
       "prefix": "125M-41500 Cross Correlation",
       "rate": null,
       "total": 3,
       "unit": "it",
       "unit_divisor": 1000,
       "unit_scale": false
      },
      "application/vnd.jupyter.widget-view+json": {
       "model_id": "1117f360aeba48a19f37d9889e23ee2b",
       "version_major": 2,
       "version_minor": 0
      },
      "text/plain": [
       "125M-41500 Cross Correlation:   0%|          | 0/3 [00:00<?, ?it/s]"
      ]
     },
     "metadata": {},
     "output_type": "display_data"
    },
    {
     "name": "stdout",
     "output_type": "stream",
     "text": [
      "  "
     ]
    },
    {
     "data": {
      "application/json": {
       "ascii": false,
       "bar_format": null,
       "colour": null,
       "elapsed": 0.9915385246276855,
       "initial": 0,
       "n": 0,
       "ncols": null,
       "nrows": null,
       "postfix": null,
       "prefix": "125M-51500 Cross Correlation",
       "rate": null,
       "total": 2,
       "unit": "it",
       "unit_divisor": 1000,
       "unit_scale": false
      },
      "application/vnd.jupyter.widget-view+json": {
       "model_id": "979e2213c45f4148af9067b3a052909e",
       "version_major": 2,
       "version_minor": 0
      },
      "text/plain": [
       "125M-51500 Cross Correlation:   0%|          | 0/2 [00:00<?, ?it/s]"
      ]
     },
     "metadata": {},
     "output_type": "display_data"
    },
    {
     "name": "stdout",
     "output_type": "stream",
     "text": [
      " "
     ]
    },
    {
     "data": {
      "application/json": {
       "ascii": false,
       "bar_format": null,
       "colour": null,
       "elapsed": 1.0060076713562012,
       "initial": 0,
       "n": 0,
       "ncols": null,
       "nrows": null,
       "postfix": null,
       "prefix": "125M-61500 Cross Correlation",
       "rate": null,
       "total": 1,
       "unit": "it",
       "unit_divisor": 1000,
       "unit_scale": false
      },
      "application/vnd.jupyter.widget-view+json": {
       "model_id": "8bf71e46cfe54eb5920b779ee05ce298",
       "version_major": 2,
       "version_minor": 0
      },
      "text/plain": [
       "125M-61500 Cross Correlation:   0%|          | 0/1 [00:01<?, ?it/s]"
      ]
     },
     "metadata": {},
     "output_type": "display_data"
    },
    {
     "data": {
      "application/json": {
       "ascii": false,
       "bar_format": null,
       "colour": null,
       "elapsed": 0.8152773380279541,
       "initial": 0,
       "n": 0,
       "ncols": null,
       "nrows": null,
       "postfix": null,
       "prefix": "125M_deduped-11500 Cross Correlation",
       "rate": null,
       "total": 6,
       "unit": "it",
       "unit_divisor": 1000,
       "unit_scale": false
      },
      "application/vnd.jupyter.widget-view+json": {
       "model_id": "320b66218be74eb2b911d79ab6252952",
       "version_major": 2,
       "version_minor": 0
      },
      "text/plain": [
       "125M_deduped-11500 Cross Correlation:   0%|          | 0/6 [00:00<?, ?it/s]"
      ]
     },
     "metadata": {},
     "output_type": "display_data"
    },
    {
     "data": {
      "application/json": {
       "ascii": false,
       "bar_format": null,
       "colour": null,
       "elapsed": 0.6237330436706543,
       "initial": 0,
       "n": 0,
       "ncols": null,
       "nrows": null,
       "postfix": null,
       "prefix": "125M_deduped-21500 Cross Correlation",
       "rate": null,
       "total": 5,
       "unit": "it",
       "unit_divisor": 1000,
       "unit_scale": false
      },
      "application/vnd.jupyter.widget-view+json": {
       "model_id": "26152512e581437e887793e1cc56f328",
       "version_major": 2,
       "version_minor": 0
      },
      "text/plain": [
       "125M_deduped-21500 Cross Correlation:   0%|          | 0/5 [00:00<?, ?it/s]"
      ]
     },
     "metadata": {},
     "output_type": "display_data"
    },
    {
     "data": {
      "application/json": {
       "ascii": false,
       "bar_format": null,
       "colour": null,
       "elapsed": 0.41337108612060547,
       "initial": 0,
       "n": 0,
       "ncols": null,
       "nrows": null,
       "postfix": null,
       "prefix": "125M_deduped-31500 Cross Correlation",
       "rate": null,
       "total": 4,
       "unit": "it",
       "unit_divisor": 1000,
       "unit_scale": false
      },
      "application/vnd.jupyter.widget-view+json": {
       "model_id": "2146250f9a26448983bc16c4616fda32",
       "version_major": 2,
       "version_minor": 0
      },
      "text/plain": [
       "125M_deduped-31500 Cross Correlation:   0%|          | 0/4 [00:00<?, ?it/s]"
      ]
     },
     "metadata": {},
     "output_type": "display_data"
    },
    {
     "data": {
      "application/json": {
       "ascii": false,
       "bar_format": null,
       "colour": null,
       "elapsed": 0.21724843978881836,
       "initial": 0,
       "n": 0,
       "ncols": null,
       "nrows": null,
       "postfix": null,
       "prefix": "125M_deduped-41500 Cross Correlation",
       "rate": null,
       "total": 3,
       "unit": "it",
       "unit_divisor": 1000,
       "unit_scale": false
      },
      "application/vnd.jupyter.widget-view+json": {
       "model_id": "c4c23167529e420b88cab162eb7cfd72",
       "version_major": 2,
       "version_minor": 0
      },
      "text/plain": [
       "125M_deduped-41500 Cross Correlation:   0%|          | 0/3 [00:00<?, ?it/s]"
      ]
     },
     "metadata": {},
     "output_type": "display_data"
    },
    {
     "name": "stdout",
     "output_type": "stream",
     "text": [
      " "
     ]
    },
    {
     "data": {
      "application/json": {
       "ascii": false,
       "bar_format": null,
       "colour": null,
       "elapsed": 0.07551431655883789,
       "initial": 0,
       "n": 0,
       "ncols": null,
       "nrows": null,
       "postfix": null,
       "prefix": "125M_deduped-51500 Cross Correlation",
       "rate": null,
       "total": 2,
       "unit": "it",
       "unit_divisor": 1000,
       "unit_scale": false
      },
      "application/vnd.jupyter.widget-view+json": {
       "model_id": "1d0701ef782048cc85d123702d501b22",
       "version_major": 2,
       "version_minor": 0
      },
      "text/plain": [
       "125M_deduped-51500 Cross Correlation:   0%|          | 0/2 [00:00<?, ?it/s]"
      ]
     },
     "metadata": {},
     "output_type": "display_data"
    },
    {
     "data": {
      "application/json": {
       "ascii": false,
       "bar_format": null,
       "colour": null,
       "elapsed": 0.05496811866760254,
       "initial": 0,
       "n": 0,
       "ncols": null,
       "nrows": null,
       "postfix": null,
       "prefix": "125M_deduped-61500 Cross Correlation",
       "rate": null,
       "total": 1,
       "unit": "it",
       "unit_divisor": 1000,
       "unit_scale": false
      },
      "application/vnd.jupyter.widget-view+json": {
       "model_id": "3ae529ed20914221ba09709eca0c2d10",
       "version_major": 2,
       "version_minor": 0
      },
      "text/plain": [
       "125M_deduped-61500 Cross Correlation:   0%|          | 0/1 [00:00<?, ?it/s]"
      ]
     },
     "metadata": {},
     "output_type": "display_data"
    }
   ],
   "source": [
    "manager = MPManager()\n",
    "tot_processes = 0\n",
    "for model_one, checkpoints in models.items():\n",
    "    for checkpoint_one in checkpoints:\n",
    "        if(checkpoint_one in [143000, 71500]): continue # No models to correlate with 143000 and 71500\n",
    "            # Since these are final checkpoints\n",
    "        manager.add(Process(target=plot_normalized_cross_correlation_of_model, args=(model_one, \n",
    "            str(checkpoint_one), models)))\n",
    "        tot_processes+=1\n",
    "        if(tot_processes >= mp.cpu_count()):\n",
    "            tot_processes = 0\n",
    "            manager.join()\n",
    "    \n",
    "manager.join()"
   ]
  },
  {
   "cell_type": "markdown",
   "id": "234191b8",
   "metadata": {},
   "source": [
    "# Sampled KDE Plot"
   ]
  },
  {
   "cell_type": "code",
   "execution_count": 13,
   "id": "15fbc5e1",
   "metadata": {},
   "outputs": [
    {
     "data": {
      "text/html": [
       "\n",
       "        <style>\n",
       "            .jupyter-widgets {color: #d5d5d5 !important;}\n",
       "            .widget-label {color: #d5d5d5 !important;}\n",
       "        </style>\n",
       "    "
      ],
      "text/plain": [
       "<IPython.core.display.HTML object>"
      ]
     },
     "metadata": {},
     "output_type": "display_data"
    }
   ],
   "source": [
    "import seaborn as sns\n",
    "from scipy.stats import gaussian_kde\n",
    "\n",
    "def sampled_kde_of_checkpoint(model, checkpoint, models):\n",
    "    '''Plots KDE distribution on marginal axes and Scatter plot with gaussian kde cmap on joint axis\n",
    "    \n",
    "    `model`: Model name\n",
    "    `checkpoint`: Checkpoint of the corresponding model\n",
    "    `models`: Dictionary containing model and it's checkpoint names\n",
    "    '''\n",
    "    # Theming\n",
    "    sns.set_theme(font_scale=1.5)\n",
    "    model_name = f'{model}-{checkpoint}'\n",
    "    \n",
    "    # Extract Data\n",
    "    evals = memorization_results[model_name]\n",
    "    sample_evals = evals.sample(n=int(1e4))\n",
    "    sample_evals['Accuracy'] = sample_evals['accuracy']\n",
    "    sample_evals['Sequence Index'] = sample_evals['index']\n",
    "    \n",
    "    # Plotting\n",
    "    grid = sns.JointGrid(data=sample_evals, x='Sequence Index', y='Accuracy', height = 9, ratio=3, \n",
    "                         space=0.1, marginal_ticks=True)\n",
    "    xy = np.vstack([sample_evals['Accuracy'],sample_evals['Sequence Index']])\n",
    "    z = gaussian_kde(xy)(xy)\n",
    "    grid.plot_joint(sns.scatterplot, c=z, cmap='viridis', alpha=0.5)\n",
    "    grid.plot_marginals(sns.kdeplot, fill=True, alpha=1)\n",
    "    fig  = grid.figure\n",
    "    \n",
    "    # Saving Plot\n",
    "    fig.suptitle(\"Memorization Accuracy Scatter & KDE plot\", fontsize=20)\n",
    "    fig.tight_layout()\n",
    "    fig.subplots_adjust(top=0.90)\n",
    "    fig.savefig(f'./plots/{model_name}_kde_plot.png', facecolor='white')"
   ]
  },
  {
   "cell_type": "code",
   "execution_count": 14,
   "id": "1663ecad",
   "metadata": {},
   "outputs": [
    {
     "data": {
      "text/html": [
       "\n",
       "        <style>\n",
       "            .jupyter-widgets {color: #d5d5d5 !important;}\n",
       "            .widget-label {color: #d5d5d5 !important;}\n",
       "        </style>\n",
       "    "
      ],
      "text/plain": [
       "<IPython.core.display.HTML object>"
      ]
     },
     "metadata": {},
     "output_type": "display_data"
    }
   ],
   "source": [
    "import multiprocessing as mp\n",
    "from multiprocessing import Process, Lock\n",
    "manager = MPManager()\n",
    "lock = Lock()\n",
    "for model_one, checkpoints in models.items():\n",
    "    for checkpoint_one in checkpoints:\n",
    "        manager.add(Process(target=sampled_kde_of_checkpoint, args=(model_one, \n",
    "            checkpoint_one, models)))\n",
    "manager.join()"
   ]
  },
  {
   "cell_type": "code",
   "execution_count": null,
   "id": "5c35eb27",
   "metadata": {},
   "outputs": [],
   "source": []
  }
 ],
 "metadata": {
  "kernelspec": {
   "display_name": "Python 3 (ipykernel)",
   "language": "python",
   "name": "python3"
  },
  "language_info": {
   "codemirror_mode": {
    "name": "ipython",
    "version": 3
   },
   "file_extension": ".py",
   "mimetype": "text/x-python",
   "name": "python",
   "nbconvert_exporter": "python",
   "pygments_lexer": "ipython3",
   "version": "3.8.13"
  }
 },
 "nbformat": 4,
 "nbformat_minor": 5
}
