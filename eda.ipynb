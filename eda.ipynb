{
 "cells": [
  {
   "cell_type": "code",
   "execution_count": 1,
   "id": "c4d857a1",
   "metadata": {},
   "outputs": [],
   "source": [
    "from result_records import DataFrameLoader\n",
    "\n",
    "DENSE_SMALL = '/mnt/ssd-1/transformer-memorization/memorization_results_dense_small.csv'\n",
    "DENSE_MEDIUM = '/mnt/ssd-1/transformer-memorization/memorization_results_dense_medium.csv'\n",
    "DENSE_LARGE = '/mnt/ssd-1/transformer-memorization/memorization_results_dense_large.csv'\n",
    "\n",
    "data_labels = [\n",
    "    'dense_small (150M)',\n",
    "    'dense_medium (350M)',\n",
    "    'dense_large (750M)'\n",
    "]"
   ]
  },
  {
   "cell_type": "code",
   "execution_count": 2,
   "id": "dae1bb10",
   "metadata": {
    "scrolled": true
   },
   "outputs": [],
   "source": [
    "datasets = [DataFrameLoader(i) for i in [DENSE_SMALL,DENSE_MEDIUM,DENSE_LARGE]]"
   ]
  },
  {
   "cell_type": "markdown",
   "id": "15b4ca92",
   "metadata": {},
   "source": [
    "# Loading Data "
   ]
  },
  {
   "cell_type": "code",
   "execution_count": 3,
   "id": "49f31ef8",
   "metadata": {},
   "outputs": [
    {
     "name": "stderr",
     "output_type": "stream",
     "text": [
      "73244it [00:00, 181379.22it/s]\n",
      "36618it [00:00, 190930.80it/s]\n",
      "36608it [00:00, 190731.18it/s]\n"
     ]
    }
   ],
   "source": [
    "import tensorflow as tf\n",
    "import numpy as np\n",
    "from tqdm import tqdm\n",
    "\n",
    "data = {}\n",
    "for i,(ds,label) in enumerate(zip(datasets,data_labels)):\n",
    "    \n",
    "    loss = []\n",
    "    indicies = []\n",
    "    for i,(idx,res) in tqdm(enumerate(ds)):\n",
    "        if(not (np.isnan(res) or np.isinf(res))):\n",
    "            loss.append(res)\n",
    "            indicies.append(idx)\n",
    "    data[label] = (np.array(indicies),np.array(loss))\n",
    "    \n",
    "        \n"
   ]
  },
  {
   "cell_type": "markdown",
   "id": "e3cb6c4a",
   "metadata": {},
   "source": [
    "# Memorization Metric plots\n",
    "> Plotting average values of memorization metric over a bucketed range of values"
   ]
  },
  {
   "cell_type": "code",
   "execution_count": 4,
   "id": "dcc0ad4c",
   "metadata": {},
   "outputs": [],
   "source": [
    "# Run these if you don't see UI for the plots and refresh the page\n",
    "#!pip install --upgrade jupyter_core jupyter_client\n",
    "#!jupyter nbextension enable --py widgetsnbextension"
   ]
  },
  {
   "cell_type": "code",
   "execution_count": 5,
   "id": "ceb14061",
   "metadata": {},
   "outputs": [
    {
     "data": {
      "application/vnd.jupyter.widget-view+json": {
       "model_id": "2db90d03e15041d8b412cce2a472dbc8",
       "version_major": 2,
       "version_minor": 0
      },
      "text/plain": [
       "VBox(children=(Output(), IntSlider(value=46, description='Bins', layout=Layout(width='50%'), max=50, min=1), B…"
      ]
     },
     "metadata": {},
     "output_type": "display_data"
    }
   ],
   "source": [
    "from IPython.display import display\n",
    "import matplotlib.pyplot as plt\n",
    "import ipywidgets as widgets\n",
    "%matplotlib inline\n",
    "\n",
    "import numpy as np\n",
    "\n",
    "class Plotter:\n",
    "    def __init__(self,title,xlabel,ylabel,data,size=25,default_slider_value=None):\n",
    "        self.title = title\n",
    "        self.xlabel = xlabel\n",
    "        self.ylabel = ylabel\n",
    "        self.default_slider_value = default_slider_value\n",
    "        self.data = data\n",
    "        \n",
    "        self.size = 25\n",
    "        self.params = {'legend.fontsize': 'large',\n",
    "          'figure.figsize': (15,5),\n",
    "          'axes.labelsize': size,\n",
    "          'axes.titlesize': size,\n",
    "          'xtick.labelsize': size*0.75,\n",
    "          'ytick.labelsize': size*0.75,\n",
    "          'axes.titlepad': 25,\n",
    "          'font.family':'sans-serif',\n",
    "          'font.weight':'bold',\n",
    "         }\n",
    "    \n",
    "    def plot_data(self,data,num_buckets,label):\n",
    "        \n",
    "        if(len(data) == 2):\n",
    "            x,y = data\n",
    "        elif(len(data) == 1):\n",
    "            y, = data\n",
    "            x = [i for i in range(len(data))]\n",
    "        else:\n",
    "            raise ValueError('Only two axis are supported') \n",
    "            \n",
    "        assert len(x) == len(y)\n",
    "        bucket_size = len(x)//num_buckets\n",
    "        \n",
    "        buckets = []\n",
    "        index = []\n",
    "        err = []\n",
    "        for i in range(0,len(x),bucket_size):\n",
    "            buckets.append(y[i:i+bucket_size].mean())\n",
    "            index.append(x[min(i+bucket_size-1,len(x)-1)])\n",
    "            err.append(y[i:i+bucket_size].std()/np.sqrt(bucket_size))\n",
    "        \n",
    "        buckets = buckets[:num_buckets]\n",
    "        index = index[:num_buckets]\n",
    "        err = err[:num_buckets]\n",
    "        plt.errorbar(index,buckets,yerr = err,label=label,capsize=5)\n",
    "    \n",
    "    def plot(self,num_buckets):\n",
    "        \n",
    "        for (key,value) in self.data.items():\n",
    "            self.plot_data(value,num_buckets,key)\n",
    "        \n",
    "            plt.rcParams.update(self.params)\n",
    "            plt.title(self.title)\n",
    "            plt.xlabel(self.xlabel)\n",
    "            plt.ylabel(self.ylabel)\n",
    "            plt.legend()\n",
    "            plt.show()\n",
    "    \n",
    "    def clicked(self,b):\n",
    "        self.out.clear_output()\n",
    "        scale = self.slider.value\n",
    "        with self.out:\n",
    "            self.plot(scale)\n",
    "    def run(self):\n",
    "        self.out = widgets.Output()\n",
    "        button = widgets.Button(description=\"Plot Value\")\n",
    "        slider_max = 50\n",
    "        \n",
    "        if(self.default_slider_value is not None):\n",
    "            default_slider_value = self.default_slider_value\n",
    "        else:\n",
    "            default_slider_value = np.random.choice([i for i in range(1,slider_max)])\n",
    "        self.slider = widgets.IntSlider(min=1, max=slider_max, \n",
    "                                   value=default_slider_value,\n",
    "                                   description=\"Bins\",\n",
    "                                   layout=widgets.Layout(width='50%'))\n",
    "\n",
    "        box_layout = widgets.Layout(\n",
    "            display='flex',\n",
    "            flex_flow='column',\n",
    "            align_items='center',\n",
    "            width='80%'\n",
    "        )\n",
    "\n",
    "        box = widgets.VBox(\n",
    "            [\n",
    "                self.out,\n",
    "                self.slider,\n",
    "                button\n",
    "            ],\n",
    "            layout=box_layout\n",
    "        )\n",
    "\n",
    "        \n",
    "\n",
    "        with self.out:    \n",
    "            self.plot(default_slider_value)\n",
    "        button.on_click(self.clicked)\n",
    "        display(box)\n",
    "    \n",
    "plotter = Plotter(title=\"Memorization Metric\",\n",
    "                  xlabel='Index',ylabel='NLL Loss',\n",
    "                  data=data)\n",
    "plotter.run() #Refresh if you donot see UI"
   ]
  },
  {
   "cell_type": "markdown",
   "id": "234c5151",
   "metadata": {},
   "source": [
    "# Correlation"
   ]
  },
  {
   "cell_type": "code",
   "execution_count": 8,
   "id": "0b0d4d0b",
   "metadata": {
    "scrolled": true
   },
   "outputs": [
    {
     "data": {
      "text/plain": [
       "array([3.20000e+01, 3.30000e+01, 3.40000e+01, ..., 2.92865e+05,\n",
       "       2.92866e+05, 2.92867e+05])"
      ]
     },
     "execution_count": 8,
     "metadata": {},
     "output_type": "execute_result"
    }
   ],
   "source": []
  },
  {
   "cell_type": "code",
   "execution_count": 9,
   "id": "e1295dca",
   "metadata": {},
   "outputs": [
    {
     "data": {
      "application/vnd.jupyter.widget-view+json": {
       "model_id": "bcf94f93471d4343b445e0e53c3fbac4",
       "version_major": 2,
       "version_minor": 0
      },
      "text/plain": [
       "VBox(children=(Output(), IntSlider(value=11, description='Bins', layout=Layout(width='50%'), max=16, min=1), B…"
      ]
     },
     "metadata": {},
     "output_type": "display_data"
    }
   ],
   "source": [
    "from scipy import signal\n",
    "\n",
    "correlation = signal.correlate(indicies, data, mode=\"full\")\n",
    "plotter = Plotter(xlabel='indicies',ylabel='correlation',\n",
    "                  title='Correlation',x=indicies,y=correlation,default_slider_value=11)\n",
    "plotter.run()"
   ]
  },
  {
   "cell_type": "markdown",
   "id": "19be402e",
   "metadata": {},
   "source": [
    "# Statistics"
   ]
  },
  {
   "cell_type": "code",
   "execution_count": 10,
   "id": "73b6aaf8",
   "metadata": {},
   "outputs": [
    {
     "name": "stdout",
     "output_type": "stream",
     "text": [
      "R2 Score between indicies and data: -3.00108\n",
      "Average NLL Loss changed from -8.98532 to -8.95018\n",
      "Varience of  NLL Loss changed from 14.02080 to 13.66236\n",
      "Trend of very slight improvement continues\n"
     ]
    }
   ],
   "source": [
    "import matplotlib.pyplot as plt\n",
    "\n",
    "SAMPLE_VALUE = len(data)*25//100\n",
    "from sklearn.metrics import r2_score\n",
    "r2 = r2_score(indicies,data)\n",
    "print(f\"R2 Score between indicies and data: {r2:.5f}\")\n",
    "avg_start = data[:SAMPLE_VALUE].mean()\n",
    "avg_end = data[SAMPLE_VALUE:].mean()\n",
    "\n",
    "var_start = data[:SAMPLE_VALUE].var()\n",
    "var_end = data[SAMPLE_VALUE:].var()\n",
    "print(f\"Average NLL Loss changed from {avg_start:.5f} to {avg_end:.5f}\")\n",
    "print(f\"Varience of  NLL Loss changed from {var_start:.5f} to {var_end:.5f}\")\n",
    "print(\"Trend of very slight improvement continues\")"
   ]
  },
  {
   "cell_type": "markdown",
   "id": "02294f76",
   "metadata": {},
   "source": []
  }
 ],
 "metadata": {
  "kernelspec": {
   "display_name": "Python 3 (ipykernel)",
   "language": "python",
   "name": "python3"
  },
  "language_info": {
   "codemirror_mode": {
    "name": "ipython",
    "version": 3
   },
   "file_extension": ".py",
   "mimetype": "text/x-python",
   "name": "python",
   "nbconvert_exporter": "python",
   "pygments_lexer": "ipython3",
   "version": "3.8.5"
  }
 },
 "nbformat": 4,
 "nbformat_minor": 5
}
