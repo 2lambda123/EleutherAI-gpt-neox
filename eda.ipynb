{
 "cells": [
  {
   "cell_type": "markdown",
   "id": "1a98dba1",
   "metadata": {},
   "source": [
    "# Miscellaneous functions for dark mode"
   ]
  },
  {
   "cell_type": "code",
   "execution_count": 1,
   "id": "548ed8ae",
   "metadata": {},
   "outputs": [],
   "source": [
    "# Set the tqdm text color to white.\n",
    "\n",
    "from IPython.display import HTML, display\n",
    "\n",
    "def set_css_in_cell_output():\n",
    "    display(HTML('''\n",
    "        <style>\n",
    "            .jupyter-widgets {color: #d5d5d5 !important;}\n",
    "            .widget-label {color: #d5d5d5 !important;}\n",
    "        </style>\n",
    "    '''))\n",
    "\n",
    "get_ipython().events.register('pre_run_cell', set_css_in_cell_output)"
   ]
  },
  {
   "cell_type": "markdown",
   "id": "e155473c",
   "metadata": {},
   "source": [
    "# Loading data"
   ]
  },
  {
   "cell_type": "code",
   "execution_count": 2,
   "id": "fdb10d51",
   "metadata": {},
   "outputs": [
    {
     "data": {
      "text/html": [
       "\n",
       "        <style>\n",
       "            .jupyter-widgets {color: #d5d5d5 !important;}\n",
       "            .widget-label {color: #d5d5d5 !important;}\n",
       "        </style>\n",
       "    "
      ],
      "text/plain": [
       "<IPython.core.display.HTML object>"
      ]
     },
     "metadata": {},
     "output_type": "display_data"
    }
   ],
   "source": [
    "models = {\n",
    "    '13B': [23000, 43000, 63000, 83000, 103000, 123000, 143000],\n",
    "    '13B_deduped': [23000, 43000, 63000, 83000, 103000, 123000, 143000],\n",
    "    '6.7B': [23000, 43000, 63000, 83000, 103000, 123000, 143000],\n",
    "    '6.7B_deduped': [23000, 43000, 63000, 83000, 103000, 123000, 143000],\n",
    "    '2.7B': [23000, 43000, 63000, 83000, 103000, 123000, 143000],\n",
    "    '1.3B': [11500, 21500, 31500, 41500, 51500, 61500, 71500],\n",
    "    '1.3B_deduped': [11500, 21500, 31500, 41500, 51500, 61500, 71500],\n",
    "    '800M': [23000, 43000, 63000, 83000, 103000, 123000, 143000],\n",
    "    '800M_deduped': [23000, 43000, 63000, 83000, 103000, 123000, 143000],\n",
    "    '350M': [11500, 21500, 31500, 41500, 51500, 61500, 71500],\n",
    "    '350M_deduped': [11500, 21500, 31500, 41500, 51500, 61500, 71500],\n",
    "    '125M': [11500, 21500, 31500, 41500, 51500, 61500, 71500],\n",
    "    '125M_deduped': [11500, 21500, 31500, 41500, 51500, 61500, 71500]\n",
    "}\n",
    "filepath = '/fsx/orz/transformer-memorization'"
   ]
  },
  {
   "cell_type": "code",
   "execution_count": 4,
   "id": "e54b2cfa",
   "metadata": {},
   "outputs": [
    {
     "data": {
      "text/html": [
       "\n",
       "        <style>\n",
       "            .jupyter-widgets {color: #d5d5d5 !important;}\n",
       "            .widget-label {color: #d5d5d5 !important;}\n",
       "        </style>\n",
       "    "
      ],
      "text/plain": [
       "<IPython.core.display.HTML object>"
      ]
     },
     "metadata": {},
     "output_type": "display_data"
    }
   ],
   "source": [
    "import os\n",
    "import pandas as pd\n",
    "from tqdm.auto import tqdm\n",
    "\n",
    "tqdm.pandas()"
   ]
  },
  {
   "cell_type": "code",
   "execution_count": 5,
   "id": "4d9bf88e",
   "metadata": {
    "scrolled": false
   },
   "outputs": [
    {
     "data": {
      "text/html": [
       "\n",
       "        <style>\n",
       "            .jupyter-widgets {color: #d5d5d5 !important;}\n",
       "            .widget-label {color: #d5d5d5 !important;}\n",
       "        </style>\n",
       "    "
      ],
      "text/plain": [
       "<IPython.core.display.HTML object>"
      ]
     },
     "metadata": {},
     "output_type": "display_data"
    },
    {
     "data": {
      "application/json": {
       "ascii": false,
       "bar_format": null,
       "colour": null,
       "elapsed": 0.013769149780273438,
       "initial": 0,
       "n": 0,
       "ncols": null,
       "nrows": null,
       "postfix": null,
       "prefix": "13B",
       "rate": null,
       "total": 7,
       "unit": "it",
       "unit_divisor": 1000,
       "unit_scale": false
      },
      "application/vnd.jupyter.widget-view+json": {
       "model_id": "df2d000b50da45d39a283a6f591cbd6b",
       "version_major": 2,
       "version_minor": 0
      },
      "text/plain": [
       "13B:   0%|          | 0/7 [00:00<?, ?it/s]"
      ]
     },
     "metadata": {},
     "output_type": "display_data"
    },
    {
     "data": {
      "application/json": {
       "ascii": false,
       "bar_format": null,
       "colour": null,
       "elapsed": 0.01281595230102539,
       "initial": 0,
       "n": 0,
       "ncols": null,
       "nrows": null,
       "postfix": null,
       "prefix": "13B_deduped",
       "rate": null,
       "total": 7,
       "unit": "it",
       "unit_divisor": 1000,
       "unit_scale": false
      },
      "application/vnd.jupyter.widget-view+json": {
       "model_id": "f1b15cff66d3445badcd964a11f327f7",
       "version_major": 2,
       "version_minor": 0
      },
      "text/plain": [
       "13B_deduped:   0%|          | 0/7 [00:00<?, ?it/s]"
      ]
     },
     "metadata": {},
     "output_type": "display_data"
    },
    {
     "data": {
      "application/json": {
       "ascii": false,
       "bar_format": null,
       "colour": null,
       "elapsed": 0.012950897216796875,
       "initial": 0,
       "n": 0,
       "ncols": null,
       "nrows": null,
       "postfix": null,
       "prefix": "6.7B",
       "rate": null,
       "total": 7,
       "unit": "it",
       "unit_divisor": 1000,
       "unit_scale": false
      },
      "application/vnd.jupyter.widget-view+json": {
       "model_id": "80f423f90c5e43d98142349fbab70b91",
       "version_major": 2,
       "version_minor": 0
      },
      "text/plain": [
       "6.7B:   0%|          | 0/7 [00:00<?, ?it/s]"
      ]
     },
     "metadata": {},
     "output_type": "display_data"
    },
    {
     "data": {
      "application/json": {
       "ascii": false,
       "bar_format": null,
       "colour": null,
       "elapsed": 0.012721776962280273,
       "initial": 0,
       "n": 0,
       "ncols": null,
       "nrows": null,
       "postfix": null,
       "prefix": "6.7B_deduped",
       "rate": null,
       "total": 7,
       "unit": "it",
       "unit_divisor": 1000,
       "unit_scale": false
      },
      "application/vnd.jupyter.widget-view+json": {
       "model_id": "07a23372d1fb4417989ab344e1ce1706",
       "version_major": 2,
       "version_minor": 0
      },
      "text/plain": [
       "6.7B_deduped:   0%|          | 0/7 [00:00<?, ?it/s]"
      ]
     },
     "metadata": {},
     "output_type": "display_data"
    },
    {
     "data": {
      "application/json": {
       "ascii": false,
       "bar_format": null,
       "colour": null,
       "elapsed": 0.012671947479248047,
       "initial": 0,
       "n": 0,
       "ncols": null,
       "nrows": null,
       "postfix": null,
       "prefix": "2.7B",
       "rate": null,
       "total": 7,
       "unit": "it",
       "unit_divisor": 1000,
       "unit_scale": false
      },
      "application/vnd.jupyter.widget-view+json": {
       "model_id": "52ca74b5734a4030865d369b82e815c7",
       "version_major": 2,
       "version_minor": 0
      },
      "text/plain": [
       "2.7B:   0%|          | 0/7 [00:00<?, ?it/s]"
      ]
     },
     "metadata": {},
     "output_type": "display_data"
    },
    {
     "data": {
      "application/json": {
       "ascii": false,
       "bar_format": null,
       "colour": null,
       "elapsed": 0.013166666030883789,
       "initial": 0,
       "n": 0,
       "ncols": null,
       "nrows": null,
       "postfix": null,
       "prefix": "1.3B",
       "rate": null,
       "total": 7,
       "unit": "it",
       "unit_divisor": 1000,
       "unit_scale": false
      },
      "application/vnd.jupyter.widget-view+json": {
       "model_id": "4ca1c0b8e6d949f88ad0b460eaede666",
       "version_major": 2,
       "version_minor": 0
      },
      "text/plain": [
       "1.3B:   0%|          | 0/7 [00:00<?, ?it/s]"
      ]
     },
     "metadata": {},
     "output_type": "display_data"
    },
    {
     "data": {
      "application/json": {
       "ascii": false,
       "bar_format": null,
       "colour": null,
       "elapsed": 0.01303410530090332,
       "initial": 0,
       "n": 0,
       "ncols": null,
       "nrows": null,
       "postfix": null,
       "prefix": "1.3B_deduped",
       "rate": null,
       "total": 7,
       "unit": "it",
       "unit_divisor": 1000,
       "unit_scale": false
      },
      "application/vnd.jupyter.widget-view+json": {
       "model_id": "b0f6f8b493cb46cd990da29ae9bab9d4",
       "version_major": 2,
       "version_minor": 0
      },
      "text/plain": [
       "1.3B_deduped:   0%|          | 0/7 [00:00<?, ?it/s]"
      ]
     },
     "metadata": {},
     "output_type": "display_data"
    },
    {
     "data": {
      "application/json": {
       "ascii": false,
       "bar_format": null,
       "colour": null,
       "elapsed": 0.012872457504272461,
       "initial": 0,
       "n": 0,
       "ncols": null,
       "nrows": null,
       "postfix": null,
       "prefix": "800M",
       "rate": null,
       "total": 7,
       "unit": "it",
       "unit_divisor": 1000,
       "unit_scale": false
      },
      "application/vnd.jupyter.widget-view+json": {
       "model_id": "fbe9d5009e59486b9809e31470093f94",
       "version_major": 2,
       "version_minor": 0
      },
      "text/plain": [
       "800M:   0%|          | 0/7 [00:00<?, ?it/s]"
      ]
     },
     "metadata": {},
     "output_type": "display_data"
    },
    {
     "data": {
      "application/json": {
       "ascii": false,
       "bar_format": null,
       "colour": null,
       "elapsed": 0.013126134872436523,
       "initial": 0,
       "n": 0,
       "ncols": null,
       "nrows": null,
       "postfix": null,
       "prefix": "800M_deduped",
       "rate": null,
       "total": 7,
       "unit": "it",
       "unit_divisor": 1000,
       "unit_scale": false
      },
      "application/vnd.jupyter.widget-view+json": {
       "model_id": "6ac023cbb41b470899107b96ecfa164f",
       "version_major": 2,
       "version_minor": 0
      },
      "text/plain": [
       "800M_deduped:   0%|          | 0/7 [00:00<?, ?it/s]"
      ]
     },
     "metadata": {},
     "output_type": "display_data"
    },
    {
     "data": {
      "application/json": {
       "ascii": false,
       "bar_format": null,
       "colour": null,
       "elapsed": 0.012759685516357422,
       "initial": 0,
       "n": 0,
       "ncols": null,
       "nrows": null,
       "postfix": null,
       "prefix": "350M",
       "rate": null,
       "total": 7,
       "unit": "it",
       "unit_divisor": 1000,
       "unit_scale": false
      },
      "application/vnd.jupyter.widget-view+json": {
       "model_id": "9a4ca3d0a1714a7eaa28a4c76f435afb",
       "version_major": 2,
       "version_minor": 0
      },
      "text/plain": [
       "350M:   0%|          | 0/7 [00:00<?, ?it/s]"
      ]
     },
     "metadata": {},
     "output_type": "display_data"
    },
    {
     "data": {
      "application/json": {
       "ascii": false,
       "bar_format": null,
       "colour": null,
       "elapsed": 0.012842416763305664,
       "initial": 0,
       "n": 0,
       "ncols": null,
       "nrows": null,
       "postfix": null,
       "prefix": "350M_deduped",
       "rate": null,
       "total": 7,
       "unit": "it",
       "unit_divisor": 1000,
       "unit_scale": false
      },
      "application/vnd.jupyter.widget-view+json": {
       "model_id": "4b1dc20afd464d5cb136cede6a27777d",
       "version_major": 2,
       "version_minor": 0
      },
      "text/plain": [
       "350M_deduped:   0%|          | 0/7 [00:00<?, ?it/s]"
      ]
     },
     "metadata": {},
     "output_type": "display_data"
    },
    {
     "data": {
      "application/json": {
       "ascii": false,
       "bar_format": null,
       "colour": null,
       "elapsed": 0.013019800186157227,
       "initial": 0,
       "n": 0,
       "ncols": null,
       "nrows": null,
       "postfix": null,
       "prefix": "125M",
       "rate": null,
       "total": 7,
       "unit": "it",
       "unit_divisor": 1000,
       "unit_scale": false
      },
      "application/vnd.jupyter.widget-view+json": {
       "model_id": "a0e98798b22d49efaa7caa706abee605",
       "version_major": 2,
       "version_minor": 0
      },
      "text/plain": [
       "125M:   0%|          | 0/7 [00:00<?, ?it/s]"
      ]
     },
     "metadata": {},
     "output_type": "display_data"
    },
    {
     "data": {
      "application/json": {
       "ascii": false,
       "bar_format": null,
       "colour": null,
       "elapsed": 0.012701749801635742,
       "initial": 0,
       "n": 0,
       "ncols": null,
       "nrows": null,
       "postfix": null,
       "prefix": "125M_deduped",
       "rate": null,
       "total": 7,
       "unit": "it",
       "unit_divisor": 1000,
       "unit_scale": false
      },
      "application/vnd.jupyter.widget-view+json": {
       "model_id": "fc9d78c09d1b4fb9ae6fff8588849bea",
       "version_major": 2,
       "version_minor": 0
      },
      "text/plain": [
       "125M_deduped:   0%|          | 0/7 [00:00<?, ?it/s]"
      ]
     },
     "metadata": {},
     "output_type": "display_data"
    }
   ],
   "source": [
    "memorization_results = {}\n",
    "for model, checkpoints in models.items():\n",
    "    for checkpoint in tqdm(checkpoints, desc=model):\n",
    "        filename = os.path.join(filepath, f'memorization_results_{model}-{checkpoint}.csv.hdf')\n",
    "        model_name = f'{model}-{checkpoint}'\n",
    "        try:\n",
    "            memorization_results[model_name] = pd.read_hdf(filename, key='memorization')\n",
    "        except Exception as e:\n",
    "            csv = pd.read_csv(os.path.join(filepath, f'memorization_results_{model}-{checkpoint}.csv'))\n",
    "            csv.to_hdf(filename, key='memorization', index=False)\n",
    "            memorization_results[model_name] = csv\n",
    "            "
   ]
  },
  {
   "cell_type": "code",
   "execution_count": 10,
   "id": "c8cd43bb",
   "metadata": {},
   "outputs": [
    {
     "data": {
      "text/html": [
       "\n",
       "        <style>\n",
       "            .jupyter-widgets {color: #d5d5d5 !important;}\n",
       "            .widget-label {color: #d5d5d5 !important;}\n",
       "        </style>\n",
       "    "
      ],
      "text/plain": [
       "<IPython.core.display.HTML object>"
      ]
     },
     "metadata": {},
     "output_type": "display_data"
    }
   ],
   "source": [
    "from matplotlib import pyplot as plt\n",
    "import matplotlib\n",
    "import numpy as np"
   ]
  },
  {
   "cell_type": "markdown",
   "id": "1f238876",
   "metadata": {},
   "source": [
    "# Simple Multiprocess Manager"
   ]
  },
  {
   "cell_type": "code",
   "execution_count": 11,
   "id": "d11d7749",
   "metadata": {},
   "outputs": [
    {
     "data": {
      "text/html": [
       "\n",
       "        <style>\n",
       "            .jupyter-widgets {color: #d5d5d5 !important;}\n",
       "            .widget-label {color: #d5d5d5 !important;}\n",
       "        </style>\n",
       "    "
      ],
      "text/plain": [
       "<IPython.core.display.HTML object>"
      ]
     },
     "metadata": {},
     "output_type": "display_data"
    }
   ],
   "source": [
    "class MPManager:\n",
    "    '''A simple class for starting multiple processes simultaneously\n",
    "    \n",
    "    processes: Array[multiprocess.Process] instances\n",
    "    '''\n",
    "    \n",
    "    def __init__(self):\n",
    "        self.processes = []\n",
    "    \n",
    "    def add(self, process):\n",
    "        process.daemon=False\n",
    "        self.processes.append(process)\n",
    "        self.processes[-1].start()\n",
    "    \n",
    "    def join(self):\n",
    "        for process in self.processes:\n",
    "            process.join()"
   ]
  },
  {
   "cell_type": "markdown",
   "id": "294a129d",
   "metadata": {},
   "source": [
    "# Setting Params, styling"
   ]
  },
  {
   "cell_type": "code",
   "execution_count": 12,
   "id": "6f18df91",
   "metadata": {
    "scrolled": true
   },
   "outputs": [
    {
     "data": {
      "text/html": [
       "\n",
       "        <style>\n",
       "            .jupyter-widgets {color: #d5d5d5 !important;}\n",
       "            .widget-label {color: #d5d5d5 !important;}\n",
       "        </style>\n",
       "    "
      ],
      "text/plain": [
       "<IPython.core.display.HTML object>"
      ]
     },
     "metadata": {},
     "output_type": "display_data"
    }
   ],
   "source": [
    "size = 25\n",
    "def update_params():\n",
    "    params = {\n",
    "        'legend.fontsize': 'large',\n",
    "        'figure.figsize': (15,10),\n",
    "        'axes.labelsize': size,\n",
    "        'axes.titlesize': size,\n",
    "        'xtick.labelsize': size*0.75,\n",
    "        'ytick.labelsize': size*0.75,\n",
    "        'axes.titlepad': 25,\n",
    "        'font.family':'sans-serif',\n",
    "        'font.weight':'bold',\n",
    "    }\n",
    "    plt.rcParams.update(params)"
   ]
  },
  {
   "cell_type": "markdown",
   "id": "c1f6bbd4",
   "metadata": {},
   "source": [
    "# Model Accuracy Linear Regression plot"
   ]
  },
  {
   "cell_type": "code",
   "execution_count": 13,
   "id": "b36c608e",
   "metadata": {},
   "outputs": [
    {
     "data": {
      "text/html": [
       "\n",
       "        <style>\n",
       "            .jupyter-widgets {color: #d5d5d5 !important;}\n",
       "            .widget-label {color: #d5d5d5 !important;}\n",
       "        </style>\n",
       "    "
      ],
      "text/plain": [
       "<IPython.core.display.HTML object>"
      ]
     },
     "metadata": {},
     "output_type": "display_data"
    }
   ],
   "source": [
    "from itertools import cycle\n",
    "import multiprocessing as mp\n",
    "import scipy.stats as stats\n",
    "from sklearn.metrics import r2_score\n",
    "\n",
    "def plot_linear_regression_of_model(model, models, lock, percentile=0):\n",
    "    '''Wrapper Script to plot regression lines between memorization accuracy measured and Sequence Index\n",
    "    \n",
    "    `model`: Name of model\n",
    "    `models`: Dictionary of list of model names along with their corresponding checkpoints.\n",
    "    `percentile`: Sample only Indicies with accuracy more than or equal to k percentile accuracy\n",
    "    \n",
    "    Utilizes global variable `memorization_results` to get the required evals.\n",
    "    \n",
    "    Plots the regression lines with confidence intervals and stores regression metrics in a csv.\n",
    "    \n",
    "    Metrics Stored:\n",
    "        \"model\": Name of the model plotted\n",
    "        \"checkpoint\": Checkpoint of the model plotted\n",
    "        \"most memorized percentile\": `percentile` parameter of the current function\n",
    "        If L(x, p) denotes the line of best fit for model p at Sequence Index x, then we store\n",
    "        \"slope\": Defined as [L(x_max, p) - L(0, p)] / x_max\n",
    "        \"variation\": Total variation, defined as L(x_max, p) - L(0, p)\n",
    "        \"% change\": Percentage change induced by variation, defined as [L(x_max, p) - L(0, p)]/L(0, p)\n",
    "    '''\n",
    "    # Initialization and beautification\n",
    "    cycol = cycle(['violet', 'indigo', 'blue', 'green', 'yellow', 'orange', 'red'])\n",
    "    update_params()\n",
    "    fig = matplotlib.figure.Figure()\n",
    "    ax = fig.subplots()\n",
    "    res = {}\n",
    "    print(\" \", end=\"\", flush=True) # Bug of jupyter notebook. For more info, refer: https://github.com/tqdm/tqdm/issues/485\n",
    "    bar = tqdm(\n",
    "        desc=f'{model}-top {percentile} Linear Regression',\n",
    "        total=len(models[model])\n",
    "    )\n",
    "    \n",
    "    # Iterating through checkpoints\n",
    "    for (model_name, evals) in memorization_results.items():\n",
    "        m, checkpoint = model_name.split('-')\n",
    "        if(m != model): continue\n",
    "        checkpoint = int(checkpoint)\n",
    "        res[checkpoint] = plot_linear_regression_of_checkpoint(model_name, evals, ax, next(cycol), \n",
    "            percentile)\n",
    "        bar.update(1)\n",
    "    \n",
    "    # Titling and labeling plot\n",
    "    fig.suptitle(\"Memorization Accuracy\", fontsize=20)\n",
    "    fig.supxlabel(\"Sequence Index\", fontsize=20)\n",
    "    fig.supylabel(\"Accuracy\", fontsize=20)\n",
    "    ax.legend(loc='lower right')\n",
    "    \n",
    "    # Saving plots and metrics\n",
    "    fig.savefig(f'./plots/{model}-{percentile}_linear_regression.png', facecolor='white')\n",
    "    lock.acquire()\n",
    "    with open(f'./results/linear_regression.csv', 'a') as f:\n",
    "        for checkpoint, scores in res.items():\n",
    "            f.write(f'{model},{checkpoint},{percentile}')\n",
    "            for score in scores:\n",
    "                f.write(f',{score}')\n",
    "            f.write('\\n')\n",
    "    bar.close()\n",
    "    lock.release()\n",
    "    \n",
    "    \n",
    "    \n",
    "\n",
    "def plot_linear_regression_of_checkpoint(model_name, evals, axis, color, precentile = 0):\n",
    "    '''Generates a linear regression plot and returns a tuple of results\n",
    "    \n",
    "    `model_name`: String with model and it's checkpoint\n",
    "    `evals`: Evaluation results of corresponding model on corresponding checkpoint\n",
    "    `axis`, `color`: Plotting params\n",
    "    `percentile`: Sample only Indicies with accuracy more than or equal to k percentile accuracy\n",
    "    \n",
    "    Returns:\n",
    "        tuple(\n",
    "            slope: slope of regression line\n",
    "            variation: Total variation, defined above\n",
    "            % change: percentage change induced by variation, defined above\n",
    "        )\n",
    "    '''\n",
    "    # Top percentile evals\n",
    "    top_percentile_accuracy = np.percentile(evals['accuracy'],precentile)\n",
    "    top_percentile_evals = evals[evals['accuracy'] >= top_percentile_accuracy]\n",
    "    \n",
    "    # Actually performing regression\n",
    "    indicies, accuracy = top_percentile_evals['index'], top_percentile_evals['accuracy']\n",
    "    a,b = np.polyfit(indicies, accuracy,1)\n",
    "    acc_best_fit = a*indicies+b\n",
    "    results = (\n",
    "        a, # Slope\n",
    "        acc_best_fit.iloc[-1] - acc_best_fit.iloc[0], # Variation\n",
    "        (acc_best_fit.iloc[-1] - acc_best_fit.iloc[0])*100/acc_best_fit.iloc[0] # % change\n",
    "    )\n",
    "    \n",
    "    # Confidence Interval plots\n",
    "    y_model = np.polyval([a, b], indicies)\n",
    "    x_mean = indicies.mean()\n",
    "    y_mean = accuracy.mean()\n",
    "    dof = len(indicies) - 2\n",
    "    t = stats.t.ppf(0.99999, dof) \n",
    "    residual = accuracy - y_model\n",
    "    std_error = (np.sum(residual**2) / dof)**.5\n",
    "    x_line = np.linspace(np.min(indicies), np.max(indicies), int(1e6))\n",
    "    y_line = np.polyval([a, b], x_line)\n",
    "    ci = t * std_error * (1/len(indicies) + (x_line - x_mean)**2 / np.sum((indicies - x_mean)**2))**.5\n",
    "    \n",
    "    # Actually plotting data\n",
    "    axis.plot(x_line, y_line,\n",
    "        color=color, label=model_name)\n",
    "    axis.fill_between(x_line, (y_line-ci), (y_line+ci), color=color, alpha=0.2)\n",
    "    return results"
   ]
  },
  {
   "cell_type": "markdown",
   "id": "7d5eda37",
   "metadata": {},
   "source": [
    "# Bucketed Memorization Plots"
   ]
  },
  {
   "cell_type": "code",
   "execution_count": 14,
   "id": "fb0dc37f",
   "metadata": {
    "scrolled": true
   },
   "outputs": [
    {
     "data": {
      "text/html": [
       "\n",
       "        <style>\n",
       "            .jupyter-widgets {color: #d5d5d5 !important;}\n",
       "            .widget-label {color: #d5d5d5 !important;}\n",
       "        </style>\n",
       "    "
      ],
      "text/plain": [
       "<IPython.core.display.HTML object>"
      ]
     },
     "metadata": {},
     "output_type": "display_data"
    }
   ],
   "source": [
    "from itertools import cycle\n",
    "cycol = cycle(['violet', 'indigo', 'blue', 'green', 'yellow', 'orange', 'red'])\n",
    "\n",
    "def plot_bucketed_scores_of_model(model, models, lock, percentile=0, metric='accuracy'):\n",
    "    '''Wrapper Script to plot bucketed mean plots between memorization accuracy measured and Sequence Index\n",
    "    \n",
    "    `model`: Name of model\n",
    "    `models`: Dictionary of list of model names along with their corresponding checkpoints.\n",
    "    `percentile`: Sample only Indicies with accuracy more than or equal to k percentile accuracy\n",
    "    `metric`: Could be one of accuracy or nll_loss. Using Accuracy only for now.\n",
    "    \n",
    "    Utilizes global variable `memorization_results` to get the required evals.\n",
    "    \n",
    "    Plots the bucketed memorization plots.\n",
    "    '''\n",
    "    # Initialization and beautification\n",
    "    cycol = cycle(['violet', 'indigo', 'blue', 'green', 'yellow', 'orange', 'red'])\n",
    "    fig = matplotlib.figure.Figure()\n",
    "    ax = fig.subplots()\n",
    "    print(\" \", end=\"\", flush=True)\n",
    "    bar = tqdm(\n",
    "        desc=f'{model}-top {percentile} Bucketed Memorization',\n",
    "        total=len(models[model])\n",
    "    )\n",
    "    \n",
    "    # Iterating through checkpoints\n",
    "    for (model_name, evals) in memorization_results.items():\n",
    "        m, checkpoint = model_name.split('-')\n",
    "        if(m != model): continue\n",
    "        checkpoint = int(checkpoint)\n",
    "        plot_bucketed_scores_of_checkpoint(\n",
    "            model_name, evals, \n",
    "           ax, next(cycol), \n",
    "           percentile, \n",
    "           metric=metric\n",
    "        )\n",
    "        bar.update(1)\n",
    "    \n",
    "    # Titling and labeling plot\n",
    "    fig.suptitle(\"Bucketed Memorization Accuracy\", fontsize=20)\n",
    "    fig.supxlabel(\"Sequence Index\", fontsize=20)\n",
    "    fig.supylabel(\"Accuracy\", fontsize=20)\n",
    "    ax.legend(loc='lower right')\n",
    "    \n",
    "    # Saving plot\n",
    "    fig.savefig(f'./plots/{model}-{percentile}_bucketed_memorization.png', facecolor='white')\n",
    "    bar.close()\n",
    "\n",
    "def plot_bucketed_scores_of_checkpoint(\n",
    "    model_name, evals, axis, color, \n",
    "    precentile = 0, \n",
    "    bucket_size=235520,\n",
    "    metric='accuracy'\n",
    "):\n",
    "    '''Plots bucketed memorization scores\n",
    "    \n",
    "    `model_name`: String with model and it's checkpoint\n",
    "    `evals`: Evaluation results of corresponding model on corresponding checkpoint\n",
    "    `axis`, `color`: Plotting params\n",
    "    `percentile`: Sample only Indicies with accuracy more than or equal to k percentile accuracy\n",
    "    `bucket_size`: Number of samples to group into one bucket, Score of a bucket is individual scores' mean\n",
    "    `metric`: Is only accuracy for now\n",
    "    '''\n",
    "    # Top percentile evals\n",
    "    top_percentile_metric = np.percentile(evals[metric],precentile)\n",
    "    top_percentile_evals = evals[evals[metric] >= top_percentile_metric]\n",
    "    \n",
    "    # Bucketing data and calculating errors\n",
    "    indicies = []\n",
    "    metric_means = []\n",
    "    metric_errs = []\n",
    "    for i in range(0, (len(evals)),bucket_size):\n",
    "        result = top_percentile_evals[\n",
    "            (i <= top_percentile_evals['index']) & \n",
    "            (top_percentile_evals['index'] < (i+bucket_size))\n",
    "        ]\n",
    "        if(len(result) == 0):\n",
    "            continue\n",
    "        indicies.append(result['index'].iloc[-1])\n",
    "        metric_means.append(result[metric].mean())\n",
    "        metric_errs.append(result[metric].std()/np.sqrt(len(result)))\n",
    "    \n",
    "    # Plotting the results\n",
    "    axis.plot(indicies, metric_means, label=model_name, color=color)"
   ]
  },
  {
   "cell_type": "markdown",
   "id": "c7a2421e",
   "metadata": {},
   "source": [
    "# Parallelizing plot generations"
   ]
  },
  {
   "cell_type": "code",
   "execution_count": 15,
   "id": "75594fd0",
   "metadata": {},
   "outputs": [
    {
     "data": {
      "text/html": [
       "\n",
       "        <style>\n",
       "            .jupyter-widgets {color: #d5d5d5 !important;}\n",
       "            .widget-label {color: #d5d5d5 !important;}\n",
       "        </style>\n",
       "    "
      ],
      "text/plain": [
       "<IPython.core.display.HTML object>"
      ]
     },
     "metadata": {},
     "output_type": "display_data"
    },
    {
     "name": "stdout",
     "output_type": "stream",
     "text": [
      "        "
     ]
    },
    {
     "data": {
      "application/json": {
       "ascii": false,
       "bar_format": null,
       "colour": null,
       "elapsed": 0.835209846496582,
       "initial": 0,
       "n": 0,
       "ncols": null,
       "nrows": null,
       "postfix": null,
       "prefix": "13B-top 0 Bucketed Memorization",
       "rate": null,
       "total": 7,
       "unit": "it",
       "unit_divisor": 1000,
       "unit_scale": false
      },
      "application/vnd.jupyter.widget-view+json": {
       "model_id": "14a31ff9d6c9490690815ff17a9cd6e3",
       "version_major": 2,
       "version_minor": 0
      },
      "text/plain": [
       "13B-top 0 Bucketed Memorization:   0%|          | 0/7 [00:00<?, ?it/s]"
      ]
     },
     "metadata": {},
     "output_type": "display_data"
    },
    {
     "data": {
      "application/json": {
       "ascii": false,
       "bar_format": null,
       "colour": null,
       "elapsed": 0.8360021114349365,
       "initial": 0,
       "n": 0,
       "ncols": null,
       "nrows": null,
       "postfix": null,
       "prefix": "13B-top 90 Bucketed Memorization",
       "rate": null,
       "total": 7,
       "unit": "it",
       "unit_divisor": 1000,
       "unit_scale": false
      },
      "application/vnd.jupyter.widget-view+json": {
       "model_id": "4ecea1a318474686b8531067b380a156",
       "version_major": 2,
       "version_minor": 0
      },
      "text/plain": [
       "13B-top 90 Bucketed Memorization:   0%|          | 0/7 [00:00<?, ?it/s]"
      ]
     },
     "metadata": {},
     "output_type": "display_data"
    },
    {
     "name": "stdout",
     "output_type": "stream",
     "text": [
      " "
     ]
    },
    {
     "data": {
      "application/json": {
       "ascii": false,
       "bar_format": null,
       "colour": null,
       "elapsed": 0.8385987281799316,
       "initial": 0,
       "n": 0,
       "ncols": null,
       "nrows": null,
       "postfix": null,
       "prefix": "13B-top 99 Bucketed Memorization",
       "rate": null,
       "total": 7,
       "unit": "it",
       "unit_divisor": 1000,
       "unit_scale": false
      },
      "application/vnd.jupyter.widget-view+json": {
       "model_id": "7fcf9ed24b0046309a53c332e6054bff",
       "version_major": 2,
       "version_minor": 0
      },
      "text/plain": [
       "13B-top 99 Bucketed Memorization:   0%|          | 0/7 [00:00<?, ?it/s]"
      ]
     },
     "metadata": {},
     "output_type": "display_data"
    },
    {
     "name": "stdout",
     "output_type": "stream",
     "text": [
      " "
     ]
    },
    {
     "data": {
      "application/json": {
       "ascii": false,
       "bar_format": null,
       "colour": null,
       "elapsed": 0.8404660224914551,
       "initial": 0,
       "n": 0,
       "ncols": null,
       "nrows": null,
       "postfix": null,
       "prefix": "13B-top 0 Linear Regression",
       "rate": null,
       "total": 7,
       "unit": "it",
       "unit_divisor": 1000,
       "unit_scale": false
      },
      "application/vnd.jupyter.widget-view+json": {
       "model_id": "9222c13b00f1416ebccf74074f26b0ad",
       "version_major": 2,
       "version_minor": 0
      },
      "text/plain": [
       "13B-top 0 Linear Regression:   0%|          | 0/7 [00:00<?, ?it/s]"
      ]
     },
     "metadata": {},
     "output_type": "display_data"
    },
    {
     "name": "stdout",
     "output_type": "stream",
     "text": [
      " "
     ]
    },
    {
     "data": {
      "application/json": {
       "ascii": false,
       "bar_format": null,
       "colour": null,
       "elapsed": 0.8438675403594971,
       "initial": 0,
       "n": 0,
       "ncols": null,
       "nrows": null,
       "postfix": null,
       "prefix": "13B-top 99 Linear Regression",
       "rate": null,
       "total": 7,
       "unit": "it",
       "unit_divisor": 1000,
       "unit_scale": false
      },
      "application/vnd.jupyter.widget-view+json": {
       "model_id": "721f6cdff95d4397921f9d9adc23db6f",
       "version_major": 2,
       "version_minor": 0
      },
      "text/plain": [
       "13B-top 99 Linear Regression:   0%|          | 0/7 [00:00<?, ?it/s]"
      ]
     },
     "metadata": {},
     "output_type": "display_data"
    },
    {
     "name": "stdout",
     "output_type": "stream",
     "text": [
      " "
     ]
    },
    {
     "data": {
      "application/json": {
       "ascii": false,
       "bar_format": null,
       "colour": null,
       "elapsed": 0.8464756011962891,
       "initial": 0,
       "n": 0,
       "ncols": null,
       "nrows": null,
       "postfix": null,
       "prefix": "13B-top 90 Linear Regression",
       "rate": null,
       "total": 7,
       "unit": "it",
       "unit_divisor": 1000,
       "unit_scale": false
      },
      "application/vnd.jupyter.widget-view+json": {
       "model_id": "25828fa7151648f092434d7aae2af15e",
       "version_major": 2,
       "version_minor": 0
      },
      "text/plain": [
       "13B-top 90 Linear Regression:   0%|          | 0/7 [00:00<?, ?it/s]"
      ]
     },
     "metadata": {},
     "output_type": "display_data"
    },
    {
     "name": "stdout",
     "output_type": "stream",
     "text": [
      " "
     ]
    },
    {
     "data": {
      "application/json": {
       "ascii": false,
       "bar_format": null,
       "colour": null,
       "elapsed": 0.851553201675415,
       "initial": 0,
       "n": 0,
       "ncols": null,
       "nrows": null,
       "postfix": null,
       "prefix": "13B_deduped-top 0 Bucketed Memorization",
       "rate": null,
       "total": 7,
       "unit": "it",
       "unit_divisor": 1000,
       "unit_scale": false
      },
      "application/vnd.jupyter.widget-view+json": {
       "model_id": "f2e8ca71e2df4c6980c4bc41a0c7c182",
       "version_major": 2,
       "version_minor": 0
      },
      "text/plain": [
       "13B_deduped-top 0 Bucketed Memorization:   0%|          | 0/7 [00:00<?, ?it/s]"
      ]
     },
     "metadata": {},
     "output_type": "display_data"
    },
    {
     "name": "stdout",
     "output_type": "stream",
     "text": [
      " "
     ]
    },
    {
     "data": {
      "application/json": {
       "ascii": false,
       "bar_format": null,
       "colour": null,
       "elapsed": 0.8595876693725586,
       "initial": 0,
       "n": 0,
       "ncols": null,
       "nrows": null,
       "postfix": null,
       "prefix": "13B_deduped-top 90 Bucketed Memorization",
       "rate": null,
       "total": 7,
       "unit": "it",
       "unit_divisor": 1000,
       "unit_scale": false
      },
      "application/vnd.jupyter.widget-view+json": {
       "model_id": "a069f5c4d4f74a688bb5fdaf28aed0a4",
       "version_major": 2,
       "version_minor": 0
      },
      "text/plain": [
       "13B_deduped-top 90 Bucketed Memorization:   0%|          | 0/7 [00:00<?, ?it/s]"
      ]
     },
     "metadata": {},
     "output_type": "display_data"
    },
    {
     "data": {
      "application/json": {
       "ascii": false,
       "bar_format": null,
       "colour": null,
       "elapsed": 0.7250931262969971,
       "initial": 0,
       "n": 0,
       "ncols": null,
       "nrows": null,
       "postfix": null,
       "prefix": "13B_deduped-top 99 Bucketed Memorization",
       "rate": null,
       "total": 7,
       "unit": "it",
       "unit_divisor": 1000,
       "unit_scale": false
      },
      "application/vnd.jupyter.widget-view+json": {
       "model_id": "25e634cd585a46fd8edbeb5d2fde682c",
       "version_major": 2,
       "version_minor": 0
      },
      "text/plain": [
       "13B_deduped-top 99 Bucketed Memorization:   0%|          | 0/7 [00:00<?, ?it/s]"
      ]
     },
     "metadata": {},
     "output_type": "display_data"
    },
    {
     "name": "stdout",
     "output_type": "stream",
     "text": [
      " "
     ]
    },
    {
     "data": {
      "application/json": {
       "ascii": false,
       "bar_format": null,
       "colour": null,
       "elapsed": 0.7437419891357422,
       "initial": 0,
       "n": 0,
       "ncols": null,
       "nrows": null,
       "postfix": null,
       "prefix": "13B_deduped-top 0 Linear Regression",
       "rate": null,
       "total": 7,
       "unit": "it",
       "unit_divisor": 1000,
       "unit_scale": false
      },
      "application/vnd.jupyter.widget-view+json": {
       "model_id": "93a4d6c037194505b1af572784d19753",
       "version_major": 2,
       "version_minor": 0
      },
      "text/plain": [
       "13B_deduped-top 0 Linear Regression:   0%|          | 0/7 [00:00<?, ?it/s]"
      ]
     },
     "metadata": {},
     "output_type": "display_data"
    },
    {
     "name": "stdout",
     "output_type": "stream",
     "text": [
      " "
     ]
    },
    {
     "data": {
      "application/json": {
       "ascii": false,
       "bar_format": null,
       "colour": null,
       "elapsed": 0.7497193813323975,
       "initial": 0,
       "n": 0,
       "ncols": null,
       "nrows": null,
       "postfix": null,
       "prefix": "13B_deduped-top 99 Linear Regression",
       "rate": null,
       "total": 7,
       "unit": "it",
       "unit_divisor": 1000,
       "unit_scale": false
      },
      "application/vnd.jupyter.widget-view+json": {
       "model_id": "a1dfc82f2d854c768b948a8191bfaa2c",
       "version_major": 2,
       "version_minor": 0
      },
      "text/plain": [
       "13B_deduped-top 99 Linear Regression:   0%|          | 0/7 [00:00<?, ?it/s]"
      ]
     },
     "metadata": {},
     "output_type": "display_data"
    },
    {
     "data": {
      "application/json": {
       "ascii": false,
       "bar_format": null,
       "colour": null,
       "elapsed": 0.6093306541442871,
       "initial": 0,
       "n": 0,
       "ncols": null,
       "nrows": null,
       "postfix": null,
       "prefix": "13B_deduped-top 90 Linear Regression",
       "rate": null,
       "total": 7,
       "unit": "it",
       "unit_divisor": 1000,
       "unit_scale": false
      },
      "application/vnd.jupyter.widget-view+json": {
       "model_id": "d834074350b049a0a7ed8ac493fa9252",
       "version_major": 2,
       "version_minor": 0
      },
      "text/plain": [
       "13B_deduped-top 90 Linear Regression:   0%|          | 0/7 [00:00<?, ?it/s]"
      ]
     },
     "metadata": {},
     "output_type": "display_data"
    },
    {
     "name": "stdout",
     "output_type": "stream",
     "text": [
      "  "
     ]
    },
    {
     "data": {
      "application/json": {
       "ascii": false,
       "bar_format": null,
       "colour": null,
       "elapsed": 0.6260309219360352,
       "initial": 0,
       "n": 0,
       "ncols": null,
       "nrows": null,
       "postfix": null,
       "prefix": "6.7B-top 90 Bucketed Memorization",
       "rate": null,
       "total": 7,
       "unit": "it",
       "unit_divisor": 1000,
       "unit_scale": false
      },
      "application/vnd.jupyter.widget-view+json": {
       "model_id": "fe2e40b61ea44d1aad71ec459f5dc7f0",
       "version_major": 2,
       "version_minor": 0
      },
      "text/plain": [
       "6.7B-top 90 Bucketed Memorization:   0%|          | 0/7 [00:00<?, ?it/s]"
      ]
     },
     "metadata": {},
     "output_type": "display_data"
    },
    {
     "name": "stdout",
     "output_type": "stream",
     "text": [
      " "
     ]
    },
    {
     "data": {
      "application/json": {
       "ascii": false,
       "bar_format": null,
       "colour": null,
       "elapsed": 0.7698869705200195,
       "initial": 0,
       "n": 0,
       "ncols": null,
       "nrows": null,
       "postfix": null,
       "prefix": "6.7B-top 0 Bucketed Memorization",
       "rate": null,
       "total": 7,
       "unit": "it",
       "unit_divisor": 1000,
       "unit_scale": false
      },
      "application/vnd.jupyter.widget-view+json": {
       "model_id": "415d47fefadd488c8a0d08c894691656",
       "version_major": 2,
       "version_minor": 0
      },
      "text/plain": [
       "6.7B-top 0 Bucketed Memorization:   0%|          | 0/7 [00:00<?, ?it/s]"
      ]
     },
     "metadata": {},
     "output_type": "display_data"
    },
    {
     "name": "stdout",
     "output_type": "stream",
     "text": [
      " "
     ]
    },
    {
     "data": {
      "application/json": {
       "ascii": false,
       "bar_format": null,
       "colour": null,
       "elapsed": 0.7900798320770264,
       "initial": 0,
       "n": 0,
       "ncols": null,
       "nrows": null,
       "postfix": null,
       "prefix": "6.7B-top 99 Bucketed Memorization",
       "rate": null,
       "total": 7,
       "unit": "it",
       "unit_divisor": 1000,
       "unit_scale": false
      },
      "application/vnd.jupyter.widget-view+json": {
       "model_id": "3ce87509f8ac40918f890ad20a838638",
       "version_major": 2,
       "version_minor": 0
      },
      "text/plain": [
       "6.7B-top 99 Bucketed Memorization:   0%|          | 0/7 [00:00<?, ?it/s]"
      ]
     },
     "metadata": {},
     "output_type": "display_data"
    },
    {
     "name": "stdout",
     "output_type": "stream",
     "text": [
      " "
     ]
    },
    {
     "data": {
      "application/json": {
       "ascii": false,
       "bar_format": null,
       "colour": null,
       "elapsed": 0.7922093868255615,
       "initial": 0,
       "n": 0,
       "ncols": null,
       "nrows": null,
       "postfix": null,
       "prefix": "6.7B-top 0 Linear Regression",
       "rate": null,
       "total": 7,
       "unit": "it",
       "unit_divisor": 1000,
       "unit_scale": false
      },
      "application/vnd.jupyter.widget-view+json": {
       "model_id": "ac6b1ac5b2f94cf3a7ed27b1352a3b27",
       "version_major": 2,
       "version_minor": 0
      },
      "text/plain": [
       "6.7B-top 0 Linear Regression:   0%|          | 0/7 [00:00<?, ?it/s]"
      ]
     },
     "metadata": {},
     "output_type": "display_data"
    },
    {
     "name": "stdout",
     "output_type": "stream",
     "text": [
      "          "
     ]
    },
    {
     "data": {
      "application/json": {
       "ascii": false,
       "bar_format": null,
       "colour": null,
       "elapsed": 1.1624798774719238,
       "initial": 0,
       "n": 0,
       "ncols": null,
       "nrows": null,
       "postfix": null,
       "prefix": "6.7B_deduped-top 90 Bucketed Memorization",
       "rate": null,
       "total": 7,
       "unit": "it",
       "unit_divisor": 1000,
       "unit_scale": false
      },
      "application/vnd.jupyter.widget-view+json": {
       "model_id": "28b292601cdb4f84b3ecb85db214a5cd",
       "version_major": 2,
       "version_minor": 0
      },
      "text/plain": [
       "6.7B_deduped-top 90 Bucketed Memorization:   0%|          | 0/7 [00:01<?, ?it/s]"
      ]
     },
     "metadata": {},
     "output_type": "display_data"
    },
    {
     "data": {
      "application/json": {
       "ascii": false,
       "bar_format": null,
       "colour": null,
       "elapsed": 1.3319957256317139,
       "initial": 0,
       "n": 0,
       "ncols": null,
       "nrows": null,
       "postfix": null,
       "prefix": "6.7B-top 99 Linear Regression",
       "rate": null,
       "total": 7,
       "unit": "it",
       "unit_divisor": 1000,
       "unit_scale": false
      },
      "application/vnd.jupyter.widget-view+json": {
       "model_id": "f876c89692ca42edb43ddb89f76ab404",
       "version_major": 2,
       "version_minor": 0
      },
      "text/plain": [
       "6.7B-top 99 Linear Regression:   0%|          | 0/7 [00:01<?, ?it/s]"
      ]
     },
     "metadata": {},
     "output_type": "display_data"
    },
    {
     "data": {
      "application/json": {
       "ascii": false,
       "bar_format": null,
       "colour": null,
       "elapsed": 1.3317241668701172,
       "initial": 0,
       "n": 0,
       "ncols": null,
       "nrows": null,
       "postfix": null,
       "prefix": "6.7B-top 90 Linear Regression",
       "rate": null,
       "total": 7,
       "unit": "it",
       "unit_divisor": 1000,
       "unit_scale": false
      },
      "application/vnd.jupyter.widget-view+json": {
       "model_id": "d4b963c3f1384ad2a5a54731fd19a663",
       "version_major": 2,
       "version_minor": 0
      },
      "text/plain": [
       "6.7B-top 90 Linear Regression:   0%|          | 0/7 [00:01<?, ?it/s]"
      ]
     },
     "metadata": {},
     "output_type": "display_data"
    },
    {
     "name": "stdout",
     "output_type": "stream",
     "text": [
      " "
     ]
    },
    {
     "data": {
      "application/json": {
       "ascii": false,
       "bar_format": null,
       "colour": null,
       "elapsed": 1.370514154434204,
       "initial": 0,
       "n": 0,
       "ncols": null,
       "nrows": null,
       "postfix": null,
       "prefix": "6.7B_deduped-top 99 Bucketed Memorization",
       "rate": null,
       "total": 7,
       "unit": "it",
       "unit_divisor": 1000,
       "unit_scale": false
      },
      "application/vnd.jupyter.widget-view+json": {
       "model_id": "9cd0de4e3b244045a4e92e2579d04536",
       "version_major": 2,
       "version_minor": 0
      },
      "text/plain": [
       "6.7B_deduped-top 99 Bucketed Memorization:   0%|          | 0/7 [00:01<?, ?it/s]"
      ]
     },
     "metadata": {},
     "output_type": "display_data"
    },
    {
     "data": {
      "application/json": {
       "ascii": false,
       "bar_format": null,
       "colour": null,
       "elapsed": 1.5393996238708496,
       "initial": 0,
       "n": 0,
       "ncols": null,
       "nrows": null,
       "postfix": null,
       "prefix": "6.7B_deduped-top 0 Bucketed Memorization",
       "rate": null,
       "total": 7,
       "unit": "it",
       "unit_divisor": 1000,
       "unit_scale": false
      },
      "application/vnd.jupyter.widget-view+json": {
       "model_id": "9ff4bb4df44041599c4dcf422495fd0d",
       "version_major": 2,
       "version_minor": 0
      },
      "text/plain": [
       "6.7B_deduped-top 0 Bucketed Memorization:   0%|          | 0/7 [00:01<?, ?it/s]"
      ]
     },
     "metadata": {},
     "output_type": "display_data"
    },
    {
     "name": "stdout",
     "output_type": "stream",
     "text": [
      "   "
     ]
    },
    {
     "data": {
      "application/json": {
       "ascii": false,
       "bar_format": null,
       "colour": null,
       "elapsed": 1.183633804321289,
       "initial": 0,
       "n": 0,
       "ncols": null,
       "nrows": null,
       "postfix": null,
       "prefix": "6.7B_deduped-top 90 Linear Regression",
       "rate": null,
       "total": 7,
       "unit": "it",
       "unit_divisor": 1000,
       "unit_scale": false
      },
      "application/vnd.jupyter.widget-view+json": {
       "model_id": "ada6ce02a8d549bd8de736baf4aa257b",
       "version_major": 2,
       "version_minor": 0
      },
      "text/plain": [
       "6.7B_deduped-top 90 Linear Regression:   0%|          | 0/7 [00:01<?, ?it/s]"
      ]
     },
     "metadata": {},
     "output_type": "display_data"
    },
    {
     "name": "stdout",
     "output_type": "stream",
     "text": [
      "  "
     ]
    },
    {
     "data": {
      "application/json": {
       "ascii": false,
       "bar_format": null,
       "colour": null,
       "elapsed": 1.3631904125213623,
       "initial": 0,
       "n": 0,
       "ncols": null,
       "nrows": null,
       "postfix": null,
       "prefix": "6.7B_deduped-top 0 Linear Regression",
       "rate": null,
       "total": 7,
       "unit": "it",
       "unit_divisor": 1000,
       "unit_scale": false
      },
      "application/vnd.jupyter.widget-view+json": {
       "model_id": "8c671430ea11482e876f7593d7665ce1",
       "version_major": 2,
       "version_minor": 0
      },
      "text/plain": [
       "6.7B_deduped-top 0 Linear Regression:   0%|          | 0/7 [00:01<?, ?it/s]"
      ]
     },
     "metadata": {},
     "output_type": "display_data"
    },
    {
     "data": {
      "application/json": {
       "ascii": false,
       "bar_format": null,
       "colour": null,
       "elapsed": 1.532033920288086,
       "initial": 0,
       "n": 0,
       "ncols": null,
       "nrows": null,
       "postfix": null,
       "prefix": "2.7B-top 0 Bucketed Memorization",
       "rate": null,
       "total": 7,
       "unit": "it",
       "unit_divisor": 1000,
       "unit_scale": false
      },
      "application/vnd.jupyter.widget-view+json": {
       "model_id": "d630b1bfd7b94624893863764a0a6615",
       "version_major": 2,
       "version_minor": 0
      },
      "text/plain": [
       "2.7B-top 0 Bucketed Memorization:   0%|          | 0/7 [00:01<?, ?it/s]"
      ]
     },
     "metadata": {},
     "output_type": "display_data"
    },
    {
     "data": {
      "application/json": {
       "ascii": false,
       "bar_format": null,
       "colour": null,
       "elapsed": 0.9868950843811035,
       "initial": 0,
       "n": 0,
       "ncols": null,
       "nrows": null,
       "postfix": null,
       "prefix": "2.7B-top 99 Linear Regression",
       "rate": null,
       "total": 7,
       "unit": "it",
       "unit_divisor": 1000,
       "unit_scale": false
      },
      "application/vnd.jupyter.widget-view+json": {
       "model_id": "51f8de62cddf47e0b930f6733a785268",
       "version_major": 2,
       "version_minor": 0
      },
      "text/plain": [
       "2.7B-top 99 Linear Regression:   0%|          | 0/7 [00:00<?, ?it/s]"
      ]
     },
     "metadata": {},
     "output_type": "display_data"
    },
    {
     "name": "stdout",
     "output_type": "stream",
     "text": [
      " "
     ]
    },
    {
     "data": {
      "application/json": {
       "ascii": false,
       "bar_format": null,
       "colour": null,
       "elapsed": 1.1785337924957275,
       "initial": 0,
       "n": 0,
       "ncols": null,
       "nrows": null,
       "postfix": null,
       "prefix": "2.7B-top 90 Bucketed Memorization",
       "rate": null,
       "total": 7,
       "unit": "it",
       "unit_divisor": 1000,
       "unit_scale": false
      },
      "application/vnd.jupyter.widget-view+json": {
       "model_id": "2c52725cdafa425fa28d95813122cdad",
       "version_major": 2,
       "version_minor": 0
      },
      "text/plain": [
       "2.7B-top 90 Bucketed Memorization:   0%|          | 0/7 [00:01<?, ?it/s]"
      ]
     },
     "metadata": {},
     "output_type": "display_data"
    },
    {
     "data": {
      "application/json": {
       "ascii": false,
       "bar_format": null,
       "colour": null,
       "elapsed": 1.1812224388122559,
       "initial": 0,
       "n": 0,
       "ncols": null,
       "nrows": null,
       "postfix": null,
       "prefix": "6.7B_deduped-top 99 Linear Regression",
       "rate": null,
       "total": 7,
       "unit": "it",
       "unit_divisor": 1000,
       "unit_scale": false
      },
      "application/vnd.jupyter.widget-view+json": {
       "model_id": "a5fddf4adf954877a920e52a1125241f",
       "version_major": 2,
       "version_minor": 0
      },
      "text/plain": [
       "6.7B_deduped-top 99 Linear Regression:   0%|          | 0/7 [00:01<?, ?it/s]"
      ]
     },
     "metadata": {},
     "output_type": "display_data"
    },
    {
     "name": "stdout",
     "output_type": "stream",
     "text": [
      "   "
     ]
    },
    {
     "data": {
      "application/json": {
       "ascii": false,
       "bar_format": null,
       "colour": null,
       "elapsed": 1.1368739604949951,
       "initial": 0,
       "n": 0,
       "ncols": null,
       "nrows": null,
       "postfix": null,
       "prefix": "2.7B-top 99 Bucketed Memorization",
       "rate": null,
       "total": 7,
       "unit": "it",
       "unit_divisor": 1000,
       "unit_scale": false
      },
      "application/vnd.jupyter.widget-view+json": {
       "model_id": "8f7fd677c36b4c36885336e07afcc9f3",
       "version_major": 2,
       "version_minor": 0
      },
      "text/plain": [
       "2.7B-top 99 Bucketed Memorization:   0%|          | 0/7 [00:01<?, ?it/s]"
      ]
     },
     "metadata": {},
     "output_type": "display_data"
    },
    {
     "data": {
      "application/json": {
       "ascii": false,
       "bar_format": null,
       "colour": null,
       "elapsed": 1.1375541687011719,
       "initial": 0,
       "n": 0,
       "ncols": null,
       "nrows": null,
       "postfix": null,
       "prefix": "2.7B-top 0 Linear Regression",
       "rate": null,
       "total": 7,
       "unit": "it",
       "unit_divisor": 1000,
       "unit_scale": false
      },
      "application/vnd.jupyter.widget-view+json": {
       "model_id": "ac2477ce6ea94639b5d3bec5fb84b043",
       "version_major": 2,
       "version_minor": 0
      },
      "text/plain": [
       "2.7B-top 0 Linear Regression:   0%|          | 0/7 [00:01<?, ?it/s]"
      ]
     },
     "metadata": {},
     "output_type": "display_data"
    },
    {
     "name": "stdout",
     "output_type": "stream",
     "text": [
      " "
     ]
    },
    {
     "data": {
      "application/json": {
       "ascii": false,
       "bar_format": null,
       "colour": null,
       "elapsed": 1.3539934158325195,
       "initial": 0,
       "n": 0,
       "ncols": null,
       "nrows": null,
       "postfix": null,
       "prefix": "1.3B-top 0 Bucketed Memorization",
       "rate": null,
       "total": 7,
       "unit": "it",
       "unit_divisor": 1000,
       "unit_scale": false
      },
      "application/vnd.jupyter.widget-view+json": {
       "model_id": "10d7e5e2e32447bd9cd1d0e6dea743a7",
       "version_major": 2,
       "version_minor": 0
      },
      "text/plain": [
       "1.3B-top 0 Bucketed Memorization:   0%|          | 0/7 [00:01<?, ?it/s]"
      ]
     },
     "metadata": {},
     "output_type": "display_data"
    },
    {
     "name": "stdout",
     "output_type": "stream",
     "text": [
      " "
     ]
    },
    {
     "data": {
      "application/json": {
       "ascii": false,
       "bar_format": null,
       "colour": null,
       "elapsed": 0.698056697845459,
       "initial": 0,
       "n": 0,
       "ncols": null,
       "nrows": null,
       "postfix": null,
       "prefix": "1.3B_deduped-top 0 Linear Regression",
       "rate": null,
       "total": 7,
       "unit": "it",
       "unit_divisor": 1000,
       "unit_scale": false
      },
      "application/vnd.jupyter.widget-view+json": {
       "model_id": "bc6540b1a36240caa2a83648f426327f",
       "version_major": 2,
       "version_minor": 0
      },
      "text/plain": [
       "1.3B_deduped-top 0 Linear Regression:   0%|          | 0/7 [00:00<?, ?it/s]"
      ]
     },
     "metadata": {},
     "output_type": "display_data"
    },
    {
     "name": "stdout",
     "output_type": "stream",
     "text": [
      " "
     ]
    },
    {
     "data": {
      "application/json": {
       "ascii": false,
       "bar_format": null,
       "colour": null,
       "elapsed": 0.922619104385376,
       "initial": 0,
       "n": 0,
       "ncols": null,
       "nrows": null,
       "postfix": null,
       "prefix": "1.3B-top 90 Bucketed Memorization",
       "rate": null,
       "total": 7,
       "unit": "it",
       "unit_divisor": 1000,
       "unit_scale": false
      },
      "application/vnd.jupyter.widget-view+json": {
       "model_id": "e686db09d16043c6a43cc949fd31b6ea",
       "version_major": 2,
       "version_minor": 0
      },
      "text/plain": [
       "1.3B-top 90 Bucketed Memorization:   0%|          | 0/7 [00:00<?, ?it/s]"
      ]
     },
     "metadata": {},
     "output_type": "display_data"
    },
    {
     "data": {
      "application/json": {
       "ascii": false,
       "bar_format": null,
       "colour": null,
       "elapsed": 0.9275925159454346,
       "initial": 0,
       "n": 0,
       "ncols": null,
       "nrows": null,
       "postfix": null,
       "prefix": "2.7B-top 90 Linear Regression",
       "rate": null,
       "total": 7,
       "unit": "it",
       "unit_divisor": 1000,
       "unit_scale": false
      },
      "application/vnd.jupyter.widget-view+json": {
       "model_id": "777d84ab7e3f4b158c35d6bacc25ff5f",
       "version_major": 2,
       "version_minor": 0
      },
      "text/plain": [
       "2.7B-top 90 Linear Regression:   0%|          | 0/7 [00:00<?, ?it/s]"
      ]
     },
     "metadata": {},
     "output_type": "display_data"
    },
    {
     "name": "stdout",
     "output_type": "stream",
     "text": [
      "    "
     ]
    },
    {
     "data": {
      "application/json": {
       "ascii": false,
       "bar_format": null,
       "colour": null,
       "elapsed": 1.3443078994750977,
       "initial": 0,
       "n": 0,
       "ncols": null,
       "nrows": null,
       "postfix": null,
       "prefix": "1.3B-top 0 Linear Regression",
       "rate": null,
       "total": 7,
       "unit": "it",
       "unit_divisor": 1000,
       "unit_scale": false
      },
      "application/vnd.jupyter.widget-view+json": {
       "model_id": "30ea5eba39f14117a607b6393610fdfd",
       "version_major": 2,
       "version_minor": 0
      },
      "text/plain": [
       "1.3B-top 0 Linear Regression:   0%|          | 0/7 [00:01<?, ?it/s]"
      ]
     },
     "metadata": {},
     "output_type": "display_data"
    },
    {
     "name": "stdout",
     "output_type": "stream",
     "text": [
      " "
     ]
    },
    {
     "data": {
      "application/json": {
       "ascii": false,
       "bar_format": null,
       "colour": null,
       "elapsed": 1.5463464260101318,
       "initial": 0,
       "n": 0,
       "ncols": null,
       "nrows": null,
       "postfix": null,
       "prefix": "1.3B-top 99 Linear Regression",
       "rate": null,
       "total": 7,
       "unit": "it",
       "unit_divisor": 1000,
       "unit_scale": false
      },
      "application/vnd.jupyter.widget-view+json": {
       "model_id": "8f8db393cea34d8389dcd6ac7c0a5bcd",
       "version_major": 2,
       "version_minor": 0
      },
      "text/plain": [
       "1.3B-top 99 Linear Regression:   0%|          | 0/7 [00:01<?, ?it/s]"
      ]
     },
     "metadata": {},
     "output_type": "display_data"
    },
    {
     "name": "stdout",
     "output_type": "stream",
     "text": [
      "       "
     ]
    },
    {
     "data": {
      "application/json": {
       "ascii": false,
       "bar_format": null,
       "colour": null,
       "elapsed": 1.48396897315979,
       "initial": 0,
       "n": 0,
       "ncols": null,
       "nrows": null,
       "postfix": null,
       "prefix": "1.3B_deduped-top 0 Bucketed Memorization",
       "rate": null,
       "total": 7,
       "unit": "it",
       "unit_divisor": 1000,
       "unit_scale": false
      },
      "application/vnd.jupyter.widget-view+json": {
       "model_id": "e6ab897b73364eb3a189d7b44f0022b2",
       "version_major": 2,
       "version_minor": 0
      },
      "text/plain": [
       "1.3B_deduped-top 0 Bucketed Memorization:   0%|          | 0/7 [00:01<?, ?it/s]"
      ]
     },
     "metadata": {},
     "output_type": "display_data"
    },
    {
     "name": "stdout",
     "output_type": "stream",
     "text": [
      "  "
     ]
    },
    {
     "data": {
      "application/json": {
       "ascii": false,
       "bar_format": null,
       "colour": null,
       "elapsed": 1.3175885677337646,
       "initial": 0,
       "n": 0,
       "ncols": null,
       "nrows": null,
       "postfix": null,
       "prefix": "1.3B_deduped-top 90 Bucketed Memorization",
       "rate": null,
       "total": 7,
       "unit": "it",
       "unit_divisor": 1000,
       "unit_scale": false
      },
      "application/vnd.jupyter.widget-view+json": {
       "model_id": "3e57433b756942acb20d98c6295676ab",
       "version_major": 2,
       "version_minor": 0
      },
      "text/plain": [
       "1.3B_deduped-top 90 Bucketed Memorization:   0%|          | 0/7 [00:01<?, ?it/s]"
      ]
     },
     "metadata": {},
     "output_type": "display_data"
    },
    {
     "name": "stdout",
     "output_type": "stream",
     "text": [
      "     "
     ]
    },
    {
     "data": {
      "application/json": {
       "ascii": false,
       "bar_format": null,
       "colour": null,
       "elapsed": 1.2681896686553955,
       "initial": 0,
       "n": 0,
       "ncols": null,
       "nrows": null,
       "postfix": null,
       "prefix": "1.3B_deduped-top 99 Bucketed Memorization",
       "rate": null,
       "total": 7,
       "unit": "it",
       "unit_divisor": 1000,
       "unit_scale": false
      },
      "application/vnd.jupyter.widget-view+json": {
       "model_id": "cb0ed8daa6ab4cfaa21778a2ad7388b0",
       "version_major": 2,
       "version_minor": 0
      },
      "text/plain": [
       "1.3B_deduped-top 99 Bucketed Memorization:   0%|          | 0/7 [00:01<?, ?it/s]"
      ]
     },
     "metadata": {},
     "output_type": "display_data"
    },
    {
     "name": "stdout",
     "output_type": "stream",
     "text": [
      " "
     ]
    },
    {
     "data": {
      "application/json": {
       "ascii": false,
       "bar_format": null,
       "colour": null,
       "elapsed": 0.6754801273345947,
       "initial": 0,
       "n": 0,
       "ncols": null,
       "nrows": null,
       "postfix": null,
       "prefix": "1.3B-top 90 Linear Regression",
       "rate": null,
       "total": 7,
       "unit": "it",
       "unit_divisor": 1000,
       "unit_scale": false
      },
      "application/vnd.jupyter.widget-view+json": {
       "model_id": "863c9fae753947049bf9fc80846c99e2",
       "version_major": 2,
       "version_minor": 0
      },
      "text/plain": [
       "1.3B-top 90 Linear Regression:   0%|          | 0/7 [00:00<?, ?it/s]"
      ]
     },
     "metadata": {},
     "output_type": "display_data"
    },
    {
     "name": "stdout",
     "output_type": "stream",
     "text": [
      "  "
     ]
    },
    {
     "data": {
      "application/json": {
       "ascii": false,
       "bar_format": null,
       "colour": null,
       "elapsed": 1.195464849472046,
       "initial": 0,
       "n": 0,
       "ncols": null,
       "nrows": null,
       "postfix": null,
       "prefix": "1.3B-top 99 Bucketed Memorization",
       "rate": null,
       "total": 7,
       "unit": "it",
       "unit_divisor": 1000,
       "unit_scale": false
      },
      "application/vnd.jupyter.widget-view+json": {
       "model_id": "49f1fb86a2c34717a50b160dbff9c1d4",
       "version_major": 2,
       "version_minor": 0
      },
      "text/plain": [
       "1.3B-top 99 Bucketed Memorization:   0%|          | 0/7 [00:01<?, ?it/s]"
      ]
     },
     "metadata": {},
     "output_type": "display_data"
    },
    {
     "name": "stdout",
     "output_type": "stream",
     "text": [
      " "
     ]
    },
    {
     "data": {
      "application/json": {
       "ascii": false,
       "bar_format": null,
       "colour": null,
       "elapsed": 0.9976394176483154,
       "initial": 0,
       "n": 0,
       "ncols": null,
       "nrows": null,
       "postfix": null,
       "prefix": "1.3B_deduped-top 99 Linear Regression",
       "rate": null,
       "total": 7,
       "unit": "it",
       "unit_divisor": 1000,
       "unit_scale": false
      },
      "application/vnd.jupyter.widget-view+json": {
       "model_id": "ff330ac186844208a3fab25098a098ec",
       "version_major": 2,
       "version_minor": 0
      },
      "text/plain": [
       "1.3B_deduped-top 99 Linear Regression:   0%|          | 0/7 [00:00<?, ?it/s]"
      ]
     },
     "metadata": {},
     "output_type": "display_data"
    },
    {
     "data": {
      "application/json": {
       "ascii": false,
       "bar_format": null,
       "colour": null,
       "elapsed": 1.206094741821289,
       "initial": 0,
       "n": 0,
       "ncols": null,
       "nrows": null,
       "postfix": null,
       "prefix": "1.3B_deduped-top 90 Linear Regression",
       "rate": null,
       "total": 7,
       "unit": "it",
       "unit_divisor": 1000,
       "unit_scale": false
      },
      "application/vnd.jupyter.widget-view+json": {
       "model_id": "44ff1f06c1674597a1120c07cc44dbf4",
       "version_major": 2,
       "version_minor": 0
      },
      "text/plain": [
       "1.3B_deduped-top 90 Linear Regression:   0%|          | 0/7 [00:01<?, ?it/s]"
      ]
     },
     "metadata": {},
     "output_type": "display_data"
    },
    {
     "name": "stdout",
     "output_type": "stream",
     "text": [
      " "
     ]
    },
    {
     "data": {
      "application/json": {
       "ascii": false,
       "bar_format": null,
       "colour": null,
       "elapsed": 1.1722373962402344,
       "initial": 0,
       "n": 0,
       "ncols": null,
       "nrows": null,
       "postfix": null,
       "prefix": "800M_deduped-top 99 Bucketed Memorization",
       "rate": null,
       "total": 7,
       "unit": "it",
       "unit_divisor": 1000,
       "unit_scale": false
      },
      "application/vnd.jupyter.widget-view+json": {
       "model_id": "f6fa5a66962349038dcc7498b6912e0b",
       "version_major": 2,
       "version_minor": 0
      },
      "text/plain": [
       "800M_deduped-top 99 Bucketed Memorization:   0%|          | 0/7 [00:01<?, ?it/s]"
      ]
     },
     "metadata": {},
     "output_type": "display_data"
    },
    {
     "name": "stdout",
     "output_type": "stream",
     "text": [
      "  "
     ]
    },
    {
     "data": {
      "application/json": {
       "ascii": false,
       "bar_format": null,
       "colour": null,
       "elapsed": 1.3989598751068115,
       "initial": 0,
       "n": 0,
       "ncols": null,
       "nrows": null,
       "postfix": null,
       "prefix": "800M-top 90 Bucketed Memorization",
       "rate": null,
       "total": 7,
       "unit": "it",
       "unit_divisor": 1000,
       "unit_scale": false
      },
      "application/vnd.jupyter.widget-view+json": {
       "model_id": "15ac9bc890f14f8b9337483e0b1b7e2f",
       "version_major": 2,
       "version_minor": 0
      },
      "text/plain": [
       "800M-top 90 Bucketed Memorization:   0%|          | 0/7 [00:01<?, ?it/s]"
      ]
     },
     "metadata": {},
     "output_type": "display_data"
    },
    {
     "name": "stdout",
     "output_type": "stream",
     "text": [
      "        "
     ]
    },
    {
     "data": {
      "application/json": {
       "ascii": false,
       "bar_format": null,
       "colour": null,
       "elapsed": 0.4223811626434326,
       "initial": 0,
       "n": 0,
       "ncols": null,
       "nrows": null,
       "postfix": null,
       "prefix": "800M-top 99 Bucketed Memorization",
       "rate": null,
       "total": 7,
       "unit": "it",
       "unit_divisor": 1000,
       "unit_scale": false
      },
      "application/vnd.jupyter.widget-view+json": {
       "model_id": "1c21df5422104def9b97654ed7dd765d",
       "version_major": 2,
       "version_minor": 0
      },
      "text/plain": [
       "800M-top 99 Bucketed Memorization:   0%|          | 0/7 [00:00<?, ?it/s]"
      ]
     },
     "metadata": {},
     "output_type": "display_data"
    },
    {
     "data": {
      "application/json": {
       "ascii": false,
       "bar_format": null,
       "colour": null,
       "elapsed": 0.046315670013427734,
       "initial": 0,
       "n": 0,
       "ncols": null,
       "nrows": null,
       "postfix": null,
       "prefix": "800M-top 0 Linear Regression",
       "rate": null,
       "total": 7,
       "unit": "it",
       "unit_divisor": 1000,
       "unit_scale": false
      },
      "application/vnd.jupyter.widget-view+json": {
       "model_id": "39aafb4dd83d4891b2bdff2a3a818ea4",
       "version_major": 2,
       "version_minor": 0
      },
      "text/plain": [
       "800M-top 0 Linear Regression:   0%|          | 0/7 [00:00<?, ?it/s]"
      ]
     },
     "metadata": {},
     "output_type": "display_data"
    },
    {
     "data": {
      "application/json": {
       "ascii": false,
       "bar_format": null,
       "colour": null,
       "elapsed": 0.0435328483581543,
       "initial": 0,
       "n": 0,
       "ncols": null,
       "nrows": null,
       "postfix": null,
       "prefix": "800M-top 90 Linear Regression",
       "rate": null,
       "total": 7,
       "unit": "it",
       "unit_divisor": 1000,
       "unit_scale": false
      },
      "application/vnd.jupyter.widget-view+json": {
       "model_id": "d173e9b328a94eb38eb03ab0290d9f3f",
       "version_major": 2,
       "version_minor": 0
      },
      "text/plain": [
       "800M-top 90 Linear Regression:   0%|          | 0/7 [00:00<?, ?it/s]"
      ]
     },
     "metadata": {},
     "output_type": "display_data"
    },
    {
     "data": {
      "application/json": {
       "ascii": false,
       "bar_format": null,
       "colour": null,
       "elapsed": 0.09759831428527832,
       "initial": 0,
       "n": 0,
       "ncols": null,
       "nrows": null,
       "postfix": null,
       "prefix": "800M-top 99 Linear Regression",
       "rate": null,
       "total": 7,
       "unit": "it",
       "unit_divisor": 1000,
       "unit_scale": false
      },
      "application/vnd.jupyter.widget-view+json": {
       "model_id": "c95584df51b34c269d6f50d82f9869c0",
       "version_major": 2,
       "version_minor": 0
      },
      "text/plain": [
       "800M-top 99 Linear Regression:   0%|          | 0/7 [00:00<?, ?it/s]"
      ]
     },
     "metadata": {},
     "output_type": "display_data"
    },
    {
     "data": {
      "application/json": {
       "ascii": false,
       "bar_format": null,
       "colour": null,
       "elapsed": 0.0936582088470459,
       "initial": 0,
       "n": 0,
       "ncols": null,
       "nrows": null,
       "postfix": null,
       "prefix": "800M_deduped-top 0 Bucketed Memorization",
       "rate": null,
       "total": 7,
       "unit": "it",
       "unit_divisor": 1000,
       "unit_scale": false
      },
      "application/vnd.jupyter.widget-view+json": {
       "model_id": "63f9481f9f534b028637fadc23380795",
       "version_major": 2,
       "version_minor": 0
      },
      "text/plain": [
       "800M_deduped-top 0 Bucketed Memorization:   0%|          | 0/7 [00:00<?, ?it/s]"
      ]
     },
     "metadata": {},
     "output_type": "display_data"
    },
    {
     "data": {
      "application/json": {
       "ascii": false,
       "bar_format": null,
       "colour": null,
       "elapsed": 0.10337090492248535,
       "initial": 0,
       "n": 0,
       "ncols": null,
       "nrows": null,
       "postfix": null,
       "prefix": "800M-top 0 Bucketed Memorization",
       "rate": null,
       "total": 7,
       "unit": "it",
       "unit_divisor": 1000,
       "unit_scale": false
      },
      "application/vnd.jupyter.widget-view+json": {
       "model_id": "da9dbfbabd38493f89a9f8e6c5a8746d",
       "version_major": 2,
       "version_minor": 0
      },
      "text/plain": [
       "800M-top 0 Bucketed Memorization:   0%|          | 0/7 [00:00<?, ?it/s]"
      ]
     },
     "metadata": {},
     "output_type": "display_data"
    },
    {
     "data": {
      "application/json": {
       "ascii": false,
       "bar_format": null,
       "colour": null,
       "elapsed": 0.12622618675231934,
       "initial": 0,
       "n": 0,
       "ncols": null,
       "nrows": null,
       "postfix": null,
       "prefix": "350M_deduped-top 90 Bucketed Memorization",
       "rate": null,
       "total": 7,
       "unit": "it",
       "unit_divisor": 1000,
       "unit_scale": false
      },
      "application/vnd.jupyter.widget-view+json": {
       "model_id": "0dbe1197344e4889aa34849521cf58ba",
       "version_major": 2,
       "version_minor": 0
      },
      "text/plain": [
       "350M_deduped-top 90 Bucketed Memorization:   0%|          | 0/7 [00:00<?, ?it/s]"
      ]
     },
     "metadata": {},
     "output_type": "display_data"
    },
    {
     "data": {
      "application/json": {
       "ascii": false,
       "bar_format": null,
       "colour": null,
       "elapsed": 0.12560725212097168,
       "initial": 0,
       "n": 0,
       "ncols": null,
       "nrows": null,
       "postfix": null,
       "prefix": "800M_deduped-top 90 Bucketed Memorization",
       "rate": null,
       "total": 7,
       "unit": "it",
       "unit_divisor": 1000,
       "unit_scale": false
      },
      "application/vnd.jupyter.widget-view+json": {
       "model_id": "2653480ee1984dedb0790c0f9cbf4741",
       "version_major": 2,
       "version_minor": 0
      },
      "text/plain": [
       "800M_deduped-top 90 Bucketed Memorization:   0%|          | 0/7 [00:00<?, ?it/s]"
      ]
     },
     "metadata": {},
     "output_type": "display_data"
    },
    {
     "data": {
      "application/json": {
       "ascii": false,
       "bar_format": null,
       "colour": null,
       "elapsed": 0.14993619918823242,
       "initial": 0,
       "n": 0,
       "ncols": null,
       "nrows": null,
       "postfix": null,
       "prefix": "800M_deduped-top 0 Linear Regression",
       "rate": null,
       "total": 7,
       "unit": "it",
       "unit_divisor": 1000,
       "unit_scale": false
      },
      "application/vnd.jupyter.widget-view+json": {
       "model_id": "49c71673bd5240a5a2398456df25bf64",
       "version_major": 2,
       "version_minor": 0
      },
      "text/plain": [
       "800M_deduped-top 0 Linear Regression:   0%|          | 0/7 [00:00<?, ?it/s]"
      ]
     },
     "metadata": {},
     "output_type": "display_data"
    },
    {
     "data": {
      "application/json": {
       "ascii": false,
       "bar_format": null,
       "colour": null,
       "elapsed": 0.21846437454223633,
       "initial": 0,
       "n": 0,
       "ncols": null,
       "nrows": null,
       "postfix": null,
       "prefix": "800M_deduped-top 99 Linear Regression",
       "rate": null,
       "total": 7,
       "unit": "it",
       "unit_divisor": 1000,
       "unit_scale": false
      },
      "application/vnd.jupyter.widget-view+json": {
       "model_id": "618d001fdacd4cc59418de4e39cdd7f1",
       "version_major": 2,
       "version_minor": 0
      },
      "text/plain": [
       "800M_deduped-top 99 Linear Regression:   0%|          | 0/7 [00:00<?, ?it/s]"
      ]
     },
     "metadata": {},
     "output_type": "display_data"
    },
    {
     "data": {
      "application/json": {
       "ascii": false,
       "bar_format": null,
       "colour": null,
       "elapsed": 0.1511073112487793,
       "initial": 0,
       "n": 0,
       "ncols": null,
       "nrows": null,
       "postfix": null,
       "prefix": "350M_deduped-top 90 Linear Regression",
       "rate": null,
       "total": 7,
       "unit": "it",
       "unit_divisor": 1000,
       "unit_scale": false
      },
      "application/vnd.jupyter.widget-view+json": {
       "model_id": "0f3f5482f51248f4a94b3ebe6ed82143",
       "version_major": 2,
       "version_minor": 0
      },
      "text/plain": [
       "350M_deduped-top 90 Linear Regression:   0%|          | 0/7 [00:00<?, ?it/s]"
      ]
     },
     "metadata": {},
     "output_type": "display_data"
    },
    {
     "data": {
      "application/json": {
       "ascii": false,
       "bar_format": null,
       "colour": null,
       "elapsed": 0.17626452445983887,
       "initial": 0,
       "n": 0,
       "ncols": null,
       "nrows": null,
       "postfix": null,
       "prefix": "125M-top 90 Bucketed Memorization",
       "rate": null,
       "total": 7,
       "unit": "it",
       "unit_divisor": 1000,
       "unit_scale": false
      },
      "application/vnd.jupyter.widget-view+json": {
       "model_id": "66154f33d7964e8fb60755f1e6ad615d",
       "version_major": 2,
       "version_minor": 0
      },
      "text/plain": [
       "125M-top 90 Bucketed Memorization:   0%|          | 0/7 [00:00<?, ?it/s]"
      ]
     },
     "metadata": {},
     "output_type": "display_data"
    },
    {
     "data": {
      "application/json": {
       "ascii": false,
       "bar_format": null,
       "colour": null,
       "elapsed": 0.21424221992492676,
       "initial": 0,
       "n": 0,
       "ncols": null,
       "nrows": null,
       "postfix": null,
       "prefix": "800M_deduped-top 90 Linear Regression",
       "rate": null,
       "total": 7,
       "unit": "it",
       "unit_divisor": 1000,
       "unit_scale": false
      },
      "application/vnd.jupyter.widget-view+json": {
       "model_id": "661655dd48fb43bfb9791a2f972a23c2",
       "version_major": 2,
       "version_minor": 0
      },
      "text/plain": [
       "800M_deduped-top 90 Linear Regression:   0%|          | 0/7 [00:00<?, ?it/s]"
      ]
     },
     "metadata": {},
     "output_type": "display_data"
    },
    {
     "data": {
      "application/json": {
       "ascii": false,
       "bar_format": null,
       "colour": null,
       "elapsed": 0.2454841136932373,
       "initial": 0,
       "n": 0,
       "ncols": null,
       "nrows": null,
       "postfix": null,
       "prefix": "350M-top 0 Bucketed Memorization",
       "rate": null,
       "total": 7,
       "unit": "it",
       "unit_divisor": 1000,
       "unit_scale": false
      },
      "application/vnd.jupyter.widget-view+json": {
       "model_id": "2c6cd419cdcd4fe5903aa6029c960aca",
       "version_major": 2,
       "version_minor": 0
      },
      "text/plain": [
       "350M-top 0 Bucketed Memorization:   0%|          | 0/7 [00:00<?, ?it/s]"
      ]
     },
     "metadata": {},
     "output_type": "display_data"
    },
    {
     "data": {
      "application/json": {
       "ascii": false,
       "bar_format": null,
       "colour": null,
       "elapsed": 0.2726001739501953,
       "initial": 0,
       "n": 0,
       "ncols": null,
       "nrows": null,
       "postfix": null,
       "prefix": "125M-top 99 Linear Regression",
       "rate": null,
       "total": 7,
       "unit": "it",
       "unit_divisor": 1000,
       "unit_scale": false
      },
      "application/vnd.jupyter.widget-view+json": {
       "model_id": "d8a37b972fd64db7bf477d893ff339e4",
       "version_major": 2,
       "version_minor": 0
      },
      "text/plain": [
       "125M-top 99 Linear Regression:   0%|          | 0/7 [00:00<?, ?it/s]"
      ]
     },
     "metadata": {},
     "output_type": "display_data"
    },
    {
     "data": {
      "application/json": {
       "ascii": false,
       "bar_format": null,
       "colour": null,
       "elapsed": 0.29190635681152344,
       "initial": 0,
       "n": 0,
       "ncols": null,
       "nrows": null,
       "postfix": null,
       "prefix": "350M-top 99 Bucketed Memorization",
       "rate": null,
       "total": 7,
       "unit": "it",
       "unit_divisor": 1000,
       "unit_scale": false
      },
      "application/vnd.jupyter.widget-view+json": {
       "model_id": "728752dae0fb4e548c45036c5b7b02c9",
       "version_major": 2,
       "version_minor": 0
      },
      "text/plain": [
       "350M-top 99 Bucketed Memorization:   0%|          | 0/7 [00:00<?, ?it/s]"
      ]
     },
     "metadata": {},
     "output_type": "display_data"
    },
    {
     "data": {
      "application/json": {
       "ascii": false,
       "bar_format": null,
       "colour": null,
       "elapsed": 0.30097055435180664,
       "initial": 0,
       "n": 0,
       "ncols": null,
       "nrows": null,
       "postfix": null,
       "prefix": "350M-top 90 Bucketed Memorization",
       "rate": null,
       "total": 7,
       "unit": "it",
       "unit_divisor": 1000,
       "unit_scale": false
      },
      "application/vnd.jupyter.widget-view+json": {
       "model_id": "5c361602f71b4e3bb3ec70dc93c24889",
       "version_major": 2,
       "version_minor": 0
      },
      "text/plain": [
       "350M-top 90 Bucketed Memorization:   0%|          | 0/7 [00:00<?, ?it/s]"
      ]
     },
     "metadata": {},
     "output_type": "display_data"
    },
    {
     "data": {
      "application/json": {
       "ascii": false,
       "bar_format": null,
       "colour": null,
       "elapsed": 0.28490352630615234,
       "initial": 0,
       "n": 0,
       "ncols": null,
       "nrows": null,
       "postfix": null,
       "prefix": "125M_deduped-top 0 Linear Regression",
       "rate": null,
       "total": 7,
       "unit": "it",
       "unit_divisor": 1000,
       "unit_scale": false
      },
      "application/vnd.jupyter.widget-view+json": {
       "model_id": "2c0b24de41fd409195110222ca50ba5a",
       "version_major": 2,
       "version_minor": 0
      },
      "text/plain": [
       "125M_deduped-top 0 Linear Regression:   0%|          | 0/7 [00:00<?, ?it/s]"
      ]
     },
     "metadata": {},
     "output_type": "display_data"
    },
    {
     "data": {
      "application/json": {
       "ascii": false,
       "bar_format": null,
       "colour": null,
       "elapsed": 0.33330726623535156,
       "initial": 0,
       "n": 0,
       "ncols": null,
       "nrows": null,
       "postfix": null,
       "prefix": "350M-top 0 Linear Regression",
       "rate": null,
       "total": 7,
       "unit": "it",
       "unit_divisor": 1000,
       "unit_scale": false
      },
      "application/vnd.jupyter.widget-view+json": {
       "model_id": "a8410475cc8a4568b43809707649c804",
       "version_major": 2,
       "version_minor": 0
      },
      "text/plain": [
       "350M-top 0 Linear Regression:   0%|          | 0/7 [00:00<?, ?it/s]"
      ]
     },
     "metadata": {},
     "output_type": "display_data"
    },
    {
     "data": {
      "application/json": {
       "ascii": false,
       "bar_format": null,
       "colour": null,
       "elapsed": 0.2424335479736328,
       "initial": 0,
       "n": 0,
       "ncols": null,
       "nrows": null,
       "postfix": null,
       "prefix": "350M-top 99 Linear Regression",
       "rate": null,
       "total": 7,
       "unit": "it",
       "unit_divisor": 1000,
       "unit_scale": false
      },
      "application/vnd.jupyter.widget-view+json": {
       "model_id": "3359f9ea8a2343049f08b88e79495660",
       "version_major": 2,
       "version_minor": 0
      },
      "text/plain": [
       "350M-top 99 Linear Regression:   0%|          | 0/7 [00:00<?, ?it/s]"
      ]
     },
     "metadata": {},
     "output_type": "display_data"
    },
    {
     "data": {
      "application/json": {
       "ascii": false,
       "bar_format": null,
       "colour": null,
       "elapsed": 0.2781078815460205,
       "initial": 0,
       "n": 0,
       "ncols": null,
       "nrows": null,
       "postfix": null,
       "prefix": "350M_deduped-top 0 Bucketed Memorization",
       "rate": null,
       "total": 7,
       "unit": "it",
       "unit_divisor": 1000,
       "unit_scale": false
      },
      "application/vnd.jupyter.widget-view+json": {
       "model_id": "902abe7dd98449389c857f69e1c5e485",
       "version_major": 2,
       "version_minor": 0
      },
      "text/plain": [
       "350M_deduped-top 0 Bucketed Memorization:   0%|          | 0/7 [00:00<?, ?it/s]"
      ]
     },
     "metadata": {},
     "output_type": "display_data"
    },
    {
     "data": {
      "application/json": {
       "ascii": false,
       "bar_format": null,
       "colour": null,
       "elapsed": 0.28275108337402344,
       "initial": 0,
       "n": 0,
       "ncols": null,
       "nrows": null,
       "postfix": null,
       "prefix": "125M_deduped-top 90 Linear Regression",
       "rate": null,
       "total": 7,
       "unit": "it",
       "unit_divisor": 1000,
       "unit_scale": false
      },
      "application/vnd.jupyter.widget-view+json": {
       "model_id": "e23152c8c6764c918ccdb95716e2877b",
       "version_major": 2,
       "version_minor": 0
      },
      "text/plain": [
       "125M_deduped-top 90 Linear Regression:   0%|          | 0/7 [00:00<?, ?it/s]"
      ]
     },
     "metadata": {},
     "output_type": "display_data"
    },
    {
     "data": {
      "application/json": {
       "ascii": false,
       "bar_format": null,
       "colour": null,
       "elapsed": 0.326383113861084,
       "initial": 0,
       "n": 0,
       "ncols": null,
       "nrows": null,
       "postfix": null,
       "prefix": "350M-top 90 Linear Regression",
       "rate": null,
       "total": 7,
       "unit": "it",
       "unit_divisor": 1000,
       "unit_scale": false
      },
      "application/vnd.jupyter.widget-view+json": {
       "model_id": "6be93492a9764c3ba18df58d78799629",
       "version_major": 2,
       "version_minor": 0
      },
      "text/plain": [
       "350M-top 90 Linear Regression:   0%|          | 0/7 [00:00<?, ?it/s]"
      ]
     },
     "metadata": {},
     "output_type": "display_data"
    },
    {
     "data": {
      "application/json": {
       "ascii": false,
       "bar_format": null,
       "colour": null,
       "elapsed": 0.2275540828704834,
       "initial": 0,
       "n": 0,
       "ncols": null,
       "nrows": null,
       "postfix": null,
       "prefix": "350M_deduped-top 99 Linear Regression",
       "rate": null,
       "total": 7,
       "unit": "it",
       "unit_divisor": 1000,
       "unit_scale": false
      },
      "application/vnd.jupyter.widget-view+json": {
       "model_id": "8181433f02ab47c59906e183a22fd0bf",
       "version_major": 2,
       "version_minor": 0
      },
      "text/plain": [
       "350M_deduped-top 99 Linear Regression:   0%|          | 0/7 [00:00<?, ?it/s]"
      ]
     },
     "metadata": {},
     "output_type": "display_data"
    },
    {
     "data": {
      "application/json": {
       "ascii": false,
       "bar_format": null,
       "colour": null,
       "elapsed": 0.33509278297424316,
       "initial": 0,
       "n": 0,
       "ncols": null,
       "nrows": null,
       "postfix": null,
       "prefix": "125M-top 0 Bucketed Memorization",
       "rate": null,
       "total": 7,
       "unit": "it",
       "unit_divisor": 1000,
       "unit_scale": false
      },
      "application/vnd.jupyter.widget-view+json": {
       "model_id": "be04292303c749ebae0ff35d1c2d899a",
       "version_major": 2,
       "version_minor": 0
      },
      "text/plain": [
       "125M-top 0 Bucketed Memorization:   0%|          | 0/7 [00:00<?, ?it/s]"
      ]
     },
     "metadata": {},
     "output_type": "display_data"
    },
    {
     "data": {
      "application/json": {
       "ascii": false,
       "bar_format": null,
       "colour": null,
       "elapsed": 0.3050870895385742,
       "initial": 0,
       "n": 0,
       "ncols": null,
       "nrows": null,
       "postfix": null,
       "prefix": "125M-top 99 Bucketed Memorization",
       "rate": null,
       "total": 7,
       "unit": "it",
       "unit_divisor": 1000,
       "unit_scale": false
      },
      "application/vnd.jupyter.widget-view+json": {
       "model_id": "607894edd4d64d03b5f56340a7b2d467",
       "version_major": 2,
       "version_minor": 0
      },
      "text/plain": [
       "125M-top 99 Bucketed Memorization:   0%|          | 0/7 [00:00<?, ?it/s]"
      ]
     },
     "metadata": {},
     "output_type": "display_data"
    },
    {
     "data": {
      "application/json": {
       "ascii": false,
       "bar_format": null,
       "colour": null,
       "elapsed": 0.313051700592041,
       "initial": 0,
       "n": 0,
       "ncols": null,
       "nrows": null,
       "postfix": null,
       "prefix": "125M-top 0 Linear Regression",
       "rate": null,
       "total": 7,
       "unit": "it",
       "unit_divisor": 1000,
       "unit_scale": false
      },
      "application/vnd.jupyter.widget-view+json": {
       "model_id": "56197f50e0c84809bd6fae327df6aca5",
       "version_major": 2,
       "version_minor": 0
      },
      "text/plain": [
       "125M-top 0 Linear Regression:   0%|          | 0/7 [00:00<?, ?it/s]"
      ]
     },
     "metadata": {},
     "output_type": "display_data"
    },
    {
     "data": {
      "application/json": {
       "ascii": false,
       "bar_format": null,
       "colour": null,
       "elapsed": 0.20675373077392578,
       "initial": 0,
       "n": 0,
       "ncols": null,
       "nrows": null,
       "postfix": null,
       "prefix": "125M_deduped-top 0 Bucketed Memorization",
       "rate": null,
       "total": 7,
       "unit": "it",
       "unit_divisor": 1000,
       "unit_scale": false
      },
      "application/vnd.jupyter.widget-view+json": {
       "model_id": "22195299c39e4624a84ac36a72ec545c",
       "version_major": 2,
       "version_minor": 0
      },
      "text/plain": [
       "125M_deduped-top 0 Bucketed Memorization:   0%|          | 0/7 [00:00<?, ?it/s]"
      ]
     },
     "metadata": {},
     "output_type": "display_data"
    },
    {
     "data": {
      "application/json": {
       "ascii": false,
       "bar_format": null,
       "colour": null,
       "elapsed": 0.4330604076385498,
       "initial": 0,
       "n": 0,
       "ncols": null,
       "nrows": null,
       "postfix": null,
       "prefix": "350M_deduped-top 0 Linear Regression",
       "rate": null,
       "total": 7,
       "unit": "it",
       "unit_divisor": 1000,
       "unit_scale": false
      },
      "application/vnd.jupyter.widget-view+json": {
       "model_id": "3791c004b5d44a4f980ff423338ad506",
       "version_major": 2,
       "version_minor": 0
      },
      "text/plain": [
       "350M_deduped-top 0 Linear Regression:   0%|          | 0/7 [00:00<?, ?it/s]"
      ]
     },
     "metadata": {},
     "output_type": "display_data"
    },
    {
     "data": {
      "application/json": {
       "ascii": false,
       "bar_format": null,
       "colour": null,
       "elapsed": 0.292034387588501,
       "initial": 0,
       "n": 0,
       "ncols": null,
       "nrows": null,
       "postfix": null,
       "prefix": "125M_deduped-top 99 Bucketed Memorization",
       "rate": null,
       "total": 7,
       "unit": "it",
       "unit_divisor": 1000,
       "unit_scale": false
      },
      "application/vnd.jupyter.widget-view+json": {
       "model_id": "7036a6b380634197a47ac14d23c1f2a1",
       "version_major": 2,
       "version_minor": 0
      },
      "text/plain": [
       "125M_deduped-top 99 Bucketed Memorization:   0%|          | 0/7 [00:00<?, ?it/s]"
      ]
     },
     "metadata": {},
     "output_type": "display_data"
    },
    {
     "data": {
      "application/json": {
       "ascii": false,
       "bar_format": null,
       "colour": null,
       "elapsed": 0.27474403381347656,
       "initial": 0,
       "n": 0,
       "ncols": null,
       "nrows": null,
       "postfix": null,
       "prefix": "125M_deduped-top 90 Bucketed Memorization",
       "rate": null,
       "total": 7,
       "unit": "it",
       "unit_divisor": 1000,
       "unit_scale": false
      },
      "application/vnd.jupyter.widget-view+json": {
       "model_id": "552b0e77dcb5403e88fec79dd1642ffd",
       "version_major": 2,
       "version_minor": 0
      },
      "text/plain": [
       "125M_deduped-top 90 Bucketed Memorization:   0%|          | 0/7 [00:00<?, ?it/s]"
      ]
     },
     "metadata": {},
     "output_type": "display_data"
    },
    {
     "data": {
      "application/json": {
       "ascii": false,
       "bar_format": null,
       "colour": null,
       "elapsed": 0.29203295707702637,
       "initial": 0,
       "n": 0,
       "ncols": null,
       "nrows": null,
       "postfix": null,
       "prefix": "350M_deduped-top 99 Bucketed Memorization",
       "rate": null,
       "total": 7,
       "unit": "it",
       "unit_divisor": 1000,
       "unit_scale": false
      },
      "application/vnd.jupyter.widget-view+json": {
       "model_id": "5b06e470beb14915ac6ada0bcce32c94",
       "version_major": 2,
       "version_minor": 0
      },
      "text/plain": [
       "350M_deduped-top 99 Bucketed Memorization:   0%|          | 0/7 [00:00<?, ?it/s]"
      ]
     },
     "metadata": {},
     "output_type": "display_data"
    },
    {
     "data": {
      "application/json": {
       "ascii": false,
       "bar_format": null,
       "colour": null,
       "elapsed": 0.28636837005615234,
       "initial": 0,
       "n": 0,
       "ncols": null,
       "nrows": null,
       "postfix": null,
       "prefix": "125M-top 90 Linear Regression",
       "rate": null,
       "total": 7,
       "unit": "it",
       "unit_divisor": 1000,
       "unit_scale": false
      },
      "application/vnd.jupyter.widget-view+json": {
       "model_id": "b83b839545ef4cb9add04428b01617f1",
       "version_major": 2,
       "version_minor": 0
      },
      "text/plain": [
       "125M-top 90 Linear Regression:   0%|          | 0/7 [00:00<?, ?it/s]"
      ]
     },
     "metadata": {},
     "output_type": "display_data"
    },
    {
     "data": {
      "application/json": {
       "ascii": false,
       "bar_format": null,
       "colour": null,
       "elapsed": 0.31784939765930176,
       "initial": 0,
       "n": 0,
       "ncols": null,
       "nrows": null,
       "postfix": null,
       "prefix": "125M_deduped-top 99 Linear Regression",
       "rate": null,
       "total": 7,
       "unit": "it",
       "unit_divisor": 1000,
       "unit_scale": false
      },
      "application/vnd.jupyter.widget-view+json": {
       "model_id": "580f51a0df094cfcb582a9208ca9b6cc",
       "version_major": 2,
       "version_minor": 0
      },
      "text/plain": [
       "125M_deduped-top 99 Linear Regression:   0%|          | 0/7 [00:00<?, ?it/s]"
      ]
     },
     "metadata": {},
     "output_type": "display_data"
    }
   ],
   "source": [
    "update_params()\n",
    "manager = MPManager()\n",
    "lock = mp.Lock()\n",
    "with open('./results/linear_regression.csv', 'w') as f:\n",
    "    f.write('model,checkpoint,most memorized percentile,slope,variation,% change\\n')\n",
    "for model in models.keys():\n",
    "    manager.add(mp.Process(target=plot_bucketed_scores_of_model, args=(model, models, lock, 0)))\n",
    "    manager.add(mp.Process(target=plot_bucketed_scores_of_model, args=(model, models, lock, 90)))\n",
    "    manager.add(mp.Process(target=plot_bucketed_scores_of_model, args=(model, models, lock, 99)))\n",
    "    manager.add(mp.Process(target=plot_linear_regression_of_model, args=(model, models, lock, 0)))\n",
    "    manager.add(mp.Process(target=plot_linear_regression_of_model, args=(model, models, lock, 99)))\n",
    "    manager.add(mp.Process(target=plot_linear_regression_of_model, args=(model, models, lock, 90)))\n",
    "manager.join()"
   ]
  },
  {
   "cell_type": "code",
   "execution_count": 20,
   "id": "9101f06b",
   "metadata": {},
   "outputs": [
    {
     "data": {
      "text/html": [
       "\n",
       "        <style>\n",
       "            .jupyter-widgets {color: #d5d5d5 !important;}\n",
       "            .widget-label {color: #d5d5d5 !important;}\n",
       "        </style>\n",
       "    "
      ],
      "text/plain": [
       "<IPython.core.display.HTML object>"
      ]
     },
     "metadata": {},
     "output_type": "display_data"
    }
   ],
   "source": [
    "import matplotlib\n",
    "import scipy.signal\n",
    "from itertools import cycle\n",
    "from multiprocessing import Process\n",
    "cycol = cycle(['violet', 'indigo', 'blue', 'green', 'yellow', 'orange', 'red'])\n",
    "\n",
    "\n",
    "def plot_normalized_cross_correlation_of_model(model, checkpoint, models):\n",
    "    '''Wrapper Script to plot Normalized Signal Cross Correlation between two checkpoints of a model\n",
    "    \n",
    "    `model`: Model name\n",
    "    `checkpoint`: Checkpoint of the corresponding model to be correlated from\n",
    "    `evals`: Evaluation results of corresponding model on corresponding checkpoint\n",
    "    `axis`, `color`: Plotting params\n",
    "    '''\n",
    "    # Initialization and beautification\n",
    "    cycol = cycle(['violet', 'indigo', 'blue', 'green', 'yellow', 'orange', 'red'])\n",
    "    fig = matplotlib.figure.Figure()\n",
    "    ax = fig.subplots()\n",
    "    print(\" \", end=\"\", flush=True)\n",
    "    bar = tqdm(\n",
    "        desc=f'{model}-{checkpoint} Cross Correlation',\n",
    "        total=len(models[model][models[model].index(int(checkpoint)):]) - 1\n",
    "    )\n",
    "    one_evals = memorization_results[f'{model}-{checkpoint}']\n",
    "    corr_peaks = {}\n",
    "    \n",
    "    # Iterating through checkpoints\n",
    "    for (model_two, evals) in memorization_results.items():\n",
    "        m, c = model_two.split('-')\n",
    "        if(m != model): continue\n",
    "        if(int(c) <= int(checkpoint)): continue\n",
    "        name, peak = plot_normalized_cross_correlation(\n",
    "            f'{model}-{checkpoint}', one_evals, \n",
    "            model_two, evals,\n",
    "            ax, next(cycol)\n",
    "        )\n",
    "        corr_peaks[name] = peak\n",
    "        bar.update(1)\n",
    "    \n",
    "    # Titling and labeling plot\n",
    "    handles, labels = fig.gca().get_legend_handles_labels()\n",
    "    labels, handles = zip(*sorted(zip(labels, handles), key=lambda t: -corr_peaks[t[0]]))\n",
    "    fig.suptitle(\"Memorization Accuracy Cross Correlation\", fontsize=20)\n",
    "    fig.supxlabel(\"Correlation Lags\", fontsize=20)\n",
    "    fig.supylabel(\"Discrete Linear Normalized Correlation\", fontsize=20)\n",
    "    ax.set_xlim(-1e5, 1e5)\n",
    "    ax.legend(handles, labels, loc='lower right')\n",
    "    \n",
    "    # Saving plot\n",
    "    fig.savefig(f'./plots/{model}-{checkpoint}_normalized_correlation.png', facecolor='white')\n",
    "    bar.close()\n",
    "\n",
    "\n",
    "def normalized_corr(x, y):\n",
    "    '''Performs Normalized Signal Correlation, Defined as:\n",
    "    $$ normalized (f * g)(\\tau) = \\frac{1}{N}\\frac{((f-\\mu_f) * (g - \\mu_g))(\\tau)}{\\sigma_f\\sigma_g} $$\n",
    "    where \n",
    "        a*b(\\tau) is full discrete linear cross-correlation of a and b\n",
    "        \n",
    "    returns Correlation and It's correlation lags\n",
    "    '''\n",
    "    x -= x.mean()\n",
    "    y -= y.mean()\n",
    "    corr = scipy.signal.correlate(x, y)\n",
    "    corr /= (np.sqrt(np.sum(x**2) * np.sum(y**2)))\n",
    "    corr_lags = scipy.signal.correlation_lags(len(x), len(y))\n",
    "    return corr, corr_lags\n",
    "\n",
    "def plot_normalized_cross_correlation(name_one, evals_one, name_two, evals_two, axis, color):\n",
    "    '''Plots Normalized Cross Correlation\n",
    "    \n",
    "    `name_one`, `name_two`: Model names with checkpoints\n",
    "    `eval_one`, `eval_two`: Evaluation Results\n",
    "    `color`: Beautifying parameter\n",
    "    '''\n",
    "    # Extract Data\n",
    "    model_one, checkpoint_one = name_one.split('-')\n",
    "    corr_peaks = {}\n",
    "    model_two, checkpoint_two = name_two.split('-')\n",
    "    x = evals_one['accuracy']\n",
    "    y = evals_two['accuracy'][:len(x)]\n",
    "    \n",
    "    # Perform correlation\n",
    "    corr, corr_lags = normalized_corr(x, y)\n",
    "    \n",
    "    # Plotting\n",
    "    plot_color = next(cycol)\n",
    "    plot_label = f'{model_one}: {checkpoint_one} and {checkpoint_two}'\n",
    "    axis.plot(corr_lags, corr, label = plot_label,color=plot_color)\n",
    "    \n",
    "    # Indicate peaks\n",
    "    corr_peaks[plot_label] = np.max(corr)\n",
    "    axis.plot(corr_lags[np.argmax(corr)], np.max(corr), '_', \n",
    "             markersize=32.0, markeredgewidth=2.0, color=plot_color)\n",
    "    return plot_label, np.max(corr)"
   ]
  },
  {
   "cell_type": "code",
   "execution_count": 21,
   "id": "9c938f91",
   "metadata": {
    "scrolled": false
   },
   "outputs": [
    {
     "data": {
      "text/html": [
       "\n",
       "        <style>\n",
       "            .jupyter-widgets {color: #d5d5d5 !important;}\n",
       "            .widget-label {color: #d5d5d5 !important;}\n",
       "        </style>\n",
       "    "
      ],
      "text/plain": [
       "<IPython.core.display.HTML object>"
      ]
     },
     "metadata": {},
     "output_type": "display_data"
    },
    {
     "name": "stdout",
     "output_type": "stream",
     "text": [
      "      "
     ]
    },
    {
     "data": {
      "application/json": {
       "ascii": false,
       "bar_format": null,
       "colour": null,
       "elapsed": 0.7108180522918701,
       "initial": 0,
       "n": 0,
       "ncols": null,
       "nrows": null,
       "postfix": null,
       "prefix": "13B-23000 Cross Correlation",
       "rate": null,
       "total": 6,
       "unit": "it",
       "unit_divisor": 1000,
       "unit_scale": false
      },
      "application/vnd.jupyter.widget-view+json": {
       "model_id": "04e0bcddec5e461690aabf3f03a0f748",
       "version_major": 2,
       "version_minor": 0
      },
      "text/plain": [
       "13B-23000 Cross Correlation:   0%|          | 0/6 [00:00<?, ?it/s]"
      ]
     },
     "metadata": {},
     "output_type": "display_data"
    },
    {
     "name": "stdout",
     "output_type": "stream",
     "text": [
      "  "
     ]
    },
    {
     "data": {
      "application/json": {
       "ascii": false,
       "bar_format": null,
       "colour": null,
       "elapsed": 0.8577871322631836,
       "initial": 0,
       "n": 0,
       "ncols": null,
       "nrows": null,
       "postfix": null,
       "prefix": "13B-43000 Cross Correlation",
       "rate": null,
       "total": 5,
       "unit": "it",
       "unit_divisor": 1000,
       "unit_scale": false
      },
      "application/vnd.jupyter.widget-view+json": {
       "model_id": "a2ff0885f56c44a2a310f6d98cd9b8e1",
       "version_major": 2,
       "version_minor": 0
      },
      "text/plain": [
       "13B-43000 Cross Correlation:   0%|          | 0/5 [00:00<?, ?it/s]"
      ]
     },
     "metadata": {},
     "output_type": "display_data"
    },
    {
     "name": "stdout",
     "output_type": "stream",
     "text": [
      " "
     ]
    },
    {
     "data": {
      "application/json": {
       "ascii": false,
       "bar_format": null,
       "colour": null,
       "elapsed": 0.859560489654541,
       "initial": 0,
       "n": 0,
       "ncols": null,
       "nrows": null,
       "postfix": null,
       "prefix": "13B-63000 Cross Correlation",
       "rate": null,
       "total": 4,
       "unit": "it",
       "unit_divisor": 1000,
       "unit_scale": false
      },
      "application/vnd.jupyter.widget-view+json": {
       "model_id": "314a16c52ef649a9981b9ccc6c3e3351",
       "version_major": 2,
       "version_minor": 0
      },
      "text/plain": [
       "13B-63000 Cross Correlation:   0%|          | 0/4 [00:00<?, ?it/s]"
      ]
     },
     "metadata": {},
     "output_type": "display_data"
    },
    {
     "name": "stdout",
     "output_type": "stream",
     "text": [
      " "
     ]
    },
    {
     "data": {
      "application/json": {
       "ascii": false,
       "bar_format": null,
       "colour": null,
       "elapsed": 0.864642858505249,
       "initial": 0,
       "n": 0,
       "ncols": null,
       "nrows": null,
       "postfix": null,
       "prefix": "13B-83000 Cross Correlation",
       "rate": null,
       "total": 3,
       "unit": "it",
       "unit_divisor": 1000,
       "unit_scale": false
      },
      "application/vnd.jupyter.widget-view+json": {
       "model_id": "f4a54e41593f44b0816d9151ee6dd3ef",
       "version_major": 2,
       "version_minor": 0
      },
      "text/plain": [
       "13B-83000 Cross Correlation:   0%|          | 0/3 [00:00<?, ?it/s]"
      ]
     },
     "metadata": {},
     "output_type": "display_data"
    },
    {
     "name": "stdout",
     "output_type": "stream",
     "text": [
      " "
     ]
    },
    {
     "data": {
      "application/json": {
       "ascii": false,
       "bar_format": null,
       "colour": null,
       "elapsed": 0.8736696243286133,
       "initial": 0,
       "n": 0,
       "ncols": null,
       "nrows": null,
       "postfix": null,
       "prefix": "13B-103000 Cross Correlation",
       "rate": null,
       "total": 2,
       "unit": "it",
       "unit_divisor": 1000,
       "unit_scale": false
      },
      "application/vnd.jupyter.widget-view+json": {
       "model_id": "9f47c36e2db8481f87d224f0813b38f6",
       "version_major": 2,
       "version_minor": 0
      },
      "text/plain": [
       "13B-103000 Cross Correlation:   0%|          | 0/2 [00:00<?, ?it/s]"
      ]
     },
     "metadata": {},
     "output_type": "display_data"
    },
    {
     "name": "stdout",
     "output_type": "stream",
     "text": [
      " "
     ]
    },
    {
     "data": {
      "application/json": {
       "ascii": false,
       "bar_format": null,
       "colour": null,
       "elapsed": 0.8798520565032959,
       "initial": 0,
       "n": 0,
       "ncols": null,
       "nrows": null,
       "postfix": null,
       "prefix": "13B-123000 Cross Correlation",
       "rate": null,
       "total": 1,
       "unit": "it",
       "unit_divisor": 1000,
       "unit_scale": false
      },
      "application/vnd.jupyter.widget-view+json": {
       "model_id": "560468f563d840ddab77e499dddc6ec1",
       "version_major": 2,
       "version_minor": 0
      },
      "text/plain": [
       "13B-123000 Cross Correlation:   0%|          | 0/1 [00:00<?, ?it/s]"
      ]
     },
     "metadata": {},
     "output_type": "display_data"
    },
    {
     "name": "stdout",
     "output_type": "stream",
     "text": [
      " "
     ]
    },
    {
     "data": {
      "application/json": {
       "ascii": false,
       "bar_format": null,
       "colour": null,
       "elapsed": 0.8923156261444092,
       "initial": 0,
       "n": 0,
       "ncols": null,
       "nrows": null,
       "postfix": null,
       "prefix": "13B_deduped-23000 Cross Correlation",
       "rate": null,
       "total": 6,
       "unit": "it",
       "unit_divisor": 1000,
       "unit_scale": false
      },
      "application/vnd.jupyter.widget-view+json": {
       "model_id": "6940f28ec2f74e6a85a46ad8062bc10b",
       "version_major": 2,
       "version_minor": 0
      },
      "text/plain": [
       "13B_deduped-23000 Cross Correlation:   0%|          | 0/6 [00:00<?, ?it/s]"
      ]
     },
     "metadata": {},
     "output_type": "display_data"
    },
    {
     "name": "stdout",
     "output_type": "stream",
     "text": [
      " "
     ]
    },
    {
     "data": {
      "application/json": {
       "ascii": false,
       "bar_format": null,
       "colour": null,
       "elapsed": 0.8998422622680664,
       "initial": 0,
       "n": 0,
       "ncols": null,
       "nrows": null,
       "postfix": null,
       "prefix": "13B_deduped-43000 Cross Correlation",
       "rate": null,
       "total": 5,
       "unit": "it",
       "unit_divisor": 1000,
       "unit_scale": false
      },
      "application/vnd.jupyter.widget-view+json": {
       "model_id": "927f50f4716740d6ae464f465be722a0",
       "version_major": 2,
       "version_minor": 0
      },
      "text/plain": [
       "13B_deduped-43000 Cross Correlation:   0%|          | 0/5 [00:00<?, ?it/s]"
      ]
     },
     "metadata": {},
     "output_type": "display_data"
    },
    {
     "name": "stdout",
     "output_type": "stream",
     "text": [
      " "
     ]
    },
    {
     "data": {
      "application/json": {
       "ascii": false,
       "bar_format": null,
       "colour": null,
       "elapsed": 0.9106993675231934,
       "initial": 0,
       "n": 0,
       "ncols": null,
       "nrows": null,
       "postfix": null,
       "prefix": "13B_deduped-63000 Cross Correlation",
       "rate": null,
       "total": 4,
       "unit": "it",
       "unit_divisor": 1000,
       "unit_scale": false
      },
      "application/vnd.jupyter.widget-view+json": {
       "model_id": "339be7103a5d4ba6b3e2504e741a4109",
       "version_major": 2,
       "version_minor": 0
      },
      "text/plain": [
       "13B_deduped-63000 Cross Correlation:   0%|          | 0/4 [00:00<?, ?it/s]"
      ]
     },
     "metadata": {},
     "output_type": "display_data"
    },
    {
     "name": "stdout",
     "output_type": "stream",
     "text": [
      " "
     ]
    },
    {
     "data": {
      "application/json": {
       "ascii": false,
       "bar_format": null,
       "colour": null,
       "elapsed": 0.9394471645355225,
       "initial": 0,
       "n": 0,
       "ncols": null,
       "nrows": null,
       "postfix": null,
       "prefix": "13B_deduped-83000 Cross Correlation",
       "rate": null,
       "total": 3,
       "unit": "it",
       "unit_divisor": 1000,
       "unit_scale": false
      },
      "application/vnd.jupyter.widget-view+json": {
       "model_id": "4524c9635f45470ea5c468f649f89f63",
       "version_major": 2,
       "version_minor": 0
      },
      "text/plain": [
       "13B_deduped-83000 Cross Correlation:   0%|          | 0/3 [00:00<?, ?it/s]"
      ]
     },
     "metadata": {},
     "output_type": "display_data"
    },
    {
     "data": {
      "application/json": {
       "ascii": false,
       "bar_format": null,
       "colour": null,
       "elapsed": 0.6403567790985107,
       "initial": 0,
       "n": 0,
       "ncols": null,
       "nrows": null,
       "postfix": null,
       "prefix": "13B_deduped-123000 Cross Correlation",
       "rate": null,
       "total": 1,
       "unit": "it",
       "unit_divisor": 1000,
       "unit_scale": false
      },
      "application/vnd.jupyter.widget-view+json": {
       "model_id": "e3d1e5441a8549849d0ae8f26337e96f",
       "version_major": 2,
       "version_minor": 0
      },
      "text/plain": [
       "13B_deduped-123000 Cross Correlation:   0%|          | 0/1 [00:00<?, ?it/s]"
      ]
     },
     "metadata": {},
     "output_type": "display_data"
    },
    {
     "name": "stdout",
     "output_type": "stream",
     "text": [
      " "
     ]
    },
    {
     "data": {
      "application/json": {
       "ascii": false,
       "bar_format": null,
       "colour": null,
       "elapsed": 0.9451704025268555,
       "initial": 0,
       "n": 0,
       "ncols": null,
       "nrows": null,
       "postfix": null,
       "prefix": "13B_deduped-103000 Cross Correlation",
       "rate": null,
       "total": 2,
       "unit": "it",
       "unit_divisor": 1000,
       "unit_scale": false
      },
      "application/vnd.jupyter.widget-view+json": {
       "model_id": "338b14d817d44853bad9a982aba0913c",
       "version_major": 2,
       "version_minor": 0
      },
      "text/plain": [
       "13B_deduped-103000 Cross Correlation:   0%|          | 0/2 [00:00<?, ?it/s]"
      ]
     },
     "metadata": {},
     "output_type": "display_data"
    },
    {
     "name": "stdout",
     "output_type": "stream",
     "text": [
      " "
     ]
    },
    {
     "data": {
      "application/json": {
       "ascii": false,
       "bar_format": null,
       "colour": null,
       "elapsed": 0.8055472373962402,
       "initial": 0,
       "n": 0,
       "ncols": null,
       "nrows": null,
       "postfix": null,
       "prefix": "6.7B-23000 Cross Correlation",
       "rate": null,
       "total": 6,
       "unit": "it",
       "unit_divisor": 1000,
       "unit_scale": false
      },
      "application/vnd.jupyter.widget-view+json": {
       "model_id": "da59bbf5d79d4ac38084f34c26b70f28",
       "version_major": 2,
       "version_minor": 0
      },
      "text/plain": [
       "6.7B-23000 Cross Correlation:   0%|          | 0/6 [00:00<?, ?it/s]"
      ]
     },
     "metadata": {},
     "output_type": "display_data"
    },
    {
     "name": "stdout",
     "output_type": "stream",
     "text": [
      " "
     ]
    },
    {
     "data": {
      "application/json": {
       "ascii": false,
       "bar_format": null,
       "colour": null,
       "elapsed": 0.6777782440185547,
       "initial": 0,
       "n": 0,
       "ncols": null,
       "nrows": null,
       "postfix": null,
       "prefix": "6.7B-63000 Cross Correlation",
       "rate": null,
       "total": 4,
       "unit": "it",
       "unit_divisor": 1000,
       "unit_scale": false
      },
      "application/vnd.jupyter.widget-view+json": {
       "model_id": "005482bc4b374ccab9229e9ee28a7dbc",
       "version_major": 2,
       "version_minor": 0
      },
      "text/plain": [
       "6.7B-63000 Cross Correlation:   0%|          | 0/4 [00:00<?, ?it/s]"
      ]
     },
     "metadata": {},
     "output_type": "display_data"
    },
    {
     "data": {
      "application/json": {
       "ascii": false,
       "bar_format": null,
       "colour": null,
       "elapsed": 0.8367877006530762,
       "initial": 0,
       "n": 0,
       "ncols": null,
       "nrows": null,
       "postfix": null,
       "prefix": "6.7B-43000 Cross Correlation",
       "rate": null,
       "total": 5,
       "unit": "it",
       "unit_divisor": 1000,
       "unit_scale": false
      },
      "application/vnd.jupyter.widget-view+json": {
       "model_id": "165048d76e5046e287ab1148cd6d3550",
       "version_major": 2,
       "version_minor": 0
      },
      "text/plain": [
       "6.7B-43000 Cross Correlation:   0%|          | 0/5 [00:00<?, ?it/s]"
      ]
     },
     "metadata": {},
     "output_type": "display_data"
    },
    {
     "name": "stdout",
     "output_type": "stream",
     "text": [
      " "
     ]
    },
    {
     "data": {
      "application/json": {
       "ascii": false,
       "bar_format": null,
       "colour": null,
       "elapsed": 0.6786718368530273,
       "initial": 0,
       "n": 0,
       "ncols": null,
       "nrows": null,
       "postfix": null,
       "prefix": "6.7B-83000 Cross Correlation",
       "rate": null,
       "total": 3,
       "unit": "it",
       "unit_divisor": 1000,
       "unit_scale": false
      },
      "application/vnd.jupyter.widget-view+json": {
       "model_id": "c5ac803a206c4514804fb20e739c1815",
       "version_major": 2,
       "version_minor": 0
      },
      "text/plain": [
       "6.7B-83000 Cross Correlation:   0%|          | 0/3 [00:00<?, ?it/s]"
      ]
     },
     "metadata": {},
     "output_type": "display_data"
    },
    {
     "name": "stdout",
     "output_type": "stream",
     "text": [
      " "
     ]
    },
    {
     "data": {
      "application/json": {
       "ascii": false,
       "bar_format": null,
       "colour": null,
       "elapsed": 0.6880872249603271,
       "initial": 0,
       "n": 0,
       "ncols": null,
       "nrows": null,
       "postfix": null,
       "prefix": "6.7B-103000 Cross Correlation",
       "rate": null,
       "total": 2,
       "unit": "it",
       "unit_divisor": 1000,
       "unit_scale": false
      },
      "application/vnd.jupyter.widget-view+json": {
       "model_id": "3a2d44abecbb4dec840b886ce38a2e17",
       "version_major": 2,
       "version_minor": 0
      },
      "text/plain": [
       "6.7B-103000 Cross Correlation:   0%|          | 0/2 [00:00<?, ?it/s]"
      ]
     },
     "metadata": {},
     "output_type": "display_data"
    },
    {
     "name": "stdout",
     "output_type": "stream",
     "text": [
      " "
     ]
    },
    {
     "data": {
      "application/json": {
       "ascii": false,
       "bar_format": null,
       "colour": null,
       "elapsed": 0.7023296356201172,
       "initial": 0,
       "n": 0,
       "ncols": null,
       "nrows": null,
       "postfix": null,
       "prefix": "6.7B-123000 Cross Correlation",
       "rate": null,
       "total": 1,
       "unit": "it",
       "unit_divisor": 1000,
       "unit_scale": false
      },
      "application/vnd.jupyter.widget-view+json": {
       "model_id": "1502faacb7ee4ac599925c475e336abb",
       "version_major": 2,
       "version_minor": 0
      },
      "text/plain": [
       "6.7B-123000 Cross Correlation:   0%|          | 0/1 [00:00<?, ?it/s]"
      ]
     },
     "metadata": {},
     "output_type": "display_data"
    },
    {
     "name": "stdout",
     "output_type": "stream",
     "text": [
      " "
     ]
    },
    {
     "data": {
      "application/json": {
       "ascii": false,
       "bar_format": null,
       "colour": null,
       "elapsed": 0.7044310569763184,
       "initial": 0,
       "n": 0,
       "ncols": null,
       "nrows": null,
       "postfix": null,
       "prefix": "6.7B_deduped-23000 Cross Correlation",
       "rate": null,
       "total": 6,
       "unit": "it",
       "unit_divisor": 1000,
       "unit_scale": false
      },
      "application/vnd.jupyter.widget-view+json": {
       "model_id": "09bbe143b3434a649d663f6374622cf7",
       "version_major": 2,
       "version_minor": 0
      },
      "text/plain": [
       "6.7B_deduped-23000 Cross Correlation:   0%|          | 0/6 [00:00<?, ?it/s]"
      ]
     },
     "metadata": {},
     "output_type": "display_data"
    },
    {
     "name": "stdout",
     "output_type": "stream",
     "text": [
      " "
     ]
    },
    {
     "data": {
      "application/json": {
       "ascii": false,
       "bar_format": null,
       "colour": null,
       "elapsed": 0.7094430923461914,
       "initial": 0,
       "n": 0,
       "ncols": null,
       "nrows": null,
       "postfix": null,
       "prefix": "6.7B_deduped-43000 Cross Correlation",
       "rate": null,
       "total": 5,
       "unit": "it",
       "unit_divisor": 1000,
       "unit_scale": false
      },
      "application/vnd.jupyter.widget-view+json": {
       "model_id": "9139155ef18e4f89883b221ed05831a3",
       "version_major": 2,
       "version_minor": 0
      },
      "text/plain": [
       "6.7B_deduped-43000 Cross Correlation:   0%|          | 0/5 [00:00<?, ?it/s]"
      ]
     },
     "metadata": {},
     "output_type": "display_data"
    },
    {
     "name": "stdout",
     "output_type": "stream",
     "text": [
      " "
     ]
    },
    {
     "data": {
      "application/json": {
       "ascii": false,
       "bar_format": null,
       "colour": null,
       "elapsed": 0.7347168922424316,
       "initial": 0,
       "n": 0,
       "ncols": null,
       "nrows": null,
       "postfix": null,
       "prefix": "6.7B_deduped-63000 Cross Correlation",
       "rate": null,
       "total": 4,
       "unit": "it",
       "unit_divisor": 1000,
       "unit_scale": false
      },
      "application/vnd.jupyter.widget-view+json": {
       "model_id": "0671b2bd372045e9b8e0a593eb015930",
       "version_major": 2,
       "version_minor": 0
      },
      "text/plain": [
       "6.7B_deduped-63000 Cross Correlation:   0%|          | 0/4 [00:00<?, ?it/s]"
      ]
     },
     "metadata": {},
     "output_type": "display_data"
    },
    {
     "name": "stdout",
     "output_type": "stream",
     "text": [
      " "
     ]
    },
    {
     "data": {
      "application/json": {
       "ascii": false,
       "bar_format": null,
       "colour": null,
       "elapsed": 0.757415771484375,
       "initial": 0,
       "n": 0,
       "ncols": null,
       "nrows": null,
       "postfix": null,
       "prefix": "6.7B_deduped-83000 Cross Correlation",
       "rate": null,
       "total": 3,
       "unit": "it",
       "unit_divisor": 1000,
       "unit_scale": false
      },
      "application/vnd.jupyter.widget-view+json": {
       "model_id": "03e3e721ecc24479a299542017f14c57",
       "version_major": 2,
       "version_minor": 0
      },
      "text/plain": [
       "6.7B_deduped-83000 Cross Correlation:   0%|          | 0/3 [00:00<?, ?it/s]"
      ]
     },
     "metadata": {},
     "output_type": "display_data"
    },
    {
     "name": "stdout",
     "output_type": "stream",
     "text": [
      " "
     ]
    },
    {
     "data": {
      "application/json": {
       "ascii": false,
       "bar_format": null,
       "colour": null,
       "elapsed": 0.7752912044525146,
       "initial": 0,
       "n": 0,
       "ncols": null,
       "nrows": null,
       "postfix": null,
       "prefix": "6.7B_deduped-103000 Cross Correlation",
       "rate": null,
       "total": 2,
       "unit": "it",
       "unit_divisor": 1000,
       "unit_scale": false
      },
      "application/vnd.jupyter.widget-view+json": {
       "model_id": "93655094d3c046098070e4f168b29a53",
       "version_major": 2,
       "version_minor": 0
      },
      "text/plain": [
       "6.7B_deduped-103000 Cross Correlation:   0%|          | 0/2 [00:00<?, ?it/s]"
      ]
     },
     "metadata": {},
     "output_type": "display_data"
    },
    {
     "name": "stdout",
     "output_type": "stream",
     "text": [
      " "
     ]
    },
    {
     "data": {
      "application/json": {
       "ascii": false,
       "bar_format": null,
       "colour": null,
       "elapsed": 0.7890746593475342,
       "initial": 0,
       "n": 0,
       "ncols": null,
       "nrows": null,
       "postfix": null,
       "prefix": "6.7B_deduped-123000 Cross Correlation",
       "rate": null,
       "total": 1,
       "unit": "it",
       "unit_divisor": 1000,
       "unit_scale": false
      },
      "application/vnd.jupyter.widget-view+json": {
       "model_id": "f02d611f51f34df69b9add37ff6dd1a6",
       "version_major": 2,
       "version_minor": 0
      },
      "text/plain": [
       "6.7B_deduped-123000 Cross Correlation:   0%|          | 0/1 [00:00<?, ?it/s]"
      ]
     },
     "metadata": {},
     "output_type": "display_data"
    },
    {
     "name": "stdout",
     "output_type": "stream",
     "text": [
      "  "
     ]
    },
    {
     "data": {
      "application/json": {
       "ascii": false,
       "bar_format": null,
       "colour": null,
       "elapsed": 0.9848239421844482,
       "initial": 0,
       "n": 0,
       "ncols": null,
       "nrows": null,
       "postfix": null,
       "prefix": "2.7B-23000 Cross Correlation",
       "rate": null,
       "total": 6,
       "unit": "it",
       "unit_divisor": 1000,
       "unit_scale": false
      },
      "application/vnd.jupyter.widget-view+json": {
       "model_id": "0fbe4750fde6419db54542b963ffb893",
       "version_major": 2,
       "version_minor": 0
      },
      "text/plain": [
       "2.7B-23000 Cross Correlation:   0%|          | 0/6 [00:00<?, ?it/s]"
      ]
     },
     "metadata": {},
     "output_type": "display_data"
    },
    {
     "data": {
      "application/json": {
       "ascii": false,
       "bar_format": null,
       "colour": null,
       "elapsed": 0.7843804359436035,
       "initial": 0,
       "n": 0,
       "ncols": null,
       "nrows": null,
       "postfix": null,
       "prefix": "2.7B-43000 Cross Correlation",
       "rate": null,
       "total": 5,
       "unit": "it",
       "unit_divisor": 1000,
       "unit_scale": false
      },
      "application/vnd.jupyter.widget-view+json": {
       "model_id": "0d17bc36bd3446d8a49421c7559af937",
       "version_major": 2,
       "version_minor": 0
      },
      "text/plain": [
       "2.7B-43000 Cross Correlation:   0%|          | 0/5 [00:00<?, ?it/s]"
      ]
     },
     "metadata": {},
     "output_type": "display_data"
    },
    {
     "name": "stdout",
     "output_type": "stream",
     "text": [
      " "
     ]
    },
    {
     "data": {
      "application/json": {
       "ascii": false,
       "bar_format": null,
       "colour": null,
       "elapsed": 0.7893345355987549,
       "initial": 0,
       "n": 0,
       "ncols": null,
       "nrows": null,
       "postfix": null,
       "prefix": "2.7B-63000 Cross Correlation",
       "rate": null,
       "total": 4,
       "unit": "it",
       "unit_divisor": 1000,
       "unit_scale": false
      },
      "application/vnd.jupyter.widget-view+json": {
       "model_id": "b8fd7c2f2714491ebd44ffac8ff786a7",
       "version_major": 2,
       "version_minor": 0
      },
      "text/plain": [
       "2.7B-63000 Cross Correlation:   0%|          | 0/4 [00:00<?, ?it/s]"
      ]
     },
     "metadata": {},
     "output_type": "display_data"
    },
    {
     "name": "stdout",
     "output_type": "stream",
     "text": [
      " "
     ]
    },
    {
     "data": {
      "application/json": {
       "ascii": false,
       "bar_format": null,
       "colour": null,
       "elapsed": 0.8061654567718506,
       "initial": 0,
       "n": 0,
       "ncols": null,
       "nrows": null,
       "postfix": null,
       "prefix": "2.7B-83000 Cross Correlation",
       "rate": null,
       "total": 3,
       "unit": "it",
       "unit_divisor": 1000,
       "unit_scale": false
      },
      "application/vnd.jupyter.widget-view+json": {
       "model_id": "79c8825f7fc245778ed592c1e9057d46",
       "version_major": 2,
       "version_minor": 0
      },
      "text/plain": [
       "2.7B-83000 Cross Correlation:   0%|          | 0/3 [00:00<?, ?it/s]"
      ]
     },
     "metadata": {},
     "output_type": "display_data"
    },
    {
     "data": {
      "application/json": {
       "ascii": false,
       "bar_format": null,
       "colour": null,
       "elapsed": 0.8121688365936279,
       "initial": 0,
       "n": 0,
       "ncols": null,
       "nrows": null,
       "postfix": null,
       "prefix": "2.7B-103000 Cross Correlation",
       "rate": null,
       "total": 2,
       "unit": "it",
       "unit_divisor": 1000,
       "unit_scale": false
      },
      "application/vnd.jupyter.widget-view+json": {
       "model_id": "00674516da6941c88483f48134949600",
       "version_major": 2,
       "version_minor": 0
      },
      "text/plain": [
       "2.7B-103000 Cross Correlation:   0%|          | 0/2 [00:00<?, ?it/s]"
      ]
     },
     "metadata": {},
     "output_type": "display_data"
    },
    {
     "name": "stdout",
     "output_type": "stream",
     "text": [
      "  "
     ]
    },
    {
     "data": {
      "application/json": {
       "ascii": false,
       "bar_format": null,
       "colour": null,
       "elapsed": 0.8253848552703857,
       "initial": 0,
       "n": 0,
       "ncols": null,
       "nrows": null,
       "postfix": null,
       "prefix": "2.7B-123000 Cross Correlation",
       "rate": null,
       "total": 1,
       "unit": "it",
       "unit_divisor": 1000,
       "unit_scale": false
      },
      "application/vnd.jupyter.widget-view+json": {
       "model_id": "9ea2a93be41d4dc2b52d8f8467193a93",
       "version_major": 2,
       "version_minor": 0
      },
      "text/plain": [
       "2.7B-123000 Cross Correlation:   0%|          | 0/1 [00:00<?, ?it/s]"
      ]
     },
     "metadata": {},
     "output_type": "display_data"
    },
    {
     "data": {
      "application/json": {
       "ascii": false,
       "bar_format": null,
       "colour": null,
       "elapsed": 0.6332786083221436,
       "initial": 0,
       "n": 0,
       "ncols": null,
       "nrows": null,
       "postfix": null,
       "prefix": "1.3B-11500 Cross Correlation",
       "rate": null,
       "total": 6,
       "unit": "it",
       "unit_divisor": 1000,
       "unit_scale": false
      },
      "application/vnd.jupyter.widget-view+json": {
       "model_id": "f7550da71a2f49bebe7caa2e89cfe075",
       "version_major": 2,
       "version_minor": 0
      },
      "text/plain": [
       "1.3B-11500 Cross Correlation:   0%|          | 0/6 [00:00<?, ?it/s]"
      ]
     },
     "metadata": {},
     "output_type": "display_data"
    },
    {
     "name": "stdout",
     "output_type": "stream",
     "text": [
      " "
     ]
    },
    {
     "data": {
      "application/json": {
       "ascii": false,
       "bar_format": null,
       "colour": null,
       "elapsed": 0.6537489891052246,
       "initial": 0,
       "n": 0,
       "ncols": null,
       "nrows": null,
       "postfix": null,
       "prefix": "1.3B-21500 Cross Correlation",
       "rate": null,
       "total": 5,
       "unit": "it",
       "unit_divisor": 1000,
       "unit_scale": false
      },
      "application/vnd.jupyter.widget-view+json": {
       "model_id": "600c3696db5f48abade4fb8a10d0c646",
       "version_major": 2,
       "version_minor": 0
      },
      "text/plain": [
       "1.3B-21500 Cross Correlation:   0%|          | 0/5 [00:00<?, ?it/s]"
      ]
     },
     "metadata": {},
     "output_type": "display_data"
    },
    {
     "name": "stdout",
     "output_type": "stream",
     "text": [
      "   "
     ]
    },
    {
     "data": {
      "application/json": {
       "ascii": false,
       "bar_format": null,
       "colour": null,
       "elapsed": 0.9750182628631592,
       "initial": 0,
       "n": 0,
       "ncols": null,
       "nrows": null,
       "postfix": null,
       "prefix": "1.3B-31500 Cross Correlation",
       "rate": null,
       "total": 4,
       "unit": "it",
       "unit_divisor": 1000,
       "unit_scale": false
      },
      "application/vnd.jupyter.widget-view+json": {
       "model_id": "f253d6e284284a01b01aa24bb31adc49",
       "version_major": 2,
       "version_minor": 0
      },
      "text/plain": [
       "1.3B-31500 Cross Correlation:   0%|          | 0/4 [00:00<?, ?it/s]"
      ]
     },
     "metadata": {},
     "output_type": "display_data"
    },
    {
     "name": "stdout",
     "output_type": "stream",
     "text": [
      " "
     ]
    },
    {
     "data": {
      "application/json": {
       "ascii": false,
       "bar_format": null,
       "colour": null,
       "elapsed": 1.2114002704620361,
       "initial": 0,
       "n": 0,
       "ncols": null,
       "nrows": null,
       "postfix": null,
       "prefix": "1.3B-41500 Cross Correlation",
       "rate": null,
       "total": 3,
       "unit": "it",
       "unit_divisor": 1000,
       "unit_scale": false
      },
      "application/vnd.jupyter.widget-view+json": {
       "model_id": "4fa9df2239f04a62b39f9d0776d94572",
       "version_major": 2,
       "version_minor": 0
      },
      "text/plain": [
       "1.3B-41500 Cross Correlation:   0%|          | 0/3 [00:01<?, ?it/s]"
      ]
     },
     "metadata": {},
     "output_type": "display_data"
    },
    {
     "name": "stdout",
     "output_type": "stream",
     "text": [
      " "
     ]
    },
    {
     "data": {
      "application/json": {
       "ascii": false,
       "bar_format": null,
       "colour": null,
       "elapsed": 1.2333908081054688,
       "initial": 0,
       "n": 0,
       "ncols": null,
       "nrows": null,
       "postfix": null,
       "prefix": "1.3B-51500 Cross Correlation",
       "rate": null,
       "total": 2,
       "unit": "it",
       "unit_divisor": 1000,
       "unit_scale": false
      },
      "application/vnd.jupyter.widget-view+json": {
       "model_id": "c8e8da91748444e68c2bb3d6b9326f30",
       "version_major": 2,
       "version_minor": 0
      },
      "text/plain": [
       "1.3B-51500 Cross Correlation:   0%|          | 0/2 [00:01<?, ?it/s]"
      ]
     },
     "metadata": {},
     "output_type": "display_data"
    },
    {
     "name": "stdout",
     "output_type": "stream",
     "text": [
      " "
     ]
    },
    {
     "data": {
      "application/json": {
       "ascii": false,
       "bar_format": null,
       "colour": null,
       "elapsed": 1.235217809677124,
       "initial": 0,
       "n": 0,
       "ncols": null,
       "nrows": null,
       "postfix": null,
       "prefix": "1.3B-61500 Cross Correlation",
       "rate": null,
       "total": 1,
       "unit": "it",
       "unit_divisor": 1000,
       "unit_scale": false
      },
      "application/vnd.jupyter.widget-view+json": {
       "model_id": "59f73b3166154d13a03f2e52805ab6f7",
       "version_major": 2,
       "version_minor": 0
      },
      "text/plain": [
       "1.3B-61500 Cross Correlation:   0%|          | 0/1 [00:01<?, ?it/s]"
      ]
     },
     "metadata": {},
     "output_type": "display_data"
    },
    {
     "data": {
      "application/json": {
       "ascii": false,
       "bar_format": null,
       "colour": null,
       "elapsed": 0.9847748279571533,
       "initial": 0,
       "n": 0,
       "ncols": null,
       "nrows": null,
       "postfix": null,
       "prefix": "1.3B_deduped-11500 Cross Correlation",
       "rate": null,
       "total": 6,
       "unit": "it",
       "unit_divisor": 1000,
       "unit_scale": false
      },
      "application/vnd.jupyter.widget-view+json": {
       "model_id": "f741cc8e11904dec8c2ee1496d2e9b42",
       "version_major": 2,
       "version_minor": 0
      },
      "text/plain": [
       "1.3B_deduped-11500 Cross Correlation:   0%|          | 0/6 [00:00<?, ?it/s]"
      ]
     },
     "metadata": {},
     "output_type": "display_data"
    },
    {
     "name": "stdout",
     "output_type": "stream",
     "text": [
      "   "
     ]
    },
    {
     "data": {
      "application/json": {
       "ascii": false,
       "bar_format": null,
       "colour": null,
       "elapsed": 1.3072090148925781,
       "initial": 0,
       "n": 0,
       "ncols": null,
       "nrows": null,
       "postfix": null,
       "prefix": "1.3B_deduped-21500 Cross Correlation",
       "rate": null,
       "total": 5,
       "unit": "it",
       "unit_divisor": 1000,
       "unit_scale": false
      },
      "application/vnd.jupyter.widget-view+json": {
       "model_id": "ae023da2302f44babf1fac776f81a5d7",
       "version_major": 2,
       "version_minor": 0
      },
      "text/plain": [
       "1.3B_deduped-21500 Cross Correlation:   0%|          | 0/5 [00:01<?, ?it/s]"
      ]
     },
     "metadata": {},
     "output_type": "display_data"
    },
    {
     "data": {
      "application/json": {
       "ascii": false,
       "bar_format": null,
       "colour": null,
       "elapsed": 1.3535106182098389,
       "initial": 0,
       "n": 0,
       "ncols": null,
       "nrows": null,
       "postfix": null,
       "prefix": "1.3B_deduped-31500 Cross Correlation",
       "rate": null,
       "total": 4,
       "unit": "it",
       "unit_divisor": 1000,
       "unit_scale": false
      },
      "application/vnd.jupyter.widget-view+json": {
       "model_id": "af1faa39a0bd40d598d70eff9943e8fa",
       "version_major": 2,
       "version_minor": 0
      },
      "text/plain": [
       "1.3B_deduped-31500 Cross Correlation:   0%|          | 0/4 [00:01<?, ?it/s]"
      ]
     },
     "metadata": {},
     "output_type": "display_data"
    },
    {
     "name": "stdout",
     "output_type": "stream",
     "text": [
      " "
     ]
    },
    {
     "data": {
      "application/json": {
       "ascii": false,
       "bar_format": null,
       "colour": null,
       "elapsed": 1.3824999332427979,
       "initial": 0,
       "n": 0,
       "ncols": null,
       "nrows": null,
       "postfix": null,
       "prefix": "1.3B_deduped-41500 Cross Correlation",
       "rate": null,
       "total": 3,
       "unit": "it",
       "unit_divisor": 1000,
       "unit_scale": false
      },
      "application/vnd.jupyter.widget-view+json": {
       "model_id": "f9f6563ceb1b4190a5c31fb46e5b2c63",
       "version_major": 2,
       "version_minor": 0
      },
      "text/plain": [
       "1.3B_deduped-41500 Cross Correlation:   0%|          | 0/3 [00:01<?, ?it/s]"
      ]
     },
     "metadata": {},
     "output_type": "display_data"
    },
    {
     "data": {
      "application/json": {
       "ascii": false,
       "bar_format": null,
       "colour": null,
       "elapsed": 1.1301183700561523,
       "initial": 0,
       "n": 0,
       "ncols": null,
       "nrows": null,
       "postfix": null,
       "prefix": "1.3B_deduped-51500 Cross Correlation",
       "rate": null,
       "total": 2,
       "unit": "it",
       "unit_divisor": 1000,
       "unit_scale": false
      },
      "application/vnd.jupyter.widget-view+json": {
       "model_id": "1b816739c6c843a780143b7ea5d3a1fb",
       "version_major": 2,
       "version_minor": 0
      },
      "text/plain": [
       "1.3B_deduped-51500 Cross Correlation:   0%|          | 0/2 [00:01<?, ?it/s]"
      ]
     },
     "metadata": {},
     "output_type": "display_data"
    },
    {
     "name": "stdout",
     "output_type": "stream",
     "text": [
      "  "
     ]
    },
    {
     "data": {
      "application/json": {
       "ascii": false,
       "bar_format": null,
       "colour": null,
       "elapsed": 1.1441054344177246,
       "initial": 0,
       "n": 0,
       "ncols": null,
       "nrows": null,
       "postfix": null,
       "prefix": "800M-23000 Cross Correlation",
       "rate": null,
       "total": 6,
       "unit": "it",
       "unit_divisor": 1000,
       "unit_scale": false
      },
      "application/vnd.jupyter.widget-view+json": {
       "model_id": "fe6fa586814d4077a1de3a86c4ebc4a1",
       "version_major": 2,
       "version_minor": 0
      },
      "text/plain": [
       "800M-23000 Cross Correlation:   0%|          | 0/6 [00:01<?, ?it/s]"
      ]
     },
     "metadata": {},
     "output_type": "display_data"
    },
    {
     "data": {
      "application/json": {
       "ascii": false,
       "bar_format": null,
       "colour": null,
       "elapsed": 0.883336067199707,
       "initial": 0,
       "n": 0,
       "ncols": null,
       "nrows": null,
       "postfix": null,
       "prefix": "800M-43000 Cross Correlation",
       "rate": null,
       "total": 5,
       "unit": "it",
       "unit_divisor": 1000,
       "unit_scale": false
      },
      "application/vnd.jupyter.widget-view+json": {
       "model_id": "4181f18eabd6454e9b630d757c7f93f0",
       "version_major": 2,
       "version_minor": 0
      },
      "text/plain": [
       "800M-43000 Cross Correlation:   0%|          | 0/5 [00:00<?, ?it/s]"
      ]
     },
     "metadata": {},
     "output_type": "display_data"
    },
    {
     "data": {
      "application/json": {
       "ascii": false,
       "bar_format": null,
       "colour": null,
       "elapsed": 1.4658527374267578,
       "initial": 0,
       "n": 0,
       "ncols": null,
       "nrows": null,
       "postfix": null,
       "prefix": "1.3B_deduped-61500 Cross Correlation",
       "rate": null,
       "total": 1,
       "unit": "it",
       "unit_divisor": 1000,
       "unit_scale": false
      },
      "application/vnd.jupyter.widget-view+json": {
       "model_id": "be804d5b7b254aa8bea5f81cb3a972d6",
       "version_major": 2,
       "version_minor": 0
      },
      "text/plain": [
       "1.3B_deduped-61500 Cross Correlation:   0%|          | 0/1 [00:01<?, ?it/s]"
      ]
     },
     "metadata": {},
     "output_type": "display_data"
    },
    {
     "name": "stdout",
     "output_type": "stream",
     "text": [
      " "
     ]
    },
    {
     "data": {
      "application/json": {
       "ascii": false,
       "bar_format": null,
       "colour": null,
       "elapsed": 0.6317293643951416,
       "initial": 0,
       "n": 0,
       "ncols": null,
       "nrows": null,
       "postfix": null,
       "prefix": "800M-63000 Cross Correlation",
       "rate": null,
       "total": 4,
       "unit": "it",
       "unit_divisor": 1000,
       "unit_scale": false
      },
      "application/vnd.jupyter.widget-view+json": {
       "model_id": "d5ad88e8a323496a90be1b0c83e2ac87",
       "version_major": 2,
       "version_minor": 0
      },
      "text/plain": [
       "800M-63000 Cross Correlation:   0%|          | 0/4 [00:00<?, ?it/s]"
      ]
     },
     "metadata": {},
     "output_type": "display_data"
    },
    {
     "data": {
      "application/json": {
       "ascii": false,
       "bar_format": null,
       "colour": null,
       "elapsed": 0.16495132446289062,
       "initial": 0,
       "n": 0,
       "ncols": null,
       "nrows": null,
       "postfix": null,
       "prefix": "800M-103000 Cross Correlation",
       "rate": null,
       "total": 2,
       "unit": "it",
       "unit_divisor": 1000,
       "unit_scale": false
      },
      "application/vnd.jupyter.widget-view+json": {
       "model_id": "705a62e3819c4959ac8833292234ac4d",
       "version_major": 2,
       "version_minor": 0
      },
      "text/plain": [
       "800M-103000 Cross Correlation:   0%|          | 0/2 [00:00<?, ?it/s]"
      ]
     },
     "metadata": {},
     "output_type": "display_data"
    },
    {
     "data": {
      "application/json": {
       "ascii": false,
       "bar_format": null,
       "colour": null,
       "elapsed": 0.45355677604675293,
       "initial": 0,
       "n": 0,
       "ncols": null,
       "nrows": null,
       "postfix": null,
       "prefix": "800M-83000 Cross Correlation",
       "rate": null,
       "total": 3,
       "unit": "it",
       "unit_divisor": 1000,
       "unit_scale": false
      },
      "application/vnd.jupyter.widget-view+json": {
       "model_id": "93ec46a7303d41b6a1503feb9dbd82f0",
       "version_major": 2,
       "version_minor": 0
      },
      "text/plain": [
       "800M-83000 Cross Correlation:   0%|          | 0/3 [00:00<?, ?it/s]"
      ]
     },
     "metadata": {},
     "output_type": "display_data"
    },
    {
     "data": {
      "application/json": {
       "ascii": false,
       "bar_format": null,
       "colour": null,
       "elapsed": 0.16849827766418457,
       "initial": 0,
       "n": 0,
       "ncols": null,
       "nrows": null,
       "postfix": null,
       "prefix": "800M-123000 Cross Correlation",
       "rate": null,
       "total": 1,
       "unit": "it",
       "unit_divisor": 1000,
       "unit_scale": false
      },
      "application/vnd.jupyter.widget-view+json": {
       "model_id": "a049d8f0e24f4984aa4e17161494750c",
       "version_major": 2,
       "version_minor": 0
      },
      "text/plain": [
       "800M-123000 Cross Correlation:   0%|          | 0/1 [00:00<?, ?it/s]"
      ]
     },
     "metadata": {},
     "output_type": "display_data"
    },
    {
     "name": "stdout",
     "output_type": "stream",
     "text": [
      "       "
     ]
    },
    {
     "data": {
      "application/json": {
       "ascii": false,
       "bar_format": null,
       "colour": null,
       "elapsed": 0.8523845672607422,
       "initial": 0,
       "n": 0,
       "ncols": null,
       "nrows": null,
       "postfix": null,
       "prefix": "800M_deduped-23000 Cross Correlation",
       "rate": null,
       "total": 6,
       "unit": "it",
       "unit_divisor": 1000,
       "unit_scale": false
      },
      "application/vnd.jupyter.widget-view+json": {
       "model_id": "de8f4f7498234afda0ac68eb4c6a6367",
       "version_major": 2,
       "version_minor": 0
      },
      "text/plain": [
       "800M_deduped-23000 Cross Correlation:   0%|          | 0/6 [00:00<?, ?it/s]"
      ]
     },
     "metadata": {},
     "output_type": "display_data"
    },
    {
     "name": "stdout",
     "output_type": "stream",
     "text": [
      " "
     ]
    },
    {
     "data": {
      "application/json": {
       "ascii": false,
       "bar_format": null,
       "colour": null,
       "elapsed": 0.8536117076873779,
       "initial": 0,
       "n": 0,
       "ncols": null,
       "nrows": null,
       "postfix": null,
       "prefix": "800M_deduped-43000 Cross Correlation",
       "rate": null,
       "total": 5,
       "unit": "it",
       "unit_divisor": 1000,
       "unit_scale": false
      },
      "application/vnd.jupyter.widget-view+json": {
       "model_id": "fa393bb50e8a44f2a9ddae9c170135a5",
       "version_major": 2,
       "version_minor": 0
      },
      "text/plain": [
       "800M_deduped-43000 Cross Correlation:   0%|          | 0/5 [00:00<?, ?it/s]"
      ]
     },
     "metadata": {},
     "output_type": "display_data"
    },
    {
     "name": "stdout",
     "output_type": "stream",
     "text": [
      " "
     ]
    },
    {
     "data": {
      "application/json": {
       "ascii": false,
       "bar_format": null,
       "colour": null,
       "elapsed": 0.8554716110229492,
       "initial": 0,
       "n": 0,
       "ncols": null,
       "nrows": null,
       "postfix": null,
       "prefix": "800M_deduped-63000 Cross Correlation",
       "rate": null,
       "total": 4,
       "unit": "it",
       "unit_divisor": 1000,
       "unit_scale": false
      },
      "application/vnd.jupyter.widget-view+json": {
       "model_id": "b0990f11e9f84ba28ab511d6073929b6",
       "version_major": 2,
       "version_minor": 0
      },
      "text/plain": [
       "800M_deduped-63000 Cross Correlation:   0%|          | 0/4 [00:00<?, ?it/s]"
      ]
     },
     "metadata": {},
     "output_type": "display_data"
    },
    {
     "name": "stdout",
     "output_type": "stream",
     "text": [
      " "
     ]
    },
    {
     "data": {
      "application/json": {
       "ascii": false,
       "bar_format": null,
       "colour": null,
       "elapsed": 0.8625092506408691,
       "initial": 0,
       "n": 0,
       "ncols": null,
       "nrows": null,
       "postfix": null,
       "prefix": "800M_deduped-83000 Cross Correlation",
       "rate": null,
       "total": 3,
       "unit": "it",
       "unit_divisor": 1000,
       "unit_scale": false
      },
      "application/vnd.jupyter.widget-view+json": {
       "model_id": "6972ae58b7144edb9d81f1c9df3e76e9",
       "version_major": 2,
       "version_minor": 0
      },
      "text/plain": [
       "800M_deduped-83000 Cross Correlation:   0%|          | 0/3 [00:00<?, ?it/s]"
      ]
     },
     "metadata": {},
     "output_type": "display_data"
    },
    {
     "name": "stdout",
     "output_type": "stream",
     "text": [
      " "
     ]
    },
    {
     "data": {
      "application/json": {
       "ascii": false,
       "bar_format": null,
       "colour": null,
       "elapsed": 0.8683466911315918,
       "initial": 0,
       "n": 0,
       "ncols": null,
       "nrows": null,
       "postfix": null,
       "prefix": "800M_deduped-103000 Cross Correlation",
       "rate": null,
       "total": 2,
       "unit": "it",
       "unit_divisor": 1000,
       "unit_scale": false
      },
      "application/vnd.jupyter.widget-view+json": {
       "model_id": "1e53020dc5b3474bb5ecf70269dd4f81",
       "version_major": 2,
       "version_minor": 0
      },
      "text/plain": [
       "800M_deduped-103000 Cross Correlation:   0%|          | 0/2 [00:00<?, ?it/s]"
      ]
     },
     "metadata": {},
     "output_type": "display_data"
    },
    {
     "name": "stdout",
     "output_type": "stream",
     "text": [
      " "
     ]
    },
    {
     "data": {
      "application/json": {
       "ascii": false,
       "bar_format": null,
       "colour": null,
       "elapsed": 0.8794581890106201,
       "initial": 0,
       "n": 0,
       "ncols": null,
       "nrows": null,
       "postfix": null,
       "prefix": "800M_deduped-123000 Cross Correlation",
       "rate": null,
       "total": 1,
       "unit": "it",
       "unit_divisor": 1000,
       "unit_scale": false
      },
      "application/vnd.jupyter.widget-view+json": {
       "model_id": "d89ae7aee51b4e359c227a446c99ade6",
       "version_major": 2,
       "version_minor": 0
      },
      "text/plain": [
       "800M_deduped-123000 Cross Correlation:   0%|          | 0/1 [00:00<?, ?it/s]"
      ]
     },
     "metadata": {},
     "output_type": "display_data"
    },
    {
     "name": "stdout",
     "output_type": "stream",
     "text": [
      " "
     ]
    },
    {
     "data": {
      "application/json": {
       "ascii": false,
       "bar_format": null,
       "colour": null,
       "elapsed": 0.8948512077331543,
       "initial": 0,
       "n": 0,
       "ncols": null,
       "nrows": null,
       "postfix": null,
       "prefix": "350M-11500 Cross Correlation",
       "rate": null,
       "total": 6,
       "unit": "it",
       "unit_divisor": 1000,
       "unit_scale": false
      },
      "application/vnd.jupyter.widget-view+json": {
       "model_id": "900895b4970740439a5a7eaa71db0af6",
       "version_major": 2,
       "version_minor": 0
      },
      "text/plain": [
       "350M-11500 Cross Correlation:   0%|          | 0/6 [00:00<?, ?it/s]"
      ]
     },
     "metadata": {},
     "output_type": "display_data"
    },
    {
     "data": {
      "application/json": {
       "ascii": false,
       "bar_format": null,
       "colour": null,
       "elapsed": 0.7557215690612793,
       "initial": 0,
       "n": 0,
       "ncols": null,
       "nrows": null,
       "postfix": null,
       "prefix": "350M-21500 Cross Correlation",
       "rate": null,
       "total": 5,
       "unit": "it",
       "unit_divisor": 1000,
       "unit_scale": false
      },
      "application/vnd.jupyter.widget-view+json": {
       "model_id": "20e208cfe2c94b6ca498d933745cbb30",
       "version_major": 2,
       "version_minor": 0
      },
      "text/plain": [
       "350M-21500 Cross Correlation:   0%|          | 0/5 [00:00<?, ?it/s]"
      ]
     },
     "metadata": {},
     "output_type": "display_data"
    },
    {
     "name": "stdout",
     "output_type": "stream",
     "text": [
      " "
     ]
    },
    {
     "data": {
      "application/json": {
       "ascii": false,
       "bar_format": null,
       "colour": null,
       "elapsed": 0.7657389640808105,
       "initial": 0,
       "n": 0,
       "ncols": null,
       "nrows": null,
       "postfix": null,
       "prefix": "350M-31500 Cross Correlation",
       "rate": null,
       "total": 4,
       "unit": "it",
       "unit_divisor": 1000,
       "unit_scale": false
      },
      "application/vnd.jupyter.widget-view+json": {
       "model_id": "36bf853e28564e3bb44510c29762c623",
       "version_major": 2,
       "version_minor": 0
      },
      "text/plain": [
       "350M-31500 Cross Correlation:   0%|          | 0/4 [00:00<?, ?it/s]"
      ]
     },
     "metadata": {},
     "output_type": "display_data"
    },
    {
     "name": "stdout",
     "output_type": "stream",
     "text": [
      " "
     ]
    },
    {
     "data": {
      "application/json": {
       "ascii": false,
       "bar_format": null,
       "colour": null,
       "elapsed": 0.7822787761688232,
       "initial": 0,
       "n": 0,
       "ncols": null,
       "nrows": null,
       "postfix": null,
       "prefix": "350M-41500 Cross Correlation",
       "rate": null,
       "total": 3,
       "unit": "it",
       "unit_divisor": 1000,
       "unit_scale": false
      },
      "application/vnd.jupyter.widget-view+json": {
       "model_id": "3ddc298b7ca045d1a6a44f4bb38a4077",
       "version_major": 2,
       "version_minor": 0
      },
      "text/plain": [
       "350M-41500 Cross Correlation:   0%|          | 0/3 [00:00<?, ?it/s]"
      ]
     },
     "metadata": {},
     "output_type": "display_data"
    },
    {
     "data": {
      "application/json": {
       "ascii": false,
       "bar_format": null,
       "colour": null,
       "elapsed": 0.6349470615386963,
       "initial": 0,
       "n": 0,
       "ncols": null,
       "nrows": null,
       "postfix": null,
       "prefix": "350M-51500 Cross Correlation",
       "rate": null,
       "total": 2,
       "unit": "it",
       "unit_divisor": 1000,
       "unit_scale": false
      },
      "application/vnd.jupyter.widget-view+json": {
       "model_id": "690d011f7ed94a11a7317ae508af087b",
       "version_major": 2,
       "version_minor": 0
      },
      "text/plain": [
       "350M-51500 Cross Correlation:   0%|          | 0/2 [00:00<?, ?it/s]"
      ]
     },
     "metadata": {},
     "output_type": "display_data"
    },
    {
     "name": "stdout",
     "output_type": "stream",
     "text": [
      " "
     ]
    },
    {
     "data": {
      "application/json": {
       "ascii": false,
       "bar_format": null,
       "colour": null,
       "elapsed": 0.6667578220367432,
       "initial": 0,
       "n": 0,
       "ncols": null,
       "nrows": null,
       "postfix": null,
       "prefix": "350M-61500 Cross Correlation",
       "rate": null,
       "total": 1,
       "unit": "it",
       "unit_divisor": 1000,
       "unit_scale": false
      },
      "application/vnd.jupyter.widget-view+json": {
       "model_id": "1bf46401053f4e749bdd7423b5ac0ab3",
       "version_major": 2,
       "version_minor": 0
      },
      "text/plain": [
       "350M-61500 Cross Correlation:   0%|          | 0/1 [00:00<?, ?it/s]"
      ]
     },
     "metadata": {},
     "output_type": "display_data"
    },
    {
     "name": "stdout",
     "output_type": "stream",
     "text": [
      " "
     ]
    },
    {
     "data": {
      "application/json": {
       "ascii": false,
       "bar_format": null,
       "colour": null,
       "elapsed": 0.7014415264129639,
       "initial": 0,
       "n": 0,
       "ncols": null,
       "nrows": null,
       "postfix": null,
       "prefix": "350M_deduped-11500 Cross Correlation",
       "rate": null,
       "total": 6,
       "unit": "it",
       "unit_divisor": 1000,
       "unit_scale": false
      },
      "application/vnd.jupyter.widget-view+json": {
       "model_id": "7626f0de86ce49178d0e7d8193e36294",
       "version_major": 2,
       "version_minor": 0
      },
      "text/plain": [
       "350M_deduped-11500 Cross Correlation:   0%|          | 0/6 [00:00<?, ?it/s]"
      ]
     },
     "metadata": {},
     "output_type": "display_data"
    },
    {
     "name": "stdout",
     "output_type": "stream",
     "text": [
      " "
     ]
    },
    {
     "data": {
      "application/json": {
       "ascii": false,
       "bar_format": null,
       "colour": null,
       "elapsed": 0.7325091361999512,
       "initial": 0,
       "n": 0,
       "ncols": null,
       "nrows": null,
       "postfix": null,
       "prefix": "350M_deduped-21500 Cross Correlation",
       "rate": null,
       "total": 5,
       "unit": "it",
       "unit_divisor": 1000,
       "unit_scale": false
      },
      "application/vnd.jupyter.widget-view+json": {
       "model_id": "449ae8d8b46942f5bb1aeca8818fcf2f",
       "version_major": 2,
       "version_minor": 0
      },
      "text/plain": [
       "350M_deduped-21500 Cross Correlation:   0%|          | 0/5 [00:00<?, ?it/s]"
      ]
     },
     "metadata": {},
     "output_type": "display_data"
    },
    {
     "name": "stdout",
     "output_type": "stream",
     "text": [
      " "
     ]
    },
    {
     "data": {
      "application/json": {
       "ascii": false,
       "bar_format": null,
       "colour": null,
       "elapsed": 0.7374403476715088,
       "initial": 0,
       "n": 0,
       "ncols": null,
       "nrows": null,
       "postfix": null,
       "prefix": "350M_deduped-31500 Cross Correlation",
       "rate": null,
       "total": 4,
       "unit": "it",
       "unit_divisor": 1000,
       "unit_scale": false
      },
      "application/vnd.jupyter.widget-view+json": {
       "model_id": "261206ea1b0445b9bf97c193c00d260e",
       "version_major": 2,
       "version_minor": 0
      },
      "text/plain": [
       "350M_deduped-31500 Cross Correlation:   0%|          | 0/4 [00:00<?, ?it/s]"
      ]
     },
     "metadata": {},
     "output_type": "display_data"
    },
    {
     "name": "stdout",
     "output_type": "stream",
     "text": [
      " "
     ]
    },
    {
     "data": {
      "application/json": {
       "ascii": false,
       "bar_format": null,
       "colour": null,
       "elapsed": 0.7290422916412354,
       "initial": 0,
       "n": 0,
       "ncols": null,
       "nrows": null,
       "postfix": null,
       "prefix": "350M_deduped-41500 Cross Correlation",
       "rate": null,
       "total": 3,
       "unit": "it",
       "unit_divisor": 1000,
       "unit_scale": false
      },
      "application/vnd.jupyter.widget-view+json": {
       "model_id": "543bb9790d634a0aac4608848e7a7276",
       "version_major": 2,
       "version_minor": 0
      },
      "text/plain": [
       "350M_deduped-41500 Cross Correlation:   0%|          | 0/3 [00:00<?, ?it/s]"
      ]
     },
     "metadata": {},
     "output_type": "display_data"
    },
    {
     "name": "stdout",
     "output_type": "stream",
     "text": [
      " "
     ]
    },
    {
     "data": {
      "application/json": {
       "ascii": false,
       "bar_format": null,
       "colour": null,
       "elapsed": 0.7341351509094238,
       "initial": 0,
       "n": 0,
       "ncols": null,
       "nrows": null,
       "postfix": null,
       "prefix": "350M_deduped-51500 Cross Correlation",
       "rate": null,
       "total": 2,
       "unit": "it",
       "unit_divisor": 1000,
       "unit_scale": false
      },
      "application/vnd.jupyter.widget-view+json": {
       "model_id": "d39e49a6959547038da45ec482712440",
       "version_major": 2,
       "version_minor": 0
      },
      "text/plain": [
       "350M_deduped-51500 Cross Correlation:   0%|          | 0/2 [00:00<?, ?it/s]"
      ]
     },
     "metadata": {},
     "output_type": "display_data"
    },
    {
     "name": "stdout",
     "output_type": "stream",
     "text": [
      " "
     ]
    },
    {
     "data": {
      "application/json": {
       "ascii": false,
       "bar_format": null,
       "colour": null,
       "elapsed": 0.7413637638092041,
       "initial": 0,
       "n": 0,
       "ncols": null,
       "nrows": null,
       "postfix": null,
       "prefix": "350M_deduped-61500 Cross Correlation",
       "rate": null,
       "total": 1,
       "unit": "it",
       "unit_divisor": 1000,
       "unit_scale": false
      },
      "application/vnd.jupyter.widget-view+json": {
       "model_id": "a2259c289e5e44189145d6d7e2935784",
       "version_major": 2,
       "version_minor": 0
      },
      "text/plain": [
       "350M_deduped-61500 Cross Correlation:   0%|          | 0/1 [00:00<?, ?it/s]"
      ]
     },
     "metadata": {},
     "output_type": "display_data"
    },
    {
     "name": "stdout",
     "output_type": "stream",
     "text": [
      " "
     ]
    },
    {
     "data": {
      "application/json": {
       "ascii": false,
       "bar_format": null,
       "colour": null,
       "elapsed": 0.7767951488494873,
       "initial": 0,
       "n": 0,
       "ncols": null,
       "nrows": null,
       "postfix": null,
       "prefix": "125M-11500 Cross Correlation",
       "rate": null,
       "total": 6,
       "unit": "it",
       "unit_divisor": 1000,
       "unit_scale": false
      },
      "application/vnd.jupyter.widget-view+json": {
       "model_id": "0905720d8159497ca42b2a5ef0f0eb3e",
       "version_major": 2,
       "version_minor": 0
      },
      "text/plain": [
       "125M-11500 Cross Correlation:   0%|          | 0/6 [00:00<?, ?it/s]"
      ]
     },
     "metadata": {},
     "output_type": "display_data"
    },
    {
     "name": "stdout",
     "output_type": "stream",
     "text": [
      " "
     ]
    },
    {
     "data": {
      "application/json": {
       "ascii": false,
       "bar_format": null,
       "colour": null,
       "elapsed": 0.7971386909484863,
       "initial": 0,
       "n": 0,
       "ncols": null,
       "nrows": null,
       "postfix": null,
       "prefix": "125M-21500 Cross Correlation",
       "rate": null,
       "total": 5,
       "unit": "it",
       "unit_divisor": 1000,
       "unit_scale": false
      },
      "application/vnd.jupyter.widget-view+json": {
       "model_id": "13228bec227942858fff7d529ff97cab",
       "version_major": 2,
       "version_minor": 0
      },
      "text/plain": [
       "125M-21500 Cross Correlation:   0%|          | 0/5 [00:00<?, ?it/s]"
      ]
     },
     "metadata": {},
     "output_type": "display_data"
    },
    {
     "name": "stdout",
     "output_type": "stream",
     "text": [
      " "
     ]
    },
    {
     "data": {
      "application/json": {
       "ascii": false,
       "bar_format": null,
       "colour": null,
       "elapsed": 0.796281099319458,
       "initial": 0,
       "n": 0,
       "ncols": null,
       "nrows": null,
       "postfix": null,
       "prefix": "125M-31500 Cross Correlation",
       "rate": null,
       "total": 4,
       "unit": "it",
       "unit_divisor": 1000,
       "unit_scale": false
      },
      "application/vnd.jupyter.widget-view+json": {
       "model_id": "9ba8e8af403640cf95894ae06a0693e3",
       "version_major": 2,
       "version_minor": 0
      },
      "text/plain": [
       "125M-31500 Cross Correlation:   0%|          | 0/4 [00:00<?, ?it/s]"
      ]
     },
     "metadata": {},
     "output_type": "display_data"
    },
    {
     "name": "stdout",
     "output_type": "stream",
     "text": [
      " "
     ]
    },
    {
     "data": {
      "application/json": {
       "ascii": false,
       "bar_format": null,
       "colour": null,
       "elapsed": 0.8060052394866943,
       "initial": 0,
       "n": 0,
       "ncols": null,
       "nrows": null,
       "postfix": null,
       "prefix": "125M-41500 Cross Correlation",
       "rate": null,
       "total": 3,
       "unit": "it",
       "unit_divisor": 1000,
       "unit_scale": false
      },
      "application/vnd.jupyter.widget-view+json": {
       "model_id": "3ddda2c7194a4064836086203f92aaba",
       "version_major": 2,
       "version_minor": 0
      },
      "text/plain": [
       "125M-41500 Cross Correlation:   0%|          | 0/3 [00:00<?, ?it/s]"
      ]
     },
     "metadata": {},
     "output_type": "display_data"
    },
    {
     "name": "stdout",
     "output_type": "stream",
     "text": [
      " "
     ]
    },
    {
     "data": {
      "application/json": {
       "ascii": false,
       "bar_format": null,
       "colour": null,
       "elapsed": 0.8071112632751465,
       "initial": 0,
       "n": 0,
       "ncols": null,
       "nrows": null,
       "postfix": null,
       "prefix": "125M-51500 Cross Correlation",
       "rate": null,
       "total": 2,
       "unit": "it",
       "unit_divisor": 1000,
       "unit_scale": false
      },
      "application/vnd.jupyter.widget-view+json": {
       "model_id": "9311ee70bf4c4bca9b98c83d89f87982",
       "version_major": 2,
       "version_minor": 0
      },
      "text/plain": [
       "125M-51500 Cross Correlation:   0%|          | 0/2 [00:00<?, ?it/s]"
      ]
     },
     "metadata": {},
     "output_type": "display_data"
    },
    {
     "name": "stdout",
     "output_type": "stream",
     "text": [
      " "
     ]
    },
    {
     "data": {
      "application/json": {
       "ascii": false,
       "bar_format": null,
       "colour": null,
       "elapsed": 0.8220424652099609,
       "initial": 0,
       "n": 0,
       "ncols": null,
       "nrows": null,
       "postfix": null,
       "prefix": "125M-61500 Cross Correlation",
       "rate": null,
       "total": 1,
       "unit": "it",
       "unit_divisor": 1000,
       "unit_scale": false
      },
      "application/vnd.jupyter.widget-view+json": {
       "model_id": "8588eb451bb344568117530d6800d0a2",
       "version_major": 2,
       "version_minor": 0
      },
      "text/plain": [
       "125M-61500 Cross Correlation:   0%|          | 0/1 [00:00<?, ?it/s]"
      ]
     },
     "metadata": {},
     "output_type": "display_data"
    },
    {
     "name": "stdout",
     "output_type": "stream",
     "text": [
      " "
     ]
    },
    {
     "data": {
      "application/json": {
       "ascii": false,
       "bar_format": null,
       "colour": null,
       "elapsed": 0.8369791507720947,
       "initial": 0,
       "n": 0,
       "ncols": null,
       "nrows": null,
       "postfix": null,
       "prefix": "125M_deduped-11500 Cross Correlation",
       "rate": null,
       "total": 6,
       "unit": "it",
       "unit_divisor": 1000,
       "unit_scale": false
      },
      "application/vnd.jupyter.widget-view+json": {
       "model_id": "29c5a17a5e9a4a918c57c110d80f2178",
       "version_major": 2,
       "version_minor": 0
      },
      "text/plain": [
       "125M_deduped-11500 Cross Correlation:   0%|          | 0/6 [00:00<?, ?it/s]"
      ]
     },
     "metadata": {},
     "output_type": "display_data"
    },
    {
     "data": {
      "application/json": {
       "ascii": false,
       "bar_format": null,
       "colour": null,
       "elapsed": 0.6362543106079102,
       "initial": 0,
       "n": 0,
       "ncols": null,
       "nrows": null,
       "postfix": null,
       "prefix": "125M_deduped-21500 Cross Correlation",
       "rate": null,
       "total": 5,
       "unit": "it",
       "unit_divisor": 1000,
       "unit_scale": false
      },
      "application/vnd.jupyter.widget-view+json": {
       "model_id": "2fc8515398a54f68903c2a95b0cbf6c8",
       "version_major": 2,
       "version_minor": 0
      },
      "text/plain": [
       "125M_deduped-21500 Cross Correlation:   0%|          | 0/5 [00:00<?, ?it/s]"
      ]
     },
     "metadata": {},
     "output_type": "display_data"
    },
    {
     "data": {
      "application/json": {
       "ascii": false,
       "bar_format": null,
       "colour": null,
       "elapsed": 0.43697595596313477,
       "initial": 0,
       "n": 0,
       "ncols": null,
       "nrows": null,
       "postfix": null,
       "prefix": "125M_deduped-31500 Cross Correlation",
       "rate": null,
       "total": 4,
       "unit": "it",
       "unit_divisor": 1000,
       "unit_scale": false
      },
      "application/vnd.jupyter.widget-view+json": {
       "model_id": "eb44522639d9491bb1a177522a5b8c8e",
       "version_major": 2,
       "version_minor": 0
      },
      "text/plain": [
       "125M_deduped-31500 Cross Correlation:   0%|          | 0/4 [00:00<?, ?it/s]"
      ]
     },
     "metadata": {},
     "output_type": "display_data"
    },
    {
     "name": "stdout",
     "output_type": "stream",
     "text": [
      " "
     ]
    },
    {
     "data": {
      "application/json": {
       "ascii": false,
       "bar_format": null,
       "colour": null,
       "elapsed": 0.23540019989013672,
       "initial": 0,
       "n": 0,
       "ncols": null,
       "nrows": null,
       "postfix": null,
       "prefix": "125M_deduped-41500 Cross Correlation",
       "rate": null,
       "total": 3,
       "unit": "it",
       "unit_divisor": 1000,
       "unit_scale": false
      },
      "application/vnd.jupyter.widget-view+json": {
       "model_id": "9323e817b3ba4d79a17049476b4fa375",
       "version_major": 2,
       "version_minor": 0
      },
      "text/plain": [
       "125M_deduped-41500 Cross Correlation:   0%|          | 0/3 [00:00<?, ?it/s]"
      ]
     },
     "metadata": {},
     "output_type": "display_data"
    },
    {
     "data": {
      "application/json": {
       "ascii": false,
       "bar_format": null,
       "colour": null,
       "elapsed": 0.027896881103515625,
       "initial": 0,
       "n": 0,
       "ncols": null,
       "nrows": null,
       "postfix": null,
       "prefix": "125M_deduped-51500 Cross Correlation",
       "rate": null,
       "total": 2,
       "unit": "it",
       "unit_divisor": 1000,
       "unit_scale": false
      },
      "application/vnd.jupyter.widget-view+json": {
       "model_id": "5bb892b6ca4c46448b399c910ce53911",
       "version_major": 2,
       "version_minor": 0
      },
      "text/plain": [
       "125M_deduped-51500 Cross Correlation:   0%|          | 0/2 [00:00<?, ?it/s]"
      ]
     },
     "metadata": {},
     "output_type": "display_data"
    },
    {
     "data": {
      "application/json": {
       "ascii": false,
       "bar_format": null,
       "colour": null,
       "elapsed": 0.022104263305664062,
       "initial": 0,
       "n": 0,
       "ncols": null,
       "nrows": null,
       "postfix": null,
       "prefix": "125M_deduped-61500 Cross Correlation",
       "rate": null,
       "total": 1,
       "unit": "it",
       "unit_divisor": 1000,
       "unit_scale": false
      },
      "application/vnd.jupyter.widget-view+json": {
       "model_id": "4b81bb1128544822a267172f6c4eaf67",
       "version_major": 2,
       "version_minor": 0
      },
      "text/plain": [
       "125M_deduped-61500 Cross Correlation:   0%|          | 0/1 [00:00<?, ?it/s]"
      ]
     },
     "metadata": {},
     "output_type": "display_data"
    }
   ],
   "source": [
    "manager = MPManager()\n",
    "tot_processes = 0\n",
    "for model_one, checkpoints in models.items():\n",
    "    for checkpoint_one in checkpoints:\n",
    "        if(checkpoint_one in [143000, 71500]): continue # No models to correlate with 143000 and 71500\n",
    "            # Since these are final checkpoints\n",
    "        manager.add(Process(target=plot_normalized_cross_correlation_of_model, args=(model_one, \n",
    "            str(checkpoint_one), models)))\n",
    "        tot_processes+=1\n",
    "        if(tot_processes >= mp.cpu_count()):\n",
    "            tot_processes = 0\n",
    "            manager.join()\n",
    "    \n",
    "manager.join()"
   ]
  },
  {
   "cell_type": "markdown",
   "id": "234191b8",
   "metadata": {},
   "source": [
    "# Sampled KDE Plot"
   ]
  },
  {
   "cell_type": "code",
   "execution_count": 51,
   "id": "15fbc5e1",
   "metadata": {},
   "outputs": [
    {
     "data": {
      "text/html": [
       "\n",
       "        <style>\n",
       "            .jupyter-widgets {color: #d5d5d5 !important;}\n",
       "            .widget-label {color: #d5d5d5 !important;}\n",
       "        </style>\n",
       "    "
      ],
      "text/plain": [
       "<IPython.core.display.HTML object>"
      ]
     },
     "metadata": {},
     "output_type": "display_data"
    }
   ],
   "source": [
    "import seaborn as sns\n",
    "from scipy.stats import gaussian_kde\n",
    "\n",
    "def sampled_kde_of_checkpoint(model, checkpoint, models):\n",
    "    '''Plots KDE distribution on marginal axes and Scatter plot with gaussian kde cmap on joint axis\n",
    "    \n",
    "    `model`: Model name\n",
    "    `checkpoint`: Checkpoint of the corresponding model\n",
    "    `models`: Dictionary containing model and it's checkpoint names\n",
    "    '''\n",
    "    # Theming\n",
    "    sns.set_theme(font_scale=1.5)\n",
    "    model_name = f'{model}-{checkpoint}'\n",
    "    \n",
    "    # Extract Data\n",
    "    evals = memorization_results[model_name]\n",
    "    sample_evals = evals.sample(n=int(1e4))\n",
    "    sample_evals['Accuracy'] = sample_evals['accuracy']\n",
    "    sample_evals['Sequence Index'] = sample_evals['index']\n",
    "    \n",
    "    # Plotting\n",
    "    grid = sns.JointGrid(data=sample_evals, x='Sequence Index', y='Accuracy', height = 9, ratio=3, \n",
    "                         space=0.1, marginal_ticks=True)\n",
    "    xy = np.vstack([sample_evals['Accuracy'],sample_evals['Sequence Index']])\n",
    "    z = gaussian_kde(xy)(xy)\n",
    "    grid.plot_joint(sns.scatterplot, c=z, cmap='viridis', alpha=0.5)\n",
    "    grid.plot_marginals(sns.kdeplot, fill=True, alpha=1)\n",
    "    fig  = grid.figure\n",
    "    \n",
    "    # Saving Plot\n",
    "    fig.suptitle(\"Memorization Accuracy Scatter & KDE plot\", fontsize=20)\n",
    "    fig.tight_layout()\n",
    "    fig.subplots_adjust(top=0.90)\n",
    "    fig.savefig(f'./plots/{model_name}_kde_plot.png', facecolor='#F8F0DF')"
   ]
  },
  {
   "cell_type": "code",
   "execution_count": 16,
   "id": "1663ecad",
   "metadata": {},
   "outputs": [
    {
     "data": {
      "text/html": [
       "\n",
       "        <style>\n",
       "            .jupyter-widgets {color: #d5d5d5 !important;}\n",
       "            .widget-label {color: #d5d5d5 !important;}\n",
       "        </style>\n",
       "    "
      ],
      "text/plain": [
       "<IPython.core.display.HTML object>"
      ]
     },
     "metadata": {},
     "output_type": "display_data"
    },
    {
     "ename": "NameError",
     "evalue": "name 'sampled_kde_of_checkpoint' is not defined",
     "output_type": "error",
     "traceback": [
      "\u001b[0;31m---------------------------------------------------------------------------\u001b[0m",
      "\u001b[0;31mNameError\u001b[0m                                 Traceback (most recent call last)",
      "Input \u001b[0;32mIn [16]\u001b[0m, in \u001b[0;36m<cell line: 5>\u001b[0;34m()\u001b[0m\n\u001b[1;32m      5\u001b[0m \u001b[38;5;28;01mfor\u001b[39;00m model_one, checkpoints \u001b[38;5;129;01min\u001b[39;00m models\u001b[38;5;241m.\u001b[39mitems():\n\u001b[1;32m      6\u001b[0m     \u001b[38;5;28;01mfor\u001b[39;00m checkpoint_one \u001b[38;5;129;01min\u001b[39;00m checkpoints:\n\u001b[0;32m----> 7\u001b[0m         manager\u001b[38;5;241m.\u001b[39madd(Process(target\u001b[38;5;241m=\u001b[39m\u001b[43msampled_kde_of_checkpoint\u001b[49m, args\u001b[38;5;241m=\u001b[39m(model_one, \n\u001b[1;32m      8\u001b[0m             checkpoint_one, models)))\n\u001b[1;32m      9\u001b[0m manager\u001b[38;5;241m.\u001b[39mjoin()\n",
      "\u001b[0;31mNameError\u001b[0m: name 'sampled_kde_of_checkpoint' is not defined"
     ]
    }
   ],
   "source": [
    "import multiprocessing as mp\n",
    "from multiprocessing import Process, Lock\n",
    "manager = MPManager()\n",
    "lock = Lock()\n",
    "for model_one, checkpoints in models.items():\n",
    "    for checkpoint_one in checkpoints:\n",
    "        manager.add(Process(target=sampled_kde_of_checkpoint, args=(model_one, \n",
    "            checkpoint_one, models)))\n",
    "manager.join()"
   ]
  }
 ],
 "metadata": {
  "kernelspec": {
   "display_name": "Python 3 (ipykernel)",
   "language": "python",
   "name": "python3"
  },
  "language_info": {
   "codemirror_mode": {
    "name": "ipython",
    "version": 3
   },
   "file_extension": ".py",
   "mimetype": "text/x-python",
   "name": "python",
   "nbconvert_exporter": "python",
   "pygments_lexer": "ipython3",
   "version": "3.8.13"
  }
 },
 "nbformat": 4,
 "nbformat_minor": 5
}
