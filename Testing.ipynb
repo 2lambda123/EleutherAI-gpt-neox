{
 "cells": [
  {
   "cell_type": "code",
   "execution_count": 1,
   "id": "de77d477",
   "metadata": {},
   "outputs": [],
   "source": [
    "import pandas as pd"
   ]
  },
  {
   "cell_type": "markdown",
   "id": "688e652e",
   "metadata": {},
   "source": [
    "# Loading Memorization Evals\n",
    "> Memorization evals are dataframes (1 per model checkpoint)\n",
    "\n",
    "> Each dataframe has two columnns: index of data and memorization score of data (accuracy between true continuation and model generation)"
   ]
  },
  {
   "cell_type": "code",
   "execution_count": 9,
   "id": "f13930d2",
   "metadata": {},
   "outputs": [],
   "source": [
    "models = ['13b', '6.7b', '2.7b', '1.3b', '800m', '350m', '125m', '19m']\n",
    "checkpoints = [23000, 43000, 63000, 83000, 103000, 123000, 143000]\n",
    "checkpoint_names = ['23m', '44m', '65m', '85m', '105m', '126m', '146m']\n",
    "filepath = '/mnt/ssd-1/memorization-evals'"
   ]
  },
  {
   "cell_type": "code",
   "execution_count": 10,
   "id": "16ef9e4c",
   "metadata": {},
   "outputs": [],
   "source": [
    "import os\n",
    "import pandas as pd\n",
    "from tqdm.auto import tqdm\n",
    "\n",
    "tqdm.pandas()"
   ]
  },
  {
   "cell_type": "code",
   "execution_count": 13,
   "id": "6760c972",
   "metadata": {
    "scrolled": false
   },
   "outputs": [
    {
     "data": {
      "application/vnd.jupyter.widget-view+json": {
       "model_id": "284050109cbc487c9653c80e5ae12af8",
       "version_major": 2,
       "version_minor": 0
      },
      "text/plain": [
       "13b:   0%|          | 0/7 [00:00<?, ?it/s]"
      ]
     },
     "metadata": {},
     "output_type": "display_data"
    },
    {
     "data": {
      "application/vnd.jupyter.widget-view+json": {
       "model_id": "7f748dcf73bd4a40ae715a141782d065",
       "version_major": 2,
       "version_minor": 0
      },
      "text/plain": [
       "6.7b:   0%|          | 0/7 [00:00<?, ?it/s]"
      ]
     },
     "metadata": {},
     "output_type": "display_data"
    },
    {
     "data": {
      "application/vnd.jupyter.widget-view+json": {
       "model_id": "6c31d9a4fed84f8cab37b01039cd3cfc",
       "version_major": 2,
       "version_minor": 0
      },
      "text/plain": [
       "2.7b:   0%|          | 0/7 [00:00<?, ?it/s]"
      ]
     },
     "metadata": {},
     "output_type": "display_data"
    },
    {
     "data": {
      "application/vnd.jupyter.widget-view+json": {
       "model_id": "3c8977d83d764df584c54737271926ae",
       "version_major": 2,
       "version_minor": 0
      },
      "text/plain": [
       "1.3b:   0%|          | 0/7 [00:00<?, ?it/s]"
      ]
     },
     "metadata": {},
     "output_type": "display_data"
    },
    {
     "data": {
      "application/vnd.jupyter.widget-view+json": {
       "model_id": "e485f7c2b30941bab4f0b2b557958937",
       "version_major": 2,
       "version_minor": 0
      },
      "text/plain": [
       "800m:   0%|          | 0/7 [00:00<?, ?it/s]"
      ]
     },
     "metadata": {},
     "output_type": "display_data"
    },
    {
     "data": {
      "application/vnd.jupyter.widget-view+json": {
       "model_id": "4a1db78ce41c4a15a6f9fc4da287133b",
       "version_major": 2,
       "version_minor": 0
      },
      "text/plain": [
       "350m:   0%|          | 0/7 [00:00<?, ?it/s]"
      ]
     },
     "metadata": {},
     "output_type": "display_data"
    },
    {
     "data": {
      "application/vnd.jupyter.widget-view+json": {
       "model_id": "cd0d17ceefa749f2be720be2c8f2d398",
       "version_major": 2,
       "version_minor": 0
      },
      "text/plain": [
       "125m:   0%|          | 0/7 [00:00<?, ?it/s]"
      ]
     },
     "metadata": {},
     "output_type": "display_data"
    },
    {
     "data": {
      "application/vnd.jupyter.widget-view+json": {
       "model_id": "c2139466f65649ed83636bf2bb0d1f89",
       "version_major": 2,
       "version_minor": 0
      },
      "text/plain": [
       "19m:   0%|          | 0/7 [00:00<?, ?it/s]"
      ]
     },
     "metadata": {},
     "output_type": "display_data"
    }
   ],
   "source": [
    "memorization_results = {}\n",
    "for model in models:\n",
    "    \n",
    "    for checkpoint in tqdm(checkpoints, desc=model):\n",
    "        filename = os.path.join(filepath, f'memorization_{model}_{checkpoint}.hdf')\n",
    "        model_name = f'{model}-{checkpoint}'\n",
    "        try:\n",
    "            memorization_results[model_name] = pd.read_hdf(filename, key='memorization')\n",
    "        except Exception as e:\n",
    "            csv = pd.read_csv(os.path.join(filepath, f'memorization_results_{model}_{checkpoint}.csv'))\n",
    "            csv.to_hdf(filename, key='memorization', index=False)\n",
    "            memorization_results[model_name] = csv"
   ]
  },
  {
   "cell_type": "markdown",
   "id": "20107d37",
   "metadata": {},
   "source": [
    "# Loading Megatron Dataset"
   ]
  },
  {
   "cell_type": "code",
   "execution_count": 14,
   "id": "a4c7775e",
   "metadata": {},
   "outputs": [],
   "source": [
    "from megatron.data.data_utils import build_the_dataset"
   ]
  },
  {
   "cell_type": "code",
   "execution_count": 15,
   "id": "cf93a27c",
   "metadata": {
    "scrolled": false
   },
   "outputs": [
    {
     "name": "stdout",
     "output_type": "stream",
     "text": [
      "    reading sizes...\n",
      "    reading pointers...\n",
      "    reading document index...\n",
      "    creating numpy buffer of mmap...\n",
      "    creating memory view of numpy buffer...\n",
      "    train_0:\n",
      "     no. of documents:210604984\n"
     ]
    }
   ],
   "source": [
    "dataset = build_the_dataset(\n",
    "        data_prefix = '/mnt/ssd-1/data/pile_20B_tokenizer/pile_20B_tokenizer_text_document', # Replace with the path of pile document\n",
    "        name = 'train_0',\n",
    "        data_impl='mmap',\n",
    "        num_samples=131727360,\n",
    "        seq_length=2048,\n",
    "        seed=1234,\n",
    "        skip_warmup=True,\n",
    "        build_index_mappings=False\n",
    "    )"
   ]
  },
  {
   "cell_type": "code",
   "execution_count": 16,
   "id": "4b0cbdc7",
   "metadata": {},
   "outputs": [],
   "source": [
    "import numpy as np"
   ]
  },
  {
   "cell_type": "code",
   "execution_count": 17,
   "id": "9ef24481",
   "metadata": {},
   "outputs": [],
   "source": [
    "idx_path = '/mnt/ssd-1/data/pile_20B_tokenizer/pile_20B_tokenizer_text_document_train_0_indexmap_143213ns'\n",
    "dataset.doc_idx = np.load(f\"{idx_path}_2048sl_1234s_doc_idx.npy\")\n",
    "dataset.sample_idx = np.load(f\"{idx_path}_2048sl_1234s_sample_idx.npy\")\n",
    "dataset.shuffle_idx = np.load(f\"{idx_path}_2048sl_1234s_shuffle_idx.npy\")"
   ]
  },
  {
   "cell_type": "code",
   "execution_count": 18,
   "id": "46a90a9f",
   "metadata": {},
   "outputs": [],
   "source": [
    "dataset.shuffle_idx_len = dataset.shuffle_idx.shape[0] - 1\n",
    "dataset.sample_idx_len = dataset.sample_idx.shape[0] - 1"
   ]
  },
  {
   "cell_type": "markdown",
   "id": "39b9eda8",
   "metadata": {},
   "source": [
    "Memorization evals are in Pandas DataFrames. We can use Pandarallel, if required to speed up .apply operations"
   ]
  },
  {
   "cell_type": "code",
   "execution_count": 6,
   "id": "53d14034",
   "metadata": {
    "scrolled": true
   },
   "outputs": [
    {
     "name": "stdout",
     "output_type": "stream",
     "text": [
      "Defaulting to user installation because normal site-packages is not writeable\n",
      "Collecting pandarallel\n",
      "  Downloading pandarallel-1.6.4.tar.gz (12 kB)\n",
      "  Preparing metadata (setup.py) ... \u001b[?25ldone\n",
      "\u001b[?25hRequirement already satisfied: dill>=0.3.1 in /usr/local/lib/python3.8/dist-packages (from pandarallel) (0.3.6)\n",
      "Requirement already satisfied: pandas>=1 in /usr/local/lib/python3.8/dist-packages (from pandarallel) (1.5.2)\n",
      "Requirement already satisfied: psutil in /usr/local/lib/python3.8/dist-packages (from pandarallel) (5.9.4)\n",
      "Requirement already satisfied: python-dateutil>=2.8.1 in /usr/local/lib/python3.8/dist-packages (from pandas>=1->pandarallel) (2.8.2)\n",
      "Requirement already satisfied: numpy>=1.20.3 in /usr/local/lib/python3.8/dist-packages (from pandas>=1->pandarallel) (1.22.0)\n",
      "Requirement already satisfied: pytz>=2020.1 in /usr/local/lib/python3.8/dist-packages (from pandas>=1->pandarallel) (2022.7)\n",
      "Requirement already satisfied: six>=1.5 in /usr/lib/python3/dist-packages (from python-dateutil>=2.8.1->pandas>=1->pandarallel) (1.14.0)\n",
      "Building wheels for collected packages: pandarallel\n",
      "  Building wheel for pandarallel (setup.py) ... \u001b[?25ldone\n",
      "\u001b[?25h  Created wheel for pandarallel: filename=pandarallel-1.6.4-py3-none-any.whl size=16665 sha256=586501ca3dd38266e004c89363e4c2c95b7128b5aea0d283dd4314b92f140539\n",
      "  Stored in directory: /home/mchorse/.cache/pip/wheels/42/4f/2f/6ef59875d9ffe4c49cdf326407a77a151336314344c4044540\n",
      "Successfully built pandarallel\n",
      "Installing collected packages: pandarallel\n",
      "Successfully installed pandarallel-1.6.4\n"
     ]
    }
   ],
   "source": [
    "!pip3 install pandarallel"
   ]
  },
  {
   "cell_type": "code",
   "execution_count": 7,
   "id": "a2207d16",
   "metadata": {
    "scrolled": true
   },
   "outputs": [
    {
     "name": "stdout",
     "output_type": "stream",
     "text": [
      "INFO: Pandarallel will run on 36 workers.\n",
      "INFO: Pandarallel will use Memory file system to transfer data between the main process and workers.\n"
     ]
    }
   ],
   "source": [
    "from pandarallel import pandarallel\n",
    "pandarallel.initialize(progress_bar=True)"
   ]
  },
  {
   "cell_type": "markdown",
   "id": "4d2f07ff",
   "metadata": {},
   "source": [
    "# Validation"
   ]
  },
  {
   "cell_type": "code",
   "execution_count": 37,
   "id": "9510e6d1",
   "metadata": {},
   "outputs": [],
   "source": [
    "from transformers import AutoModelForCausalLM"
   ]
  },
  {
   "cell_type": "code",
   "execution_count": 38,
   "id": "aa8bf37e",
   "metadata": {},
   "outputs": [],
   "source": [
    "model = AutoModelForCausalLM.from_pretrained(\"EleutherAI/pythia-19m\")"
   ]
  },
  {
   "cell_type": "code",
   "execution_count": 23,
   "id": "48728cad",
   "metadata": {},
   "outputs": [],
   "source": [
    "nmd = memorization_results['19m-143000']"
   ]
  },
  {
   "cell_type": "code",
   "execution_count": 25,
   "id": "06da6d1b",
   "metadata": {},
   "outputs": [
    {
     "data": {
      "text/html": [
       "<div>\n",
       "<style scoped>\n",
       "    .dataframe tbody tr th:only-of-type {\n",
       "        vertical-align: middle;\n",
       "    }\n",
       "\n",
       "    .dataframe tbody tr th {\n",
       "        vertical-align: top;\n",
       "    }\n",
       "\n",
       "    .dataframe thead th {\n",
       "        text-align: right;\n",
       "    }\n",
       "</style>\n",
       "<table border=\"1\" class=\"dataframe\">\n",
       "  <thead>\n",
       "    <tr style=\"text-align: right;\">\n",
       "      <th></th>\n",
       "      <th>index</th>\n",
       "      <th>accuracy</th>\n",
       "    </tr>\n",
       "  </thead>\n",
       "  <tbody>\n",
       "    <tr>\n",
       "      <th>232</th>\n",
       "      <td>232</td>\n",
       "      <td>1.0</td>\n",
       "    </tr>\n",
       "    <tr>\n",
       "      <th>764</th>\n",
       "      <td>764</td>\n",
       "      <td>1.0</td>\n",
       "    </tr>\n",
       "    <tr>\n",
       "      <th>806</th>\n",
       "      <td>806</td>\n",
       "      <td>1.0</td>\n",
       "    </tr>\n",
       "    <tr>\n",
       "      <th>891</th>\n",
       "      <td>891</td>\n",
       "      <td>1.0</td>\n",
       "    </tr>\n",
       "    <tr>\n",
       "      <th>1060</th>\n",
       "      <td>1060</td>\n",
       "      <td>1.0</td>\n",
       "    </tr>\n",
       "    <tr>\n",
       "      <th>...</th>\n",
       "      <td>...</td>\n",
       "      <td>...</td>\n",
       "    </tr>\n",
       "    <tr>\n",
       "      <th>2287433</th>\n",
       "      <td>146431433</td>\n",
       "      <td>1.0</td>\n",
       "    </tr>\n",
       "    <tr>\n",
       "      <th>2287569</th>\n",
       "      <td>146431569</td>\n",
       "      <td>1.0</td>\n",
       "    </tr>\n",
       "    <tr>\n",
       "      <th>2287580</th>\n",
       "      <td>146431580</td>\n",
       "      <td>1.0</td>\n",
       "    </tr>\n",
       "    <tr>\n",
       "      <th>2287652</th>\n",
       "      <td>146431652</td>\n",
       "      <td>1.0</td>\n",
       "    </tr>\n",
       "    <tr>\n",
       "      <th>2287669</th>\n",
       "      <td>146431669</td>\n",
       "      <td>1.0</td>\n",
       "    </tr>\n",
       "  </tbody>\n",
       "</table>\n",
       "<p>463953 rows × 2 columns</p>\n",
       "</div>"
      ],
      "text/plain": [
       "             index  accuracy\n",
       "232            232       1.0\n",
       "764            764       1.0\n",
       "806            806       1.0\n",
       "891            891       1.0\n",
       "1060          1060       1.0\n",
       "...            ...       ...\n",
       "2287433  146431433       1.0\n",
       "2287569  146431569       1.0\n",
       "2287580  146431580       1.0\n",
       "2287652  146431652       1.0\n",
       "2287669  146431669       1.0\n",
       "\n",
       "[463953 rows x 2 columns]"
      ]
     },
     "execution_count": 25,
     "metadata": {},
     "output_type": "execute_result"
    }
   ],
   "source": [
    "nmd[nmd['accuracy'] == 1]"
   ]
  },
  {
   "cell_type": "code",
   "execution_count": 28,
   "id": "8060a324",
   "metadata": {},
   "outputs": [],
   "source": [
    "input_tokens = dataset[232]['text'][:64]"
   ]
  },
  {
   "cell_type": "code",
   "execution_count": 30,
   "id": "f26d0f16",
   "metadata": {},
   "outputs": [],
   "source": [
    "import torch"
   ]
  },
  {
   "cell_type": "code",
   "execution_count": 42,
   "id": "1f827c8c",
   "metadata": {},
   "outputs": [
    {
     "name": "stderr",
     "output_type": "stream",
     "text": [
      "The attention mask and the pad token id were not set. As a consequence, you may observe unexpected behavior. Please pass your input's `attention_mask` to obtain reliable results.\n",
      "Setting `pad_token_id` to `eos_token_id`:0 for open-end generation.\n"
     ]
    },
    {
     "data": {
      "text/plain": [
       "tensor([[  996,   186,    29,  1088,  7392,   568, 29860,  5264, 21694, 13544,\n",
       "            79,   870, 21694,  2730,  8992,  2730,  2203,    31,    18,    10,\n",
       "         23934, 17775,    61,    79,   870,  2203,  3073,  8992,  3073,  1088,\n",
       "            31,   996,   186,    29,  1088,  7392,   568, 29860,  5264, 21694,\n",
       "         13544,    79,   870, 21694,  2730,  8992,  2730,  2203,    31,    19,\n",
       "            10,  6707, 17775,    61,    79,   870,  2203,  3073,  8992,  3073,\n",
       "          1088,    31,   996,   186]])"
      ]
     },
     "execution_count": 42,
     "metadata": {},
     "output_type": "execute_result"
    }
   ],
   "source": [
    "model.generate(\n",
    "    input_ids = torch.tensor(input_tokens[:32].reshape(1, -1)),\n",
    "    temperature = 0.0,\n",
    "    top_k = 0,\n",
    "    top_p = 0,\n",
    "    min_length = 64,\n",
    "    max_length = 64\n",
    ")"
   ]
  },
  {
   "cell_type": "code",
   "execution_count": 44,
   "id": "d525f911",
   "metadata": {},
   "outputs": [
    {
     "data": {
      "text/plain": [
       "array([  996,   186,    29,  1088,  7392,   568, 29860,  5264, 21694,\n",
       "       13544,    79,   870, 21694,  2730,  8992,  2730,  2203,    31,\n",
       "          18,    10, 23934, 17775,    61,    79,   870,  2203,  3073,\n",
       "        8992,  3073,  1088,    31,   996,   186,    29,  1088,  7392,\n",
       "         568, 29860,  5264, 21694, 13544,    79,   870, 21694,  2730,\n",
       "        8992,  2730,  2203,    31,    19,    10,  6707, 17775,    61,\n",
       "          79,   870,  2203,  3073,  8992,  3073,  1088,    31,   996,\n",
       "         186])"
      ]
     },
     "execution_count": 44,
     "metadata": {},
     "output_type": "execute_result"
    }
   ],
   "source": [
    "input_tokens"
   ]
  },
  {
   "cell_type": "code",
   "execution_count": null,
   "id": "eef4a1bb",
   "metadata": {},
   "outputs": [],
   "source": []
  }
 ],
 "metadata": {
  "kernelspec": {
   "display_name": "Python 3 (ipykernel)",
   "language": "python",
   "name": "python3"
  },
  "language_info": {
   "codemirror_mode": {
    "name": "ipython",
    "version": 3
   },
   "file_extension": ".py",
   "mimetype": "text/x-python",
   "name": "python",
   "nbconvert_exporter": "python",
   "pygments_lexer": "ipython3",
   "version": "3.8.10"
  }
 },
 "nbformat": 4,
 "nbformat_minor": 5
}
