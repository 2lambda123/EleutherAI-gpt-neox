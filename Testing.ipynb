{
 "cells": [
  {
   "cell_type": "code",
   "execution_count": 4,
   "id": "de77d477",
   "metadata": {},
   "outputs": [],
   "source": [
    "import pandas as pd"
   ]
  },
  {
   "cell_type": "code",
   "execution_count": 146,
   "id": "f13930d2",
   "metadata": {},
   "outputs": [],
   "source": [
    "models = ['13b-deduped', '6.7b-deduped', '2.7b-deduped', '1.3b-deduped', '800m-deduped', '350m-deduped', '125m-deduped', '19m-deduped']\n",
    "checkpoints = [23000, 43000, 63000, 83000, 103000, 123000, 143000]\n",
    "checkpoint_names = ['23m', '44m', '65m', '85m', '105m', '126m', '146m']\n",
    "filepath = '/fsx/orz/memorization-evals'"
   ]
  },
  {
   "cell_type": "code",
   "execution_count": 148,
   "id": "16ef9e4c",
   "metadata": {},
   "outputs": [],
   "source": [
    "import os\n",
    "import pandas as pd\n",
    "from tqdm.auto import tqdm\n",
    "\n",
    "tqdm.pandas()"
   ]
  },
  {
   "cell_type": "code",
   "execution_count": 149,
   "id": "6760c972",
   "metadata": {},
   "outputs": [
    {
     "data": {
      "application/vnd.jupyter.widget-view+json": {
       "model_id": "1c8b64f4a9dc4fc8a33e0df73e739f50",
       "version_major": 2,
       "version_minor": 0
      },
      "text/plain": [
       "13b-deduped:   0%|          | 0/1 [00:00<?, ?it/s]"
      ]
     },
     "metadata": {},
     "output_type": "display_data"
    },
    {
     "data": {
      "application/vnd.jupyter.widget-view+json": {
       "model_id": "f5dc7821e2d34636bd9b96ca2f93e92e",
       "version_major": 2,
       "version_minor": 0
      },
      "text/plain": [
       "6.7b-deduped:   0%|          | 0/1 [00:00<?, ?it/s]"
      ]
     },
     "metadata": {},
     "output_type": "display_data"
    },
    {
     "data": {
      "application/vnd.jupyter.widget-view+json": {
       "model_id": "2c9788323b314357a006a5bf50422a13",
       "version_major": 2,
       "version_minor": 0
      },
      "text/plain": [
       "2.7b-deduped:   0%|          | 0/1 [00:00<?, ?it/s]"
      ]
     },
     "metadata": {},
     "output_type": "display_data"
    },
    {
     "data": {
      "application/vnd.jupyter.widget-view+json": {
       "model_id": "4fcbebe525b8450aa78683e4806d917c",
       "version_major": 2,
       "version_minor": 0
      },
      "text/plain": [
       "1.3b-deduped:   0%|          | 0/1 [00:00<?, ?it/s]"
      ]
     },
     "metadata": {},
     "output_type": "display_data"
    },
    {
     "data": {
      "application/vnd.jupyter.widget-view+json": {
       "model_id": "bdddfbfc7b4b4fa7b53bf285031cd784",
       "version_major": 2,
       "version_minor": 0
      },
      "text/plain": [
       "800m-deduped:   0%|          | 0/1 [00:00<?, ?it/s]"
      ]
     },
     "metadata": {},
     "output_type": "display_data"
    },
    {
     "data": {
      "application/vnd.jupyter.widget-view+json": {
       "model_id": "a9171fc2c39140949b8039ce496c9cd9",
       "version_major": 2,
       "version_minor": 0
      },
      "text/plain": [
       "350m-deduped:   0%|          | 0/1 [00:00<?, ?it/s]"
      ]
     },
     "metadata": {},
     "output_type": "display_data"
    },
    {
     "data": {
      "application/vnd.jupyter.widget-view+json": {
       "model_id": "8531e0136e884e81baae5bf0e4ee7ac8",
       "version_major": 2,
       "version_minor": 0
      },
      "text/plain": [
       "125m-deduped:   0%|          | 0/1 [00:00<?, ?it/s]"
      ]
     },
     "metadata": {},
     "output_type": "display_data"
    },
    {
     "data": {
      "application/vnd.jupyter.widget-view+json": {
       "model_id": "843ffdbc2f0141f3b68012e8cb781c39",
       "version_major": 2,
       "version_minor": 0
      },
      "text/plain": [
       "19m-deduped:   0%|          | 0/1 [00:00<?, ?it/s]"
      ]
     },
     "metadata": {},
     "output_type": "display_data"
    }
   ],
   "source": [
    "memorization_results = {}\n",
    "for model in models:\n",
    "    \n",
    "    for checkpoint in tqdm(checkpoints[-1:], desc=model):\n",
    "        filename = os.path.join(filepath, f'memorization_{model}_{checkpoint}.hdf')\n",
    "        model_name = f'{model}-{checkpoint}'\n",
    "        try:\n",
    "            memorization_results[model_name] = pd.read_hdf(filename, key='memorization')\n",
    "        except Exception as e:\n",
    "            csv = pd.read_csv(os.path.join(filepath, f'memorization_results_{model}_{checkpoint}.csv'))\n",
    "            csv.to_hdf(filename, key='memorization', index=False)\n",
    "            memorization_results[model_name] = csv"
   ]
  },
  {
   "cell_type": "code",
   "execution_count": 6,
   "id": "f9f545ab",
   "metadata": {},
   "outputs": [],
   "source": [
    "model = AutoModelForCausalLM.from_pretrained(\n",
    "            f\"EleutherAI/pythia-1.3b-deduped\",\n",
    "            revision = f'step143000',\n",
    "            use_cache=False, \n",
    "            cache_dir = '/fsx/orz/models'\n",
    "        )"
   ]
  },
  {
   "cell_type": "code",
   "execution_count": 7,
   "id": "307de760",
   "metadata": {},
   "outputs": [],
   "source": [
    "model = model.half().eval().cuda()"
   ]
  },
  {
   "cell_type": "code",
   "execution_count": null,
   "id": "b03af9d4",
   "metadata": {},
   "outputs": [],
   "source": []
  },
  {
   "cell_type": "code",
   "execution_count": 22,
   "id": "c1236f2b",
   "metadata": {},
   "outputs": [
    {
     "name": "stderr",
     "output_type": "stream",
     "text": [
      "13b-deduped: 100%|███████████████████████████████████████████████████████████████████████| 7/7 [20:20<00:00, 174.35s/it]\n"
     ]
    }
   ],
   "source": [
    "models = ['13b-deduped']\n",
    "checkpoints = [23000, 43000, 63000, 83000, 103000, 123000, 143000]\n",
    "for model in models:\n",
    "    for checkpoint in tqdm(checkpoints, desc=model):\n",
    "        AutoModelForCausalLM.from_pretrained(\n",
    "            f\"EleutherAI/pythia-{model}\",\n",
    "            revision = f'step{checkpoint}',\n",
    "            use_cache=False, \n",
    "            cache_dir = '/fsx/orz/models'\n",
    "        )"
   ]
  },
  {
   "cell_type": "code",
   "execution_count": 11,
   "id": "a8f70711",
   "metadata": {},
   "outputs": [],
   "source": [
    "model = model.half().eval().cuda()"
   ]
  },
  {
   "cell_type": "code",
   "execution_count": 11,
   "id": "a4c7775e",
   "metadata": {},
   "outputs": [
    {
     "name": "stderr",
     "output_type": "stream",
     "text": [
      "fatal: not a git repository (or any parent up to mount point /)\n",
      "Stopping at filesystem boundary (GIT_DISCOVERY_ACROSS_FILESYSTEM not set).\n"
     ]
    }
   ],
   "source": [
    "from megatron.data.data_utils import build_the_dataset"
   ]
  },
  {
   "cell_type": "code",
   "execution_count": 13,
   "id": "cf93a27c",
   "metadata": {
    "scrolled": true
   },
   "outputs": [
    {
     "name": "stdout",
     "output_type": "stream",
     "text": [
      "    reading sizes...\n",
      "    reading pointers...\n",
      "    reading document index...\n",
      "    creating numpy buffer of mmap...\n",
      "    creating memory view of numpy buffer...\n",
      "    train_0:\n",
      "     no. of documents:210604984\n"
     ]
    }
   ],
   "source": [
    "dataset = build_the_dataset(\n",
    "        data_prefix = '/fsx/pile/pile_20B_tokenizer_text_document',\n",
    "        name = 'train_0',\n",
    "        data_impl='mmap',\n",
    "        num_samples=131727360,\n",
    "        seq_length=2048,\n",
    "        seed=1234,\n",
    "        skip_warmup=True,\n",
    "        build_index_mappings=False\n",
    "    )"
   ]
  },
  {
   "cell_type": "code",
   "execution_count": 14,
   "id": "742ddee5",
   "metadata": {},
   "outputs": [],
   "source": [
    "import numpy as np"
   ]
  },
  {
   "cell_type": "code",
   "execution_count": 15,
   "id": "8aef18a8",
   "metadata": {},
   "outputs": [],
   "source": [
    "idx_path = \"/fsx/pile/pile_20B_tokenizer_text_document_test_0_indexmap_10292ns\"\n",
    "dataset.doc_idx = np.load(f\"{idx_path}_2048sl_1234s_doc_idx.npy\")\n",
    "dataset.sample_idx = np.load(f\"{idx_path}_2048sl_1234s_sample_idx.npy\")\n",
    "dataset.shuffle_idx = np.load(f\"{idx_path}_2048sl_1234s_shuffle_idx.npy\")"
   ]
  },
  {
   "cell_type": "code",
   "execution_count": 16,
   "id": "b22c5b5f",
   "metadata": {},
   "outputs": [],
   "source": [
    "dataset.shuffle_idx_len = dataset.shuffle_idx.shape[0] - 1\n",
    "dataset.sample_idx_len = dataset.sample_idx.shape[0] - 1"
   ]
  },
  {
   "cell_type": "code",
   "execution_count": 29,
   "id": "53d14034",
   "metadata": {
    "scrolled": true
   },
   "outputs": [
    {
     "name": "stdout",
     "output_type": "stream",
     "text": [
      "Collecting pandarallel\n",
      "  Downloading pandarallel-1.6.3.tar.gz (12 kB)\n",
      "Collecting dill>=0.3.1\n",
      "  Downloading dill-0.3.6-py3-none-any.whl (110 kB)\n",
      "\u001b[K     |████████████████████████████████| 110 kB 29.8 MB/s eta 0:00:01\n",
      "\u001b[?25hRequirement already satisfied: pandas>=1 in /fsx/orz/memorization/lib/python3.8/site-packages (from pandarallel) (1.5.2)\n",
      "Requirement already satisfied: psutil in /fsx/orz/memorization/lib/python3.8/site-packages (from pandarallel) (5.9.4)\n",
      "Requirement already satisfied: python-dateutil>=2.8.1 in /fsx/orz/memorization/lib/python3.8/site-packages (from pandas>=1->pandarallel) (2.8.2)\n",
      "Requirement already satisfied: pytz>=2020.1 in /fsx/orz/memorization/lib/python3.8/site-packages (from pandas>=1->pandarallel) (2022.7)\n",
      "Requirement already satisfied: numpy>=1.20.3; python_version < \"3.10\" in /fsx/orz/memorization/lib/python3.8/site-packages (from pandas>=1->pandarallel) (1.22.0)\n",
      "Requirement already satisfied: six>=1.5 in /fsx/orz/memorization/lib/python3.8/site-packages (from python-dateutil>=2.8.1->pandas>=1->pandarallel) (1.16.0)\n",
      "Building wheels for collected packages: pandarallel\n",
      "  Building wheel for pandarallel (setup.py) ... \u001b[?25ldone\n",
      "\u001b[?25h  Created wheel for pandarallel: filename=pandarallel-1.6.3-py3-none-any.whl size=16449 sha256=420d869fee4d17f949725f8fd5b680063135fd0601c69f976f57c811e13e68e0\n",
      "  Stored in directory: /admin/home-orz/.cache/pip/wheels/16/f5/91/d7efa7c4911ae1cf1aff825f902382eb69a1855f9987a7d17c\n",
      "Successfully built pandarallel\n",
      "Installing collected packages: dill, pandarallel\n",
      "Successfully installed dill-0.3.6 pandarallel-1.6.3\n"
     ]
    }
   ],
   "source": [
    "!pip3 install pandarallel"
   ]
  },
  {
   "cell_type": "code",
   "execution_count": 32,
   "id": "a2207d16",
   "metadata": {},
   "outputs": [
    {
     "name": "stdout",
     "output_type": "stream",
     "text": [
      "INFO: Pandarallel will run on 48 workers.\n",
      "INFO: Pandarallel will use Memory file system to transfer data between the main process and workers.\n"
     ]
    }
   ],
   "source": [
    "from pandarallel import pandarallel\n",
    "pandarallel.initialize(progress_bar=True)"
   ]
  },
  {
   "cell_type": "code",
   "execution_count": 51,
   "id": "bc285700",
   "metadata": {},
   "outputs": [
    {
     "name": "stdout",
     "output_type": "stream",
     "text": [
      "1.6269162478146852\n"
     ]
    },
    {
     "data": {
      "application/vnd.jupyter.widget-view+json": {
       "model_id": "1d7d350b2cbd4caf869a0285f0ddd619",
       "version_major": 2,
       "version_minor": 0
      },
      "text/plain": [
       "VBox(children=(HBox(children=(IntProgress(value=0, description='0.00%', max=49632), Label(value='0 / 49632')))…"
      ]
     },
     "metadata": {},
     "output_type": "display_data"
    },
    {
     "name": "stderr",
     "output_type": "stream",
     "text": [
      "/tmp/ipykernel_1358952/3470156160.py:5: SettingWithCopyWarning: \n",
      "A value is trying to be set on a copy of a slice from a DataFrame.\n",
      "Try using .loc[row_indexer,col_indexer] = value instead\n",
      "\n",
      "See the caveats in the documentation: https://pandas.pydata.org/pandas-docs/stable/user_guide/indexing.html#returning-a-view-versus-a-copy\n",
      "  data_acc1['tokens'] = data_acc1['index'].parallel_apply(lambda x:dataset[x]['text'][:64].tolist())\n",
      "/tmp/ipykernel_1358952/3470156160.py:6: PerformanceWarning: \n",
      "your performance may suffer as PyTables will pickle object types that it cannot\n",
      "map directly to c-types [inferred_type->mixed,key->block2_values] [items->Index(['tokens'], dtype='object')]\n",
      "\n",
      "  data_acc1.to_hdf(f\"/fsx/orz/memorized-data/{model}.hdf\", key='memorization')\n"
     ]
    },
    {
     "name": "stdout",
     "output_type": "stream",
     "text": [
      "1.4484327196241258\n"
     ]
    },
    {
     "name": "stderr",
     "output_type": "stream",
     "text": [
      "/fsx/orz/memorization/lib/python3.8/site-packages/pandarallel/data_types/series.py:16: FutureWarning: The behavior of `series[i:j]` with an integer-dtype index is deprecated. In a future version, this will be treated as *label-based* indexing, consistent with e.g. `series[i]` lookups. To retain the old behavior, use `series.iloc[i:j]`. To get the future behavior, use `series.loc[i:j]`.\n",
      "  yield data[chunk_]\n"
     ]
    },
    {
     "data": {
      "application/vnd.jupyter.widget-view+json": {
       "model_id": "6949e79f761046b29cd790f2a05d6d33",
       "version_major": 2,
       "version_minor": 0
      },
      "text/plain": [
       "VBox(children=(HBox(children=(IntProgress(value=0, description='0.00%', max=44187), Label(value='0 / 44187')))…"
      ]
     },
     "metadata": {},
     "output_type": "display_data"
    },
    {
     "name": "stderr",
     "output_type": "stream",
     "text": [
      "/tmp/ipykernel_1358952/3470156160.py:5: SettingWithCopyWarning: \n",
      "A value is trying to be set on a copy of a slice from a DataFrame.\n",
      "Try using .loc[row_indexer,col_indexer] = value instead\n",
      "\n",
      "See the caveats in the documentation: https://pandas.pydata.org/pandas-docs/stable/user_guide/indexing.html#returning-a-view-versus-a-copy\n",
      "  data_acc1['tokens'] = data_acc1['index'].parallel_apply(lambda x:dataset[x]['text'][:64].tolist())\n",
      "/tmp/ipykernel_1358952/3470156160.py:6: PerformanceWarning: \n",
      "your performance may suffer as PyTables will pickle object types that it cannot\n",
      "map directly to c-types [inferred_type->mixed,key->block2_values] [items->Index(['tokens'], dtype='object')]\n",
      "\n",
      "  data_acc1.to_hdf(f\"/fsx/orz/memorized-data/{model}.hdf\", key='memorization')\n"
     ]
    },
    {
     "name": "stdout",
     "output_type": "stream",
     "text": [
      "1.143928239729021\n"
     ]
    },
    {
     "name": "stderr",
     "output_type": "stream",
     "text": [
      "/fsx/orz/memorization/lib/python3.8/site-packages/pandarallel/data_types/series.py:16: FutureWarning: The behavior of `series[i:j]` with an integer-dtype index is deprecated. In a future version, this will be treated as *label-based* indexing, consistent with e.g. `series[i]` lookups. To retain the old behavior, use `series.iloc[i:j]`. To get the future behavior, use `series.loc[i:j]`.\n",
      "  yield data[chunk_]\n"
     ]
    },
    {
     "data": {
      "application/vnd.jupyter.widget-view+json": {
       "model_id": "a83a377cc59f4fa3a67b1d4e7b836e42",
       "version_major": 2,
       "version_minor": 0
      },
      "text/plain": [
       "VBox(children=(HBox(children=(IntProgress(value=0, description='0.00%', max=34898), Label(value='0 / 34898')))…"
      ]
     },
     "metadata": {},
     "output_type": "display_data"
    },
    {
     "name": "stderr",
     "output_type": "stream",
     "text": [
      "/tmp/ipykernel_1358952/3470156160.py:5: SettingWithCopyWarning: \n",
      "A value is trying to be set on a copy of a slice from a DataFrame.\n",
      "Try using .loc[row_indexer,col_indexer] = value instead\n",
      "\n",
      "See the caveats in the documentation: https://pandas.pydata.org/pandas-docs/stable/user_guide/indexing.html#returning-a-view-versus-a-copy\n",
      "  data_acc1['tokens'] = data_acc1['index'].parallel_apply(lambda x:dataset[x]['text'][:64].tolist())\n",
      "/tmp/ipykernel_1358952/3470156160.py:6: PerformanceWarning: \n",
      "your performance may suffer as PyTables will pickle object types that it cannot\n",
      "map directly to c-types [inferred_type->mixed,key->block2_values] [items->Index(['tokens'], dtype='object')]\n",
      "\n",
      "  data_acc1.to_hdf(f\"/fsx/orz/memorized-data/{model}.hdf\", key='memorization')\n"
     ]
    },
    {
     "name": "stdout",
     "output_type": "stream",
     "text": [
      "0.9381296437937063\n"
     ]
    },
    {
     "name": "stderr",
     "output_type": "stream",
     "text": [
      "/fsx/orz/memorization/lib/python3.8/site-packages/pandarallel/data_types/series.py:16: FutureWarning: The behavior of `series[i:j]` with an integer-dtype index is deprecated. In a future version, this will be treated as *label-based* indexing, consistent with e.g. `series[i]` lookups. To retain the old behavior, use `series.iloc[i:j]`. To get the future behavior, use `series.loc[i:j]`.\n",
      "  yield data[chunk_]\n"
     ]
    },
    {
     "data": {
      "application/vnd.jupyter.widget-view+json": {
       "model_id": "c49bad0d31ef495bb37f9f0d6b1bbbf2",
       "version_major": 2,
       "version_minor": 0
      },
      "text/plain": [
       "VBox(children=(HBox(children=(IntProgress(value=0, description='0.00%', max=28620), Label(value='0 / 28620')))…"
      ]
     },
     "metadata": {},
     "output_type": "display_data"
    },
    {
     "name": "stderr",
     "output_type": "stream",
     "text": [
      "IOPub message rate exceeded.\n",
      "The notebook server will temporarily stop sending output\n",
      "to the client in order to avoid crashing it.\n",
      "To change this limit, set the config variable\n",
      "`--NotebookApp.iopub_msg_rate_limit`.\n",
      "\n",
      "Current values:\n",
      "NotebookApp.iopub_msg_rate_limit=1000.0 (msgs/sec)\n",
      "NotebookApp.rate_limit_window=3.0 (secs)\n",
      "\n"
     ]
    },
    {
     "name": "stdout",
     "output_type": "stream",
     "text": [
      "0.8578323044143357\n"
     ]
    },
    {
     "name": "stderr",
     "output_type": "stream",
     "text": [
      "/fsx/orz/memorization/lib/python3.8/site-packages/pandarallel/data_types/series.py:16: FutureWarning: The behavior of `series[i:j]` with an integer-dtype index is deprecated. In a future version, this will be treated as *label-based* indexing, consistent with e.g. `series[i]` lookups. To retain the old behavior, use `series.iloc[i:j]`. To get the future behavior, use `series.loc[i:j]`.\n",
      "  yield data[chunk_]\n"
     ]
    },
    {
     "data": {
      "application/vnd.jupyter.widget-view+json": {
       "model_id": "0d5b8c59475642afa0082ef27e86a93b",
       "version_major": 2,
       "version_minor": 0
      },
      "text/plain": [
       "VBox(children=(HBox(children=(IntProgress(value=0, description='0.00%', max=26170), Label(value='0 / 26170')))…"
      ]
     },
     "metadata": {},
     "output_type": "display_data"
    },
    {
     "name": "stderr",
     "output_type": "stream",
     "text": [
      "/tmp/ipykernel_1358952/3470156160.py:5: SettingWithCopyWarning: \n",
      "A value is trying to be set on a copy of a slice from a DataFrame.\n",
      "Try using .loc[row_indexer,col_indexer] = value instead\n",
      "\n",
      "See the caveats in the documentation: https://pandas.pydata.org/pandas-docs/stable/user_guide/indexing.html#returning-a-view-versus-a-copy\n",
      "  data_acc1['tokens'] = data_acc1['index'].parallel_apply(lambda x:dataset[x]['text'][:64].tolist())\n",
      "/tmp/ipykernel_1358952/3470156160.py:6: PerformanceWarning: \n",
      "your performance may suffer as PyTables will pickle object types that it cannot\n",
      "map directly to c-types [inferred_type->mixed,key->block2_values] [items->Index(['tokens'], dtype='object')]\n",
      "\n",
      "  data_acc1.to_hdf(f\"/fsx/orz/memorized-data/{model}.hdf\", key='memorization')\n"
     ]
    },
    {
     "name": "stdout",
     "output_type": "stream",
     "text": [
      "0.6626563865821679\n"
     ]
    },
    {
     "name": "stderr",
     "output_type": "stream",
     "text": [
      "/fsx/orz/memorization/lib/python3.8/site-packages/pandarallel/data_types/series.py:16: FutureWarning: The behavior of `series[i:j]` with an integer-dtype index is deprecated. In a future version, this will be treated as *label-based* indexing, consistent with e.g. `series[i]` lookups. To retain the old behavior, use `series.iloc[i:j]`. To get the future behavior, use `series.loc[i:j]`.\n",
      "  yield data[chunk_]\n"
     ]
    },
    {
     "data": {
      "application/vnd.jupyter.widget-view+json": {
       "model_id": "3d9b772f60fb4ce9baccece7246605c4",
       "version_major": 2,
       "version_minor": 0
      },
      "text/plain": [
       "VBox(children=(HBox(children=(IntProgress(value=0, description='0.00%', max=20216), Label(value='0 / 20216')))…"
      ]
     },
     "metadata": {},
     "output_type": "display_data"
    },
    {
     "name": "stderr",
     "output_type": "stream",
     "text": [
      "/tmp/ipykernel_1358952/3470156160.py:5: SettingWithCopyWarning: \n",
      "A value is trying to be set on a copy of a slice from a DataFrame.\n",
      "Try using .loc[row_indexer,col_indexer] = value instead\n",
      "\n",
      "See the caveats in the documentation: https://pandas.pydata.org/pandas-docs/stable/user_guide/indexing.html#returning-a-view-versus-a-copy\n",
      "  data_acc1['tokens'] = data_acc1['index'].parallel_apply(lambda x:dataset[x]['text'][:64].tolist())\n",
      "/tmp/ipykernel_1358952/3470156160.py:6: PerformanceWarning: \n",
      "your performance may suffer as PyTables will pickle object types that it cannot\n",
      "map directly to c-types [inferred_type->mixed,key->block2_values] [items->Index(['tokens'], dtype='object')]\n",
      "\n",
      "  data_acc1.to_hdf(f\"/fsx/orz/memorized-data/{model}.hdf\", key='memorization')\n"
     ]
    },
    {
     "name": "stdout",
     "output_type": "stream",
     "text": [
      "0.4709851671765734\n"
     ]
    },
    {
     "name": "stderr",
     "output_type": "stream",
     "text": [
      "/fsx/orz/memorization/lib/python3.8/site-packages/pandarallel/data_types/series.py:16: FutureWarning: The behavior of `series[i:j]` with an integer-dtype index is deprecated. In a future version, this will be treated as *label-based* indexing, consistent with e.g. `series[i]` lookups. To retain the old behavior, use `series.iloc[i:j]`. To get the future behavior, use `series.loc[i:j]`.\n",
      "  yield data[chunk_]\n"
     ]
    },
    {
     "data": {
      "application/vnd.jupyter.widget-view+json": {
       "model_id": "9fc4dec8370d4e318d488be161ef819c",
       "version_major": 2,
       "version_minor": 0
      },
      "text/plain": [
       "VBox(children=(HBox(children=(IntProgress(value=0, description='0.00%', max=14369), Label(value='0 / 14369')))…"
      ]
     },
     "metadata": {},
     "output_type": "display_data"
    },
    {
     "name": "stderr",
     "output_type": "stream",
     "text": [
      "/tmp/ipykernel_1358952/3470156160.py:5: SettingWithCopyWarning: \n",
      "A value is trying to be set on a copy of a slice from a DataFrame.\n",
      "Try using .loc[row_indexer,col_indexer] = value instead\n",
      "\n",
      "See the caveats in the documentation: https://pandas.pydata.org/pandas-docs/stable/user_guide/indexing.html#returning-a-view-versus-a-copy\n",
      "  data_acc1['tokens'] = data_acc1['index'].parallel_apply(lambda x:dataset[x]['text'][:64].tolist())\n",
      "/tmp/ipykernel_1358952/3470156160.py:6: PerformanceWarning: \n",
      "your performance may suffer as PyTables will pickle object types that it cannot\n",
      "map directly to c-types [inferred_type->mixed,key->block2_values] [items->Index(['tokens'], dtype='object')]\n",
      "\n",
      "  data_acc1.to_hdf(f\"/fsx/orz/memorized-data/{model}.hdf\", key='memorization')\n"
     ]
    },
    {
     "name": "stdout",
     "output_type": "stream",
     "text": [
      "0.3168385325611888\n"
     ]
    },
    {
     "name": "stderr",
     "output_type": "stream",
     "text": [
      "/fsx/orz/memorization/lib/python3.8/site-packages/pandarallel/data_types/series.py:16: FutureWarning: The behavior of `series[i:j]` with an integer-dtype index is deprecated. In a future version, this will be treated as *label-based* indexing, consistent with e.g. `series[i]` lookups. To retain the old behavior, use `series.iloc[i:j]`. To get the future behavior, use `series.loc[i:j]`.\n",
      "  yield data[chunk_]\n"
     ]
    },
    {
     "data": {
      "application/vnd.jupyter.widget-view+json": {
       "model_id": "051991afad5d46baab1a5d66de0aef56",
       "version_major": 2,
       "version_minor": 0
      },
      "text/plain": [
       "VBox(children=(HBox(children=(IntProgress(value=0, description='0.00%', max=9666), Label(value='0 / 9666'))), …"
      ]
     },
     "metadata": {},
     "output_type": "display_data"
    },
    {
     "name": "stderr",
     "output_type": "stream",
     "text": [
      "/tmp/ipykernel_1358952/3470156160.py:5: SettingWithCopyWarning: \n",
      "A value is trying to be set on a copy of a slice from a DataFrame.\n",
      "Try using .loc[row_indexer,col_indexer] = value instead\n",
      "\n",
      "See the caveats in the documentation: https://pandas.pydata.org/pandas-docs/stable/user_guide/indexing.html#returning-a-view-versus-a-copy\n",
      "  data_acc1['tokens'] = data_acc1['index'].parallel_apply(lambda x:dataset[x]['text'][:64].tolist())\n",
      "/tmp/ipykernel_1358952/3470156160.py:6: PerformanceWarning: \n",
      "your performance may suffer as PyTables will pickle object types that it cannot\n",
      "map directly to c-types [inferred_type->mixed,key->block2_values] [items->Index(['tokens'], dtype='object')]\n",
      "\n",
      "  data_acc1.to_hdf(f\"/fsx/orz/memorized-data/{model}.hdf\", key='memorization')\n"
     ]
    }
   ],
   "source": [
    "for model in models:\n",
    "    data = memorization_results[f'{model}-143000']\n",
    "    data_acc1 = data[data['accuracy'] == 1]\n",
    "    print((len(data_acc1)*100)/len(data))\n",
    "    data_acc1['tokens'] = data_acc1['index'].parallel_apply(lambda x:dataset[x]['text'][:64].tolist())\n",
    "    data_acc1.to_hdf(f\"/fsx/orz/memorized-data/{model}.hdf\", key='memorization')"
   ]
  },
  {
   "cell_type": "code",
   "execution_count": 53,
   "id": "51abd36a",
   "metadata": {
    "scrolled": false
   },
   "outputs": [],
   "source": [
    "memorized_19m = memorization_results['19m-143000']\n",
    "memorized_19m = memorized_19m[memorized_19m['accuracy'] == 1]\n",
    "memorized_13b = memorization_results['13b-143000']\n",
    "memorized_13b = memorized_13b[memorized_13b['accuracy'] == 1]"
   ]
  },
  {
   "cell_type": "code",
   "execution_count": 150,
   "id": "c97cc695",
   "metadata": {},
   "outputs": [],
   "source": [
    "memorized_fracs = []\n",
    "for model in models:\n",
    "    memorized_data = memorization_results[f'{model}-143000']\n",
    "    memorized_data = memorized_data[memorized_data['accuracy'] == 1]\n",
    "    memorized_fracs.append(len(memorized_data)/len(memorization_results[f'{model}-143000']))"
   ]
  },
  {
   "cell_type": "code",
   "execution_count": 151,
   "id": "e36e1c58",
   "metadata": {
    "scrolled": true
   },
   "outputs": [],
   "source": [
    "memorized_fracs = [memorized_fracs[i] for i in range(7, -1, -1)]"
   ]
  },
  {
   "cell_type": "code",
   "execution_count": 152,
   "id": "553ed8bd",
   "metadata": {},
   "outputs": [],
   "source": [
    "def update_params(size = 25):\n",
    "    params = {\n",
    "        'legend.fontsize': 'large',\n",
    "        'figure.figsize': (15,10),\n",
    "        'axes.labelsize': size,\n",
    "        'axes.titlesize': size,\n",
    "        'xtick.labelsize': size*0.75,\n",
    "        'ytick.labelsize': size*0.75,\n",
    "        'axes.titlepad': 25,\n",
    "        'font.family':'sans-serif',\n",
    "        'font.weight':'bold',\n",
    "    }\n",
    "    plt.rcParams.update(params)\n",
    "update_params()"
   ]
  },
  {
   "cell_type": "code",
   "execution_count": 155,
   "id": "c9064f17",
   "metadata": {},
   "outputs": [
    {
     "data": {
      "text/plain": [
       "Text(0.5, 1.0, '146m Deduped Checkpoint Memorized Sequences')"
      ]
     },
     "execution_count": 155,
     "metadata": {},
     "output_type": "execute_result"
    },
    {
     "data": {
      "image/png": "[encoded data removed]",
      "text/plain": [
       "<Figure size 1500x1000 with 1 Axes>"
      ]
     },
     "metadata": {},
     "output_type": "display_data"
    }
   ],
   "source": [
    "import matplotlib.pyplot as plt\n",
    "from matplotlib import scale\n",
    "ticks = [13000, 6700, 2700, 1300, 800, 350, 125, 19]\n",
    "ticks = [ticks[i] for i in range(len(ticks)-1, -1, -1)]\n",
    "ax = plt.scatter(ticks , memorized_fracs, color='green')\n",
    "log_ticks = np.log(ticks)\n",
    "m, b = np.polyfit(log_ticks, memorized_fracs, 1)\n",
    "plt.plot([ticks[0], ticks[-1]], [np.log(ticks[0])*m + b, np.log(ticks[-1])*m + b], color = 'red')\n",
    "plt.xscale(\"log\")\n",
    "plt.xticks(ticks = ticks, labels=[models[i].split('-')[0] for i in range(7, -1, -1)])\n",
    "plt.xlabel(\"Deduped Models\")\n",
    "plt.ylabel(\"Fraction memorized\")\n",
    "plt.title(\"146m Deduped Checkpoint Memorized Sequences\")"
   ]
  },
  {
   "cell_type": "code",
   "execution_count": 131,
   "id": "f74f8387",
   "metadata": {},
   "outputs": [],
   "source": []
  },
  {
   "cell_type": "code",
   "execution_count": 137,
   "id": "89ad35cd",
   "metadata": {},
   "outputs": [
    {
     "data": {
      "text/plain": [
       "0.004709851671765734"
      ]
     },
     "execution_count": 137,
     "metadata": {},
     "output_type": "execute_result"
    }
   ],
   "source": [
    "memorized_fracs[1]"
   ]
  },
  {
   "cell_type": "code",
   "execution_count": 138,
   "id": "48b86abd",
   "metadata": {},
   "outputs": [
    {
     "data": {
      "text/plain": [
       "0.005424575802296957"
      ]
     },
     "execution_count": 138,
     "metadata": {},
     "output_type": "execute_result"
    }
   ],
   "source": [
    "m*np.log(ticks[1]) + b"
   ]
  },
  {
   "cell_type": "code",
   "execution_count": 117,
   "id": "57338685",
   "metadata": {},
   "outputs": [
    {
     "data": {
      "text/plain": [
       "2.718281828459045"
      ]
     },
     "execution_count": 117,
     "metadata": {},
     "output_type": "execute_result"
    }
   ],
   "source": [
    "np.e"
   ]
  },
  {
   "cell_type": "code",
   "execution_count": 1,
   "id": "12248be5",
   "metadata": {},
   "outputs": [],
   "source": [
    "import boto3"
   ]
  },
  {
   "cell_type": "code",
   "execution_count": 4,
   "id": "8f139bb2",
   "metadata": {},
   "outputs": [],
   "source": [
    "s3_resource = boto3.client('s3')"
   ]
  },
  {
   "cell_type": "code",
   "execution_count": 7,
   "id": "b0eaef6d",
   "metadata": {},
   "outputs": [
    {
     "data": {
      "text/plain": [
       "{'ResponseMetadata': {'RequestId': 'A3551C2D9VRDZJRY',\n",
       "  'HostId': 'U+NxATqKWGX3iiE8BJ/DoGty2NSHQn24S8YKqkAo44OfKOu56GZD+yAnV0QpFMOmuQptlcdevPY=',\n",
       "  'HTTPStatusCode': 200,\n",
       "  'HTTPHeaders': {'x-amz-id-2': 'U+NxATqKWGX3iiE8BJ/DoGty2NSHQn24S8YKqkAo44OfKOu56GZD+yAnV0QpFMOmuQptlcdevPY=',\n",
       "   'x-amz-request-id': 'A3551C2D9VRDZJRY',\n",
       "   'date': 'Sun, 01 Jan 2023 07:12:35 GMT',\n",
       "   'x-amz-version-id': 'kPEyYhr2Ml3m5IO3CCjjbtBqvA9XsFlQ',\n",
       "   'etag': '\"b050b2c956f8ab6963e6aa95655843ee\"',\n",
       "   'server': 'AmazonS3',\n",
       "   'content-length': '0'},\n",
       "  'RetryAttempts': 0},\n",
       " 'ETag': '\"b050b2c956f8ab6963e6aa95655843ee\"',\n",
       " 'VersionId': 'kPEyYhr2Ml3m5IO3CCjjbtBqvA9XsFlQ'}"
      ]
     },
     "execution_count": 7,
     "metadata": {},
     "output_type": "execute_result"
    }
   ],
   "source": [
    "s3_resource.put_object(\n",
    "    Body = '1,0.3\\n2,0.8\\n'.encode(),\n",
    "    Bucket = 's-eai-neox',\n",
    "    Key = 'memorization-evals/temp.csv'\n",
    ")"
   ]
  },
  {
   "cell_type": "code",
   "execution_count": null,
   "id": "1bfc4f81",
   "metadata": {},
   "outputs": [],
   "source": []
  }
 ],
 "metadata": {
  "kernelspec": {
   "display_name": "Python 3 (ipykernel)",
   "language": "python",
   "name": "python3"
  },
  "language_info": {
   "codemirror_mode": {
    "name": "ipython",
    "version": 3
   },
   "file_extension": ".py",
   "mimetype": "text/x-python",
   "name": "python",
   "nbconvert_exporter": "python",
   "pygments_lexer": "ipython3",
   "version": "3.8.10"
  }
 },
 "nbformat": 4,
 "nbformat_minor": 5
}
